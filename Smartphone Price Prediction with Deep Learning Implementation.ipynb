{
 "cells": [
  {
   "cell_type": "markdown",
   "id": "3a0b8472",
   "metadata": {},
   "source": [
    "# Smartphone Price Prediction"
   ]
  },
  {
   "cell_type": "markdown",
   "id": "7b30b900",
   "metadata": {},
   "source": [
    " "
   ]
  },
  {
   "cell_type": "markdown",
   "id": "e7550b0c",
   "metadata": {},
   "source": [
    "<img src=\"https://i.hizliresim.com/142yb9a.png\" alt=\"Image Alt Text\">\n"
   ]
  },
  {
   "cell_type": "markdown",
   "id": "99ad3184",
   "metadata": {},
   "source": [
    "# We are going to try to predict smartphone prices via implementing deep learning. Let's get started.\n"
   ]
  },
  {
   "cell_type": "markdown",
   "id": "b3d8befa",
   "metadata": {},
   "source": [
    " "
   ]
  },
  {
   "cell_type": "markdown",
   "id": "143d4e4e",
   "metadata": {},
   "source": [
    " "
   ]
  },
  {
   "cell_type": "markdown",
   "id": "c8c558b5",
   "metadata": {},
   "source": [
    "<img src=\"https://i.hizliresim.com/x81791t.png\" alt=\"Im1\">\n"
   ]
  },
  {
   "cell_type": "code",
   "execution_count": 1,
   "id": "001f3c60",
   "metadata": {},
   "outputs": [],
   "source": [
    "import pandas as pd\n",
    "import numpy as np\n",
    "import seaborn as sns\n",
    "import matplotlib.pyplot as plt\n",
    "from plotly.offline import plot,iplot,download_plotlyjs,init_notebook_mode\n",
    "import cufflinks as cf\n",
    "import plotly.express as px"
   ]
  },
  {
   "cell_type": "code",
   "execution_count": 2,
   "id": "19a09270",
   "metadata": {},
   "outputs": [
    {
     "data": {
      "text/html": [
       "        <script type=\"text/javascript\">\n",
       "        window.PlotlyConfig = {MathJaxConfig: 'local'};\n",
       "        if (window.MathJax && window.MathJax.Hub && window.MathJax.Hub.Config) {window.MathJax.Hub.Config({SVG: {font: \"STIX-Web\"}});}\n",
       "        if (typeof require !== 'undefined') {\n",
       "        require.undef(\"plotly\");\n",
       "        requirejs.config({\n",
       "            paths: {\n",
       "                'plotly': ['https://cdn.plot.ly/plotly-2.24.1.min']\n",
       "            }\n",
       "        });\n",
       "        require(['plotly'], function(Plotly) {\n",
       "            window._Plotly = Plotly;\n",
       "        });\n",
       "        }\n",
       "        </script>\n",
       "        "
      ]
     },
     "metadata": {},
     "output_type": "display_data"
    },
    {
     "data": {
      "text/html": [
       "        <script type=\"text/javascript\">\n",
       "        window.PlotlyConfig = {MathJaxConfig: 'local'};\n",
       "        if (window.MathJax && window.MathJax.Hub && window.MathJax.Hub.Config) {window.MathJax.Hub.Config({SVG: {font: \"STIX-Web\"}});}\n",
       "        if (typeof require !== 'undefined') {\n",
       "        require.undef(\"plotly\");\n",
       "        requirejs.config({\n",
       "            paths: {\n",
       "                'plotly': ['https://cdn.plot.ly/plotly-2.24.1.min']\n",
       "            }\n",
       "        });\n",
       "        require(['plotly'], function(Plotly) {\n",
       "            window._Plotly = Plotly;\n",
       "        });\n",
       "        }\n",
       "        </script>\n",
       "        "
      ]
     },
     "metadata": {},
     "output_type": "display_data"
    }
   ],
   "source": [
    "init_notebook_mode(connected=True)\n",
    "cf.go_offline()"
   ]
  },
  {
   "cell_type": "code",
   "execution_count": 3,
   "id": "dd84acd6",
   "metadata": {},
   "outputs": [],
   "source": [
    "sp = pd.read_csv('datarepository/smartphones.csv')"
   ]
  },
  {
   "cell_type": "code",
   "execution_count": 4,
   "id": "ede38f44",
   "metadata": {
    "scrolled": true
   },
   "outputs": [
    {
     "name": "stdout",
     "output_type": "stream",
     "text": [
      "<class 'pandas.core.frame.DataFrame'>\n",
      "RangeIndex: 980 entries, 0 to 979\n",
      "Data columns (total 22 columns):\n",
      " #   Column                     Non-Null Count  Dtype  \n",
      "---  ------                     --------------  -----  \n",
      " 0   brand_name                 980 non-null    object \n",
      " 1   model                      980 non-null    object \n",
      " 2   price                      980 non-null    int64  \n",
      " 3   avg_rating                 879 non-null    float64\n",
      " 4   5G_or_not                  980 non-null    int64  \n",
      " 5   processor_brand            960 non-null    object \n",
      " 6   num_cores                  974 non-null    float64\n",
      " 7   processor_speed            938 non-null    float64\n",
      " 8   battery_capacity           969 non-null    float64\n",
      " 9   fast_charging_available    980 non-null    int64  \n",
      " 10  fast_charging              769 non-null    float64\n",
      " 11  ram_capacity               980 non-null    int64  \n",
      " 12  internal_memory            980 non-null    int64  \n",
      " 13  screen_size                980 non-null    float64\n",
      " 14  refresh_rate               980 non-null    int64  \n",
      " 15  num_rear_cameras           980 non-null    int64  \n",
      " 16  os                         966 non-null    object \n",
      " 17  primary_camera_rear        980 non-null    float64\n",
      " 18  primary_camera_front       975 non-null    float64\n",
      " 19  extended_memory_available  980 non-null    int64  \n",
      " 20  resolution_height          980 non-null    int64  \n",
      " 21  resolution_width           980 non-null    int64  \n",
      "dtypes: float64(8), int64(10), object(4)\n",
      "memory usage: 168.6+ KB\n"
     ]
    }
   ],
   "source": [
    "sp.info()"
   ]
  },
  {
   "cell_type": "code",
   "execution_count": 5,
   "id": "e42497a9",
   "metadata": {},
   "outputs": [
    {
     "data": {
      "text/plain": [
       "Text(0.5, 1.0, 'NaN Values')"
      ]
     },
     "execution_count": 5,
     "metadata": {},
     "output_type": "execute_result"
    },
    {
     "data": {
      "image/png": "[encoded data removed]",
      "text/plain": [
       "<Figure size 640x480 with 2 Axes>"
      ]
     },
     "metadata": {},
     "output_type": "display_data"
    }
   ],
   "source": [
    "sns.heatmap(sp.isnull().T,cbar='viridis')\n",
    "plt.title('NaN Values')"
   ]
  },
  {
   "cell_type": "code",
   "execution_count": 6,
   "id": "1e392b82",
   "metadata": {
    "scrolled": true
   },
   "outputs": [
    {
     "data": {
      "text/html": [
       "<div>\n",
       "<style scoped>\n",
       "    .dataframe tbody tr th:only-of-type {\n",
       "        vertical-align: middle;\n",
       "    }\n",
       "\n",
       "    .dataframe tbody tr th {\n",
       "        vertical-align: top;\n",
       "    }\n",
       "\n",
       "    .dataframe thead th {\n",
       "        text-align: right;\n",
       "    }\n",
       "</style>\n",
       "<table border=\"1\" class=\"dataframe\">\n",
       "  <thead>\n",
       "    <tr style=\"text-align: right;\">\n",
       "      <th></th>\n",
       "      <th>brand_name</th>\n",
       "      <th>model</th>\n",
       "      <th>price</th>\n",
       "      <th>avg_rating</th>\n",
       "      <th>5G_or_not</th>\n",
       "      <th>processor_brand</th>\n",
       "      <th>num_cores</th>\n",
       "      <th>processor_speed</th>\n",
       "      <th>battery_capacity</th>\n",
       "      <th>fast_charging_available</th>\n",
       "      <th>...</th>\n",
       "      <th>internal_memory</th>\n",
       "      <th>screen_size</th>\n",
       "      <th>refresh_rate</th>\n",
       "      <th>num_rear_cameras</th>\n",
       "      <th>os</th>\n",
       "      <th>primary_camera_rear</th>\n",
       "      <th>primary_camera_front</th>\n",
       "      <th>extended_memory_available</th>\n",
       "      <th>resolution_height</th>\n",
       "      <th>resolution_width</th>\n",
       "    </tr>\n",
       "  </thead>\n",
       "  <tbody>\n",
       "    <tr>\n",
       "      <th>0</th>\n",
       "      <td>apple</td>\n",
       "      <td>Apple iPhone 11</td>\n",
       "      <td>38999</td>\n",
       "      <td>7.3</td>\n",
       "      <td>0</td>\n",
       "      <td>bionic</td>\n",
       "      <td>6.0</td>\n",
       "      <td>2.65</td>\n",
       "      <td>3110.0</td>\n",
       "      <td>0</td>\n",
       "      <td>...</td>\n",
       "      <td>64</td>\n",
       "      <td>6.1</td>\n",
       "      <td>60</td>\n",
       "      <td>2</td>\n",
       "      <td>ios</td>\n",
       "      <td>12.0</td>\n",
       "      <td>12.0</td>\n",
       "      <td>0</td>\n",
       "      <td>1792</td>\n",
       "      <td>828</td>\n",
       "    </tr>\n",
       "    <tr>\n",
       "      <th>1</th>\n",
       "      <td>apple</td>\n",
       "      <td>Apple iPhone 11 (128GB)</td>\n",
       "      <td>46999</td>\n",
       "      <td>7.5</td>\n",
       "      <td>0</td>\n",
       "      <td>bionic</td>\n",
       "      <td>6.0</td>\n",
       "      <td>2.65</td>\n",
       "      <td>3110.0</td>\n",
       "      <td>0</td>\n",
       "      <td>...</td>\n",
       "      <td>128</td>\n",
       "      <td>6.1</td>\n",
       "      <td>60</td>\n",
       "      <td>2</td>\n",
       "      <td>ios</td>\n",
       "      <td>12.0</td>\n",
       "      <td>12.0</td>\n",
       "      <td>0</td>\n",
       "      <td>1792</td>\n",
       "      <td>828</td>\n",
       "    </tr>\n",
       "    <tr>\n",
       "      <th>2</th>\n",
       "      <td>apple</td>\n",
       "      <td>Apple iPhone 11 Pro Max</td>\n",
       "      <td>109900</td>\n",
       "      <td>7.7</td>\n",
       "      <td>0</td>\n",
       "      <td>bionic</td>\n",
       "      <td>6.0</td>\n",
       "      <td>2.65</td>\n",
       "      <td>3500.0</td>\n",
       "      <td>1</td>\n",
       "      <td>...</td>\n",
       "      <td>64</td>\n",
       "      <td>6.5</td>\n",
       "      <td>60</td>\n",
       "      <td>3</td>\n",
       "      <td>ios</td>\n",
       "      <td>12.0</td>\n",
       "      <td>12.0</td>\n",
       "      <td>0</td>\n",
       "      <td>2688</td>\n",
       "      <td>1242</td>\n",
       "    </tr>\n",
       "    <tr>\n",
       "      <th>3</th>\n",
       "      <td>apple</td>\n",
       "      <td>Apple iPhone 12</td>\n",
       "      <td>51999</td>\n",
       "      <td>7.4</td>\n",
       "      <td>1</td>\n",
       "      <td>bionic</td>\n",
       "      <td>6.0</td>\n",
       "      <td>3.10</td>\n",
       "      <td>NaN</td>\n",
       "      <td>0</td>\n",
       "      <td>...</td>\n",
       "      <td>64</td>\n",
       "      <td>6.1</td>\n",
       "      <td>60</td>\n",
       "      <td>2</td>\n",
       "      <td>ios</td>\n",
       "      <td>12.0</td>\n",
       "      <td>12.0</td>\n",
       "      <td>0</td>\n",
       "      <td>2532</td>\n",
       "      <td>1170</td>\n",
       "    </tr>\n",
       "    <tr>\n",
       "      <th>4</th>\n",
       "      <td>apple</td>\n",
       "      <td>Apple iPhone 12 (128GB)</td>\n",
       "      <td>55999</td>\n",
       "      <td>7.5</td>\n",
       "      <td>1</td>\n",
       "      <td>bionic</td>\n",
       "      <td>6.0</td>\n",
       "      <td>3.10</td>\n",
       "      <td>NaN</td>\n",
       "      <td>0</td>\n",
       "      <td>...</td>\n",
       "      <td>128</td>\n",
       "      <td>6.1</td>\n",
       "      <td>60</td>\n",
       "      <td>2</td>\n",
       "      <td>ios</td>\n",
       "      <td>12.0</td>\n",
       "      <td>12.0</td>\n",
       "      <td>0</td>\n",
       "      <td>2532</td>\n",
       "      <td>1170</td>\n",
       "    </tr>\n",
       "  </tbody>\n",
       "</table>\n",
       "<p>5 rows × 22 columns</p>\n",
       "</div>"
      ],
      "text/plain": [
       "  brand_name                    model   price  avg_rating  5G_or_not  \\\n",
       "0      apple          Apple iPhone 11   38999         7.3          0   \n",
       "1      apple  Apple iPhone 11 (128GB)   46999         7.5          0   \n",
       "2      apple  Apple iPhone 11 Pro Max  109900         7.7          0   \n",
       "3      apple          Apple iPhone 12   51999         7.4          1   \n",
       "4      apple  Apple iPhone 12 (128GB)   55999         7.5          1   \n",
       "\n",
       "  processor_brand  num_cores  processor_speed  battery_capacity  \\\n",
       "0          bionic        6.0             2.65            3110.0   \n",
       "1          bionic        6.0             2.65            3110.0   \n",
       "2          bionic        6.0             2.65            3500.0   \n",
       "3          bionic        6.0             3.10               NaN   \n",
       "4          bionic        6.0             3.10               NaN   \n",
       "\n",
       "   fast_charging_available  ...  internal_memory  screen_size  refresh_rate  \\\n",
       "0                        0  ...               64          6.1            60   \n",
       "1                        0  ...              128          6.1            60   \n",
       "2                        1  ...               64          6.5            60   \n",
       "3                        0  ...               64          6.1            60   \n",
       "4                        0  ...              128          6.1            60   \n",
       "\n",
       "   num_rear_cameras   os  primary_camera_rear primary_camera_front  \\\n",
       "0                 2  ios                 12.0                 12.0   \n",
       "1                 2  ios                 12.0                 12.0   \n",
       "2                 3  ios                 12.0                 12.0   \n",
       "3                 2  ios                 12.0                 12.0   \n",
       "4                 2  ios                 12.0                 12.0   \n",
       "\n",
       "   extended_memory_available  resolution_height  resolution_width  \n",
       "0                          0               1792               828  \n",
       "1                          0               1792               828  \n",
       "2                          0               2688              1242  \n",
       "3                          0               2532              1170  \n",
       "4                          0               2532              1170  \n",
       "\n",
       "[5 rows x 22 columns]"
      ]
     },
     "execution_count": 6,
     "metadata": {},
     "output_type": "execute_result"
    }
   ],
   "source": [
    "sp.head()"
   ]
  },
  {
   "cell_type": "code",
   "execution_count": 7,
   "id": "9a33e95a",
   "metadata": {},
   "outputs": [
    {
     "data": {
      "text/plain": [
       "brand_name\n",
       "xiaomi       134\n",
       "samsung      132\n",
       "vivo         111\n",
       "realme        97\n",
       "oppo          88\n",
       "motorola      52\n",
       "apple         46\n",
       "oneplus       42\n",
       "poco          41\n",
       "tecno         33\n",
       "iqoo          32\n",
       "infinix       29\n",
       "huawei        16\n",
       "google        14\n",
       "honor         13\n",
       "nokia         13\n",
       "itel          10\n",
       "sony           9\n",
       "asus           7\n",
       "nubia          6\n",
       "nothing        5\n",
       "lava           4\n",
       "jio            4\n",
       "micromax       3\n",
       "ikall          3\n",
       "oukitel        3\n",
       "redmi          3\n",
       "lg             3\n",
       "gionee         3\n",
       "letv           3\n",
       "royole         2\n",
       "lyf            2\n",
       "lenovo         2\n",
       "doogee         2\n",
       "zte            2\n",
       "tcl            1\n",
       "blu            1\n",
       "vertu          1\n",
       "tesla          1\n",
       "cat            1\n",
       "leeco          1\n",
       "cola           1\n",
       "sharp          1\n",
       "duoqin         1\n",
       "leitz          1\n",
       "blackview      1\n",
       "Name: count, dtype: int64"
      ]
     },
     "execution_count": 7,
     "metadata": {},
     "output_type": "execute_result"
    }
   ],
   "source": [
    "brand_counts = sp['brand_name'].value_counts().sort_values(ascending=False)\n",
    "brand_counts"
   ]
  },
  {
   "cell_type": "markdown",
   "id": "e45c860d",
   "metadata": {},
   "source": [
    "# In order to obstacle the outliers presence , we create a new variable which includes the datas which smartphone count is higher than five. Otherwise this situation is going to affect our deep learning implementations and visualizations negatively."
   ]
  },
  {
   "cell_type": "markdown",
   "id": "aa835bd7",
   "metadata": {},
   "source": [
    " "
   ]
  },
  {
   "cell_type": "code",
   "execution_count": 8,
   "id": "f31ce7e3",
   "metadata": {},
   "outputs": [],
   "source": [
    "brand_counts_higher_than_5 = brand_counts[brand_counts>5]"
   ]
  },
  {
   "cell_type": "code",
   "execution_count": 9,
   "id": "cc8549f3",
   "metadata": {},
   "outputs": [
    {
     "data": {
      "text/plain": [
       "brand_name\n",
       "xiaomi      134\n",
       "samsung     132\n",
       "vivo        111\n",
       "realme       97\n",
       "oppo         88\n",
       "motorola     52\n",
       "apple        46\n",
       "oneplus      42\n",
       "poco         41\n",
       "tecno        33\n",
       "iqoo         32\n",
       "infinix      29\n",
       "huawei       16\n",
       "google       14\n",
       "honor        13\n",
       "nokia        13\n",
       "itel         10\n",
       "sony          9\n",
       "asus          7\n",
       "nubia         6\n",
       "Name: count, dtype: int64"
      ]
     },
     "execution_count": 9,
     "metadata": {},
     "output_type": "execute_result"
    }
   ],
   "source": [
    "brand_counts_higher_than_5"
   ]
  },
  {
   "cell_type": "markdown",
   "id": "b769f118",
   "metadata": {},
   "source": [
    "# Dropping datas which amount is less than 5 "
   ]
  },
  {
   "cell_type": "markdown",
   "id": "110c92a0",
   "metadata": {},
   "source": [
    " "
   ]
  },
  {
   "cell_type": "code",
   "execution_count": 10,
   "id": "534034bc",
   "metadata": {},
   "outputs": [],
   "source": [
    "indexes_bcht5 = sp[~sp['brand_name'].isin(brand_counts_higher_than_5.index)].index.tolist()\n",
    "len(indexes_bcht5)\n",
    "for ind in indexes_bcht5:\n",
    "    sp.drop(index=ind,inplace=True)"
   ]
  },
  {
   "cell_type": "code",
   "execution_count": 11,
   "id": "9162aff1",
   "metadata": {},
   "outputs": [
    {
     "name": "stderr",
     "output_type": "stream",
     "text": [
      "C:\\Users\\burak\\AppData\\Local\\Temp\\ipykernel_10440\\3280767819.py:1: UserWarning:\n",
      "\n",
      "\n",
      "\n",
      "`distplot` is a deprecated function and will be removed in seaborn v0.14.0.\n",
      "\n",
      "Please adapt your code to use either `displot` (a figure-level function with\n",
      "similar flexibility) or `histplot` (an axes-level function for histograms).\n",
      "\n",
      "For a guide to updating your code to use the new functions, please see\n",
      "https://gist.github.com/mwaskom/de44147ed2974457ad6372750bbe5751\n",
      "\n",
      "\n"
     ]
    },
    {
     "data": {
      "text/plain": [
       "<Axes: xlabel='price', ylabel='Density'>"
      ]
     },
     "execution_count": 11,
     "metadata": {},
     "output_type": "execute_result"
    },
    {
     "data": {
      "image/png": "[encoded data removed]",
      "text/plain": [
       "<Figure size 640x480 with 1 Axes>"
      ]
     },
     "metadata": {},
     "output_type": "display_data"
    }
   ],
   "source": [
    "sns.distplot(sp['price'])"
   ]
  },
  {
   "cell_type": "code",
   "execution_count": 12,
   "id": "ca482b61",
   "metadata": {},
   "outputs": [
    {
     "data": {
      "text/plain": [
       "Text(0.5, 1.0, 'Count of brands smartphones')"
      ]
     },
     "execution_count": 12,
     "metadata": {},
     "output_type": "execute_result"
    },
    {
     "data": {
      "image/png": "[encoded data removed]",
      "text/plain": [
       "<Figure size 1000x600 with 1 Axes>"
      ]
     },
     "metadata": {},
     "output_type": "display_data"
    }
   ],
   "source": [
    "sns.set_style('darkgrid')\n",
    "plt.figure(figsize=(10,6))\n",
    "sns.countplot(y='brand_name', data=sp, order=brand_counts_higher_than_5.index)\n",
    "plt.tight_layout()\n",
    "plt.title('Count of brands smartphones')"
   ]
  },
  {
   "cell_type": "code",
   "execution_count": 13,
   "id": "de3919ac",
   "metadata": {
    "scrolled": false
   },
   "outputs": [
    {
     "data": {
      "text/plain": [
       "Text(0.5, 1.0, 'Avg. battery capacities of brands smartphones')"
      ]
     },
     "execution_count": 13,
     "metadata": {},
     "output_type": "execute_result"
    },
    {
     "data": {
      "image/png": "[encoded data removed]",
      "text/plain": [
       "<Figure size 1200x800 with 1 Axes>"
      ]
     },
     "metadata": {},
     "output_type": "display_data"
    }
   ],
   "source": [
    "plt.figure(figsize=(12,8))\n",
    "sns.barplot(x=sp.groupby('brand_name')['battery_capacity'].mean().sort_values(ascending=False),y=sp.groupby('brand_name')['battery_capacity'].mean().index)\n",
    "plt.tight_layout()\n",
    "plt.title('Avg. battery capacities of brands smartphones')"
   ]
  },
  {
   "cell_type": "code",
   "execution_count": 14,
   "id": "fe32646b",
   "metadata": {},
   "outputs": [
    {
     "data": {
      "text/plain": [
       "Text(0.5, 1.0, 'Avg. processor speed of brands smartphones')"
      ]
     },
     "execution_count": 14,
     "metadata": {},
     "output_type": "execute_result"
    },
    {
     "data": {
      "image/png": "[encoded data removed]",
      "text/plain": [
       "<Figure size 1200x800 with 1 Axes>"
      ]
     },
     "metadata": {},
     "output_type": "display_data"
    }
   ],
   "source": [
    "plt.figure(figsize=(12,8))\n",
    "sns.barplot(x=sp.groupby('brand_name')['processor_speed'].mean().sort_values(ascending=False),y=sp.groupby('brand_name')['processor_speed'].mean().index)\n",
    "plt.tight_layout()\n",
    "plt.title('Avg. processor speed of brands smartphones')"
   ]
  },
  {
   "cell_type": "code",
   "execution_count": 15,
   "id": "3b49d718",
   "metadata": {},
   "outputs": [
    {
     "data": {
      "text/plain": [
       "Text(0.5, 1.0, 'Avg. price of brands smartphones')"
      ]
     },
     "execution_count": 15,
     "metadata": {},
     "output_type": "execute_result"
    },
    {
     "data": {
      "image/png": "[encoded data removed]",
      "text/plain": [
       "<Figure size 1200x800 with 1 Axes>"
      ]
     },
     "metadata": {},
     "output_type": "display_data"
    }
   ],
   "source": [
    "brand_prices = sp.groupby('brand_name')['price'].mean()\n",
    "plt.figure(figsize=(12,8))\n",
    "sns.barplot(y=brand_prices.index,x=brand_prices.sort_values(ascending=False))\n",
    "plt.tight_layout()\n",
    "plt.title('Avg. price of brands smartphones')"
   ]
  },
  {
   "cell_type": "code",
   "execution_count": 16,
   "id": "74f61f6e",
   "metadata": {},
   "outputs": [
    {
     "data": {
      "application/vnd.plotly.v1+json": {
       "config": {
        "plotlyServerURL": "https://plot.ly"
       },
       "data": [
        {
         "alignmentgroup": "True",
         "hovertemplate": "Brand Name=%{x}<br>Average Rating=%{y}<extra></extra>",
         "legendgroup": "",
         "marker": {
          "color": "#636efa",
          "pattern": {
           "shape": ""
          }
         },
         "name": "",
         "offsetgroup": "",
         "orientation": "v",
         "showlegend": false,
         "textposition": "auto",
         "type": "bar",
         "x": [
          "apple",
          "asus",
          "google",
          "honor",
          "huawei",
          "infinix",
          "iqoo",
          "itel",
          "motorola",
          "nokia",
          "nubia",
          "oneplus",
          "oppo",
          "poco",
          "realme",
          "samsung",
          "sony",
          "tecno",
          "vivo",
          "xiaomi"
         ],
         "xaxis": "x",
         "y": [
          8.700000000000001,
          8.433333333333334,
          8.223684210526315,
          8.221875,
          8.142857142857142,
          8.010416666666666,
          8,
          7.8776,
          7.873170731707317,
          7.872413793103449,
          7.87,
          7.818181818181818,
          7.733333333333333,
          7.715625,
          7.679545454545454,
          7.644565217391304,
          7.628571428571428,
          7.529999999999999,
          7.367741935483871,
          6.1
         ],
         "yaxis": "y"
        }
       ],
       "layout": {
        "barmode": "relative",
        "legend": {
         "tracegroupgap": 0
        },
        "template": {
         "data": {
          "bar": [
           {
            "error_x": {
             "color": "#2a3f5f"
            },
            "error_y": {
             "color": "#2a3f5f"
            },
            "marker": {
             "line": {
              "color": "#E5ECF6",
              "width": 0.5
             },
             "pattern": {
              "fillmode": "overlay",
              "size": 10,
              "solidity": 0.2
             }
            },
            "type": "bar"
           }
          ],
          "barpolar": [
           {
            "marker": {
             "line": {
              "color": "#E5ECF6",
              "width": 0.5
             },
             "pattern": {
              "fillmode": "overlay",
              "size": 10,
              "solidity": 0.2
             }
            },
            "type": "barpolar"
           }
          ],
          "carpet": [
           {
            "aaxis": {
             "endlinecolor": "#2a3f5f",
             "gridcolor": "white",
             "linecolor": "white",
             "minorgridcolor": "white",
             "startlinecolor": "#2a3f5f"
            },
            "baxis": {
             "endlinecolor": "#2a3f5f",
             "gridcolor": "white",
             "linecolor": "white",
             "minorgridcolor": "white",
             "startlinecolor": "#2a3f5f"
            },
            "type": "carpet"
           }
          ],
          "choropleth": [
           {
            "colorbar": {
             "outlinewidth": 0,
             "ticks": ""
            },
            "type": "choropleth"
           }
          ],
          "contour": [
           {
            "colorbar": {
             "outlinewidth": 0,
             "ticks": ""
            },
            "colorscale": [
             [
              0,
              "#0d0887"
             ],
             [
              0.1111111111111111,
              "#46039f"
             ],
             [
              0.2222222222222222,
              "#7201a8"
             ],
             [
              0.3333333333333333,
              "#9c179e"
             ],
             [
              0.4444444444444444,
              "#bd3786"
             ],
             [
              0.5555555555555556,
              "#d8576b"
             ],
             [
              0.6666666666666666,
              "#ed7953"
             ],
             [
              0.7777777777777778,
              "#fb9f3a"
             ],
             [
              0.8888888888888888,
              "#fdca26"
             ],
             [
              1,
              "#f0f921"
             ]
            ],
            "type": "contour"
           }
          ],
          "contourcarpet": [
           {
            "colorbar": {
             "outlinewidth": 0,
             "ticks": ""
            },
            "type": "contourcarpet"
           }
          ],
          "heatmap": [
           {
            "colorbar": {
             "outlinewidth": 0,
             "ticks": ""
            },
            "colorscale": [
             [
              0,
              "#0d0887"
             ],
             [
              0.1111111111111111,
              "#46039f"
             ],
             [
              0.2222222222222222,
              "#7201a8"
             ],
             [
              0.3333333333333333,
              "#9c179e"
             ],
             [
              0.4444444444444444,
              "#bd3786"
             ],
             [
              0.5555555555555556,
              "#d8576b"
             ],
             [
              0.6666666666666666,
              "#ed7953"
             ],
             [
              0.7777777777777778,
              "#fb9f3a"
             ],
             [
              0.8888888888888888,
              "#fdca26"
             ],
             [
              1,
              "#f0f921"
             ]
            ],
            "type": "heatmap"
           }
          ],
          "heatmapgl": [
           {
            "colorbar": {
             "outlinewidth": 0,
             "ticks": ""
            },
            "colorscale": [
             [
              0,
              "#0d0887"
             ],
             [
              0.1111111111111111,
              "#46039f"
             ],
             [
              0.2222222222222222,
              "#7201a8"
             ],
             [
              0.3333333333333333,
              "#9c179e"
             ],
             [
              0.4444444444444444,
              "#bd3786"
             ],
             [
              0.5555555555555556,
              "#d8576b"
             ],
             [
              0.6666666666666666,
              "#ed7953"
             ],
             [
              0.7777777777777778,
              "#fb9f3a"
             ],
             [
              0.8888888888888888,
              "#fdca26"
             ],
             [
              1,
              "#f0f921"
             ]
            ],
            "type": "heatmapgl"
           }
          ],
          "histogram": [
           {
            "marker": {
             "pattern": {
              "fillmode": "overlay",
              "size": 10,
              "solidity": 0.2
             }
            },
            "type": "histogram"
           }
          ],
          "histogram2d": [
           {
            "colorbar": {
             "outlinewidth": 0,
             "ticks": ""
            },
            "colorscale": [
             [
              0,
              "#0d0887"
             ],
             [
              0.1111111111111111,
              "#46039f"
             ],
             [
              0.2222222222222222,
              "#7201a8"
             ],
             [
              0.3333333333333333,
              "#9c179e"
             ],
             [
              0.4444444444444444,
              "#bd3786"
             ],
             [
              0.5555555555555556,
              "#d8576b"
             ],
             [
              0.6666666666666666,
              "#ed7953"
             ],
             [
              0.7777777777777778,
              "#fb9f3a"
             ],
             [
              0.8888888888888888,
              "#fdca26"
             ],
             [
              1,
              "#f0f921"
             ]
            ],
            "type": "histogram2d"
           }
          ],
          "histogram2dcontour": [
           {
            "colorbar": {
             "outlinewidth": 0,
             "ticks": ""
            },
            "colorscale": [
             [
              0,
              "#0d0887"
             ],
             [
              0.1111111111111111,
              "#46039f"
             ],
             [
              0.2222222222222222,
              "#7201a8"
             ],
             [
              0.3333333333333333,
              "#9c179e"
             ],
             [
              0.4444444444444444,
              "#bd3786"
             ],
             [
              0.5555555555555556,
              "#d8576b"
             ],
             [
              0.6666666666666666,
              "#ed7953"
             ],
             [
              0.7777777777777778,
              "#fb9f3a"
             ],
             [
              0.8888888888888888,
              "#fdca26"
             ],
             [
              1,
              "#f0f921"
             ]
            ],
            "type": "histogram2dcontour"
           }
          ],
          "mesh3d": [
           {
            "colorbar": {
             "outlinewidth": 0,
             "ticks": ""
            },
            "type": "mesh3d"
           }
          ],
          "parcoords": [
           {
            "line": {
             "colorbar": {
              "outlinewidth": 0,
              "ticks": ""
             }
            },
            "type": "parcoords"
           }
          ],
          "pie": [
           {
            "automargin": true,
            "type": "pie"
           }
          ],
          "scatter": [
           {
            "fillpattern": {
             "fillmode": "overlay",
             "size": 10,
             "solidity": 0.2
            },
            "type": "scatter"
           }
          ],
          "scatter3d": [
           {
            "line": {
             "colorbar": {
              "outlinewidth": 0,
              "ticks": ""
             }
            },
            "marker": {
             "colorbar": {
              "outlinewidth": 0,
              "ticks": ""
             }
            },
            "type": "scatter3d"
           }
          ],
          "scattercarpet": [
           {
            "marker": {
             "colorbar": {
              "outlinewidth": 0,
              "ticks": ""
             }
            },
            "type": "scattercarpet"
           }
          ],
          "scattergeo": [
           {
            "marker": {
             "colorbar": {
              "outlinewidth": 0,
              "ticks": ""
             }
            },
            "type": "scattergeo"
           }
          ],
          "scattergl": [
           {
            "marker": {
             "colorbar": {
              "outlinewidth": 0,
              "ticks": ""
             }
            },
            "type": "scattergl"
           }
          ],
          "scattermapbox": [
           {
            "marker": {
             "colorbar": {
              "outlinewidth": 0,
              "ticks": ""
             }
            },
            "type": "scattermapbox"
           }
          ],
          "scatterpolar": [
           {
            "marker": {
             "colorbar": {
              "outlinewidth": 0,
              "ticks": ""
             }
            },
            "type": "scatterpolar"
           }
          ],
          "scatterpolargl": [
           {
            "marker": {
             "colorbar": {
              "outlinewidth": 0,
              "ticks": ""
             }
            },
            "type": "scatterpolargl"
           }
          ],
          "scatterternary": [
           {
            "marker": {
             "colorbar": {
              "outlinewidth": 0,
              "ticks": ""
             }
            },
            "type": "scatterternary"
           }
          ],
          "surface": [
           {
            "colorbar": {
             "outlinewidth": 0,
             "ticks": ""
            },
            "colorscale": [
             [
              0,
              "#0d0887"
             ],
             [
              0.1111111111111111,
              "#46039f"
             ],
             [
              0.2222222222222222,
              "#7201a8"
             ],
             [
              0.3333333333333333,
              "#9c179e"
             ],
             [
              0.4444444444444444,
              "#bd3786"
             ],
             [
              0.5555555555555556,
              "#d8576b"
             ],
             [
              0.6666666666666666,
              "#ed7953"
             ],
             [
              0.7777777777777778,
              "#fb9f3a"
             ],
             [
              0.8888888888888888,
              "#fdca26"
             ],
             [
              1,
              "#f0f921"
             ]
            ],
            "type": "surface"
           }
          ],
          "table": [
           {
            "cells": {
             "fill": {
              "color": "#EBF0F8"
             },
             "line": {
              "color": "white"
             }
            },
            "header": {
             "fill": {
              "color": "#C8D4E3"
             },
             "line": {
              "color": "white"
             }
            },
            "type": "table"
           }
          ]
         },
         "layout": {
          "annotationdefaults": {
           "arrowcolor": "#2a3f5f",
           "arrowhead": 0,
           "arrowwidth": 1
          },
          "autotypenumbers": "strict",
          "coloraxis": {
           "colorbar": {
            "outlinewidth": 0,
            "ticks": ""
           }
          },
          "colorscale": {
           "diverging": [
            [
             0,
             "#8e0152"
            ],
            [
             0.1,
             "#c51b7d"
            ],
            [
             0.2,
             "#de77ae"
            ],
            [
             0.3,
             "#f1b6da"
            ],
            [
             0.4,
             "#fde0ef"
            ],
            [
             0.5,
             "#f7f7f7"
            ],
            [
             0.6,
             "#e6f5d0"
            ],
            [
             0.7,
             "#b8e186"
            ],
            [
             0.8,
             "#7fbc41"
            ],
            [
             0.9,
             "#4d9221"
            ],
            [
             1,
             "#276419"
            ]
           ],
           "sequential": [
            [
             0,
             "#0d0887"
            ],
            [
             0.1111111111111111,
             "#46039f"
            ],
            [
             0.2222222222222222,
             "#7201a8"
            ],
            [
             0.3333333333333333,
             "#9c179e"
            ],
            [
             0.4444444444444444,
             "#bd3786"
            ],
            [
             0.5555555555555556,
             "#d8576b"
            ],
            [
             0.6666666666666666,
             "#ed7953"
            ],
            [
             0.7777777777777778,
             "#fb9f3a"
            ],
            [
             0.8888888888888888,
             "#fdca26"
            ],
            [
             1,
             "#f0f921"
            ]
           ],
           "sequentialminus": [
            [
             0,
             "#0d0887"
            ],
            [
             0.1111111111111111,
             "#46039f"
            ],
            [
             0.2222222222222222,
             "#7201a8"
            ],
            [
             0.3333333333333333,
             "#9c179e"
            ],
            [
             0.4444444444444444,
             "#bd3786"
            ],
            [
             0.5555555555555556,
             "#d8576b"
            ],
            [
             0.6666666666666666,
             "#ed7953"
            ],
            [
             0.7777777777777778,
             "#fb9f3a"
            ],
            [
             0.8888888888888888,
             "#fdca26"
            ],
            [
             1,
             "#f0f921"
            ]
           ]
          },
          "colorway": [
           "#636efa",
           "#EF553B",
           "#00cc96",
           "#ab63fa",
           "#FFA15A",
           "#19d3f3",
           "#FF6692",
           "#B6E880",
           "#FF97FF",
           "#FECB52"
          ],
          "font": {
           "color": "#2a3f5f"
          },
          "geo": {
           "bgcolor": "white",
           "lakecolor": "white",
           "landcolor": "#E5ECF6",
           "showlakes": true,
           "showland": true,
           "subunitcolor": "white"
          },
          "hoverlabel": {
           "align": "left"
          },
          "hovermode": "closest",
          "mapbox": {
           "style": "light"
          },
          "paper_bgcolor": "white",
          "plot_bgcolor": "#E5ECF6",
          "polar": {
           "angularaxis": {
            "gridcolor": "white",
            "linecolor": "white",
            "ticks": ""
           },
           "bgcolor": "#E5ECF6",
           "radialaxis": {
            "gridcolor": "white",
            "linecolor": "white",
            "ticks": ""
           }
          },
          "scene": {
           "xaxis": {
            "backgroundcolor": "#E5ECF6",
            "gridcolor": "white",
            "gridwidth": 2,
            "linecolor": "white",
            "showbackground": true,
            "ticks": "",
            "zerolinecolor": "white"
           },
           "yaxis": {
            "backgroundcolor": "#E5ECF6",
            "gridcolor": "white",
            "gridwidth": 2,
            "linecolor": "white",
            "showbackground": true,
            "ticks": "",
            "zerolinecolor": "white"
           },
           "zaxis": {
            "backgroundcolor": "#E5ECF6",
            "gridcolor": "white",
            "gridwidth": 2,
            "linecolor": "white",
            "showbackground": true,
            "ticks": "",
            "zerolinecolor": "white"
           }
          },
          "shapedefaults": {
           "line": {
            "color": "#2a3f5f"
           }
          },
          "ternary": {
           "aaxis": {
            "gridcolor": "white",
            "linecolor": "white",
            "ticks": ""
           },
           "baxis": {
            "gridcolor": "white",
            "linecolor": "white",
            "ticks": ""
           },
           "bgcolor": "#E5ECF6",
           "caxis": {
            "gridcolor": "white",
            "linecolor": "white",
            "ticks": ""
           }
          },
          "title": {
           "x": 0.05
          },
          "xaxis": {
           "automargin": true,
           "gridcolor": "white",
           "linecolor": "white",
           "ticks": "",
           "title": {
            "standoff": 15
           },
           "zerolinecolor": "white",
           "zerolinewidth": 2
          },
          "yaxis": {
           "automargin": true,
           "gridcolor": "white",
           "linecolor": "white",
           "ticks": "",
           "title": {
            "standoff": 15
           },
           "zerolinecolor": "white",
           "zerolinewidth": 2
          }
         }
        },
        "title": {
         "text": "Avg. rating of brands smartphones"
        },
        "xaxis": {
         "anchor": "y",
         "domain": [
          0,
          1
         ],
         "title": {
          "text": "Brand Name"
         }
        },
        "yaxis": {
         "anchor": "x",
         "domain": [
          0,
          1
         ],
         "title": {
          "text": "Average Rating"
         }
        }
       }
      },
      "text/html": [
       "<div>                            <div id=\"7593cc7c-fc7e-4479-a279-919d9ff2cd68\" class=\"plotly-graph-div\" style=\"height:525px; width:100%;\"></div>            <script type=\"text/javascript\">                require([\"plotly\"], function(Plotly) {                    window.PLOTLYENV=window.PLOTLYENV || {};                                    if (document.getElementById(\"7593cc7c-fc7e-4479-a279-919d9ff2cd68\")) {                    Plotly.newPlot(                        \"7593cc7c-fc7e-4479-a279-919d9ff2cd68\",                        [{\"alignmentgroup\":\"True\",\"hovertemplate\":\"Brand Name=%{x}\\u003cbr\\u003eAverage Rating=%{y}\\u003cextra\\u003e\\u003c\\u002fextra\\u003e\",\"legendgroup\":\"\",\"marker\":{\"color\":\"#636efa\",\"pattern\":{\"shape\":\"\"}},\"name\":\"\",\"offsetgroup\":\"\",\"orientation\":\"v\",\"showlegend\":false,\"textposition\":\"auto\",\"x\":[\"apple\",\"asus\",\"google\",\"honor\",\"huawei\",\"infinix\",\"iqoo\",\"itel\",\"motorola\",\"nokia\",\"nubia\",\"oneplus\",\"oppo\",\"poco\",\"realme\",\"samsung\",\"sony\",\"tecno\",\"vivo\",\"xiaomi\"],\"xaxis\":\"x\",\"y\":[8.700000000000001,8.433333333333334,8.223684210526315,8.221875,8.142857142857142,8.010416666666666,8.0,7.8776,7.873170731707317,7.872413793103449,7.87,7.818181818181818,7.733333333333333,7.715625,7.679545454545454,7.644565217391304,7.628571428571428,7.529999999999999,7.367741935483871,6.1],\"yaxis\":\"y\",\"type\":\"bar\"}],                        {\"template\":{\"data\":{\"histogram2dcontour\":[{\"type\":\"histogram2dcontour\",\"colorbar\":{\"outlinewidth\":0,\"ticks\":\"\"},\"colorscale\":[[0.0,\"#0d0887\"],[0.1111111111111111,\"#46039f\"],[0.2222222222222222,\"#7201a8\"],[0.3333333333333333,\"#9c179e\"],[0.4444444444444444,\"#bd3786\"],[0.5555555555555556,\"#d8576b\"],[0.6666666666666666,\"#ed7953\"],[0.7777777777777778,\"#fb9f3a\"],[0.8888888888888888,\"#fdca26\"],[1.0,\"#f0f921\"]]}],\"choropleth\":[{\"type\":\"choropleth\",\"colorbar\":{\"outlinewidth\":0,\"ticks\":\"\"}}],\"histogram2d\":[{\"type\":\"histogram2d\",\"colorbar\":{\"outlinewidth\":0,\"ticks\":\"\"},\"colorscale\":[[0.0,\"#0d0887\"],[0.1111111111111111,\"#46039f\"],[0.2222222222222222,\"#7201a8\"],[0.3333333333333333,\"#9c179e\"],[0.4444444444444444,\"#bd3786\"],[0.5555555555555556,\"#d8576b\"],[0.6666666666666666,\"#ed7953\"],[0.7777777777777778,\"#fb9f3a\"],[0.8888888888888888,\"#fdca26\"],[1.0,\"#f0f921\"]]}],\"heatmap\":[{\"type\":\"heatmap\",\"colorbar\":{\"outlinewidth\":0,\"ticks\":\"\"},\"colorscale\":[[0.0,\"#0d0887\"],[0.1111111111111111,\"#46039f\"],[0.2222222222222222,\"#7201a8\"],[0.3333333333333333,\"#9c179e\"],[0.4444444444444444,\"#bd3786\"],[0.5555555555555556,\"#d8576b\"],[0.6666666666666666,\"#ed7953\"],[0.7777777777777778,\"#fb9f3a\"],[0.8888888888888888,\"#fdca26\"],[1.0,\"#f0f921\"]]}],\"heatmapgl\":[{\"type\":\"heatmapgl\",\"colorbar\":{\"outlinewidth\":0,\"ticks\":\"\"},\"colorscale\":[[0.0,\"#0d0887\"],[0.1111111111111111,\"#46039f\"],[0.2222222222222222,\"#7201a8\"],[0.3333333333333333,\"#9c179e\"],[0.4444444444444444,\"#bd3786\"],[0.5555555555555556,\"#d8576b\"],[0.6666666666666666,\"#ed7953\"],[0.7777777777777778,\"#fb9f3a\"],[0.8888888888888888,\"#fdca26\"],[1.0,\"#f0f921\"]]}],\"contourcarpet\":[{\"type\":\"contourcarpet\",\"colorbar\":{\"outlinewidth\":0,\"ticks\":\"\"}}],\"contour\":[{\"type\":\"contour\",\"colorbar\":{\"outlinewidth\":0,\"ticks\":\"\"},\"colorscale\":[[0.0,\"#0d0887\"],[0.1111111111111111,\"#46039f\"],[0.2222222222222222,\"#7201a8\"],[0.3333333333333333,\"#9c179e\"],[0.4444444444444444,\"#bd3786\"],[0.5555555555555556,\"#d8576b\"],[0.6666666666666666,\"#ed7953\"],[0.7777777777777778,\"#fb9f3a\"],[0.8888888888888888,\"#fdca26\"],[1.0,\"#f0f921\"]]}],\"surface\":[{\"type\":\"surface\",\"colorbar\":{\"outlinewidth\":0,\"ticks\":\"\"},\"colorscale\":[[0.0,\"#0d0887\"],[0.1111111111111111,\"#46039f\"],[0.2222222222222222,\"#7201a8\"],[0.3333333333333333,\"#9c179e\"],[0.4444444444444444,\"#bd3786\"],[0.5555555555555556,\"#d8576b\"],[0.6666666666666666,\"#ed7953\"],[0.7777777777777778,\"#fb9f3a\"],[0.8888888888888888,\"#fdca26\"],[1.0,\"#f0f921\"]]}],\"mesh3d\":[{\"type\":\"mesh3d\",\"colorbar\":{\"outlinewidth\":0,\"ticks\":\"\"}}],\"scatter\":[{\"fillpattern\":{\"fillmode\":\"overlay\",\"size\":10,\"solidity\":0.2},\"type\":\"scatter\"}],\"parcoords\":[{\"type\":\"parcoords\",\"line\":{\"colorbar\":{\"outlinewidth\":0,\"ticks\":\"\"}}}],\"scatterpolargl\":[{\"type\":\"scatterpolargl\",\"marker\":{\"colorbar\":{\"outlinewidth\":0,\"ticks\":\"\"}}}],\"bar\":[{\"error_x\":{\"color\":\"#2a3f5f\"},\"error_y\":{\"color\":\"#2a3f5f\"},\"marker\":{\"line\":{\"color\":\"#E5ECF6\",\"width\":0.5},\"pattern\":{\"fillmode\":\"overlay\",\"size\":10,\"solidity\":0.2}},\"type\":\"bar\"}],\"scattergeo\":[{\"type\":\"scattergeo\",\"marker\":{\"colorbar\":{\"outlinewidth\":0,\"ticks\":\"\"}}}],\"scatterpolar\":[{\"type\":\"scatterpolar\",\"marker\":{\"colorbar\":{\"outlinewidth\":0,\"ticks\":\"\"}}}],\"histogram\":[{\"marker\":{\"pattern\":{\"fillmode\":\"overlay\",\"size\":10,\"solidity\":0.2}},\"type\":\"histogram\"}],\"scattergl\":[{\"type\":\"scattergl\",\"marker\":{\"colorbar\":{\"outlinewidth\":0,\"ticks\":\"\"}}}],\"scatter3d\":[{\"type\":\"scatter3d\",\"line\":{\"colorbar\":{\"outlinewidth\":0,\"ticks\":\"\"}},\"marker\":{\"colorbar\":{\"outlinewidth\":0,\"ticks\":\"\"}}}],\"scattermapbox\":[{\"type\":\"scattermapbox\",\"marker\":{\"colorbar\":{\"outlinewidth\":0,\"ticks\":\"\"}}}],\"scatterternary\":[{\"type\":\"scatterternary\",\"marker\":{\"colorbar\":{\"outlinewidth\":0,\"ticks\":\"\"}}}],\"scattercarpet\":[{\"type\":\"scattercarpet\",\"marker\":{\"colorbar\":{\"outlinewidth\":0,\"ticks\":\"\"}}}],\"carpet\":[{\"aaxis\":{\"endlinecolor\":\"#2a3f5f\",\"gridcolor\":\"white\",\"linecolor\":\"white\",\"minorgridcolor\":\"white\",\"startlinecolor\":\"#2a3f5f\"},\"baxis\":{\"endlinecolor\":\"#2a3f5f\",\"gridcolor\":\"white\",\"linecolor\":\"white\",\"minorgridcolor\":\"white\",\"startlinecolor\":\"#2a3f5f\"},\"type\":\"carpet\"}],\"table\":[{\"cells\":{\"fill\":{\"color\":\"#EBF0F8\"},\"line\":{\"color\":\"white\"}},\"header\":{\"fill\":{\"color\":\"#C8D4E3\"},\"line\":{\"color\":\"white\"}},\"type\":\"table\"}],\"barpolar\":[{\"marker\":{\"line\":{\"color\":\"#E5ECF6\",\"width\":0.5},\"pattern\":{\"fillmode\":\"overlay\",\"size\":10,\"solidity\":0.2}},\"type\":\"barpolar\"}],\"pie\":[{\"automargin\":true,\"type\":\"pie\"}]},\"layout\":{\"autotypenumbers\":\"strict\",\"colorway\":[\"#636efa\",\"#EF553B\",\"#00cc96\",\"#ab63fa\",\"#FFA15A\",\"#19d3f3\",\"#FF6692\",\"#B6E880\",\"#FF97FF\",\"#FECB52\"],\"font\":{\"color\":\"#2a3f5f\"},\"hovermode\":\"closest\",\"hoverlabel\":{\"align\":\"left\"},\"paper_bgcolor\":\"white\",\"plot_bgcolor\":\"#E5ECF6\",\"polar\":{\"bgcolor\":\"#E5ECF6\",\"angularaxis\":{\"gridcolor\":\"white\",\"linecolor\":\"white\",\"ticks\":\"\"},\"radialaxis\":{\"gridcolor\":\"white\",\"linecolor\":\"white\",\"ticks\":\"\"}},\"ternary\":{\"bgcolor\":\"#E5ECF6\",\"aaxis\":{\"gridcolor\":\"white\",\"linecolor\":\"white\",\"ticks\":\"\"},\"baxis\":{\"gridcolor\":\"white\",\"linecolor\":\"white\",\"ticks\":\"\"},\"caxis\":{\"gridcolor\":\"white\",\"linecolor\":\"white\",\"ticks\":\"\"}},\"coloraxis\":{\"colorbar\":{\"outlinewidth\":0,\"ticks\":\"\"}},\"colorscale\":{\"sequential\":[[0.0,\"#0d0887\"],[0.1111111111111111,\"#46039f\"],[0.2222222222222222,\"#7201a8\"],[0.3333333333333333,\"#9c179e\"],[0.4444444444444444,\"#bd3786\"],[0.5555555555555556,\"#d8576b\"],[0.6666666666666666,\"#ed7953\"],[0.7777777777777778,\"#fb9f3a\"],[0.8888888888888888,\"#fdca26\"],[1.0,\"#f0f921\"]],\"sequentialminus\":[[0.0,\"#0d0887\"],[0.1111111111111111,\"#46039f\"],[0.2222222222222222,\"#7201a8\"],[0.3333333333333333,\"#9c179e\"],[0.4444444444444444,\"#bd3786\"],[0.5555555555555556,\"#d8576b\"],[0.6666666666666666,\"#ed7953\"],[0.7777777777777778,\"#fb9f3a\"],[0.8888888888888888,\"#fdca26\"],[1.0,\"#f0f921\"]],\"diverging\":[[0,\"#8e0152\"],[0.1,\"#c51b7d\"],[0.2,\"#de77ae\"],[0.3,\"#f1b6da\"],[0.4,\"#fde0ef\"],[0.5,\"#f7f7f7\"],[0.6,\"#e6f5d0\"],[0.7,\"#b8e186\"],[0.8,\"#7fbc41\"],[0.9,\"#4d9221\"],[1,\"#276419\"]]},\"xaxis\":{\"gridcolor\":\"white\",\"linecolor\":\"white\",\"ticks\":\"\",\"title\":{\"standoff\":15},\"zerolinecolor\":\"white\",\"automargin\":true,\"zerolinewidth\":2},\"yaxis\":{\"gridcolor\":\"white\",\"linecolor\":\"white\",\"ticks\":\"\",\"title\":{\"standoff\":15},\"zerolinecolor\":\"white\",\"automargin\":true,\"zerolinewidth\":2},\"scene\":{\"xaxis\":{\"backgroundcolor\":\"#E5ECF6\",\"gridcolor\":\"white\",\"linecolor\":\"white\",\"showbackground\":true,\"ticks\":\"\",\"zerolinecolor\":\"white\",\"gridwidth\":2},\"yaxis\":{\"backgroundcolor\":\"#E5ECF6\",\"gridcolor\":\"white\",\"linecolor\":\"white\",\"showbackground\":true,\"ticks\":\"\",\"zerolinecolor\":\"white\",\"gridwidth\":2},\"zaxis\":{\"backgroundcolor\":\"#E5ECF6\",\"gridcolor\":\"white\",\"linecolor\":\"white\",\"showbackground\":true,\"ticks\":\"\",\"zerolinecolor\":\"white\",\"gridwidth\":2}},\"shapedefaults\":{\"line\":{\"color\":\"#2a3f5f\"}},\"annotationdefaults\":{\"arrowcolor\":\"#2a3f5f\",\"arrowhead\":0,\"arrowwidth\":1},\"geo\":{\"bgcolor\":\"white\",\"landcolor\":\"#E5ECF6\",\"subunitcolor\":\"white\",\"showland\":true,\"showlakes\":true,\"lakecolor\":\"white\"},\"title\":{\"x\":0.05},\"mapbox\":{\"style\":\"light\"}}},\"xaxis\":{\"anchor\":\"y\",\"domain\":[0.0,1.0],\"title\":{\"text\":\"Brand Name\"}},\"yaxis\":{\"anchor\":\"x\",\"domain\":[0.0,1.0],\"title\":{\"text\":\"Average Rating\"}},\"legend\":{\"tracegroupgap\":0},\"title\":{\"text\":\"Avg. rating of brands smartphones\"},\"barmode\":\"relative\"},                        {\"responsive\": true}                    ).then(function(){\n",
       "                            \n",
       "var gd = document.getElementById('7593cc7c-fc7e-4479-a279-919d9ff2cd68');\n",
       "var x = new MutationObserver(function (mutations, observer) {{\n",
       "        var display = window.getComputedStyle(gd).display;\n",
       "        if (!display || display === 'none') {{\n",
       "            console.log([gd, 'removed!']);\n",
       "            Plotly.purge(gd);\n",
       "            observer.disconnect();\n",
       "        }}\n",
       "}});\n",
       "\n",
       "// Listen for the removal of the full notebook cells\n",
       "var notebookContainer = gd.closest('#notebook-container');\n",
       "if (notebookContainer) {{\n",
       "    x.observe(notebookContainer, {childList: true});\n",
       "}}\n",
       "\n",
       "// Listen for the clearing of the current output cell\n",
       "var outputEl = gd.closest('.output');\n",
       "if (outputEl) {{\n",
       "    x.observe(outputEl, {childList: true});\n",
       "}}\n",
       "\n",
       "                        })                };                });            </script>        </div>"
      ]
     },
     "metadata": {},
     "output_type": "display_data"
    },
    {
     "data": {
      "text/plain": [
       "<Figure size 1200x800 with 0 Axes>"
      ]
     },
     "metadata": {},
     "output_type": "display_data"
    }
   ],
   "source": [
    "plt.figure(figsize=(12,8))\n",
    "fig = px.bar(x=sp.groupby('brand_name')['avg_rating'].mean().index, y=sp.groupby('brand_name')['avg_rating'].mean().sort_values(ascending=False), title='Avg. rating of brands smartphones',\n",
    "             labels={'x': 'Brand Name', 'y': 'Average Rating'})\n",
    "fig.show()"
   ]
  },
  {
   "cell_type": "code",
   "execution_count": 17,
   "id": "a16e0dd1",
   "metadata": {},
   "outputs": [
    {
     "data": {
      "application/vnd.plotly.v1+json": {
       "config": {
        "plotlyServerURL": "https://plot.ly"
       },
       "data": [
        {
         "domain": {
          "x": [
           0,
           1
          ],
          "y": [
           0,
           1
          ]
         },
         "hovertemplate": "label=%{label}<br>value=%{value}<extra></extra>",
         "labels": [
          1,
          0
         ],
         "legendgroup": "",
         "marker": {
          "colors": [
           "#0074D9",
           "#FFC300"
          ]
         },
         "name": "",
         "showlegend": true,
         "type": "pie",
         "values": [
          526,
          399
         ]
        }
       ],
       "layout": {
        "legend": {
         "tracegroupgap": 0
        },
        "template": {
         "data": {
          "bar": [
           {
            "error_x": {
             "color": "#2a3f5f"
            },
            "error_y": {
             "color": "#2a3f5f"
            },
            "marker": {
             "line": {
              "color": "#E5ECF6",
              "width": 0.5
             },
             "pattern": {
              "fillmode": "overlay",
              "size": 10,
              "solidity": 0.2
             }
            },
            "type": "bar"
           }
          ],
          "barpolar": [
           {
            "marker": {
             "line": {
              "color": "#E5ECF6",
              "width": 0.5
             },
             "pattern": {
              "fillmode": "overlay",
              "size": 10,
              "solidity": 0.2
             }
            },
            "type": "barpolar"
           }
          ],
          "carpet": [
           {
            "aaxis": {
             "endlinecolor": "#2a3f5f",
             "gridcolor": "white",
             "linecolor": "white",
             "minorgridcolor": "white",
             "startlinecolor": "#2a3f5f"
            },
            "baxis": {
             "endlinecolor": "#2a3f5f",
             "gridcolor": "white",
             "linecolor": "white",
             "minorgridcolor": "white",
             "startlinecolor": "#2a3f5f"
            },
            "type": "carpet"
           }
          ],
          "choropleth": [
           {
            "colorbar": {
             "outlinewidth": 0,
             "ticks": ""
            },
            "type": "choropleth"
           }
          ],
          "contour": [
           {
            "colorbar": {
             "outlinewidth": 0,
             "ticks": ""
            },
            "colorscale": [
             [
              0,
              "#0d0887"
             ],
             [
              0.1111111111111111,
              "#46039f"
             ],
             [
              0.2222222222222222,
              "#7201a8"
             ],
             [
              0.3333333333333333,
              "#9c179e"
             ],
             [
              0.4444444444444444,
              "#bd3786"
             ],
             [
              0.5555555555555556,
              "#d8576b"
             ],
             [
              0.6666666666666666,
              "#ed7953"
             ],
             [
              0.7777777777777778,
              "#fb9f3a"
             ],
             [
              0.8888888888888888,
              "#fdca26"
             ],
             [
              1,
              "#f0f921"
             ]
            ],
            "type": "contour"
           }
          ],
          "contourcarpet": [
           {
            "colorbar": {
             "outlinewidth": 0,
             "ticks": ""
            },
            "type": "contourcarpet"
           }
          ],
          "heatmap": [
           {
            "colorbar": {
             "outlinewidth": 0,
             "ticks": ""
            },
            "colorscale": [
             [
              0,
              "#0d0887"
             ],
             [
              0.1111111111111111,
              "#46039f"
             ],
             [
              0.2222222222222222,
              "#7201a8"
             ],
             [
              0.3333333333333333,
              "#9c179e"
             ],
             [
              0.4444444444444444,
              "#bd3786"
             ],
             [
              0.5555555555555556,
              "#d8576b"
             ],
             [
              0.6666666666666666,
              "#ed7953"
             ],
             [
              0.7777777777777778,
              "#fb9f3a"
             ],
             [
              0.8888888888888888,
              "#fdca26"
             ],
             [
              1,
              "#f0f921"
             ]
            ],
            "type": "heatmap"
           }
          ],
          "heatmapgl": [
           {
            "colorbar": {
             "outlinewidth": 0,
             "ticks": ""
            },
            "colorscale": [
             [
              0,
              "#0d0887"
             ],
             [
              0.1111111111111111,
              "#46039f"
             ],
             [
              0.2222222222222222,
              "#7201a8"
             ],
             [
              0.3333333333333333,
              "#9c179e"
             ],
             [
              0.4444444444444444,
              "#bd3786"
             ],
             [
              0.5555555555555556,
              "#d8576b"
             ],
             [
              0.6666666666666666,
              "#ed7953"
             ],
             [
              0.7777777777777778,
              "#fb9f3a"
             ],
             [
              0.8888888888888888,
              "#fdca26"
             ],
             [
              1,
              "#f0f921"
             ]
            ],
            "type": "heatmapgl"
           }
          ],
          "histogram": [
           {
            "marker": {
             "pattern": {
              "fillmode": "overlay",
              "size": 10,
              "solidity": 0.2
             }
            },
            "type": "histogram"
           }
          ],
          "histogram2d": [
           {
            "colorbar": {
             "outlinewidth": 0,
             "ticks": ""
            },
            "colorscale": [
             [
              0,
              "#0d0887"
             ],
             [
              0.1111111111111111,
              "#46039f"
             ],
             [
              0.2222222222222222,
              "#7201a8"
             ],
             [
              0.3333333333333333,
              "#9c179e"
             ],
             [
              0.4444444444444444,
              "#bd3786"
             ],
             [
              0.5555555555555556,
              "#d8576b"
             ],
             [
              0.6666666666666666,
              "#ed7953"
             ],
             [
              0.7777777777777778,
              "#fb9f3a"
             ],
             [
              0.8888888888888888,
              "#fdca26"
             ],
             [
              1,
              "#f0f921"
             ]
            ],
            "type": "histogram2d"
           }
          ],
          "histogram2dcontour": [
           {
            "colorbar": {
             "outlinewidth": 0,
             "ticks": ""
            },
            "colorscale": [
             [
              0,
              "#0d0887"
             ],
             [
              0.1111111111111111,
              "#46039f"
             ],
             [
              0.2222222222222222,
              "#7201a8"
             ],
             [
              0.3333333333333333,
              "#9c179e"
             ],
             [
              0.4444444444444444,
              "#bd3786"
             ],
             [
              0.5555555555555556,
              "#d8576b"
             ],
             [
              0.6666666666666666,
              "#ed7953"
             ],
             [
              0.7777777777777778,
              "#fb9f3a"
             ],
             [
              0.8888888888888888,
              "#fdca26"
             ],
             [
              1,
              "#f0f921"
             ]
            ],
            "type": "histogram2dcontour"
           }
          ],
          "mesh3d": [
           {
            "colorbar": {
             "outlinewidth": 0,
             "ticks": ""
            },
            "type": "mesh3d"
           }
          ],
          "parcoords": [
           {
            "line": {
             "colorbar": {
              "outlinewidth": 0,
              "ticks": ""
             }
            },
            "type": "parcoords"
           }
          ],
          "pie": [
           {
            "automargin": true,
            "type": "pie"
           }
          ],
          "scatter": [
           {
            "fillpattern": {
             "fillmode": "overlay",
             "size": 10,
             "solidity": 0.2
            },
            "type": "scatter"
           }
          ],
          "scatter3d": [
           {
            "line": {
             "colorbar": {
              "outlinewidth": 0,
              "ticks": ""
             }
            },
            "marker": {
             "colorbar": {
              "outlinewidth": 0,
              "ticks": ""
             }
            },
            "type": "scatter3d"
           }
          ],
          "scattercarpet": [
           {
            "marker": {
             "colorbar": {
              "outlinewidth": 0,
              "ticks": ""
             }
            },
            "type": "scattercarpet"
           }
          ],
          "scattergeo": [
           {
            "marker": {
             "colorbar": {
              "outlinewidth": 0,
              "ticks": ""
             }
            },
            "type": "scattergeo"
           }
          ],
          "scattergl": [
           {
            "marker": {
             "colorbar": {
              "outlinewidth": 0,
              "ticks": ""
             }
            },
            "type": "scattergl"
           }
          ],
          "scattermapbox": [
           {
            "marker": {
             "colorbar": {
              "outlinewidth": 0,
              "ticks": ""
             }
            },
            "type": "scattermapbox"
           }
          ],
          "scatterpolar": [
           {
            "marker": {
             "colorbar": {
              "outlinewidth": 0,
              "ticks": ""
             }
            },
            "type": "scatterpolar"
           }
          ],
          "scatterpolargl": [
           {
            "marker": {
             "colorbar": {
              "outlinewidth": 0,
              "ticks": ""
             }
            },
            "type": "scatterpolargl"
           }
          ],
          "scatterternary": [
           {
            "marker": {
             "colorbar": {
              "outlinewidth": 0,
              "ticks": ""
             }
            },
            "type": "scatterternary"
           }
          ],
          "surface": [
           {
            "colorbar": {
             "outlinewidth": 0,
             "ticks": ""
            },
            "colorscale": [
             [
              0,
              "#0d0887"
             ],
             [
              0.1111111111111111,
              "#46039f"
             ],
             [
              0.2222222222222222,
              "#7201a8"
             ],
             [
              0.3333333333333333,
              "#9c179e"
             ],
             [
              0.4444444444444444,
              "#bd3786"
             ],
             [
              0.5555555555555556,
              "#d8576b"
             ],
             [
              0.6666666666666666,
              "#ed7953"
             ],
             [
              0.7777777777777778,
              "#fb9f3a"
             ],
             [
              0.8888888888888888,
              "#fdca26"
             ],
             [
              1,
              "#f0f921"
             ]
            ],
            "type": "surface"
           }
          ],
          "table": [
           {
            "cells": {
             "fill": {
              "color": "#EBF0F8"
             },
             "line": {
              "color": "white"
             }
            },
            "header": {
             "fill": {
              "color": "#C8D4E3"
             },
             "line": {
              "color": "white"
             }
            },
            "type": "table"
           }
          ]
         },
         "layout": {
          "annotationdefaults": {
           "arrowcolor": "#2a3f5f",
           "arrowhead": 0,
           "arrowwidth": 1
          },
          "autotypenumbers": "strict",
          "coloraxis": {
           "colorbar": {
            "outlinewidth": 0,
            "ticks": ""
           }
          },
          "colorscale": {
           "diverging": [
            [
             0,
             "#8e0152"
            ],
            [
             0.1,
             "#c51b7d"
            ],
            [
             0.2,
             "#de77ae"
            ],
            [
             0.3,
             "#f1b6da"
            ],
            [
             0.4,
             "#fde0ef"
            ],
            [
             0.5,
             "#f7f7f7"
            ],
            [
             0.6,
             "#e6f5d0"
            ],
            [
             0.7,
             "#b8e186"
            ],
            [
             0.8,
             "#7fbc41"
            ],
            [
             0.9,
             "#4d9221"
            ],
            [
             1,
             "#276419"
            ]
           ],
           "sequential": [
            [
             0,
             "#0d0887"
            ],
            [
             0.1111111111111111,
             "#46039f"
            ],
            [
             0.2222222222222222,
             "#7201a8"
            ],
            [
             0.3333333333333333,
             "#9c179e"
            ],
            [
             0.4444444444444444,
             "#bd3786"
            ],
            [
             0.5555555555555556,
             "#d8576b"
            ],
            [
             0.6666666666666666,
             "#ed7953"
            ],
            [
             0.7777777777777778,
             "#fb9f3a"
            ],
            [
             0.8888888888888888,
             "#fdca26"
            ],
            [
             1,
             "#f0f921"
            ]
           ],
           "sequentialminus": [
            [
             0,
             "#0d0887"
            ],
            [
             0.1111111111111111,
             "#46039f"
            ],
            [
             0.2222222222222222,
             "#7201a8"
            ],
            [
             0.3333333333333333,
             "#9c179e"
            ],
            [
             0.4444444444444444,
             "#bd3786"
            ],
            [
             0.5555555555555556,
             "#d8576b"
            ],
            [
             0.6666666666666666,
             "#ed7953"
            ],
            [
             0.7777777777777778,
             "#fb9f3a"
            ],
            [
             0.8888888888888888,
             "#fdca26"
            ],
            [
             1,
             "#f0f921"
            ]
           ]
          },
          "colorway": [
           "#636efa",
           "#EF553B",
           "#00cc96",
           "#ab63fa",
           "#FFA15A",
           "#19d3f3",
           "#FF6692",
           "#B6E880",
           "#FF97FF",
           "#FECB52"
          ],
          "font": {
           "color": "#2a3f5f"
          },
          "geo": {
           "bgcolor": "white",
           "lakecolor": "white",
           "landcolor": "#E5ECF6",
           "showlakes": true,
           "showland": true,
           "subunitcolor": "white"
          },
          "hoverlabel": {
           "align": "left"
          },
          "hovermode": "closest",
          "mapbox": {
           "style": "light"
          },
          "paper_bgcolor": "white",
          "plot_bgcolor": "#E5ECF6",
          "polar": {
           "angularaxis": {
            "gridcolor": "white",
            "linecolor": "white",
            "ticks": ""
           },
           "bgcolor": "#E5ECF6",
           "radialaxis": {
            "gridcolor": "white",
            "linecolor": "white",
            "ticks": ""
           }
          },
          "scene": {
           "xaxis": {
            "backgroundcolor": "#E5ECF6",
            "gridcolor": "white",
            "gridwidth": 2,
            "linecolor": "white",
            "showbackground": true,
            "ticks": "",
            "zerolinecolor": "white"
           },
           "yaxis": {
            "backgroundcolor": "#E5ECF6",
            "gridcolor": "white",
            "gridwidth": 2,
            "linecolor": "white",
            "showbackground": true,
            "ticks": "",
            "zerolinecolor": "white"
           },
           "zaxis": {
            "backgroundcolor": "#E5ECF6",
            "gridcolor": "white",
            "gridwidth": 2,
            "linecolor": "white",
            "showbackground": true,
            "ticks": "",
            "zerolinecolor": "white"
           }
          },
          "shapedefaults": {
           "line": {
            "color": "#2a3f5f"
           }
          },
          "ternary": {
           "aaxis": {
            "gridcolor": "white",
            "linecolor": "white",
            "ticks": ""
           },
           "baxis": {
            "gridcolor": "white",
            "linecolor": "white",
            "ticks": ""
           },
           "bgcolor": "#E5ECF6",
           "caxis": {
            "gridcolor": "white",
            "linecolor": "white",
            "ticks": ""
           }
          },
          "title": {
           "x": 0.05
          },
          "xaxis": {
           "automargin": true,
           "gridcolor": "white",
           "linecolor": "white",
           "ticks": "",
           "title": {
            "standoff": 15
           },
           "zerolinecolor": "white",
           "zerolinewidth": 2
          },
          "yaxis": {
           "automargin": true,
           "gridcolor": "white",
           "linecolor": "white",
           "ticks": "",
           "title": {
            "standoff": 15
           },
           "zerolinecolor": "white",
           "zerolinewidth": 2
          }
         }
        },
        "title": {
         "text": "Distribution of 5G phones"
        }
       }
      },
      "text/html": [
       "<div>                            <div id=\"3e2ab1a5-5667-451f-b0da-091035c57e29\" class=\"plotly-graph-div\" style=\"height:525px; width:100%;\"></div>            <script type=\"text/javascript\">                require([\"plotly\"], function(Plotly) {                    window.PLOTLYENV=window.PLOTLYENV || {};                                    if (document.getElementById(\"3e2ab1a5-5667-451f-b0da-091035c57e29\")) {                    Plotly.newPlot(                        \"3e2ab1a5-5667-451f-b0da-091035c57e29\",                        [{\"domain\":{\"x\":[0.0,1.0],\"y\":[0.0,1.0]},\"hovertemplate\":\"label=%{label}\\u003cbr\\u003evalue=%{value}\\u003cextra\\u003e\\u003c\\u002fextra\\u003e\",\"labels\":[1,0],\"legendgroup\":\"\",\"name\":\"\",\"showlegend\":true,\"values\":[526,399],\"type\":\"pie\",\"marker\":{\"colors\":[\"#0074D9\",\"#FFC300\"]}}],                        {\"template\":{\"data\":{\"histogram2dcontour\":[{\"type\":\"histogram2dcontour\",\"colorbar\":{\"outlinewidth\":0,\"ticks\":\"\"},\"colorscale\":[[0.0,\"#0d0887\"],[0.1111111111111111,\"#46039f\"],[0.2222222222222222,\"#7201a8\"],[0.3333333333333333,\"#9c179e\"],[0.4444444444444444,\"#bd3786\"],[0.5555555555555556,\"#d8576b\"],[0.6666666666666666,\"#ed7953\"],[0.7777777777777778,\"#fb9f3a\"],[0.8888888888888888,\"#fdca26\"],[1.0,\"#f0f921\"]]}],\"choropleth\":[{\"type\":\"choropleth\",\"colorbar\":{\"outlinewidth\":0,\"ticks\":\"\"}}],\"histogram2d\":[{\"type\":\"histogram2d\",\"colorbar\":{\"outlinewidth\":0,\"ticks\":\"\"},\"colorscale\":[[0.0,\"#0d0887\"],[0.1111111111111111,\"#46039f\"],[0.2222222222222222,\"#7201a8\"],[0.3333333333333333,\"#9c179e\"],[0.4444444444444444,\"#bd3786\"],[0.5555555555555556,\"#d8576b\"],[0.6666666666666666,\"#ed7953\"],[0.7777777777777778,\"#fb9f3a\"],[0.8888888888888888,\"#fdca26\"],[1.0,\"#f0f921\"]]}],\"heatmap\":[{\"type\":\"heatmap\",\"colorbar\":{\"outlinewidth\":0,\"ticks\":\"\"},\"colorscale\":[[0.0,\"#0d0887\"],[0.1111111111111111,\"#46039f\"],[0.2222222222222222,\"#7201a8\"],[0.3333333333333333,\"#9c179e\"],[0.4444444444444444,\"#bd3786\"],[0.5555555555555556,\"#d8576b\"],[0.6666666666666666,\"#ed7953\"],[0.7777777777777778,\"#fb9f3a\"],[0.8888888888888888,\"#fdca26\"],[1.0,\"#f0f921\"]]}],\"heatmapgl\":[{\"type\":\"heatmapgl\",\"colorbar\":{\"outlinewidth\":0,\"ticks\":\"\"},\"colorscale\":[[0.0,\"#0d0887\"],[0.1111111111111111,\"#46039f\"],[0.2222222222222222,\"#7201a8\"],[0.3333333333333333,\"#9c179e\"],[0.4444444444444444,\"#bd3786\"],[0.5555555555555556,\"#d8576b\"],[0.6666666666666666,\"#ed7953\"],[0.7777777777777778,\"#fb9f3a\"],[0.8888888888888888,\"#fdca26\"],[1.0,\"#f0f921\"]]}],\"contourcarpet\":[{\"type\":\"contourcarpet\",\"colorbar\":{\"outlinewidth\":0,\"ticks\":\"\"}}],\"contour\":[{\"type\":\"contour\",\"colorbar\":{\"outlinewidth\":0,\"ticks\":\"\"},\"colorscale\":[[0.0,\"#0d0887\"],[0.1111111111111111,\"#46039f\"],[0.2222222222222222,\"#7201a8\"],[0.3333333333333333,\"#9c179e\"],[0.4444444444444444,\"#bd3786\"],[0.5555555555555556,\"#d8576b\"],[0.6666666666666666,\"#ed7953\"],[0.7777777777777778,\"#fb9f3a\"],[0.8888888888888888,\"#fdca26\"],[1.0,\"#f0f921\"]]}],\"surface\":[{\"type\":\"surface\",\"colorbar\":{\"outlinewidth\":0,\"ticks\":\"\"},\"colorscale\":[[0.0,\"#0d0887\"],[0.1111111111111111,\"#46039f\"],[0.2222222222222222,\"#7201a8\"],[0.3333333333333333,\"#9c179e\"],[0.4444444444444444,\"#bd3786\"],[0.5555555555555556,\"#d8576b\"],[0.6666666666666666,\"#ed7953\"],[0.7777777777777778,\"#fb9f3a\"],[0.8888888888888888,\"#fdca26\"],[1.0,\"#f0f921\"]]}],\"mesh3d\":[{\"type\":\"mesh3d\",\"colorbar\":{\"outlinewidth\":0,\"ticks\":\"\"}}],\"scatter\":[{\"fillpattern\":{\"fillmode\":\"overlay\",\"size\":10,\"solidity\":0.2},\"type\":\"scatter\"}],\"parcoords\":[{\"type\":\"parcoords\",\"line\":{\"colorbar\":{\"outlinewidth\":0,\"ticks\":\"\"}}}],\"scatterpolargl\":[{\"type\":\"scatterpolargl\",\"marker\":{\"colorbar\":{\"outlinewidth\":0,\"ticks\":\"\"}}}],\"bar\":[{\"error_x\":{\"color\":\"#2a3f5f\"},\"error_y\":{\"color\":\"#2a3f5f\"},\"marker\":{\"line\":{\"color\":\"#E5ECF6\",\"width\":0.5},\"pattern\":{\"fillmode\":\"overlay\",\"size\":10,\"solidity\":0.2}},\"type\":\"bar\"}],\"scattergeo\":[{\"type\":\"scattergeo\",\"marker\":{\"colorbar\":{\"outlinewidth\":0,\"ticks\":\"\"}}}],\"scatterpolar\":[{\"type\":\"scatterpolar\",\"marker\":{\"colorbar\":{\"outlinewidth\":0,\"ticks\":\"\"}}}],\"histogram\":[{\"marker\":{\"pattern\":{\"fillmode\":\"overlay\",\"size\":10,\"solidity\":0.2}},\"type\":\"histogram\"}],\"scattergl\":[{\"type\":\"scattergl\",\"marker\":{\"colorbar\":{\"outlinewidth\":0,\"ticks\":\"\"}}}],\"scatter3d\":[{\"type\":\"scatter3d\",\"line\":{\"colorbar\":{\"outlinewidth\":0,\"ticks\":\"\"}},\"marker\":{\"colorbar\":{\"outlinewidth\":0,\"ticks\":\"\"}}}],\"scattermapbox\":[{\"type\":\"scattermapbox\",\"marker\":{\"colorbar\":{\"outlinewidth\":0,\"ticks\":\"\"}}}],\"scatterternary\":[{\"type\":\"scatterternary\",\"marker\":{\"colorbar\":{\"outlinewidth\":0,\"ticks\":\"\"}}}],\"scattercarpet\":[{\"type\":\"scattercarpet\",\"marker\":{\"colorbar\":{\"outlinewidth\":0,\"ticks\":\"\"}}}],\"carpet\":[{\"aaxis\":{\"endlinecolor\":\"#2a3f5f\",\"gridcolor\":\"white\",\"linecolor\":\"white\",\"minorgridcolor\":\"white\",\"startlinecolor\":\"#2a3f5f\"},\"baxis\":{\"endlinecolor\":\"#2a3f5f\",\"gridcolor\":\"white\",\"linecolor\":\"white\",\"minorgridcolor\":\"white\",\"startlinecolor\":\"#2a3f5f\"},\"type\":\"carpet\"}],\"table\":[{\"cells\":{\"fill\":{\"color\":\"#EBF0F8\"},\"line\":{\"color\":\"white\"}},\"header\":{\"fill\":{\"color\":\"#C8D4E3\"},\"line\":{\"color\":\"white\"}},\"type\":\"table\"}],\"barpolar\":[{\"marker\":{\"line\":{\"color\":\"#E5ECF6\",\"width\":0.5},\"pattern\":{\"fillmode\":\"overlay\",\"size\":10,\"solidity\":0.2}},\"type\":\"barpolar\"}],\"pie\":[{\"automargin\":true,\"type\":\"pie\"}]},\"layout\":{\"autotypenumbers\":\"strict\",\"colorway\":[\"#636efa\",\"#EF553B\",\"#00cc96\",\"#ab63fa\",\"#FFA15A\",\"#19d3f3\",\"#FF6692\",\"#B6E880\",\"#FF97FF\",\"#FECB52\"],\"font\":{\"color\":\"#2a3f5f\"},\"hovermode\":\"closest\",\"hoverlabel\":{\"align\":\"left\"},\"paper_bgcolor\":\"white\",\"plot_bgcolor\":\"#E5ECF6\",\"polar\":{\"bgcolor\":\"#E5ECF6\",\"angularaxis\":{\"gridcolor\":\"white\",\"linecolor\":\"white\",\"ticks\":\"\"},\"radialaxis\":{\"gridcolor\":\"white\",\"linecolor\":\"white\",\"ticks\":\"\"}},\"ternary\":{\"bgcolor\":\"#E5ECF6\",\"aaxis\":{\"gridcolor\":\"white\",\"linecolor\":\"white\",\"ticks\":\"\"},\"baxis\":{\"gridcolor\":\"white\",\"linecolor\":\"white\",\"ticks\":\"\"},\"caxis\":{\"gridcolor\":\"white\",\"linecolor\":\"white\",\"ticks\":\"\"}},\"coloraxis\":{\"colorbar\":{\"outlinewidth\":0,\"ticks\":\"\"}},\"colorscale\":{\"sequential\":[[0.0,\"#0d0887\"],[0.1111111111111111,\"#46039f\"],[0.2222222222222222,\"#7201a8\"],[0.3333333333333333,\"#9c179e\"],[0.4444444444444444,\"#bd3786\"],[0.5555555555555556,\"#d8576b\"],[0.6666666666666666,\"#ed7953\"],[0.7777777777777778,\"#fb9f3a\"],[0.8888888888888888,\"#fdca26\"],[1.0,\"#f0f921\"]],\"sequentialminus\":[[0.0,\"#0d0887\"],[0.1111111111111111,\"#46039f\"],[0.2222222222222222,\"#7201a8\"],[0.3333333333333333,\"#9c179e\"],[0.4444444444444444,\"#bd3786\"],[0.5555555555555556,\"#d8576b\"],[0.6666666666666666,\"#ed7953\"],[0.7777777777777778,\"#fb9f3a\"],[0.8888888888888888,\"#fdca26\"],[1.0,\"#f0f921\"]],\"diverging\":[[0,\"#8e0152\"],[0.1,\"#c51b7d\"],[0.2,\"#de77ae\"],[0.3,\"#f1b6da\"],[0.4,\"#fde0ef\"],[0.5,\"#f7f7f7\"],[0.6,\"#e6f5d0\"],[0.7,\"#b8e186\"],[0.8,\"#7fbc41\"],[0.9,\"#4d9221\"],[1,\"#276419\"]]},\"xaxis\":{\"gridcolor\":\"white\",\"linecolor\":\"white\",\"ticks\":\"\",\"title\":{\"standoff\":15},\"zerolinecolor\":\"white\",\"automargin\":true,\"zerolinewidth\":2},\"yaxis\":{\"gridcolor\":\"white\",\"linecolor\":\"white\",\"ticks\":\"\",\"title\":{\"standoff\":15},\"zerolinecolor\":\"white\",\"automargin\":true,\"zerolinewidth\":2},\"scene\":{\"xaxis\":{\"backgroundcolor\":\"#E5ECF6\",\"gridcolor\":\"white\",\"linecolor\":\"white\",\"showbackground\":true,\"ticks\":\"\",\"zerolinecolor\":\"white\",\"gridwidth\":2},\"yaxis\":{\"backgroundcolor\":\"#E5ECF6\",\"gridcolor\":\"white\",\"linecolor\":\"white\",\"showbackground\":true,\"ticks\":\"\",\"zerolinecolor\":\"white\",\"gridwidth\":2},\"zaxis\":{\"backgroundcolor\":\"#E5ECF6\",\"gridcolor\":\"white\",\"linecolor\":\"white\",\"showbackground\":true,\"ticks\":\"\",\"zerolinecolor\":\"white\",\"gridwidth\":2}},\"shapedefaults\":{\"line\":{\"color\":\"#2a3f5f\"}},\"annotationdefaults\":{\"arrowcolor\":\"#2a3f5f\",\"arrowhead\":0,\"arrowwidth\":1},\"geo\":{\"bgcolor\":\"white\",\"landcolor\":\"#E5ECF6\",\"subunitcolor\":\"white\",\"showland\":true,\"showlakes\":true,\"lakecolor\":\"white\"},\"title\":{\"x\":0.05},\"mapbox\":{\"style\":\"light\"}}},\"legend\":{\"tracegroupgap\":0},\"title\":{\"text\":\"Distribution of 5G phones\"}},                        {\"responsive\": true}                    ).then(function(){\n",
       "                            \n",
       "var gd = document.getElementById('3e2ab1a5-5667-451f-b0da-091035c57e29');\n",
       "var x = new MutationObserver(function (mutations, observer) {{\n",
       "        var display = window.getComputedStyle(gd).display;\n",
       "        if (!display || display === 'none') {{\n",
       "            console.log([gd, 'removed!']);\n",
       "            Plotly.purge(gd);\n",
       "            observer.disconnect();\n",
       "        }}\n",
       "}});\n",
       "\n",
       "// Listen for the removal of the full notebook cells\n",
       "var notebookContainer = gd.closest('#notebook-container');\n",
       "if (notebookContainer) {{\n",
       "    x.observe(notebookContainer, {childList: true});\n",
       "}}\n",
       "\n",
       "// Listen for the clearing of the current output cell\n",
       "var outputEl = gd.closest('.output');\n",
       "if (outputEl) {{\n",
       "    x.observe(outputEl, {childList: true});\n",
       "}}\n",
       "\n",
       "                        })                };                });            </script>        </div>"
      ]
     },
     "metadata": {},
     "output_type": "display_data"
    }
   ],
   "source": [
    "fig = px.pie(values=sp['5G_or_not'].value_counts(),names=sp['5G_or_not'].value_counts().index, title='Distribution of 5G phones')\n",
    "colors = ['#0074D9', '#FFC300']\n",
    "fig.update_traces(marker=dict(colors=colors))\n",
    "\n",
    "fig.show()"
   ]
  },
  {
   "cell_type": "code",
   "execution_count": 18,
   "id": "015c7fce",
   "metadata": {},
   "outputs": [
    {
     "data": {
      "application/vnd.plotly.v1+json": {
       "config": {
        "plotlyServerURL": "https://plot.ly"
       },
       "data": [
        {
         "domain": {
          "x": [
           0,
           1
          ],
          "y": [
           0,
           1
          ]
         },
         "hovertemplate": "label=%{label}<br>value=%{value}<extra></extra>",
         "labels": [
          "android",
          "ios",
          "other"
         ],
         "legendgroup": "",
         "marker": {
          "colors": [
           "#006400",
           "#228B22",
           "#808000"
          ]
         },
         "name": "",
         "showlegend": true,
         "type": "pie",
         "values": [
          861,
          46,
          10
         ]
        }
       ],
       "layout": {
        "legend": {
         "tracegroupgap": 0
        },
        "template": {
         "data": {
          "bar": [
           {
            "error_x": {
             "color": "#2a3f5f"
            },
            "error_y": {
             "color": "#2a3f5f"
            },
            "marker": {
             "line": {
              "color": "#E5ECF6",
              "width": 0.5
             },
             "pattern": {
              "fillmode": "overlay",
              "size": 10,
              "solidity": 0.2
             }
            },
            "type": "bar"
           }
          ],
          "barpolar": [
           {
            "marker": {
             "line": {
              "color": "#E5ECF6",
              "width": 0.5
             },
             "pattern": {
              "fillmode": "overlay",
              "size": 10,
              "solidity": 0.2
             }
            },
            "type": "barpolar"
           }
          ],
          "carpet": [
           {
            "aaxis": {
             "endlinecolor": "#2a3f5f",
             "gridcolor": "white",
             "linecolor": "white",
             "minorgridcolor": "white",
             "startlinecolor": "#2a3f5f"
            },
            "baxis": {
             "endlinecolor": "#2a3f5f",
             "gridcolor": "white",
             "linecolor": "white",
             "minorgridcolor": "white",
             "startlinecolor": "#2a3f5f"
            },
            "type": "carpet"
           }
          ],
          "choropleth": [
           {
            "colorbar": {
             "outlinewidth": 0,
             "ticks": ""
            },
            "type": "choropleth"
           }
          ],
          "contour": [
           {
            "colorbar": {
             "outlinewidth": 0,
             "ticks": ""
            },
            "colorscale": [
             [
              0,
              "#0d0887"
             ],
             [
              0.1111111111111111,
              "#46039f"
             ],
             [
              0.2222222222222222,
              "#7201a8"
             ],
             [
              0.3333333333333333,
              "#9c179e"
             ],
             [
              0.4444444444444444,
              "#bd3786"
             ],
             [
              0.5555555555555556,
              "#d8576b"
             ],
             [
              0.6666666666666666,
              "#ed7953"
             ],
             [
              0.7777777777777778,
              "#fb9f3a"
             ],
             [
              0.8888888888888888,
              "#fdca26"
             ],
             [
              1,
              "#f0f921"
             ]
            ],
            "type": "contour"
           }
          ],
          "contourcarpet": [
           {
            "colorbar": {
             "outlinewidth": 0,
             "ticks": ""
            },
            "type": "contourcarpet"
           }
          ],
          "heatmap": [
           {
            "colorbar": {
             "outlinewidth": 0,
             "ticks": ""
            },
            "colorscale": [
             [
              0,
              "#0d0887"
             ],
             [
              0.1111111111111111,
              "#46039f"
             ],
             [
              0.2222222222222222,
              "#7201a8"
             ],
             [
              0.3333333333333333,
              "#9c179e"
             ],
             [
              0.4444444444444444,
              "#bd3786"
             ],
             [
              0.5555555555555556,
              "#d8576b"
             ],
             [
              0.6666666666666666,
              "#ed7953"
             ],
             [
              0.7777777777777778,
              "#fb9f3a"
             ],
             [
              0.8888888888888888,
              "#fdca26"
             ],
             [
              1,
              "#f0f921"
             ]
            ],
            "type": "heatmap"
           }
          ],
          "heatmapgl": [
           {
            "colorbar": {
             "outlinewidth": 0,
             "ticks": ""
            },
            "colorscale": [
             [
              0,
              "#0d0887"
             ],
             [
              0.1111111111111111,
              "#46039f"
             ],
             [
              0.2222222222222222,
              "#7201a8"
             ],
             [
              0.3333333333333333,
              "#9c179e"
             ],
             [
              0.4444444444444444,
              "#bd3786"
             ],
             [
              0.5555555555555556,
              "#d8576b"
             ],
             [
              0.6666666666666666,
              "#ed7953"
             ],
             [
              0.7777777777777778,
              "#fb9f3a"
             ],
             [
              0.8888888888888888,
              "#fdca26"
             ],
             [
              1,
              "#f0f921"
             ]
            ],
            "type": "heatmapgl"
           }
          ],
          "histogram": [
           {
            "marker": {
             "pattern": {
              "fillmode": "overlay",
              "size": 10,
              "solidity": 0.2
             }
            },
            "type": "histogram"
           }
          ],
          "histogram2d": [
           {
            "colorbar": {
             "outlinewidth": 0,
             "ticks": ""
            },
            "colorscale": [
             [
              0,
              "#0d0887"
             ],
             [
              0.1111111111111111,
              "#46039f"
             ],
             [
              0.2222222222222222,
              "#7201a8"
             ],
             [
              0.3333333333333333,
              "#9c179e"
             ],
             [
              0.4444444444444444,
              "#bd3786"
             ],
             [
              0.5555555555555556,
              "#d8576b"
             ],
             [
              0.6666666666666666,
              "#ed7953"
             ],
             [
              0.7777777777777778,
              "#fb9f3a"
             ],
             [
              0.8888888888888888,
              "#fdca26"
             ],
             [
              1,
              "#f0f921"
             ]
            ],
            "type": "histogram2d"
           }
          ],
          "histogram2dcontour": [
           {
            "colorbar": {
             "outlinewidth": 0,
             "ticks": ""
            },
            "colorscale": [
             [
              0,
              "#0d0887"
             ],
             [
              0.1111111111111111,
              "#46039f"
             ],
             [
              0.2222222222222222,
              "#7201a8"
             ],
             [
              0.3333333333333333,
              "#9c179e"
             ],
             [
              0.4444444444444444,
              "#bd3786"
             ],
             [
              0.5555555555555556,
              "#d8576b"
             ],
             [
              0.6666666666666666,
              "#ed7953"
             ],
             [
              0.7777777777777778,
              "#fb9f3a"
             ],
             [
              0.8888888888888888,
              "#fdca26"
             ],
             [
              1,
              "#f0f921"
             ]
            ],
            "type": "histogram2dcontour"
           }
          ],
          "mesh3d": [
           {
            "colorbar": {
             "outlinewidth": 0,
             "ticks": ""
            },
            "type": "mesh3d"
           }
          ],
          "parcoords": [
           {
            "line": {
             "colorbar": {
              "outlinewidth": 0,
              "ticks": ""
             }
            },
            "type": "parcoords"
           }
          ],
          "pie": [
           {
            "automargin": true,
            "type": "pie"
           }
          ],
          "scatter": [
           {
            "fillpattern": {
             "fillmode": "overlay",
             "size": 10,
             "solidity": 0.2
            },
            "type": "scatter"
           }
          ],
          "scatter3d": [
           {
            "line": {
             "colorbar": {
              "outlinewidth": 0,
              "ticks": ""
             }
            },
            "marker": {
             "colorbar": {
              "outlinewidth": 0,
              "ticks": ""
             }
            },
            "type": "scatter3d"
           }
          ],
          "scattercarpet": [
           {
            "marker": {
             "colorbar": {
              "outlinewidth": 0,
              "ticks": ""
             }
            },
            "type": "scattercarpet"
           }
          ],
          "scattergeo": [
           {
            "marker": {
             "colorbar": {
              "outlinewidth": 0,
              "ticks": ""
             }
            },
            "type": "scattergeo"
           }
          ],
          "scattergl": [
           {
            "marker": {
             "colorbar": {
              "outlinewidth": 0,
              "ticks": ""
             }
            },
            "type": "scattergl"
           }
          ],
          "scattermapbox": [
           {
            "marker": {
             "colorbar": {
              "outlinewidth": 0,
              "ticks": ""
             }
            },
            "type": "scattermapbox"
           }
          ],
          "scatterpolar": [
           {
            "marker": {
             "colorbar": {
              "outlinewidth": 0,
              "ticks": ""
             }
            },
            "type": "scatterpolar"
           }
          ],
          "scatterpolargl": [
           {
            "marker": {
             "colorbar": {
              "outlinewidth": 0,
              "ticks": ""
             }
            },
            "type": "scatterpolargl"
           }
          ],
          "scatterternary": [
           {
            "marker": {
             "colorbar": {
              "outlinewidth": 0,
              "ticks": ""
             }
            },
            "type": "scatterternary"
           }
          ],
          "surface": [
           {
            "colorbar": {
             "outlinewidth": 0,
             "ticks": ""
            },
            "colorscale": [
             [
              0,
              "#0d0887"
             ],
             [
              0.1111111111111111,
              "#46039f"
             ],
             [
              0.2222222222222222,
              "#7201a8"
             ],
             [
              0.3333333333333333,
              "#9c179e"
             ],
             [
              0.4444444444444444,
              "#bd3786"
             ],
             [
              0.5555555555555556,
              "#d8576b"
             ],
             [
              0.6666666666666666,
              "#ed7953"
             ],
             [
              0.7777777777777778,
              "#fb9f3a"
             ],
             [
              0.8888888888888888,
              "#fdca26"
             ],
             [
              1,
              "#f0f921"
             ]
            ],
            "type": "surface"
           }
          ],
          "table": [
           {
            "cells": {
             "fill": {
              "color": "#EBF0F8"
             },
             "line": {
              "color": "white"
             }
            },
            "header": {
             "fill": {
              "color": "#C8D4E3"
             },
             "line": {
              "color": "white"
             }
            },
            "type": "table"
           }
          ]
         },
         "layout": {
          "annotationdefaults": {
           "arrowcolor": "#2a3f5f",
           "arrowhead": 0,
           "arrowwidth": 1
          },
          "autotypenumbers": "strict",
          "coloraxis": {
           "colorbar": {
            "outlinewidth": 0,
            "ticks": ""
           }
          },
          "colorscale": {
           "diverging": [
            [
             0,
             "#8e0152"
            ],
            [
             0.1,
             "#c51b7d"
            ],
            [
             0.2,
             "#de77ae"
            ],
            [
             0.3,
             "#f1b6da"
            ],
            [
             0.4,
             "#fde0ef"
            ],
            [
             0.5,
             "#f7f7f7"
            ],
            [
             0.6,
             "#e6f5d0"
            ],
            [
             0.7,
             "#b8e186"
            ],
            [
             0.8,
             "#7fbc41"
            ],
            [
             0.9,
             "#4d9221"
            ],
            [
             1,
             "#276419"
            ]
           ],
           "sequential": [
            [
             0,
             "#0d0887"
            ],
            [
             0.1111111111111111,
             "#46039f"
            ],
            [
             0.2222222222222222,
             "#7201a8"
            ],
            [
             0.3333333333333333,
             "#9c179e"
            ],
            [
             0.4444444444444444,
             "#bd3786"
            ],
            [
             0.5555555555555556,
             "#d8576b"
            ],
            [
             0.6666666666666666,
             "#ed7953"
            ],
            [
             0.7777777777777778,
             "#fb9f3a"
            ],
            [
             0.8888888888888888,
             "#fdca26"
            ],
            [
             1,
             "#f0f921"
            ]
           ],
           "sequentialminus": [
            [
             0,
             "#0d0887"
            ],
            [
             0.1111111111111111,
             "#46039f"
            ],
            [
             0.2222222222222222,
             "#7201a8"
            ],
            [
             0.3333333333333333,
             "#9c179e"
            ],
            [
             0.4444444444444444,
             "#bd3786"
            ],
            [
             0.5555555555555556,
             "#d8576b"
            ],
            [
             0.6666666666666666,
             "#ed7953"
            ],
            [
             0.7777777777777778,
             "#fb9f3a"
            ],
            [
             0.8888888888888888,
             "#fdca26"
            ],
            [
             1,
             "#f0f921"
            ]
           ]
          },
          "colorway": [
           "#636efa",
           "#EF553B",
           "#00cc96",
           "#ab63fa",
           "#FFA15A",
           "#19d3f3",
           "#FF6692",
           "#B6E880",
           "#FF97FF",
           "#FECB52"
          ],
          "font": {
           "color": "#2a3f5f"
          },
          "geo": {
           "bgcolor": "white",
           "lakecolor": "white",
           "landcolor": "#E5ECF6",
           "showlakes": true,
           "showland": true,
           "subunitcolor": "white"
          },
          "hoverlabel": {
           "align": "left"
          },
          "hovermode": "closest",
          "mapbox": {
           "style": "light"
          },
          "paper_bgcolor": "white",
          "plot_bgcolor": "#E5ECF6",
          "polar": {
           "angularaxis": {
            "gridcolor": "white",
            "linecolor": "white",
            "ticks": ""
           },
           "bgcolor": "#E5ECF6",
           "radialaxis": {
            "gridcolor": "white",
            "linecolor": "white",
            "ticks": ""
           }
          },
          "scene": {
           "xaxis": {
            "backgroundcolor": "#E5ECF6",
            "gridcolor": "white",
            "gridwidth": 2,
            "linecolor": "white",
            "showbackground": true,
            "ticks": "",
            "zerolinecolor": "white"
           },
           "yaxis": {
            "backgroundcolor": "#E5ECF6",
            "gridcolor": "white",
            "gridwidth": 2,
            "linecolor": "white",
            "showbackground": true,
            "ticks": "",
            "zerolinecolor": "white"
           },
           "zaxis": {
            "backgroundcolor": "#E5ECF6",
            "gridcolor": "white",
            "gridwidth": 2,
            "linecolor": "white",
            "showbackground": true,
            "ticks": "",
            "zerolinecolor": "white"
           }
          },
          "shapedefaults": {
           "line": {
            "color": "#2a3f5f"
           }
          },
          "ternary": {
           "aaxis": {
            "gridcolor": "white",
            "linecolor": "white",
            "ticks": ""
           },
           "baxis": {
            "gridcolor": "white",
            "linecolor": "white",
            "ticks": ""
           },
           "bgcolor": "#E5ECF6",
           "caxis": {
            "gridcolor": "white",
            "linecolor": "white",
            "ticks": ""
           }
          },
          "title": {
           "x": 0.05
          },
          "xaxis": {
           "automargin": true,
           "gridcolor": "white",
           "linecolor": "white",
           "ticks": "",
           "title": {
            "standoff": 15
           },
           "zerolinecolor": "white",
           "zerolinewidth": 2
          },
          "yaxis": {
           "automargin": true,
           "gridcolor": "white",
           "linecolor": "white",
           "ticks": "",
           "title": {
            "standoff": 15
           },
           "zerolinecolor": "white",
           "zerolinewidth": 2
          }
         }
        },
        "title": {
         "text": "Distribution of OS loaded in the smartphones"
        }
       }
      },
      "text/html": [
       "<div>                            <div id=\"9d0038b1-92d5-4198-b7b5-89627979fb09\" class=\"plotly-graph-div\" style=\"height:525px; width:100%;\"></div>            <script type=\"text/javascript\">                require([\"plotly\"], function(Plotly) {                    window.PLOTLYENV=window.PLOTLYENV || {};                                    if (document.getElementById(\"9d0038b1-92d5-4198-b7b5-89627979fb09\")) {                    Plotly.newPlot(                        \"9d0038b1-92d5-4198-b7b5-89627979fb09\",                        [{\"domain\":{\"x\":[0.0,1.0],\"y\":[0.0,1.0]},\"hovertemplate\":\"label=%{label}\\u003cbr\\u003evalue=%{value}\\u003cextra\\u003e\\u003c\\u002fextra\\u003e\",\"labels\":[\"android\",\"ios\",\"other\"],\"legendgroup\":\"\",\"name\":\"\",\"showlegend\":true,\"values\":[861,46,10],\"type\":\"pie\",\"marker\":{\"colors\":[\"#006400\",\"#228B22\",\"#808000\"]}}],                        {\"template\":{\"data\":{\"histogram2dcontour\":[{\"type\":\"histogram2dcontour\",\"colorbar\":{\"outlinewidth\":0,\"ticks\":\"\"},\"colorscale\":[[0.0,\"#0d0887\"],[0.1111111111111111,\"#46039f\"],[0.2222222222222222,\"#7201a8\"],[0.3333333333333333,\"#9c179e\"],[0.4444444444444444,\"#bd3786\"],[0.5555555555555556,\"#d8576b\"],[0.6666666666666666,\"#ed7953\"],[0.7777777777777778,\"#fb9f3a\"],[0.8888888888888888,\"#fdca26\"],[1.0,\"#f0f921\"]]}],\"choropleth\":[{\"type\":\"choropleth\",\"colorbar\":{\"outlinewidth\":0,\"ticks\":\"\"}}],\"histogram2d\":[{\"type\":\"histogram2d\",\"colorbar\":{\"outlinewidth\":0,\"ticks\":\"\"},\"colorscale\":[[0.0,\"#0d0887\"],[0.1111111111111111,\"#46039f\"],[0.2222222222222222,\"#7201a8\"],[0.3333333333333333,\"#9c179e\"],[0.4444444444444444,\"#bd3786\"],[0.5555555555555556,\"#d8576b\"],[0.6666666666666666,\"#ed7953\"],[0.7777777777777778,\"#fb9f3a\"],[0.8888888888888888,\"#fdca26\"],[1.0,\"#f0f921\"]]}],\"heatmap\":[{\"type\":\"heatmap\",\"colorbar\":{\"outlinewidth\":0,\"ticks\":\"\"},\"colorscale\":[[0.0,\"#0d0887\"],[0.1111111111111111,\"#46039f\"],[0.2222222222222222,\"#7201a8\"],[0.3333333333333333,\"#9c179e\"],[0.4444444444444444,\"#bd3786\"],[0.5555555555555556,\"#d8576b\"],[0.6666666666666666,\"#ed7953\"],[0.7777777777777778,\"#fb9f3a\"],[0.8888888888888888,\"#fdca26\"],[1.0,\"#f0f921\"]]}],\"heatmapgl\":[{\"type\":\"heatmapgl\",\"colorbar\":{\"outlinewidth\":0,\"ticks\":\"\"},\"colorscale\":[[0.0,\"#0d0887\"],[0.1111111111111111,\"#46039f\"],[0.2222222222222222,\"#7201a8\"],[0.3333333333333333,\"#9c179e\"],[0.4444444444444444,\"#bd3786\"],[0.5555555555555556,\"#d8576b\"],[0.6666666666666666,\"#ed7953\"],[0.7777777777777778,\"#fb9f3a\"],[0.8888888888888888,\"#fdca26\"],[1.0,\"#f0f921\"]]}],\"contourcarpet\":[{\"type\":\"contourcarpet\",\"colorbar\":{\"outlinewidth\":0,\"ticks\":\"\"}}],\"contour\":[{\"type\":\"contour\",\"colorbar\":{\"outlinewidth\":0,\"ticks\":\"\"},\"colorscale\":[[0.0,\"#0d0887\"],[0.1111111111111111,\"#46039f\"],[0.2222222222222222,\"#7201a8\"],[0.3333333333333333,\"#9c179e\"],[0.4444444444444444,\"#bd3786\"],[0.5555555555555556,\"#d8576b\"],[0.6666666666666666,\"#ed7953\"],[0.7777777777777778,\"#fb9f3a\"],[0.8888888888888888,\"#fdca26\"],[1.0,\"#f0f921\"]]}],\"surface\":[{\"type\":\"surface\",\"colorbar\":{\"outlinewidth\":0,\"ticks\":\"\"},\"colorscale\":[[0.0,\"#0d0887\"],[0.1111111111111111,\"#46039f\"],[0.2222222222222222,\"#7201a8\"],[0.3333333333333333,\"#9c179e\"],[0.4444444444444444,\"#bd3786\"],[0.5555555555555556,\"#d8576b\"],[0.6666666666666666,\"#ed7953\"],[0.7777777777777778,\"#fb9f3a\"],[0.8888888888888888,\"#fdca26\"],[1.0,\"#f0f921\"]]}],\"mesh3d\":[{\"type\":\"mesh3d\",\"colorbar\":{\"outlinewidth\":0,\"ticks\":\"\"}}],\"scatter\":[{\"fillpattern\":{\"fillmode\":\"overlay\",\"size\":10,\"solidity\":0.2},\"type\":\"scatter\"}],\"parcoords\":[{\"type\":\"parcoords\",\"line\":{\"colorbar\":{\"outlinewidth\":0,\"ticks\":\"\"}}}],\"scatterpolargl\":[{\"type\":\"scatterpolargl\",\"marker\":{\"colorbar\":{\"outlinewidth\":0,\"ticks\":\"\"}}}],\"bar\":[{\"error_x\":{\"color\":\"#2a3f5f\"},\"error_y\":{\"color\":\"#2a3f5f\"},\"marker\":{\"line\":{\"color\":\"#E5ECF6\",\"width\":0.5},\"pattern\":{\"fillmode\":\"overlay\",\"size\":10,\"solidity\":0.2}},\"type\":\"bar\"}],\"scattergeo\":[{\"type\":\"scattergeo\",\"marker\":{\"colorbar\":{\"outlinewidth\":0,\"ticks\":\"\"}}}],\"scatterpolar\":[{\"type\":\"scatterpolar\",\"marker\":{\"colorbar\":{\"outlinewidth\":0,\"ticks\":\"\"}}}],\"histogram\":[{\"marker\":{\"pattern\":{\"fillmode\":\"overlay\",\"size\":10,\"solidity\":0.2}},\"type\":\"histogram\"}],\"scattergl\":[{\"type\":\"scattergl\",\"marker\":{\"colorbar\":{\"outlinewidth\":0,\"ticks\":\"\"}}}],\"scatter3d\":[{\"type\":\"scatter3d\",\"line\":{\"colorbar\":{\"outlinewidth\":0,\"ticks\":\"\"}},\"marker\":{\"colorbar\":{\"outlinewidth\":0,\"ticks\":\"\"}}}],\"scattermapbox\":[{\"type\":\"scattermapbox\",\"marker\":{\"colorbar\":{\"outlinewidth\":0,\"ticks\":\"\"}}}],\"scatterternary\":[{\"type\":\"scatterternary\",\"marker\":{\"colorbar\":{\"outlinewidth\":0,\"ticks\":\"\"}}}],\"scattercarpet\":[{\"type\":\"scattercarpet\",\"marker\":{\"colorbar\":{\"outlinewidth\":0,\"ticks\":\"\"}}}],\"carpet\":[{\"aaxis\":{\"endlinecolor\":\"#2a3f5f\",\"gridcolor\":\"white\",\"linecolor\":\"white\",\"minorgridcolor\":\"white\",\"startlinecolor\":\"#2a3f5f\"},\"baxis\":{\"endlinecolor\":\"#2a3f5f\",\"gridcolor\":\"white\",\"linecolor\":\"white\",\"minorgridcolor\":\"white\",\"startlinecolor\":\"#2a3f5f\"},\"type\":\"carpet\"}],\"table\":[{\"cells\":{\"fill\":{\"color\":\"#EBF0F8\"},\"line\":{\"color\":\"white\"}},\"header\":{\"fill\":{\"color\":\"#C8D4E3\"},\"line\":{\"color\":\"white\"}},\"type\":\"table\"}],\"barpolar\":[{\"marker\":{\"line\":{\"color\":\"#E5ECF6\",\"width\":0.5},\"pattern\":{\"fillmode\":\"overlay\",\"size\":10,\"solidity\":0.2}},\"type\":\"barpolar\"}],\"pie\":[{\"automargin\":true,\"type\":\"pie\"}]},\"layout\":{\"autotypenumbers\":\"strict\",\"colorway\":[\"#636efa\",\"#EF553B\",\"#00cc96\",\"#ab63fa\",\"#FFA15A\",\"#19d3f3\",\"#FF6692\",\"#B6E880\",\"#FF97FF\",\"#FECB52\"],\"font\":{\"color\":\"#2a3f5f\"},\"hovermode\":\"closest\",\"hoverlabel\":{\"align\":\"left\"},\"paper_bgcolor\":\"white\",\"plot_bgcolor\":\"#E5ECF6\",\"polar\":{\"bgcolor\":\"#E5ECF6\",\"angularaxis\":{\"gridcolor\":\"white\",\"linecolor\":\"white\",\"ticks\":\"\"},\"radialaxis\":{\"gridcolor\":\"white\",\"linecolor\":\"white\",\"ticks\":\"\"}},\"ternary\":{\"bgcolor\":\"#E5ECF6\",\"aaxis\":{\"gridcolor\":\"white\",\"linecolor\":\"white\",\"ticks\":\"\"},\"baxis\":{\"gridcolor\":\"white\",\"linecolor\":\"white\",\"ticks\":\"\"},\"caxis\":{\"gridcolor\":\"white\",\"linecolor\":\"white\",\"ticks\":\"\"}},\"coloraxis\":{\"colorbar\":{\"outlinewidth\":0,\"ticks\":\"\"}},\"colorscale\":{\"sequential\":[[0.0,\"#0d0887\"],[0.1111111111111111,\"#46039f\"],[0.2222222222222222,\"#7201a8\"],[0.3333333333333333,\"#9c179e\"],[0.4444444444444444,\"#bd3786\"],[0.5555555555555556,\"#d8576b\"],[0.6666666666666666,\"#ed7953\"],[0.7777777777777778,\"#fb9f3a\"],[0.8888888888888888,\"#fdca26\"],[1.0,\"#f0f921\"]],\"sequentialminus\":[[0.0,\"#0d0887\"],[0.1111111111111111,\"#46039f\"],[0.2222222222222222,\"#7201a8\"],[0.3333333333333333,\"#9c179e\"],[0.4444444444444444,\"#bd3786\"],[0.5555555555555556,\"#d8576b\"],[0.6666666666666666,\"#ed7953\"],[0.7777777777777778,\"#fb9f3a\"],[0.8888888888888888,\"#fdca26\"],[1.0,\"#f0f921\"]],\"diverging\":[[0,\"#8e0152\"],[0.1,\"#c51b7d\"],[0.2,\"#de77ae\"],[0.3,\"#f1b6da\"],[0.4,\"#fde0ef\"],[0.5,\"#f7f7f7\"],[0.6,\"#e6f5d0\"],[0.7,\"#b8e186\"],[0.8,\"#7fbc41\"],[0.9,\"#4d9221\"],[1,\"#276419\"]]},\"xaxis\":{\"gridcolor\":\"white\",\"linecolor\":\"white\",\"ticks\":\"\",\"title\":{\"standoff\":15},\"zerolinecolor\":\"white\",\"automargin\":true,\"zerolinewidth\":2},\"yaxis\":{\"gridcolor\":\"white\",\"linecolor\":\"white\",\"ticks\":\"\",\"title\":{\"standoff\":15},\"zerolinecolor\":\"white\",\"automargin\":true,\"zerolinewidth\":2},\"scene\":{\"xaxis\":{\"backgroundcolor\":\"#E5ECF6\",\"gridcolor\":\"white\",\"linecolor\":\"white\",\"showbackground\":true,\"ticks\":\"\",\"zerolinecolor\":\"white\",\"gridwidth\":2},\"yaxis\":{\"backgroundcolor\":\"#E5ECF6\",\"gridcolor\":\"white\",\"linecolor\":\"white\",\"showbackground\":true,\"ticks\":\"\",\"zerolinecolor\":\"white\",\"gridwidth\":2},\"zaxis\":{\"backgroundcolor\":\"#E5ECF6\",\"gridcolor\":\"white\",\"linecolor\":\"white\",\"showbackground\":true,\"ticks\":\"\",\"zerolinecolor\":\"white\",\"gridwidth\":2}},\"shapedefaults\":{\"line\":{\"color\":\"#2a3f5f\"}},\"annotationdefaults\":{\"arrowcolor\":\"#2a3f5f\",\"arrowhead\":0,\"arrowwidth\":1},\"geo\":{\"bgcolor\":\"white\",\"landcolor\":\"#E5ECF6\",\"subunitcolor\":\"white\",\"showland\":true,\"showlakes\":true,\"lakecolor\":\"white\"},\"title\":{\"x\":0.05},\"mapbox\":{\"style\":\"light\"}}},\"legend\":{\"tracegroupgap\":0},\"title\":{\"text\":\"Distribution of OS loaded in the smartphones\"}},                        {\"responsive\": true}                    ).then(function(){\n",
       "                            \n",
       "var gd = document.getElementById('9d0038b1-92d5-4198-b7b5-89627979fb09');\n",
       "var x = new MutationObserver(function (mutations, observer) {{\n",
       "        var display = window.getComputedStyle(gd).display;\n",
       "        if (!display || display === 'none') {{\n",
       "            console.log([gd, 'removed!']);\n",
       "            Plotly.purge(gd);\n",
       "            observer.disconnect();\n",
       "        }}\n",
       "}});\n",
       "\n",
       "// Listen for the removal of the full notebook cells\n",
       "var notebookContainer = gd.closest('#notebook-container');\n",
       "if (notebookContainer) {{\n",
       "    x.observe(notebookContainer, {childList: true});\n",
       "}}\n",
       "\n",
       "// Listen for the clearing of the current output cell\n",
       "var outputEl = gd.closest('.output');\n",
       "if (outputEl) {{\n",
       "    x.observe(outputEl, {childList: true});\n",
       "}}\n",
       "\n",
       "                        })                };                });            </script>        </div>"
      ]
     },
     "metadata": {},
     "output_type": "display_data"
    }
   ],
   "source": [
    "fig = px.pie(values=sp['os'].value_counts(),names=sp['os'].value_counts().index, title='Distribution of OS loaded in the smartphones')\n",
    "colors = ['#006400', '#228B22','#808000']\n",
    "fig.update_traces(marker=dict(colors=colors))\n",
    "\n",
    "fig.show()"
   ]
  },
  {
   "cell_type": "code",
   "execution_count": 19,
   "id": "c3b4fc38",
   "metadata": {},
   "outputs": [
    {
     "data": {
      "application/vnd.plotly.v1+json": {
       "config": {
        "plotlyServerURL": "https://plot.ly"
       },
       "data": [
        {
         "domain": {
          "x": [
           0,
           1
          ],
          "y": [
           0,
           1
          ]
         },
         "hovertemplate": "label=%{label}<br>value=%{value}<extra></extra>",
         "labels": [
          "snapdragon",
          "helio",
          "dimensity",
          "exynos",
          "bionic",
          "unisoc",
          "tiger",
          "google",
          "kirin",
          "spreadtrum",
          "sc9863a",
          "fusion",
          "mediatek"
         ],
         "legendgroup": "",
         "marker": {
          "colors": [
           "#006400",
           "#228B22",
           "#808000"
          ]
         },
         "name": "",
         "showlegend": true,
         "type": "pie",
         "values": [
          388,
          189,
          173,
          50,
          45,
          23,
          18,
          9,
          7,
          4,
          2,
          1,
          1
         ]
        }
       ],
       "layout": {
        "legend": {
         "tracegroupgap": 0
        },
        "template": {
         "data": {
          "bar": [
           {
            "error_x": {
             "color": "#2a3f5f"
            },
            "error_y": {
             "color": "#2a3f5f"
            },
            "marker": {
             "line": {
              "color": "#E5ECF6",
              "width": 0.5
             },
             "pattern": {
              "fillmode": "overlay",
              "size": 10,
              "solidity": 0.2
             }
            },
            "type": "bar"
           }
          ],
          "barpolar": [
           {
            "marker": {
             "line": {
              "color": "#E5ECF6",
              "width": 0.5
             },
             "pattern": {
              "fillmode": "overlay",
              "size": 10,
              "solidity": 0.2
             }
            },
            "type": "barpolar"
           }
          ],
          "carpet": [
           {
            "aaxis": {
             "endlinecolor": "#2a3f5f",
             "gridcolor": "white",
             "linecolor": "white",
             "minorgridcolor": "white",
             "startlinecolor": "#2a3f5f"
            },
            "baxis": {
             "endlinecolor": "#2a3f5f",
             "gridcolor": "white",
             "linecolor": "white",
             "minorgridcolor": "white",
             "startlinecolor": "#2a3f5f"
            },
            "type": "carpet"
           }
          ],
          "choropleth": [
           {
            "colorbar": {
             "outlinewidth": 0,
             "ticks": ""
            },
            "type": "choropleth"
           }
          ],
          "contour": [
           {
            "colorbar": {
             "outlinewidth": 0,
             "ticks": ""
            },
            "colorscale": [
             [
              0,
              "#0d0887"
             ],
             [
              0.1111111111111111,
              "#46039f"
             ],
             [
              0.2222222222222222,
              "#7201a8"
             ],
             [
              0.3333333333333333,
              "#9c179e"
             ],
             [
              0.4444444444444444,
              "#bd3786"
             ],
             [
              0.5555555555555556,
              "#d8576b"
             ],
             [
              0.6666666666666666,
              "#ed7953"
             ],
             [
              0.7777777777777778,
              "#fb9f3a"
             ],
             [
              0.8888888888888888,
              "#fdca26"
             ],
             [
              1,
              "#f0f921"
             ]
            ],
            "type": "contour"
           }
          ],
          "contourcarpet": [
           {
            "colorbar": {
             "outlinewidth": 0,
             "ticks": ""
            },
            "type": "contourcarpet"
           }
          ],
          "heatmap": [
           {
            "colorbar": {
             "outlinewidth": 0,
             "ticks": ""
            },
            "colorscale": [
             [
              0,
              "#0d0887"
             ],
             [
              0.1111111111111111,
              "#46039f"
             ],
             [
              0.2222222222222222,
              "#7201a8"
             ],
             [
              0.3333333333333333,
              "#9c179e"
             ],
             [
              0.4444444444444444,
              "#bd3786"
             ],
             [
              0.5555555555555556,
              "#d8576b"
             ],
             [
              0.6666666666666666,
              "#ed7953"
             ],
             [
              0.7777777777777778,
              "#fb9f3a"
             ],
             [
              0.8888888888888888,
              "#fdca26"
             ],
             [
              1,
              "#f0f921"
             ]
            ],
            "type": "heatmap"
           }
          ],
          "heatmapgl": [
           {
            "colorbar": {
             "outlinewidth": 0,
             "ticks": ""
            },
            "colorscale": [
             [
              0,
              "#0d0887"
             ],
             [
              0.1111111111111111,
              "#46039f"
             ],
             [
              0.2222222222222222,
              "#7201a8"
             ],
             [
              0.3333333333333333,
              "#9c179e"
             ],
             [
              0.4444444444444444,
              "#bd3786"
             ],
             [
              0.5555555555555556,
              "#d8576b"
             ],
             [
              0.6666666666666666,
              "#ed7953"
             ],
             [
              0.7777777777777778,
              "#fb9f3a"
             ],
             [
              0.8888888888888888,
              "#fdca26"
             ],
             [
              1,
              "#f0f921"
             ]
            ],
            "type": "heatmapgl"
           }
          ],
          "histogram": [
           {
            "marker": {
             "pattern": {
              "fillmode": "overlay",
              "size": 10,
              "solidity": 0.2
             }
            },
            "type": "histogram"
           }
          ],
          "histogram2d": [
           {
            "colorbar": {
             "outlinewidth": 0,
             "ticks": ""
            },
            "colorscale": [
             [
              0,
              "#0d0887"
             ],
             [
              0.1111111111111111,
              "#46039f"
             ],
             [
              0.2222222222222222,
              "#7201a8"
             ],
             [
              0.3333333333333333,
              "#9c179e"
             ],
             [
              0.4444444444444444,
              "#bd3786"
             ],
             [
              0.5555555555555556,
              "#d8576b"
             ],
             [
              0.6666666666666666,
              "#ed7953"
             ],
             [
              0.7777777777777778,
              "#fb9f3a"
             ],
             [
              0.8888888888888888,
              "#fdca26"
             ],
             [
              1,
              "#f0f921"
             ]
            ],
            "type": "histogram2d"
           }
          ],
          "histogram2dcontour": [
           {
            "colorbar": {
             "outlinewidth": 0,
             "ticks": ""
            },
            "colorscale": [
             [
              0,
              "#0d0887"
             ],
             [
              0.1111111111111111,
              "#46039f"
             ],
             [
              0.2222222222222222,
              "#7201a8"
             ],
             [
              0.3333333333333333,
              "#9c179e"
             ],
             [
              0.4444444444444444,
              "#bd3786"
             ],
             [
              0.5555555555555556,
              "#d8576b"
             ],
             [
              0.6666666666666666,
              "#ed7953"
             ],
             [
              0.7777777777777778,
              "#fb9f3a"
             ],
             [
              0.8888888888888888,
              "#fdca26"
             ],
             [
              1,
              "#f0f921"
             ]
            ],
            "type": "histogram2dcontour"
           }
          ],
          "mesh3d": [
           {
            "colorbar": {
             "outlinewidth": 0,
             "ticks": ""
            },
            "type": "mesh3d"
           }
          ],
          "parcoords": [
           {
            "line": {
             "colorbar": {
              "outlinewidth": 0,
              "ticks": ""
             }
            },
            "type": "parcoords"
           }
          ],
          "pie": [
           {
            "automargin": true,
            "type": "pie"
           }
          ],
          "scatter": [
           {
            "fillpattern": {
             "fillmode": "overlay",
             "size": 10,
             "solidity": 0.2
            },
            "type": "scatter"
           }
          ],
          "scatter3d": [
           {
            "line": {
             "colorbar": {
              "outlinewidth": 0,
              "ticks": ""
             }
            },
            "marker": {
             "colorbar": {
              "outlinewidth": 0,
              "ticks": ""
             }
            },
            "type": "scatter3d"
           }
          ],
          "scattercarpet": [
           {
            "marker": {
             "colorbar": {
              "outlinewidth": 0,
              "ticks": ""
             }
            },
            "type": "scattercarpet"
           }
          ],
          "scattergeo": [
           {
            "marker": {
             "colorbar": {
              "outlinewidth": 0,
              "ticks": ""
             }
            },
            "type": "scattergeo"
           }
          ],
          "scattergl": [
           {
            "marker": {
             "colorbar": {
              "outlinewidth": 0,
              "ticks": ""
             }
            },
            "type": "scattergl"
           }
          ],
          "scattermapbox": [
           {
            "marker": {
             "colorbar": {
              "outlinewidth": 0,
              "ticks": ""
             }
            },
            "type": "scattermapbox"
           }
          ],
          "scatterpolar": [
           {
            "marker": {
             "colorbar": {
              "outlinewidth": 0,
              "ticks": ""
             }
            },
            "type": "scatterpolar"
           }
          ],
          "scatterpolargl": [
           {
            "marker": {
             "colorbar": {
              "outlinewidth": 0,
              "ticks": ""
             }
            },
            "type": "scatterpolargl"
           }
          ],
          "scatterternary": [
           {
            "marker": {
             "colorbar": {
              "outlinewidth": 0,
              "ticks": ""
             }
            },
            "type": "scatterternary"
           }
          ],
          "surface": [
           {
            "colorbar": {
             "outlinewidth": 0,
             "ticks": ""
            },
            "colorscale": [
             [
              0,
              "#0d0887"
             ],
             [
              0.1111111111111111,
              "#46039f"
             ],
             [
              0.2222222222222222,
              "#7201a8"
             ],
             [
              0.3333333333333333,
              "#9c179e"
             ],
             [
              0.4444444444444444,
              "#bd3786"
             ],
             [
              0.5555555555555556,
              "#d8576b"
             ],
             [
              0.6666666666666666,
              "#ed7953"
             ],
             [
              0.7777777777777778,
              "#fb9f3a"
             ],
             [
              0.8888888888888888,
              "#fdca26"
             ],
             [
              1,
              "#f0f921"
             ]
            ],
            "type": "surface"
           }
          ],
          "table": [
           {
            "cells": {
             "fill": {
              "color": "#EBF0F8"
             },
             "line": {
              "color": "white"
             }
            },
            "header": {
             "fill": {
              "color": "#C8D4E3"
             },
             "line": {
              "color": "white"
             }
            },
            "type": "table"
           }
          ]
         },
         "layout": {
          "annotationdefaults": {
           "arrowcolor": "#2a3f5f",
           "arrowhead": 0,
           "arrowwidth": 1
          },
          "autotypenumbers": "strict",
          "coloraxis": {
           "colorbar": {
            "outlinewidth": 0,
            "ticks": ""
           }
          },
          "colorscale": {
           "diverging": [
            [
             0,
             "#8e0152"
            ],
            [
             0.1,
             "#c51b7d"
            ],
            [
             0.2,
             "#de77ae"
            ],
            [
             0.3,
             "#f1b6da"
            ],
            [
             0.4,
             "#fde0ef"
            ],
            [
             0.5,
             "#f7f7f7"
            ],
            [
             0.6,
             "#e6f5d0"
            ],
            [
             0.7,
             "#b8e186"
            ],
            [
             0.8,
             "#7fbc41"
            ],
            [
             0.9,
             "#4d9221"
            ],
            [
             1,
             "#276419"
            ]
           ],
           "sequential": [
            [
             0,
             "#0d0887"
            ],
            [
             0.1111111111111111,
             "#46039f"
            ],
            [
             0.2222222222222222,
             "#7201a8"
            ],
            [
             0.3333333333333333,
             "#9c179e"
            ],
            [
             0.4444444444444444,
             "#bd3786"
            ],
            [
             0.5555555555555556,
             "#d8576b"
            ],
            [
             0.6666666666666666,
             "#ed7953"
            ],
            [
             0.7777777777777778,
             "#fb9f3a"
            ],
            [
             0.8888888888888888,
             "#fdca26"
            ],
            [
             1,
             "#f0f921"
            ]
           ],
           "sequentialminus": [
            [
             0,
             "#0d0887"
            ],
            [
             0.1111111111111111,
             "#46039f"
            ],
            [
             0.2222222222222222,
             "#7201a8"
            ],
            [
             0.3333333333333333,
             "#9c179e"
            ],
            [
             0.4444444444444444,
             "#bd3786"
            ],
            [
             0.5555555555555556,
             "#d8576b"
            ],
            [
             0.6666666666666666,
             "#ed7953"
            ],
            [
             0.7777777777777778,
             "#fb9f3a"
            ],
            [
             0.8888888888888888,
             "#fdca26"
            ],
            [
             1,
             "#f0f921"
            ]
           ]
          },
          "colorway": [
           "#636efa",
           "#EF553B",
           "#00cc96",
           "#ab63fa",
           "#FFA15A",
           "#19d3f3",
           "#FF6692",
           "#B6E880",
           "#FF97FF",
           "#FECB52"
          ],
          "font": {
           "color": "#2a3f5f"
          },
          "geo": {
           "bgcolor": "white",
           "lakecolor": "white",
           "landcolor": "#E5ECF6",
           "showlakes": true,
           "showland": true,
           "subunitcolor": "white"
          },
          "hoverlabel": {
           "align": "left"
          },
          "hovermode": "closest",
          "mapbox": {
           "style": "light"
          },
          "paper_bgcolor": "white",
          "plot_bgcolor": "#E5ECF6",
          "polar": {
           "angularaxis": {
            "gridcolor": "white",
            "linecolor": "white",
            "ticks": ""
           },
           "bgcolor": "#E5ECF6",
           "radialaxis": {
            "gridcolor": "white",
            "linecolor": "white",
            "ticks": ""
           }
          },
          "scene": {
           "xaxis": {
            "backgroundcolor": "#E5ECF6",
            "gridcolor": "white",
            "gridwidth": 2,
            "linecolor": "white",
            "showbackground": true,
            "ticks": "",
            "zerolinecolor": "white"
           },
           "yaxis": {
            "backgroundcolor": "#E5ECF6",
            "gridcolor": "white",
            "gridwidth": 2,
            "linecolor": "white",
            "showbackground": true,
            "ticks": "",
            "zerolinecolor": "white"
           },
           "zaxis": {
            "backgroundcolor": "#E5ECF6",
            "gridcolor": "white",
            "gridwidth": 2,
            "linecolor": "white",
            "showbackground": true,
            "ticks": "",
            "zerolinecolor": "white"
           }
          },
          "shapedefaults": {
           "line": {
            "color": "#2a3f5f"
           }
          },
          "ternary": {
           "aaxis": {
            "gridcolor": "white",
            "linecolor": "white",
            "ticks": ""
           },
           "baxis": {
            "gridcolor": "white",
            "linecolor": "white",
            "ticks": ""
           },
           "bgcolor": "#E5ECF6",
           "caxis": {
            "gridcolor": "white",
            "linecolor": "white",
            "ticks": ""
           }
          },
          "title": {
           "x": 0.05
          },
          "xaxis": {
           "automargin": true,
           "gridcolor": "white",
           "linecolor": "white",
           "ticks": "",
           "title": {
            "standoff": 15
           },
           "zerolinecolor": "white",
           "zerolinewidth": 2
          },
          "yaxis": {
           "automargin": true,
           "gridcolor": "white",
           "linecolor": "white",
           "ticks": "",
           "title": {
            "standoff": 15
           },
           "zerolinecolor": "white",
           "zerolinewidth": 2
          }
         }
        },
        "title": {
         "text": "Distribution of OS loaded in the smartphones"
        }
       }
      },
      "text/html": [
       "<div>                            <div id=\"db1b61e5-6eb5-46ed-8958-e5c033d81a82\" class=\"plotly-graph-div\" style=\"height:525px; width:100%;\"></div>            <script type=\"text/javascript\">                require([\"plotly\"], function(Plotly) {                    window.PLOTLYENV=window.PLOTLYENV || {};                                    if (document.getElementById(\"db1b61e5-6eb5-46ed-8958-e5c033d81a82\")) {                    Plotly.newPlot(                        \"db1b61e5-6eb5-46ed-8958-e5c033d81a82\",                        [{\"domain\":{\"x\":[0.0,1.0],\"y\":[0.0,1.0]},\"hovertemplate\":\"label=%{label}\\u003cbr\\u003evalue=%{value}\\u003cextra\\u003e\\u003c\\u002fextra\\u003e\",\"labels\":[\"snapdragon\",\"helio\",\"dimensity\",\"exynos\",\"bionic\",\"unisoc\",\"tiger\",\"google\",\"kirin\",\"spreadtrum\",\"sc9863a\",\"fusion\",\"mediatek\"],\"legendgroup\":\"\",\"name\":\"\",\"showlegend\":true,\"values\":[388,189,173,50,45,23,18,9,7,4,2,1,1],\"type\":\"pie\",\"marker\":{\"colors\":[\"#006400\",\"#228B22\",\"#808000\"]}}],                        {\"template\":{\"data\":{\"histogram2dcontour\":[{\"type\":\"histogram2dcontour\",\"colorbar\":{\"outlinewidth\":0,\"ticks\":\"\"},\"colorscale\":[[0.0,\"#0d0887\"],[0.1111111111111111,\"#46039f\"],[0.2222222222222222,\"#7201a8\"],[0.3333333333333333,\"#9c179e\"],[0.4444444444444444,\"#bd3786\"],[0.5555555555555556,\"#d8576b\"],[0.6666666666666666,\"#ed7953\"],[0.7777777777777778,\"#fb9f3a\"],[0.8888888888888888,\"#fdca26\"],[1.0,\"#f0f921\"]]}],\"choropleth\":[{\"type\":\"choropleth\",\"colorbar\":{\"outlinewidth\":0,\"ticks\":\"\"}}],\"histogram2d\":[{\"type\":\"histogram2d\",\"colorbar\":{\"outlinewidth\":0,\"ticks\":\"\"},\"colorscale\":[[0.0,\"#0d0887\"],[0.1111111111111111,\"#46039f\"],[0.2222222222222222,\"#7201a8\"],[0.3333333333333333,\"#9c179e\"],[0.4444444444444444,\"#bd3786\"],[0.5555555555555556,\"#d8576b\"],[0.6666666666666666,\"#ed7953\"],[0.7777777777777778,\"#fb9f3a\"],[0.8888888888888888,\"#fdca26\"],[1.0,\"#f0f921\"]]}],\"heatmap\":[{\"type\":\"heatmap\",\"colorbar\":{\"outlinewidth\":0,\"ticks\":\"\"},\"colorscale\":[[0.0,\"#0d0887\"],[0.1111111111111111,\"#46039f\"],[0.2222222222222222,\"#7201a8\"],[0.3333333333333333,\"#9c179e\"],[0.4444444444444444,\"#bd3786\"],[0.5555555555555556,\"#d8576b\"],[0.6666666666666666,\"#ed7953\"],[0.7777777777777778,\"#fb9f3a\"],[0.8888888888888888,\"#fdca26\"],[1.0,\"#f0f921\"]]}],\"heatmapgl\":[{\"type\":\"heatmapgl\",\"colorbar\":{\"outlinewidth\":0,\"ticks\":\"\"},\"colorscale\":[[0.0,\"#0d0887\"],[0.1111111111111111,\"#46039f\"],[0.2222222222222222,\"#7201a8\"],[0.3333333333333333,\"#9c179e\"],[0.4444444444444444,\"#bd3786\"],[0.5555555555555556,\"#d8576b\"],[0.6666666666666666,\"#ed7953\"],[0.7777777777777778,\"#fb9f3a\"],[0.8888888888888888,\"#fdca26\"],[1.0,\"#f0f921\"]]}],\"contourcarpet\":[{\"type\":\"contourcarpet\",\"colorbar\":{\"outlinewidth\":0,\"ticks\":\"\"}}],\"contour\":[{\"type\":\"contour\",\"colorbar\":{\"outlinewidth\":0,\"ticks\":\"\"},\"colorscale\":[[0.0,\"#0d0887\"],[0.1111111111111111,\"#46039f\"],[0.2222222222222222,\"#7201a8\"],[0.3333333333333333,\"#9c179e\"],[0.4444444444444444,\"#bd3786\"],[0.5555555555555556,\"#d8576b\"],[0.6666666666666666,\"#ed7953\"],[0.7777777777777778,\"#fb9f3a\"],[0.8888888888888888,\"#fdca26\"],[1.0,\"#f0f921\"]]}],\"surface\":[{\"type\":\"surface\",\"colorbar\":{\"outlinewidth\":0,\"ticks\":\"\"},\"colorscale\":[[0.0,\"#0d0887\"],[0.1111111111111111,\"#46039f\"],[0.2222222222222222,\"#7201a8\"],[0.3333333333333333,\"#9c179e\"],[0.4444444444444444,\"#bd3786\"],[0.5555555555555556,\"#d8576b\"],[0.6666666666666666,\"#ed7953\"],[0.7777777777777778,\"#fb9f3a\"],[0.8888888888888888,\"#fdca26\"],[1.0,\"#f0f921\"]]}],\"mesh3d\":[{\"type\":\"mesh3d\",\"colorbar\":{\"outlinewidth\":0,\"ticks\":\"\"}}],\"scatter\":[{\"fillpattern\":{\"fillmode\":\"overlay\",\"size\":10,\"solidity\":0.2},\"type\":\"scatter\"}],\"parcoords\":[{\"type\":\"parcoords\",\"line\":{\"colorbar\":{\"outlinewidth\":0,\"ticks\":\"\"}}}],\"scatterpolargl\":[{\"type\":\"scatterpolargl\",\"marker\":{\"colorbar\":{\"outlinewidth\":0,\"ticks\":\"\"}}}],\"bar\":[{\"error_x\":{\"color\":\"#2a3f5f\"},\"error_y\":{\"color\":\"#2a3f5f\"},\"marker\":{\"line\":{\"color\":\"#E5ECF6\",\"width\":0.5},\"pattern\":{\"fillmode\":\"overlay\",\"size\":10,\"solidity\":0.2}},\"type\":\"bar\"}],\"scattergeo\":[{\"type\":\"scattergeo\",\"marker\":{\"colorbar\":{\"outlinewidth\":0,\"ticks\":\"\"}}}],\"scatterpolar\":[{\"type\":\"scatterpolar\",\"marker\":{\"colorbar\":{\"outlinewidth\":0,\"ticks\":\"\"}}}],\"histogram\":[{\"marker\":{\"pattern\":{\"fillmode\":\"overlay\",\"size\":10,\"solidity\":0.2}},\"type\":\"histogram\"}],\"scattergl\":[{\"type\":\"scattergl\",\"marker\":{\"colorbar\":{\"outlinewidth\":0,\"ticks\":\"\"}}}],\"scatter3d\":[{\"type\":\"scatter3d\",\"line\":{\"colorbar\":{\"outlinewidth\":0,\"ticks\":\"\"}},\"marker\":{\"colorbar\":{\"outlinewidth\":0,\"ticks\":\"\"}}}],\"scattermapbox\":[{\"type\":\"scattermapbox\",\"marker\":{\"colorbar\":{\"outlinewidth\":0,\"ticks\":\"\"}}}],\"scatterternary\":[{\"type\":\"scatterternary\",\"marker\":{\"colorbar\":{\"outlinewidth\":0,\"ticks\":\"\"}}}],\"scattercarpet\":[{\"type\":\"scattercarpet\",\"marker\":{\"colorbar\":{\"outlinewidth\":0,\"ticks\":\"\"}}}],\"carpet\":[{\"aaxis\":{\"endlinecolor\":\"#2a3f5f\",\"gridcolor\":\"white\",\"linecolor\":\"white\",\"minorgridcolor\":\"white\",\"startlinecolor\":\"#2a3f5f\"},\"baxis\":{\"endlinecolor\":\"#2a3f5f\",\"gridcolor\":\"white\",\"linecolor\":\"white\",\"minorgridcolor\":\"white\",\"startlinecolor\":\"#2a3f5f\"},\"type\":\"carpet\"}],\"table\":[{\"cells\":{\"fill\":{\"color\":\"#EBF0F8\"},\"line\":{\"color\":\"white\"}},\"header\":{\"fill\":{\"color\":\"#C8D4E3\"},\"line\":{\"color\":\"white\"}},\"type\":\"table\"}],\"barpolar\":[{\"marker\":{\"line\":{\"color\":\"#E5ECF6\",\"width\":0.5},\"pattern\":{\"fillmode\":\"overlay\",\"size\":10,\"solidity\":0.2}},\"type\":\"barpolar\"}],\"pie\":[{\"automargin\":true,\"type\":\"pie\"}]},\"layout\":{\"autotypenumbers\":\"strict\",\"colorway\":[\"#636efa\",\"#EF553B\",\"#00cc96\",\"#ab63fa\",\"#FFA15A\",\"#19d3f3\",\"#FF6692\",\"#B6E880\",\"#FF97FF\",\"#FECB52\"],\"font\":{\"color\":\"#2a3f5f\"},\"hovermode\":\"closest\",\"hoverlabel\":{\"align\":\"left\"},\"paper_bgcolor\":\"white\",\"plot_bgcolor\":\"#E5ECF6\",\"polar\":{\"bgcolor\":\"#E5ECF6\",\"angularaxis\":{\"gridcolor\":\"white\",\"linecolor\":\"white\",\"ticks\":\"\"},\"radialaxis\":{\"gridcolor\":\"white\",\"linecolor\":\"white\",\"ticks\":\"\"}},\"ternary\":{\"bgcolor\":\"#E5ECF6\",\"aaxis\":{\"gridcolor\":\"white\",\"linecolor\":\"white\",\"ticks\":\"\"},\"baxis\":{\"gridcolor\":\"white\",\"linecolor\":\"white\",\"ticks\":\"\"},\"caxis\":{\"gridcolor\":\"white\",\"linecolor\":\"white\",\"ticks\":\"\"}},\"coloraxis\":{\"colorbar\":{\"outlinewidth\":0,\"ticks\":\"\"}},\"colorscale\":{\"sequential\":[[0.0,\"#0d0887\"],[0.1111111111111111,\"#46039f\"],[0.2222222222222222,\"#7201a8\"],[0.3333333333333333,\"#9c179e\"],[0.4444444444444444,\"#bd3786\"],[0.5555555555555556,\"#d8576b\"],[0.6666666666666666,\"#ed7953\"],[0.7777777777777778,\"#fb9f3a\"],[0.8888888888888888,\"#fdca26\"],[1.0,\"#f0f921\"]],\"sequentialminus\":[[0.0,\"#0d0887\"],[0.1111111111111111,\"#46039f\"],[0.2222222222222222,\"#7201a8\"],[0.3333333333333333,\"#9c179e\"],[0.4444444444444444,\"#bd3786\"],[0.5555555555555556,\"#d8576b\"],[0.6666666666666666,\"#ed7953\"],[0.7777777777777778,\"#fb9f3a\"],[0.8888888888888888,\"#fdca26\"],[1.0,\"#f0f921\"]],\"diverging\":[[0,\"#8e0152\"],[0.1,\"#c51b7d\"],[0.2,\"#de77ae\"],[0.3,\"#f1b6da\"],[0.4,\"#fde0ef\"],[0.5,\"#f7f7f7\"],[0.6,\"#e6f5d0\"],[0.7,\"#b8e186\"],[0.8,\"#7fbc41\"],[0.9,\"#4d9221\"],[1,\"#276419\"]]},\"xaxis\":{\"gridcolor\":\"white\",\"linecolor\":\"white\",\"ticks\":\"\",\"title\":{\"standoff\":15},\"zerolinecolor\":\"white\",\"automargin\":true,\"zerolinewidth\":2},\"yaxis\":{\"gridcolor\":\"white\",\"linecolor\":\"white\",\"ticks\":\"\",\"title\":{\"standoff\":15},\"zerolinecolor\":\"white\",\"automargin\":true,\"zerolinewidth\":2},\"scene\":{\"xaxis\":{\"backgroundcolor\":\"#E5ECF6\",\"gridcolor\":\"white\",\"linecolor\":\"white\",\"showbackground\":true,\"ticks\":\"\",\"zerolinecolor\":\"white\",\"gridwidth\":2},\"yaxis\":{\"backgroundcolor\":\"#E5ECF6\",\"gridcolor\":\"white\",\"linecolor\":\"white\",\"showbackground\":true,\"ticks\":\"\",\"zerolinecolor\":\"white\",\"gridwidth\":2},\"zaxis\":{\"backgroundcolor\":\"#E5ECF6\",\"gridcolor\":\"white\",\"linecolor\":\"white\",\"showbackground\":true,\"ticks\":\"\",\"zerolinecolor\":\"white\",\"gridwidth\":2}},\"shapedefaults\":{\"line\":{\"color\":\"#2a3f5f\"}},\"annotationdefaults\":{\"arrowcolor\":\"#2a3f5f\",\"arrowhead\":0,\"arrowwidth\":1},\"geo\":{\"bgcolor\":\"white\",\"landcolor\":\"#E5ECF6\",\"subunitcolor\":\"white\",\"showland\":true,\"showlakes\":true,\"lakecolor\":\"white\"},\"title\":{\"x\":0.05},\"mapbox\":{\"style\":\"light\"}}},\"legend\":{\"tracegroupgap\":0},\"title\":{\"text\":\"Distribution of OS loaded in the smartphones\"}},                        {\"responsive\": true}                    ).then(function(){\n",
       "                            \n",
       "var gd = document.getElementById('db1b61e5-6eb5-46ed-8958-e5c033d81a82');\n",
       "var x = new MutationObserver(function (mutations, observer) {{\n",
       "        var display = window.getComputedStyle(gd).display;\n",
       "        if (!display || display === 'none') {{\n",
       "            console.log([gd, 'removed!']);\n",
       "            Plotly.purge(gd);\n",
       "            observer.disconnect();\n",
       "        }}\n",
       "}});\n",
       "\n",
       "// Listen for the removal of the full notebook cells\n",
       "var notebookContainer = gd.closest('#notebook-container');\n",
       "if (notebookContainer) {{\n",
       "    x.observe(notebookContainer, {childList: true});\n",
       "}}\n",
       "\n",
       "// Listen for the clearing of the current output cell\n",
       "var outputEl = gd.closest('.output');\n",
       "if (outputEl) {{\n",
       "    x.observe(outputEl, {childList: true});\n",
       "}}\n",
       "\n",
       "                        })                };                });            </script>        </div>"
      ]
     },
     "metadata": {},
     "output_type": "display_data"
    }
   ],
   "source": [
    "fig = px.pie(values=sp['processor_brand'].value_counts(),names=sp['processor_brand'].value_counts().index, title='Distribution of OS loaded in the smartphones')\n",
    "colors = ['#006400', '#228B22','#808000']\n",
    "fig.update_traces(marker=dict(colors=colors))\n",
    "\n",
    "fig.show()"
   ]
  },
  {
   "cell_type": "markdown",
   "id": "c0dc3f89",
   "metadata": {},
   "source": [
    "# Let's go into Feature Engineering !"
   ]
  },
  {
   "cell_type": "markdown",
   "id": "3601a74e",
   "metadata": {},
   "source": [
    " "
   ]
  },
  {
   "cell_type": "markdown",
   "id": "6ffa2ee0",
   "metadata": {},
   "source": [
    "<img src=\"https://i.hizliresim.com/6xty05f.png\" alt=\"Image Alt Text\">"
   ]
  },
  {
   "cell_type": "markdown",
   "id": "30f4ea19",
   "metadata": {},
   "source": [
    "# Let's check out NaN values since we dropped some of useless rows."
   ]
  },
  {
   "cell_type": "code",
   "execution_count": 20,
   "id": "534b2060",
   "metadata": {},
   "outputs": [
    {
     "data": {
      "text/plain": [
       "<Axes: >"
      ]
     },
     "execution_count": 20,
     "metadata": {},
     "output_type": "execute_result"
    },
    {
     "data": {
      "image/png": "[encoded data removed]",
      "text/plain": [
       "<Figure size 640x480 with 2 Axes>"
      ]
     },
     "metadata": {},
     "output_type": "display_data"
    }
   ],
   "source": [
    "sns.heatmap(sp.isnull().T)\n",
    "#Still there are too many NaN values especially in fast_charging column as well as avg_rating."
   ]
  },
  {
   "cell_type": "code",
   "execution_count": 21,
   "id": "d2060960",
   "metadata": {
    "scrolled": true
   },
   "outputs": [
    {
     "name": "stdout",
     "output_type": "stream",
     "text": [
      "<class 'pandas.core.frame.DataFrame'>\n",
      "Index: 925 entries, 0 to 977\n",
      "Data columns (total 22 columns):\n",
      " #   Column                     Non-Null Count  Dtype  \n",
      "---  ------                     --------------  -----  \n",
      " 0   brand_name                 925 non-null    object \n",
      " 1   model                      925 non-null    object \n",
      " 2   price                      925 non-null    int64  \n",
      " 3   avg_rating                 836 non-null    float64\n",
      " 4   5G_or_not                  925 non-null    int64  \n",
      " 5   processor_brand            910 non-null    object \n",
      " 6   num_cores                  919 non-null    float64\n",
      " 7   processor_speed            885 non-null    float64\n",
      " 8   battery_capacity           914 non-null    float64\n",
      " 9   fast_charging_available    925 non-null    int64  \n",
      " 10  fast_charging              745 non-null    float64\n",
      " 11  ram_capacity               925 non-null    int64  \n",
      " 12  internal_memory            925 non-null    int64  \n",
      " 13  screen_size                925 non-null    float64\n",
      " 14  refresh_rate               925 non-null    int64  \n",
      " 15  num_rear_cameras           925 non-null    int64  \n",
      " 16  os                         917 non-null    object \n",
      " 17  primary_camera_rear        925 non-null    float64\n",
      " 18  primary_camera_front       921 non-null    float64\n",
      " 19  extended_memory_available  925 non-null    int64  \n",
      " 20  resolution_height          925 non-null    int64  \n",
      " 21  resolution_width           925 non-null    int64  \n",
      "dtypes: float64(8), int64(10), object(4)\n",
      "memory usage: 198.5+ KB\n"
     ]
    }
   ],
   "source": [
    "sp.info()"
   ]
  },
  {
   "cell_type": "markdown",
   "id": "7d13d8a8",
   "metadata": {},
   "source": [
    "# We can apply .fillna() method on avg_rating which are NaN values by applying mean() method based off their brand names."
   ]
  },
  {
   "cell_type": "markdown",
   "id": "0f84cef0",
   "metadata": {},
   "source": [
    " "
   ]
  },
  {
   "cell_type": "code",
   "execution_count": 22,
   "id": "52713674",
   "metadata": {
    "scrolled": true
   },
   "outputs": [],
   "source": [
    "mean_ratings = sp.groupby('brand_name')['avg_rating'].transform('mean')\n",
    "sp['avg_rating'] = sp['avg_rating'].fillna(mean_ratings)"
   ]
  },
  {
   "cell_type": "code",
   "execution_count": 23,
   "id": "2365a2c3",
   "metadata": {},
   "outputs": [
    {
     "data": {
      "text/plain": [
       "<Axes: >"
      ]
     },
     "execution_count": 23,
     "metadata": {},
     "output_type": "execute_result"
    },
    {
     "data": {
      "image/png": "[encoded data removed]",
      "text/plain": [
       "<Figure size 640x480 with 2 Axes>"
      ]
     },
     "metadata": {},
     "output_type": "display_data"
    }
   ],
   "source": [
    "sns.heatmap(sp.isnull().T)"
   ]
  },
  {
   "cell_type": "markdown",
   "id": "2c9b7a5f",
   "metadata": {},
   "source": [
    "# Fast charging feature with NaN values can be filled by searching on Google however we don't go in-depth feature engineering about it and so we ignore the NaN values and drop them."
   ]
  },
  {
   "cell_type": "markdown",
   "id": "95a76496",
   "metadata": {},
   "source": [
    " "
   ]
  },
  {
   "cell_type": "code",
   "execution_count": 24,
   "id": "1933bff5",
   "metadata": {},
   "outputs": [],
   "source": [
    "sp.dropna(inplace=True)"
   ]
  },
  {
   "cell_type": "markdown",
   "id": "f6b90f4c",
   "metadata": {},
   "source": [
    "# Let's perform several applications to categorize the data better and to block overfitting."
   ]
  },
  {
   "cell_type": "markdown",
   "id": "ba4c7650",
   "metadata": {},
   "source": [
    " "
   ]
  },
  {
   "cell_type": "code",
   "execution_count": 25,
   "id": "9011511c",
   "metadata": {},
   "outputs": [],
   "source": [
    "def format_resolution(row):\n",
    "    height = row['resolution_height']\n",
    "    width = row['resolution_width']\n",
    "    return f\"{height}x{width}\"\n",
    "sp['resolution'] = sp.apply(format_resolution, axis=1)"
   ]
  },
  {
   "cell_type": "code",
   "execution_count": 26,
   "id": "166b4557",
   "metadata": {},
   "outputs": [],
   "source": [
    "resolutions = ['2400x1080', '1600x720', '2408x1080','2412x1080']\n",
    "resdum = sp['resolution'].isin(resolutions)\n",
    "resdum_df = sp[resdum]\n",
    "resolution_dummies = pd.get_dummies(resdum_df['resolution'], prefix='resolution')\n",
    "resolution_dummies = resolution_dummies.astype(int)\n",
    "processor_brands = ['snapdragon', 'dimensity', 'helio','bionic']\n",
    "procdum = sp['processor_brand'].isin(processor_brands)\n",
    "filtered_df = sp[procdum]\n",
    "processor_dummies = pd.get_dummies(filtered_df['processor_brand'], prefix='processor')\n",
    "processor_dummies = processor_dummies.astype(int)\n",
    "internal_memory = [128, 256, 64]\n",
    "imdum = sp['internal_memory'].isin(internal_memory)\n",
    "imdum_df = sp[imdum]\n",
    "internal_memory_dummies = pd.get_dummies(imdum_df['internal_memory'], prefix='internal_memory')\n",
    "internal_memory_dummies = internal_memory_dummies.astype(int)\n",
    "num_cores = [8.0]\n",
    "ncdum = sp['num_cores'].isin(num_cores)\n",
    "ncdum_df = sp[ncdum]\n",
    "num_cores_dummies = pd.get_dummies(ncdum_df['num_cores'], prefix='num_cores')\n",
    "num_cores_dummies = num_cores_dummies.astype(int)\n",
    "ram_capacity = [8,6,4]\n",
    "rcdum = sp['ram_capacity'].isin(ram_capacity)\n",
    "rcdum_df = sp[rcdum]\n",
    "ram_capacity_dummies = pd.get_dummies(rcdum_df['ram_capacity'], prefix='ram_capacity')\n",
    "ram_capacity_dummies = ram_capacity_dummies.astype(int)\n",
    "primary_camera_front = [16.0,8.0,32.0]\n",
    "pcfdum = sp['primary_camera_front'].isin(primary_camera_front)\n",
    "pcfdum_df = sp[pcfdum]\n",
    "primary_camera_front = pd.get_dummies(pcfdum_df['primary_camera_front'], prefix='primary_camera_front')\n",
    "primary_camera_front_dummies = primary_camera_front.astype(int)\n",
    "primary_camera_rear = [50.0,64.0,48.0,108.0]\n",
    "pcrdum = sp['primary_camera_rear'].isin(primary_camera_rear)\n",
    "pcrdum_df = sp[pcrdum]\n",
    "primary_camera_rear = pd.get_dummies(pcrdum_df['primary_camera_rear'], prefix='primary_camera_rear')\n",
    "primary_camera_rear_dummies = primary_camera_rear.astype(int)\n",
    "primary_camera_rear_dummies\n",
    "battery_capacity = [5000.0,4500.0,6000.0]\n",
    "bcdum = sp['battery_capacity'].isin(battery_capacity)\n",
    "bcdum_df = sp[bcdum]\n",
    "battery_capacity = pd.get_dummies(bcdum_df['battery_capacity'], prefix='battery_capacity')\n",
    "battery_capacity_dummies = battery_capacity.astype(int)\n",
    "num_rear_cameras = [2,3,4]\n",
    "nrcdum = sp['num_rear_cameras'].isin(num_rear_cameras)\n",
    "nrcdum_df = sp[nrcdum]\n",
    "num_rear_cameras = pd.get_dummies(nrcdum_df['num_rear_cameras'], prefix='num_rear_cameras')\n",
    "num_rear_cameras_dummies = num_rear_cameras.astype(int)\n"
   ]
  },
  {
   "cell_type": "code",
   "execution_count": 27,
   "id": "dafe9586",
   "metadata": {
    "scrolled": true
   },
   "outputs": [
    {
     "data": {
      "text/html": [
       "<div>\n",
       "<style scoped>\n",
       "    .dataframe tbody tr th:only-of-type {\n",
       "        vertical-align: middle;\n",
       "    }\n",
       "\n",
       "    .dataframe tbody tr th {\n",
       "        vertical-align: top;\n",
       "    }\n",
       "\n",
       "    .dataframe thead th {\n",
       "        text-align: right;\n",
       "    }\n",
       "</style>\n",
       "<table border=\"1\" class=\"dataframe\">\n",
       "  <thead>\n",
       "    <tr style=\"text-align: right;\">\n",
       "      <th></th>\n",
       "      <th>brand_name</th>\n",
       "      <th>model</th>\n",
       "      <th>price</th>\n",
       "      <th>avg_rating</th>\n",
       "      <th>5G_or_not</th>\n",
       "      <th>processor_brand</th>\n",
       "      <th>num_cores</th>\n",
       "      <th>processor_speed</th>\n",
       "      <th>battery_capacity</th>\n",
       "      <th>fast_charging_available</th>\n",
       "      <th>...</th>\n",
       "      <th>internal_memory_64</th>\n",
       "      <th>internal_memory_128</th>\n",
       "      <th>internal_memory_256</th>\n",
       "      <th>processor_bionic</th>\n",
       "      <th>processor_dimensity</th>\n",
       "      <th>processor_helio</th>\n",
       "      <th>processor_snapdragon</th>\n",
       "      <th>num_rear_cameras_2</th>\n",
       "      <th>num_rear_cameras_3</th>\n",
       "      <th>num_rear_cameras_4</th>\n",
       "    </tr>\n",
       "  </thead>\n",
       "  <tbody>\n",
       "    <tr>\n",
       "      <th>2</th>\n",
       "      <td>apple</td>\n",
       "      <td>Apple iPhone 11 Pro Max</td>\n",
       "      <td>109900</td>\n",
       "      <td>7.7</td>\n",
       "      <td>0</td>\n",
       "      <td>bionic</td>\n",
       "      <td>6.0</td>\n",
       "      <td>2.65</td>\n",
       "      <td>3500.0</td>\n",
       "      <td>1</td>\n",
       "      <td>...</td>\n",
       "      <td>1.0</td>\n",
       "      <td>0.0</td>\n",
       "      <td>0.0</td>\n",
       "      <td>1.0</td>\n",
       "      <td>0.0</td>\n",
       "      <td>0.0</td>\n",
       "      <td>0.0</td>\n",
       "      <td>0.0</td>\n",
       "      <td>1.0</td>\n",
       "      <td>0.0</td>\n",
       "    </tr>\n",
       "    <tr>\n",
       "      <th>42</th>\n",
       "      <td>apple</td>\n",
       "      <td>Apple iPhone SE 2020</td>\n",
       "      <td>39900</td>\n",
       "      <td>6.3</td>\n",
       "      <td>0</td>\n",
       "      <td>bionic</td>\n",
       "      <td>6.0</td>\n",
       "      <td>2.65</td>\n",
       "      <td>1821.0</td>\n",
       "      <td>1</td>\n",
       "      <td>...</td>\n",
       "      <td>1.0</td>\n",
       "      <td>0.0</td>\n",
       "      <td>0.0</td>\n",
       "      <td>1.0</td>\n",
       "      <td>0.0</td>\n",
       "      <td>0.0</td>\n",
       "      <td>0.0</td>\n",
       "      <td>NaN</td>\n",
       "      <td>NaN</td>\n",
       "      <td>NaN</td>\n",
       "    </tr>\n",
       "    <tr>\n",
       "      <th>46</th>\n",
       "      <td>asus</td>\n",
       "      <td>Asus ROG Phone 5s 5G</td>\n",
       "      <td>39999</td>\n",
       "      <td>8.7</td>\n",
       "      <td>1</td>\n",
       "      <td>snapdragon</td>\n",
       "      <td>8.0</td>\n",
       "      <td>2.90</td>\n",
       "      <td>6000.0</td>\n",
       "      <td>1</td>\n",
       "      <td>...</td>\n",
       "      <td>0.0</td>\n",
       "      <td>1.0</td>\n",
       "      <td>0.0</td>\n",
       "      <td>0.0</td>\n",
       "      <td>0.0</td>\n",
       "      <td>0.0</td>\n",
       "      <td>1.0</td>\n",
       "      <td>0.0</td>\n",
       "      <td>1.0</td>\n",
       "      <td>0.0</td>\n",
       "    </tr>\n",
       "    <tr>\n",
       "      <th>47</th>\n",
       "      <td>asus</td>\n",
       "      <td>Asus ROG Phone 6</td>\n",
       "      <td>71999</td>\n",
       "      <td>8.6</td>\n",
       "      <td>1</td>\n",
       "      <td>snapdragon</td>\n",
       "      <td>8.0</td>\n",
       "      <td>3.20</td>\n",
       "      <td>6000.0</td>\n",
       "      <td>1</td>\n",
       "      <td>...</td>\n",
       "      <td>0.0</td>\n",
       "      <td>0.0</td>\n",
       "      <td>1.0</td>\n",
       "      <td>0.0</td>\n",
       "      <td>0.0</td>\n",
       "      <td>0.0</td>\n",
       "      <td>1.0</td>\n",
       "      <td>0.0</td>\n",
       "      <td>1.0</td>\n",
       "      <td>0.0</td>\n",
       "    </tr>\n",
       "    <tr>\n",
       "      <th>48</th>\n",
       "      <td>asus</td>\n",
       "      <td>Asus ROG Phone 6 Batman Edition</td>\n",
       "      <td>72999</td>\n",
       "      <td>8.8</td>\n",
       "      <td>1</td>\n",
       "      <td>dimensity</td>\n",
       "      <td>8.0</td>\n",
       "      <td>3.20</td>\n",
       "      <td>6000.0</td>\n",
       "      <td>1</td>\n",
       "      <td>...</td>\n",
       "      <td>0.0</td>\n",
       "      <td>0.0</td>\n",
       "      <td>1.0</td>\n",
       "      <td>0.0</td>\n",
       "      <td>1.0</td>\n",
       "      <td>0.0</td>\n",
       "      <td>0.0</td>\n",
       "      <td>0.0</td>\n",
       "      <td>1.0</td>\n",
       "      <td>0.0</td>\n",
       "    </tr>\n",
       "  </tbody>\n",
       "</table>\n",
       "<p>5 rows × 47 columns</p>\n",
       "</div>"
      ],
      "text/plain": [
       "   brand_name                            model   price  avg_rating  5G_or_not  \\\n",
       "2       apple          Apple iPhone 11 Pro Max  109900         7.7          0   \n",
       "42      apple             Apple iPhone SE 2020   39900         6.3          0   \n",
       "46       asus             Asus ROG Phone 5s 5G   39999         8.7          1   \n",
       "47       asus                 Asus ROG Phone 6   71999         8.6          1   \n",
       "48       asus  Asus ROG Phone 6 Batman Edition   72999         8.8          1   \n",
       "\n",
       "   processor_brand  num_cores  processor_speed  battery_capacity  \\\n",
       "2           bionic        6.0             2.65            3500.0   \n",
       "42          bionic        6.0             2.65            1821.0   \n",
       "46      snapdragon        8.0             2.90            6000.0   \n",
       "47      snapdragon        8.0             3.20            6000.0   \n",
       "48       dimensity        8.0             3.20            6000.0   \n",
       "\n",
       "    fast_charging_available  ...  internal_memory_64  internal_memory_128  \\\n",
       "2                         1  ...                 1.0                  0.0   \n",
       "42                        1  ...                 1.0                  0.0   \n",
       "46                        1  ...                 0.0                  1.0   \n",
       "47                        1  ...                 0.0                  0.0   \n",
       "48                        1  ...                 0.0                  0.0   \n",
       "\n",
       "    internal_memory_256  processor_bionic  processor_dimensity  \\\n",
       "2                   0.0               1.0                  0.0   \n",
       "42                  0.0               1.0                  0.0   \n",
       "46                  0.0               0.0                  0.0   \n",
       "47                  1.0               0.0                  0.0   \n",
       "48                  1.0               0.0                  1.0   \n",
       "\n",
       "    processor_helio processor_snapdragon  num_rear_cameras_2  \\\n",
       "2               0.0                  0.0                 0.0   \n",
       "42              0.0                  0.0                 NaN   \n",
       "46              0.0                  1.0                 0.0   \n",
       "47              0.0                  1.0                 0.0   \n",
       "48              0.0                  0.0                 0.0   \n",
       "\n",
       "    num_rear_cameras_3  num_rear_cameras_4  \n",
       "2                  1.0                 0.0  \n",
       "42                 NaN                 NaN  \n",
       "46                 1.0                 0.0  \n",
       "47                 1.0                 0.0  \n",
       "48                 1.0                 0.0  \n",
       "\n",
       "[5 rows x 47 columns]"
      ]
     },
     "execution_count": 27,
     "metadata": {},
     "output_type": "execute_result"
    }
   ],
   "source": [
    "final_data = pd.concat([sp,battery_capacity_dummies,primary_camera_rear_dummies,primary_camera_front_dummies,num_cores_dummies\n",
    "                       ,ram_capacity_dummies,internal_memory_dummies,processor_dummies\n",
    "                       ,num_rear_cameras_dummies],axis=1)\n",
    "final_data.head()"
   ]
  },
  {
   "cell_type": "markdown",
   "id": "c292f2ba",
   "metadata": {},
   "source": [
    "# We use fillna() to fill NaN values and values are going to be zero since the values to the features belong does not exist in the columns."
   ]
  },
  {
   "cell_type": "markdown",
   "id": "5ccbdadf",
   "metadata": {},
   "source": [
    " "
   ]
  },
  {
   "cell_type": "code",
   "execution_count": 28,
   "id": "62920748",
   "metadata": {},
   "outputs": [],
   "source": [
    "final_data.fillna(0,inplace=True)"
   ]
  },
  {
   "cell_type": "code",
   "execution_count": 29,
   "id": "574ba966",
   "metadata": {},
   "outputs": [],
   "source": [
    "useless_features = ['brand_name','model','processor_brand','resolution_height','resolution_width','internal_memory','screen_size',\n",
    "                   'num_rear_cameras','primary_camera_rear','primary_camera_front','os','battery_capacity','ram_capacity','refresh_rate',\n",
    "                   'resolution','num_cores']"
   ]
  },
  {
   "cell_type": "code",
   "execution_count": 30,
   "id": "8303a324",
   "metadata": {},
   "outputs": [],
   "source": [
    "final_data.drop(columns=useless_features,inplace=True)"
   ]
  },
  {
   "cell_type": "code",
   "execution_count": 31,
   "id": "a3dc6670",
   "metadata": {},
   "outputs": [
    {
     "data": {
      "text/plain": [
       "Index(['price', 'avg_rating', '5G_or_not', 'processor_speed',\n",
       "       'fast_charging_available', 'fast_charging', 'extended_memory_available',\n",
       "       'battery_capacity_4500.0', 'battery_capacity_5000.0',\n",
       "       'battery_capacity_6000.0', 'primary_camera_rear_48.0',\n",
       "       'primary_camera_rear_50.0', 'primary_camera_rear_64.0',\n",
       "       'primary_camera_rear_108.0', 'primary_camera_front_8.0',\n",
       "       'primary_camera_front_16.0', 'primary_camera_front_32.0',\n",
       "       'num_cores_8.0', 'ram_capacity_4', 'ram_capacity_6', 'ram_capacity_8',\n",
       "       'internal_memory_64', 'internal_memory_128', 'internal_memory_256',\n",
       "       'processor_bionic', 'processor_dimensity', 'processor_helio',\n",
       "       'processor_snapdragon', 'num_rear_cameras_2', 'num_rear_cameras_3',\n",
       "       'num_rear_cameras_4'],\n",
       "      dtype='object')"
      ]
     },
     "execution_count": 31,
     "metadata": {},
     "output_type": "execute_result"
    }
   ],
   "source": [
    "final_data.columns"
   ]
  },
  {
   "cell_type": "markdown",
   "id": "6ba9a7a6",
   "metadata": {},
   "source": [
    "# We've done with Feature Engineering. We go on the last step which is Deep Learning!"
   ]
  },
  {
   "cell_type": "markdown",
   "id": "776ae010",
   "metadata": {},
   "source": [
    " "
   ]
  },
  {
   "cell_type": "markdown",
   "id": "a3d5ce08",
   "metadata": {},
   "source": [
    "<img src=\"https://i.hizliresim.com/etgom9t.png\" alt=\"Image Alt Text\"> "
   ]
  },
  {
   "cell_type": "markdown",
   "id": "65156f5e",
   "metadata": {},
   "source": [
    " "
   ]
  },
  {
   "cell_type": "code",
   "execution_count": 32,
   "id": "d2e36ed0",
   "metadata": {},
   "outputs": [],
   "source": [
    "X = final_data[final_data['price']<65000].drop('price',axis=1)\n",
    "y = final_data[final_data['price']<65000]['price']\n",
    "from sklearn.model_selection import train_test_split\n",
    "X_train, X_test, y_train, y_test = train_test_split(X,y,test_size=0.3,random_state=101)\n",
    "from sklearn.preprocessing import MinMaxScaler\n",
    "scaler = MinMaxScaler()\n",
    "X_train = scaler.fit_transform(X_train)\n",
    "X_test = scaler.transform(X_test)"
   ]
  },
  {
   "cell_type": "code",
   "execution_count": 33,
   "id": "98e1e136",
   "metadata": {
    "scrolled": true
   },
   "outputs": [
    {
     "data": {
      "text/plain": [
       "(457, 30)"
      ]
     },
     "execution_count": 33,
     "metadata": {},
     "output_type": "execute_result"
    }
   ],
   "source": [
    "X_train.shape"
   ]
  },
  {
   "cell_type": "markdown",
   "id": "ec6f5642",
   "metadata": {},
   "source": [
    "# Creating a model"
   ]
  },
  {
   "cell_type": "code",
   "execution_count": 34,
   "id": "5630c3e2",
   "metadata": {},
   "outputs": [],
   "source": [
    "from tensorflow.keras.models import Sequential\n",
    "from tensorflow.keras.layers import Dense, Activation\n",
    "from tensorflow.keras.optimizers import Adam\n",
    "model = Sequential()\n",
    "\n",
    "model.add(Dense(30,activation='relu'))\n",
    "model.add(Dense(30,activation='relu'))\n",
    "model.add(Dense(30,activation='relu'))\n",
    "model.add(Dense(30,activation='relu'))\n",
    "model.add(Dense(1))\n",
    "model.compile(optimizer='adam',loss='mse')"
   ]
  },
  {
   "cell_type": "code",
   "execution_count": 35,
   "id": "64ef7ef5",
   "metadata": {
    "scrolled": true
   },
   "outputs": [
    {
     "name": "stdout",
     "output_type": "stream",
     "text": [
      "Epoch 1/400\n",
      "4/4 [==============================] - 4s 153ms/step - loss: 722062528.0000 - val_loss: 758102336.0000\n",
      "Epoch 2/400\n",
      "4/4 [==============================] - 0s 27ms/step - loss: 722056192.0000 - val_loss: 758094848.0000\n",
      "Epoch 3/400\n",
      "4/4 [==============================] - 0s 23ms/step - loss: 722047872.0000 - val_loss: 758084672.0000\n",
      "Epoch 4/400\n",
      "4/4 [==============================] - 0s 23ms/step - loss: 722036864.0000 - val_loss: 758070656.0000\n",
      "Epoch 5/400\n",
      "4/4 [==============================] - 0s 22ms/step - loss: 722021440.0000 - val_loss: 758052224.0000\n",
      "Epoch 6/400\n",
      "4/4 [==============================] - 0s 31ms/step - loss: 722001728.0000 - val_loss: 758028608.0000\n",
      "Epoch 7/400\n",
      "4/4 [==============================] - 0s 38ms/step - loss: 721976384.0000 - val_loss: 757998208.0000\n",
      "Epoch 8/400\n",
      "4/4 [==============================] - 0s 23ms/step - loss: 721943744.0000 - val_loss: 757957952.0000\n",
      "Epoch 9/400\n",
      "4/4 [==============================] - 0s 24ms/step - loss: 721899840.0000 - val_loss: 757904128.0000\n",
      "Epoch 10/400\n",
      "4/4 [==============================] - 0s 23ms/step - loss: 721841280.0000 - val_loss: 757830528.0000\n",
      "Epoch 11/400\n",
      "4/4 [==============================] - 0s 22ms/step - loss: 721760832.0000 - val_loss: 757729536.0000\n",
      "Epoch 12/400\n",
      "4/4 [==============================] - 0s 23ms/step - loss: 721648512.0000 - val_loss: 757592640.0000\n",
      "Epoch 13/400\n",
      "4/4 [==============================] - 0s 23ms/step - loss: 721499968.0000 - val_loss: 757407872.0000\n",
      "Epoch 14/400\n",
      "4/4 [==============================] - 0s 23ms/step - loss: 721299584.0000 - val_loss: 757160448.0000\n",
      "Epoch 15/400\n",
      "4/4 [==============================] - 0s 23ms/step - loss: 721030848.0000 - val_loss: 756831296.0000\n",
      "Epoch 16/400\n",
      "4/4 [==============================] - 0s 24ms/step - loss: 720672832.0000 - val_loss: 756393664.0000\n",
      "Epoch 17/400\n",
      "4/4 [==============================] - 0s 22ms/step - loss: 720197696.0000 - val_loss: 755813184.0000\n",
      "Epoch 18/400\n",
      "4/4 [==============================] - 0s 23ms/step - loss: 719563776.0000 - val_loss: 755049408.0000\n",
      "Epoch 19/400\n",
      "4/4 [==============================] - 0s 23ms/step - loss: 718747840.0000 - val_loss: 754049216.0000\n",
      "Epoch 20/400\n",
      "4/4 [==============================] - 0s 27ms/step - loss: 717660480.0000 - val_loss: 752757312.0000\n",
      "Epoch 21/400\n",
      "4/4 [==============================] - 0s 23ms/step - loss: 716276864.0000 - val_loss: 751102592.0000\n",
      "Epoch 22/400\n",
      "4/4 [==============================] - 0s 24ms/step - loss: 714516736.0000 - val_loss: 749003456.0000\n",
      "Epoch 23/400\n",
      "4/4 [==============================] - 0s 23ms/step - loss: 712235584.0000 - val_loss: 746366528.0000\n",
      "Epoch 24/400\n",
      "4/4 [==============================] - 0s 22ms/step - loss: 709450496.0000 - val_loss: 743070144.0000\n",
      "Epoch 25/400\n",
      "4/4 [==============================] - 0s 22ms/step - loss: 705990016.0000 - val_loss: 738997184.0000\n",
      "Epoch 26/400\n",
      "4/4 [==============================] - 0s 24ms/step - loss: 701597824.0000 - val_loss: 734020672.0000\n",
      "Epoch 27/400\n",
      "4/4 [==============================] - 0s 23ms/step - loss: 696392896.0000 - val_loss: 727955072.0000\n",
      "Epoch 28/400\n",
      "4/4 [==============================] - 0s 23ms/step - loss: 689952448.0000 - val_loss: 720646592.0000\n",
      "Epoch 29/400\n",
      "4/4 [==============================] - 0s 23ms/step - loss: 682299264.0000 - val_loss: 711887104.0000\n",
      "Epoch 30/400\n",
      "4/4 [==============================] - 0s 22ms/step - loss: 673089024.0000 - val_loss: 701510080.0000\n",
      "Epoch 31/400\n",
      "4/4 [==============================] - 0s 24ms/step - loss: 662178368.0000 - val_loss: 689292608.0000\n",
      "Epoch 32/400\n",
      "4/4 [==============================] - 0s 24ms/step - loss: 649552192.0000 - val_loss: 674973056.0000\n",
      "Epoch 33/400\n",
      "4/4 [==============================] - 0s 23ms/step - loss: 634638592.0000 - val_loss: 658422720.0000\n",
      "Epoch 34/400\n",
      "4/4 [==============================] - 0s 23ms/step - loss: 617794112.0000 - val_loss: 639393600.0000\n",
      "Epoch 35/400\n",
      "4/4 [==============================] - 0s 23ms/step - loss: 597951680.0000 - val_loss: 617828736.0000\n",
      "Epoch 36/400\n",
      "4/4 [==============================] - 0s 24ms/step - loss: 575655040.0000 - val_loss: 593487296.0000\n",
      "Epoch 37/400\n",
      "4/4 [==============================] - 0s 23ms/step - loss: 551013952.0000 - val_loss: 566244672.0000\n",
      "Epoch 38/400\n",
      "4/4 [==============================] - 0s 22ms/step - loss: 522996672.0000 - val_loss: 536316736.0000\n",
      "Epoch 39/400\n",
      "4/4 [==============================] - 0s 24ms/step - loss: 492879072.0000 - val_loss: 503637248.0000\n",
      "Epoch 40/400\n",
      "4/4 [==============================] - 0s 23ms/step - loss: 460274752.0000 - val_loss: 468633536.0000\n",
      "Epoch 41/400\n",
      "4/4 [==============================] - 0s 22ms/step - loss: 425094176.0000 - val_loss: 431892480.0000\n",
      "Epoch 42/400\n",
      "4/4 [==============================] - 0s 24ms/step - loss: 388771104.0000 - val_loss: 394046464.0000\n",
      "Epoch 43/400\n",
      "4/4 [==============================] - 0s 23ms/step - loss: 352067616.0000 - val_loss: 355854752.0000\n",
      "Epoch 44/400\n",
      "4/4 [==============================] - 0s 23ms/step - loss: 314592448.0000 - val_loss: 318602400.0000\n",
      "Epoch 45/400\n",
      "4/4 [==============================] - 0s 23ms/step - loss: 280207104.0000 - val_loss: 283094496.0000\n",
      "Epoch 46/400\n",
      "4/4 [==============================] - 0s 25ms/step - loss: 247806160.0000 - val_loss: 251068784.0000\n",
      "Epoch 47/400\n",
      "4/4 [==============================] - 0s 22ms/step - loss: 218046064.0000 - val_loss: 223831760.0000\n",
      "Epoch 48/400\n",
      "4/4 [==============================] - 0s 23ms/step - loss: 194734656.0000 - val_loss: 201714608.0000\n",
      "Epoch 49/400\n",
      "4/4 [==============================] - 0s 23ms/step - loss: 176361728.0000 - val_loss: 185184272.0000\n",
      "Epoch 50/400\n",
      "4/4 [==============================] - 0s 23ms/step - loss: 163466192.0000 - val_loss: 173883696.0000\n",
      "Epoch 51/400\n",
      "4/4 [==============================] - 0s 23ms/step - loss: 155072592.0000 - val_loss: 166552000.0000\n",
      "Epoch 52/400\n",
      "4/4 [==============================] - 0s 24ms/step - loss: 151551408.0000 - val_loss: 161506960.0000\n",
      "Epoch 53/400\n",
      "4/4 [==============================] - 0s 23ms/step - loss: 148171328.0000 - val_loss: 157883952.0000\n",
      "Epoch 54/400\n",
      "4/4 [==============================] - 0s 23ms/step - loss: 145553232.0000 - val_loss: 154779088.0000\n",
      "Epoch 55/400\n",
      "4/4 [==============================] - 0s 22ms/step - loss: 143348432.0000 - val_loss: 151803456.0000\n",
      "Epoch 56/400\n",
      "4/4 [==============================] - 0s 24ms/step - loss: 140733056.0000 - val_loss: 148997264.0000\n",
      "Epoch 57/400\n",
      "4/4 [==============================] - 0s 22ms/step - loss: 138095424.0000 - val_loss: 146375152.0000\n",
      "Epoch 58/400\n",
      "4/4 [==============================] - 0s 23ms/step - loss: 135594480.0000 - val_loss: 143990480.0000\n",
      "Epoch 59/400\n",
      "4/4 [==============================] - 0s 23ms/step - loss: 133270976.0000 - val_loss: 141636672.0000\n",
      "Epoch 60/400\n",
      "4/4 [==============================] - 0s 24ms/step - loss: 131069216.0000 - val_loss: 139508320.0000\n",
      "Epoch 61/400\n",
      "4/4 [==============================] - 0s 22ms/step - loss: 129018208.0000 - val_loss: 137516720.0000\n",
      "Epoch 62/400\n",
      "4/4 [==============================] - 0s 25ms/step - loss: 127124792.0000 - val_loss: 135347184.0000\n",
      "Epoch 63/400\n",
      "4/4 [==============================] - 0s 23ms/step - loss: 125206184.0000 - val_loss: 133302592.0000\n",
      "Epoch 64/400\n",
      "4/4 [==============================] - 0s 23ms/step - loss: 123380152.0000 - val_loss: 131260480.0000\n",
      "Epoch 65/400\n",
      "4/4 [==============================] - 0s 28ms/step - loss: 121609336.0000 - val_loss: 129191752.0000\n",
      "Epoch 66/400\n",
      "4/4 [==============================] - 0s 24ms/step - loss: 119775304.0000 - val_loss: 127089672.0000\n",
      "Epoch 67/400\n",
      "4/4 [==============================] - 0s 23ms/step - loss: 118133768.0000 - val_loss: 124859488.0000\n",
      "Epoch 68/400\n",
      "4/4 [==============================] - 0s 23ms/step - loss: 116439528.0000 - val_loss: 122820680.0000\n",
      "Epoch 69/400\n",
      "4/4 [==============================] - 0s 25ms/step - loss: 114877232.0000 - val_loss: 120823368.0000\n",
      "Epoch 70/400\n",
      "4/4 [==============================] - 0s 22ms/step - loss: 113311264.0000 - val_loss: 118965640.0000\n",
      "Epoch 71/400\n",
      "4/4 [==============================] - 0s 23ms/step - loss: 111771320.0000 - val_loss: 117200448.0000\n",
      "Epoch 72/400\n"
     ]
    },
    {
     "name": "stdout",
     "output_type": "stream",
     "text": [
      "4/4 [==============================] - 0s 24ms/step - loss: 110364808.0000 - val_loss: 115436584.0000\n",
      "Epoch 73/400\n",
      "4/4 [==============================] - 0s 23ms/step - loss: 108886456.0000 - val_loss: 113811904.0000\n",
      "Epoch 74/400\n",
      "4/4 [==============================] - 0s 23ms/step - loss: 107559704.0000 - val_loss: 112235744.0000\n",
      "Epoch 75/400\n",
      "4/4 [==============================] - 0s 24ms/step - loss: 106147008.0000 - val_loss: 110785184.0000\n",
      "Epoch 76/400\n",
      "4/4 [==============================] - 0s 23ms/step - loss: 104850472.0000 - val_loss: 109371744.0000\n",
      "Epoch 77/400\n",
      "4/4 [==============================] - 0s 23ms/step - loss: 103596944.0000 - val_loss: 107875584.0000\n",
      "Epoch 78/400\n",
      "4/4 [==============================] - 0s 23ms/step - loss: 102337424.0000 - val_loss: 106400120.0000\n",
      "Epoch 79/400\n",
      "4/4 [==============================] - 0s 24ms/step - loss: 101201192.0000 - val_loss: 104889560.0000\n",
      "Epoch 80/400\n",
      "4/4 [==============================] - 0s 24ms/step - loss: 99925912.0000 - val_loss: 103594448.0000\n",
      "Epoch 81/400\n",
      "4/4 [==============================] - 0s 23ms/step - loss: 98811520.0000 - val_loss: 102371992.0000\n",
      "Epoch 82/400\n",
      "4/4 [==============================] - 0s 24ms/step - loss: 97647544.0000 - val_loss: 101037304.0000\n",
      "Epoch 83/400\n",
      "4/4 [==============================] - 0s 23ms/step - loss: 96636272.0000 - val_loss: 99610984.0000\n",
      "Epoch 84/400\n",
      "4/4 [==============================] - 0s 23ms/step - loss: 95595024.0000 - val_loss: 98246344.0000\n",
      "Epoch 85/400\n",
      "4/4 [==============================] - 0s 23ms/step - loss: 94488584.0000 - val_loss: 97114432.0000\n",
      "Epoch 86/400\n",
      "4/4 [==============================] - 0s 23ms/step - loss: 93479816.0000 - val_loss: 96043536.0000\n",
      "Epoch 87/400\n",
      "4/4 [==============================] - 0s 23ms/step - loss: 92523752.0000 - val_loss: 95173968.0000\n",
      "Epoch 88/400\n",
      "4/4 [==============================] - 0s 23ms/step - loss: 91606720.0000 - val_loss: 93949816.0000\n",
      "Epoch 89/400\n",
      "4/4 [==============================] - 0s 25ms/step - loss: 90651064.0000 - val_loss: 92775776.0000\n",
      "Epoch 90/400\n",
      "4/4 [==============================] - 0s 23ms/step - loss: 89690856.0000 - val_loss: 91615688.0000\n",
      "Epoch 91/400\n",
      "4/4 [==============================] - 0s 23ms/step - loss: 88783416.0000 - val_loss: 90423336.0000\n",
      "Epoch 92/400\n",
      "4/4 [==============================] - 0s 24ms/step - loss: 87883648.0000 - val_loss: 89312440.0000\n",
      "Epoch 93/400\n",
      "4/4 [==============================] - 0s 23ms/step - loss: 87034912.0000 - val_loss: 88272400.0000\n",
      "Epoch 94/400\n",
      "4/4 [==============================] - 0s 23ms/step - loss: 86211048.0000 - val_loss: 87302592.0000\n",
      "Epoch 95/400\n",
      "4/4 [==============================] - 0s 22ms/step - loss: 85421784.0000 - val_loss: 86282016.0000\n",
      "Epoch 96/400\n",
      "4/4 [==============================] - 0s 24ms/step - loss: 84549648.0000 - val_loss: 85471800.0000\n",
      "Epoch 97/400\n",
      "4/4 [==============================] - 0s 23ms/step - loss: 83847056.0000 - val_loss: 84523208.0000\n",
      "Epoch 98/400\n",
      "4/4 [==============================] - 0s 22ms/step - loss: 83020184.0000 - val_loss: 83686792.0000\n",
      "Epoch 99/400\n",
      "4/4 [==============================] - 0s 24ms/step - loss: 82311928.0000 - val_loss: 82832824.0000\n",
      "Epoch 100/400\n",
      "4/4 [==============================] - 0s 22ms/step - loss: 81571888.0000 - val_loss: 81897624.0000\n",
      "Epoch 101/400\n",
      "4/4 [==============================] - 0s 23ms/step - loss: 80867320.0000 - val_loss: 81040584.0000\n",
      "Epoch 102/400\n",
      "4/4 [==============================] - 0s 23ms/step - loss: 80181144.0000 - val_loss: 80302560.0000\n",
      "Epoch 103/400\n",
      "4/4 [==============================] - 0s 23ms/step - loss: 79499912.0000 - val_loss: 79725328.0000\n",
      "Epoch 104/400\n",
      "4/4 [==============================] - 0s 23ms/step - loss: 78880224.0000 - val_loss: 78975264.0000\n",
      "Epoch 105/400\n",
      "4/4 [==============================] - 0s 23ms/step - loss: 78192104.0000 - val_loss: 78302912.0000\n",
      "Epoch 106/400\n",
      "4/4 [==============================] - 0s 24ms/step - loss: 77566448.0000 - val_loss: 77725104.0000\n",
      "Epoch 107/400\n",
      "4/4 [==============================] - 0s 23ms/step - loss: 76995344.0000 - val_loss: 77009528.0000\n",
      "Epoch 108/400\n",
      "4/4 [==============================] - 0s 23ms/step - loss: 76348168.0000 - val_loss: 76389832.0000\n",
      "Epoch 109/400\n",
      "4/4 [==============================] - 0s 24ms/step - loss: 75757920.0000 - val_loss: 75703096.0000\n",
      "Epoch 110/400\n",
      "4/4 [==============================] - 0s 23ms/step - loss: 75194800.0000 - val_loss: 75078464.0000\n",
      "Epoch 111/400\n",
      "4/4 [==============================] - 0s 23ms/step - loss: 74649312.0000 - val_loss: 74336784.0000\n",
      "Epoch 112/400\n",
      "4/4 [==============================] - 0s 23ms/step - loss: 74093232.0000 - val_loss: 73610248.0000\n",
      "Epoch 113/400\n",
      "4/4 [==============================] - 0s 23ms/step - loss: 73570232.0000 - val_loss: 73049760.0000\n",
      "Epoch 114/400\n",
      "4/4 [==============================] - 0s 23ms/step - loss: 73034672.0000 - val_loss: 72418904.0000\n",
      "Epoch 115/400\n",
      "4/4 [==============================] - 0s 23ms/step - loss: 72543808.0000 - val_loss: 71973912.0000\n",
      "Epoch 116/400\n",
      "4/4 [==============================] - 0s 24ms/step - loss: 72017568.0000 - val_loss: 71445824.0000\n",
      "Epoch 117/400\n",
      "4/4 [==============================] - 0s 23ms/step - loss: 71558984.0000 - val_loss: 70907120.0000\n",
      "Epoch 118/400\n",
      "4/4 [==============================] - 0s 22ms/step - loss: 71062248.0000 - val_loss: 70544944.0000\n",
      "Epoch 119/400\n",
      "4/4 [==============================] - 0s 23ms/step - loss: 70548120.0000 - val_loss: 69960160.0000\n",
      "Epoch 120/400\n",
      "4/4 [==============================] - 0s 23ms/step - loss: 70086296.0000 - val_loss: 69365280.0000\n",
      "Epoch 121/400\n",
      "4/4 [==============================] - 0s 22ms/step - loss: 69605024.0000 - val_loss: 68792712.0000\n",
      "Epoch 122/400\n",
      "4/4 [==============================] - 0s 23ms/step - loss: 69150136.0000 - val_loss: 68236536.0000\n",
      "Epoch 123/400\n",
      "4/4 [==============================] - 0s 23ms/step - loss: 68783752.0000 - val_loss: 67651344.0000\n",
      "Epoch 124/400\n",
      "4/4 [==============================] - 0s 23ms/step - loss: 68301232.0000 - val_loss: 67135352.0000\n",
      "Epoch 125/400\n",
      "4/4 [==============================] - 0s 22ms/step - loss: 67847304.0000 - val_loss: 66671752.0000\n",
      "Epoch 126/400\n",
      "4/4 [==============================] - 0s 26ms/step - loss: 67445960.0000 - val_loss: 66341528.0000\n",
      "Epoch 127/400\n",
      "4/4 [==============================] - 0s 23ms/step - loss: 67013908.0000 - val_loss: 66029832.0000\n",
      "Epoch 128/400\n",
      "4/4 [==============================] - 0s 23ms/step - loss: 66587480.0000 - val_loss: 65697912.0000\n",
      "Epoch 129/400\n",
      "4/4 [==============================] - 0s 24ms/step - loss: 66208084.0000 - val_loss: 65415328.0000\n",
      "Epoch 130/400\n",
      "4/4 [==============================] - 0s 26ms/step - loss: 65810360.0000 - val_loss: 65091728.0000\n",
      "Epoch 131/400\n",
      "4/4 [==============================] - 0s 24ms/step - loss: 65419332.0000 - val_loss: 64538628.0000\n",
      "Epoch 132/400\n",
      "4/4 [==============================] - 0s 24ms/step - loss: 65117268.0000 - val_loss: 63864612.0000\n",
      "Epoch 133/400\n",
      "4/4 [==============================] - 0s 22ms/step - loss: 64659256.0000 - val_loss: 63605164.0000\n",
      "Epoch 134/400\n",
      "4/4 [==============================] - 0s 23ms/step - loss: 64292052.0000 - val_loss: 63343284.0000\n",
      "Epoch 135/400\n",
      "4/4 [==============================] - 0s 24ms/step - loss: 63953504.0000 - val_loss: 63024540.0000\n",
      "Epoch 136/400\n",
      "4/4 [==============================] - 0s 27ms/step - loss: 63585364.0000 - val_loss: 62867260.0000\n",
      "Epoch 137/400\n",
      "4/4 [==============================] - 0s 23ms/step - loss: 63251632.0000 - val_loss: 62609960.0000\n",
      "Epoch 138/400\n",
      "4/4 [==============================] - 0s 25ms/step - loss: 62914412.0000 - val_loss: 62282280.0000\n",
      "Epoch 139/400\n",
      "4/4 [==============================] - 0s 25ms/step - loss: 62552860.0000 - val_loss: 61959556.0000\n",
      "Epoch 140/400\n",
      "4/4 [==============================] - 0s 22ms/step - loss: 62262240.0000 - val_loss: 61545780.0000\n",
      "Epoch 141/400\n",
      "4/4 [==============================] - 0s 22ms/step - loss: 61919520.0000 - val_loss: 61173888.0000\n",
      "Epoch 142/400\n",
      "4/4 [==============================] - 0s 23ms/step - loss: 61593944.0000 - val_loss: 60963044.0000\n",
      "Epoch 143/400\n",
      "4/4 [==============================] - 0s 24ms/step - loss: 61275080.0000 - val_loss: 60638176.0000\n",
      "Epoch 144/400\n"
     ]
    },
    {
     "name": "stdout",
     "output_type": "stream",
     "text": [
      "4/4 [==============================] - 0s 22ms/step - loss: 60969468.0000 - val_loss: 60211804.0000\n",
      "Epoch 145/400\n",
      "4/4 [==============================] - 0s 25ms/step - loss: 60638180.0000 - val_loss: 59888460.0000\n",
      "Epoch 146/400\n",
      "4/4 [==============================] - 0s 23ms/step - loss: 60360144.0000 - val_loss: 59612056.0000\n",
      "Epoch 147/400\n",
      "4/4 [==============================] - 0s 23ms/step - loss: 60033484.0000 - val_loss: 59578040.0000\n",
      "Epoch 148/400\n",
      "4/4 [==============================] - 0s 25ms/step - loss: 59745916.0000 - val_loss: 59435576.0000\n",
      "Epoch 149/400\n",
      "4/4 [==============================] - 0s 24ms/step - loss: 59449240.0000 - val_loss: 59100848.0000\n",
      "Epoch 150/400\n",
      "4/4 [==============================] - 0s 22ms/step - loss: 59144004.0000 - val_loss: 58904380.0000\n",
      "Epoch 151/400\n",
      "4/4 [==============================] - 0s 23ms/step - loss: 58856440.0000 - val_loss: 58635056.0000\n",
      "Epoch 152/400\n",
      "4/4 [==============================] - 0s 24ms/step - loss: 58580916.0000 - val_loss: 58535196.0000\n",
      "Epoch 153/400\n",
      "4/4 [==============================] - 0s 23ms/step - loss: 58303172.0000 - val_loss: 58307536.0000\n",
      "Epoch 154/400\n",
      "4/4 [==============================] - 0s 23ms/step - loss: 58027516.0000 - val_loss: 58184628.0000\n",
      "Epoch 155/400\n",
      "4/4 [==============================] - 0s 24ms/step - loss: 57764012.0000 - val_loss: 57744692.0000\n",
      "Epoch 156/400\n",
      "4/4 [==============================] - 0s 23ms/step - loss: 57458720.0000 - val_loss: 57495916.0000\n",
      "Epoch 157/400\n",
      "4/4 [==============================] - 0s 23ms/step - loss: 57175840.0000 - val_loss: 57178408.0000\n",
      "Epoch 158/400\n",
      "4/4 [==============================] - 0s 23ms/step - loss: 56921792.0000 - val_loss: 56823524.0000\n",
      "Epoch 159/400\n",
      "4/4 [==============================] - 0s 23ms/step - loss: 56670164.0000 - val_loss: 56616272.0000\n",
      "Epoch 160/400\n",
      "4/4 [==============================] - 0s 23ms/step - loss: 56400164.0000 - val_loss: 56430276.0000\n",
      "Epoch 161/400\n",
      "4/4 [==============================] - 0s 23ms/step - loss: 56155304.0000 - val_loss: 56266004.0000\n",
      "Epoch 162/400\n",
      "4/4 [==============================] - 0s 24ms/step - loss: 55863264.0000 - val_loss: 56299988.0000\n",
      "Epoch 163/400\n",
      "4/4 [==============================] - 0s 22ms/step - loss: 55691108.0000 - val_loss: 56440312.0000\n",
      "Epoch 164/400\n",
      "4/4 [==============================] - 0s 23ms/step - loss: 55435752.0000 - val_loss: 56325864.0000\n",
      "Epoch 165/400\n",
      "4/4 [==============================] - 0s 23ms/step - loss: 55129848.0000 - val_loss: 55852536.0000\n",
      "Epoch 166/400\n",
      "4/4 [==============================] - 0s 22ms/step - loss: 54908560.0000 - val_loss: 55443976.0000\n",
      "Epoch 167/400\n",
      "4/4 [==============================] - 0s 23ms/step - loss: 54624596.0000 - val_loss: 55265900.0000\n",
      "Epoch 168/400\n",
      "4/4 [==============================] - 0s 23ms/step - loss: 54381112.0000 - val_loss: 55021672.0000\n",
      "Epoch 169/400\n",
      "4/4 [==============================] - 0s 23ms/step - loss: 54158228.0000 - val_loss: 54855460.0000\n",
      "Epoch 170/400\n",
      "4/4 [==============================] - 0s 26ms/step - loss: 53899176.0000 - val_loss: 54802036.0000\n",
      "Epoch 171/400\n",
      "4/4 [==============================] - 0s 23ms/step - loss: 53654912.0000 - val_loss: 54600704.0000\n",
      "Epoch 172/400\n",
      "4/4 [==============================] - 0s 24ms/step - loss: 53452712.0000 - val_loss: 54340972.0000\n",
      "Epoch 173/400\n",
      "4/4 [==============================] - 0s 22ms/step - loss: 53241596.0000 - val_loss: 54329184.0000\n",
      "Epoch 174/400\n",
      "4/4 [==============================] - 0s 24ms/step - loss: 53023384.0000 - val_loss: 53957024.0000\n",
      "Epoch 175/400\n",
      "4/4 [==============================] - 0s 25ms/step - loss: 52753628.0000 - val_loss: 53882832.0000\n",
      "Epoch 176/400\n",
      "4/4 [==============================] - 0s 24ms/step - loss: 52513480.0000 - val_loss: 53697380.0000\n",
      "Epoch 177/400\n",
      "4/4 [==============================] - 0s 24ms/step - loss: 52281936.0000 - val_loss: 53553736.0000\n",
      "Epoch 178/400\n",
      "4/4 [==============================] - 0s 23ms/step - loss: 52065256.0000 - val_loss: 53371468.0000\n",
      "Epoch 179/400\n",
      "4/4 [==============================] - 0s 23ms/step - loss: 51865016.0000 - val_loss: 53154568.0000\n",
      "Epoch 180/400\n",
      "4/4 [==============================] - 0s 22ms/step - loss: 51630088.0000 - val_loss: 53106260.0000\n",
      "Epoch 181/400\n",
      "4/4 [==============================] - 0s 23ms/step - loss: 51415516.0000 - val_loss: 53171264.0000\n",
      "Epoch 182/400\n",
      "4/4 [==============================] - 0s 23ms/step - loss: 51203676.0000 - val_loss: 53143360.0000\n",
      "Epoch 183/400\n",
      "4/4 [==============================] - 0s 23ms/step - loss: 51027720.0000 - val_loss: 53099392.0000\n",
      "Epoch 184/400\n",
      "4/4 [==============================] - 0s 22ms/step - loss: 50809788.0000 - val_loss: 53018500.0000\n",
      "Epoch 185/400\n",
      "4/4 [==============================] - 0s 24ms/step - loss: 50596956.0000 - val_loss: 52779204.0000\n",
      "Epoch 186/400\n",
      "4/4 [==============================] - 0s 22ms/step - loss: 50382076.0000 - val_loss: 52456692.0000\n",
      "Epoch 187/400\n",
      "4/4 [==============================] - 0s 23ms/step - loss: 50179528.0000 - val_loss: 52083936.0000\n",
      "Epoch 188/400\n",
      "4/4 [==============================] - 0s 23ms/step - loss: 50088580.0000 - val_loss: 51811108.0000\n",
      "Epoch 189/400\n",
      "4/4 [==============================] - 0s 24ms/step - loss: 49870892.0000 - val_loss: 51744148.0000\n",
      "Epoch 190/400\n",
      "4/4 [==============================] - 0s 24ms/step - loss: 49644512.0000 - val_loss: 52004392.0000\n",
      "Epoch 191/400\n",
      "4/4 [==============================] - 0s 23ms/step - loss: 49425448.0000 - val_loss: 52127228.0000\n",
      "Epoch 192/400\n",
      "4/4 [==============================] - 0s 25ms/step - loss: 49269848.0000 - val_loss: 51930240.0000\n",
      "Epoch 193/400\n",
      "4/4 [==============================] - 0s 25ms/step - loss: 49068216.0000 - val_loss: 51996736.0000\n",
      "Epoch 194/400\n",
      "4/4 [==============================] - 0s 27ms/step - loss: 48856044.0000 - val_loss: 51902796.0000\n",
      "Epoch 195/400\n",
      "4/4 [==============================] - 0s 28ms/step - loss: 48724324.0000 - val_loss: 51543140.0000\n",
      "Epoch 196/400\n",
      "4/4 [==============================] - 0s 25ms/step - loss: 48497508.0000 - val_loss: 51396628.0000\n",
      "Epoch 197/400\n",
      "4/4 [==============================] - 0s 23ms/step - loss: 48296264.0000 - val_loss: 51196044.0000\n",
      "Epoch 198/400\n",
      "4/4 [==============================] - 0s 24ms/step - loss: 48121156.0000 - val_loss: 51002384.0000\n",
      "Epoch 199/400\n",
      "4/4 [==============================] - 0s 23ms/step - loss: 47970292.0000 - val_loss: 50878516.0000\n",
      "Epoch 200/400\n",
      "4/4 [==============================] - 0s 22ms/step - loss: 47790704.0000 - val_loss: 50750076.0000\n",
      "Epoch 201/400\n",
      "4/4 [==============================] - 0s 23ms/step - loss: 47632152.0000 - val_loss: 50720756.0000\n",
      "Epoch 202/400\n",
      "4/4 [==============================] - 0s 22ms/step - loss: 47435740.0000 - val_loss: 50659716.0000\n",
      "Epoch 203/400\n",
      "4/4 [==============================] - 0s 23ms/step - loss: 47260016.0000 - val_loss: 50595024.0000\n",
      "Epoch 204/400\n",
      "4/4 [==============================] - 0s 23ms/step - loss: 47117752.0000 - val_loss: 50451816.0000\n",
      "Epoch 205/400\n",
      "4/4 [==============================] - 0s 23ms/step - loss: 46952628.0000 - val_loss: 50558444.0000\n",
      "Epoch 206/400\n",
      "4/4 [==============================] - 0s 24ms/step - loss: 46736676.0000 - val_loss: 50484064.0000\n",
      "Epoch 207/400\n",
      "4/4 [==============================] - 0s 23ms/step - loss: 46574200.0000 - val_loss: 50395080.0000\n",
      "Epoch 208/400\n",
      "4/4 [==============================] - 0s 27ms/step - loss: 46446864.0000 - val_loss: 50201056.0000\n",
      "Epoch 209/400\n",
      "4/4 [==============================] - 0s 23ms/step - loss: 46265916.0000 - val_loss: 50144340.0000\n",
      "Epoch 210/400\n",
      "4/4 [==============================] - 0s 23ms/step - loss: 46082844.0000 - val_loss: 50193964.0000\n",
      "Epoch 211/400\n",
      "4/4 [==============================] - 0s 23ms/step - loss: 45936684.0000 - val_loss: 50275500.0000\n",
      "Epoch 212/400\n",
      "4/4 [==============================] - 0s 23ms/step - loss: 45826240.0000 - val_loss: 50280584.0000\n",
      "Epoch 213/400\n",
      "4/4 [==============================] - 0s 23ms/step - loss: 45670560.0000 - val_loss: 49913648.0000\n",
      "Epoch 214/400\n",
      "4/4 [==============================] - 0s 22ms/step - loss: 45470436.0000 - val_loss: 49740700.0000\n",
      "Epoch 215/400\n",
      "4/4 [==============================] - 0s 23ms/step - loss: 45311212.0000 - val_loss: 49691788.0000\n"
     ]
    },
    {
     "name": "stdout",
     "output_type": "stream",
     "text": [
      "Epoch 216/400\n",
      "4/4 [==============================] - 0s 23ms/step - loss: 45157200.0000 - val_loss: 49657700.0000\n",
      "Epoch 217/400\n",
      "4/4 [==============================] - 0s 22ms/step - loss: 45006072.0000 - val_loss: 49663752.0000\n",
      "Epoch 218/400\n",
      "4/4 [==============================] - 0s 26ms/step - loss: 44853420.0000 - val_loss: 49678144.0000\n",
      "Epoch 219/400\n",
      "4/4 [==============================] - 0s 24ms/step - loss: 44717324.0000 - val_loss: 49614380.0000\n",
      "Epoch 220/400\n",
      "4/4 [==============================] - 0s 23ms/step - loss: 44619252.0000 - val_loss: 49755048.0000\n",
      "Epoch 221/400\n",
      "4/4 [==============================] - 0s 24ms/step - loss: 44436200.0000 - val_loss: 49556816.0000\n",
      "Epoch 222/400\n",
      "4/4 [==============================] - 0s 23ms/step - loss: 44270236.0000 - val_loss: 49465272.0000\n",
      "Epoch 223/400\n",
      "4/4 [==============================] - 0s 23ms/step - loss: 44173568.0000 - val_loss: 49271428.0000\n",
      "Epoch 224/400\n",
      "4/4 [==============================] - 0s 22ms/step - loss: 44008120.0000 - val_loss: 49326944.0000\n",
      "Epoch 225/400\n",
      "4/4 [==============================] - 0s 23ms/step - loss: 43858664.0000 - val_loss: 49266248.0000\n",
      "Epoch 226/400\n",
      "4/4 [==============================] - 0s 23ms/step - loss: 43735752.0000 - val_loss: 49332328.0000\n",
      "Epoch 227/400\n",
      "4/4 [==============================] - 0s 23ms/step - loss: 43595896.0000 - val_loss: 49279740.0000\n",
      "Epoch 228/400\n",
      "4/4 [==============================] - 0s 23ms/step - loss: 43461696.0000 - val_loss: 49157152.0000\n",
      "Epoch 229/400\n",
      "4/4 [==============================] - 0s 23ms/step - loss: 43344372.0000 - val_loss: 48838464.0000\n",
      "Epoch 230/400\n",
      "4/4 [==============================] - 0s 23ms/step - loss: 43228100.0000 - val_loss: 48670284.0000\n",
      "Epoch 231/400\n",
      "4/4 [==============================] - 0s 23ms/step - loss: 43077656.0000 - val_loss: 48733824.0000\n",
      "Epoch 232/400\n",
      "4/4 [==============================] - 0s 22ms/step - loss: 42939384.0000 - val_loss: 48786624.0000\n",
      "Epoch 233/400\n",
      "4/4 [==============================] - 0s 23ms/step - loss: 42809264.0000 - val_loss: 48754944.0000\n",
      "Epoch 234/400\n",
      "4/4 [==============================] - 0s 23ms/step - loss: 42674396.0000 - val_loss: 48761756.0000\n",
      "Epoch 235/400\n",
      "4/4 [==============================] - 0s 24ms/step - loss: 42554652.0000 - val_loss: 48739956.0000\n",
      "Epoch 236/400\n",
      "4/4 [==============================] - 0s 23ms/step - loss: 42464308.0000 - val_loss: 48532804.0000\n",
      "Epoch 237/400\n",
      "4/4 [==============================] - 0s 23ms/step - loss: 42295340.0000 - val_loss: 48523108.0000\n",
      "Epoch 238/400\n",
      "4/4 [==============================] - 0s 24ms/step - loss: 42191564.0000 - val_loss: 48560784.0000\n",
      "Epoch 239/400\n",
      "4/4 [==============================] - 0s 23ms/step - loss: 42054696.0000 - val_loss: 48613272.0000\n",
      "Epoch 240/400\n",
      "4/4 [==============================] - 0s 23ms/step - loss: 41949620.0000 - val_loss: 48579928.0000\n",
      "Epoch 241/400\n",
      "4/4 [==============================] - 0s 23ms/step - loss: 41900708.0000 - val_loss: 48692272.0000\n",
      "Epoch 242/400\n",
      "4/4 [==============================] - 0s 22ms/step - loss: 41787712.0000 - val_loss: 48417516.0000\n",
      "Epoch 243/400\n",
      "4/4 [==============================] - 0s 22ms/step - loss: 41608624.0000 - val_loss: 48333524.0000\n",
      "Epoch 244/400\n",
      "4/4 [==============================] - 0s 23ms/step - loss: 41507308.0000 - val_loss: 48138148.0000\n",
      "Epoch 245/400\n",
      "4/4 [==============================] - 0s 24ms/step - loss: 41384004.0000 - val_loss: 48008064.0000\n",
      "Epoch 246/400\n",
      "4/4 [==============================] - 0s 23ms/step - loss: 41266580.0000 - val_loss: 48019112.0000\n",
      "Epoch 247/400\n",
      "4/4 [==============================] - 0s 22ms/step - loss: 41170796.0000 - val_loss: 48021576.0000\n",
      "Epoch 248/400\n",
      "4/4 [==============================] - 0s 23ms/step - loss: 41061868.0000 - val_loss: 47920300.0000\n",
      "Epoch 249/400\n",
      "4/4 [==============================] - 0s 22ms/step - loss: 40919416.0000 - val_loss: 47977616.0000\n",
      "Epoch 250/400\n",
      "4/4 [==============================] - 0s 23ms/step - loss: 40816744.0000 - val_loss: 48072824.0000\n",
      "Epoch 251/400\n",
      "4/4 [==============================] - 0s 23ms/step - loss: 40713860.0000 - val_loss: 48072108.0000\n",
      "Epoch 252/400\n",
      "4/4 [==============================] - 0s 23ms/step - loss: 40601948.0000 - val_loss: 47968236.0000\n",
      "Epoch 253/400\n",
      "4/4 [==============================] - 0s 22ms/step - loss: 40488956.0000 - val_loss: 47810816.0000\n",
      "Epoch 254/400\n",
      "4/4 [==============================] - 0s 23ms/step - loss: 40379336.0000 - val_loss: 47702976.0000\n",
      "Epoch 255/400\n",
      "4/4 [==============================] - 0s 24ms/step - loss: 40278508.0000 - val_loss: 47567340.0000\n",
      "Epoch 256/400\n",
      "4/4 [==============================] - 0s 23ms/step - loss: 40155260.0000 - val_loss: 47561160.0000\n",
      "Epoch 257/400\n",
      "4/4 [==============================] - 0s 23ms/step - loss: 40144524.0000 - val_loss: 47771076.0000\n",
      "Epoch 258/400\n",
      "4/4 [==============================] - 0s 24ms/step - loss: 39951448.0000 - val_loss: 47660396.0000\n",
      "Epoch 259/400\n",
      "4/4 [==============================] - 0s 22ms/step - loss: 39842104.0000 - val_loss: 47578332.0000\n",
      "Epoch 260/400\n",
      "4/4 [==============================] - 0s 23ms/step - loss: 39735844.0000 - val_loss: 47508252.0000\n",
      "Epoch 261/400\n",
      "4/4 [==============================] - 0s 23ms/step - loss: 39671444.0000 - val_loss: 47387176.0000\n",
      "Epoch 262/400\n",
      "4/4 [==============================] - 0s 23ms/step - loss: 39530220.0000 - val_loss: 47402628.0000\n",
      "Epoch 263/400\n",
      "4/4 [==============================] - 0s 22ms/step - loss: 39431136.0000 - val_loss: 47395132.0000\n",
      "Epoch 264/400\n",
      "4/4 [==============================] - 0s 22ms/step - loss: 39341776.0000 - val_loss: 47356424.0000\n",
      "Epoch 265/400\n",
      "4/4 [==============================] - 0s 24ms/step - loss: 39221164.0000 - val_loss: 47405640.0000\n",
      "Epoch 266/400\n",
      "4/4 [==============================] - 0s 23ms/step - loss: 39146912.0000 - val_loss: 47323572.0000\n",
      "Epoch 267/400\n",
      "4/4 [==============================] - 0s 23ms/step - loss: 39039868.0000 - val_loss: 47297956.0000\n",
      "Epoch 268/400\n",
      "4/4 [==============================] - 0s 23ms/step - loss: 38940188.0000 - val_loss: 47122848.0000\n",
      "Epoch 269/400\n",
      "4/4 [==============================] - 0s 22ms/step - loss: 38834464.0000 - val_loss: 47033112.0000\n",
      "Epoch 270/400\n",
      "4/4 [==============================] - 0s 22ms/step - loss: 38760320.0000 - val_loss: 46891716.0000\n",
      "Epoch 271/400\n",
      "4/4 [==============================] - 0s 24ms/step - loss: 38638924.0000 - val_loss: 46908248.0000\n",
      "Epoch 272/400\n",
      "4/4 [==============================] - 0s 23ms/step - loss: 38531372.0000 - val_loss: 46866916.0000\n",
      "Epoch 273/400\n",
      "4/4 [==============================] - 0s 23ms/step - loss: 38447520.0000 - val_loss: 46814080.0000\n",
      "Epoch 274/400\n",
      "4/4 [==============================] - 0s 23ms/step - loss: 38344728.0000 - val_loss: 46872544.0000\n",
      "Epoch 275/400\n",
      "4/4 [==============================] - 0s 23ms/step - loss: 38300612.0000 - val_loss: 46923616.0000\n",
      "Epoch 276/400\n",
      "4/4 [==============================] - 0s 23ms/step - loss: 38187612.0000 - val_loss: 46758356.0000\n",
      "Epoch 277/400\n",
      "4/4 [==============================] - 0s 23ms/step - loss: 38073896.0000 - val_loss: 46746228.0000\n",
      "Epoch 278/400\n",
      "4/4 [==============================] - 0s 23ms/step - loss: 38007192.0000 - val_loss: 46649676.0000\n",
      "Epoch 279/400\n",
      "4/4 [==============================] - 0s 23ms/step - loss: 37889084.0000 - val_loss: 46639128.0000\n",
      "Epoch 280/400\n",
      "4/4 [==============================] - 0s 23ms/step - loss: 37784372.0000 - val_loss: 46743848.0000\n",
      "Epoch 281/400\n",
      "4/4 [==============================] - 0s 24ms/step - loss: 37708496.0000 - val_loss: 46772200.0000\n",
      "Epoch 282/400\n",
      "4/4 [==============================] - 0s 23ms/step - loss: 37694376.0000 - val_loss: 46845068.0000\n",
      "Epoch 283/400\n",
      "4/4 [==============================] - 0s 23ms/step - loss: 37535252.0000 - val_loss: 46696884.0000\n",
      "Epoch 284/400\n",
      "4/4 [==============================] - 0s 23ms/step - loss: 37475932.0000 - val_loss: 46489536.0000\n",
      "Epoch 285/400\n",
      "4/4 [==============================] - 0s 23ms/step - loss: 37333188.0000 - val_loss: 46484944.0000\n",
      "Epoch 286/400\n",
      "4/4 [==============================] - 0s 23ms/step - loss: 37267584.0000 - val_loss: 46542764.0000\n",
      "Epoch 287/400\n",
      "4/4 [==============================] - 0s 23ms/step - loss: 37167488.0000 - val_loss: 46505688.0000\n"
     ]
    },
    {
     "name": "stdout",
     "output_type": "stream",
     "text": [
      "Epoch 288/400\n",
      "4/4 [==============================] - 0s 23ms/step - loss: 37087216.0000 - val_loss: 46449432.0000\n",
      "Epoch 289/400\n",
      "4/4 [==============================] - 0s 23ms/step - loss: 37007096.0000 - val_loss: 46334892.0000\n",
      "Epoch 290/400\n",
      "4/4 [==============================] - 0s 23ms/step - loss: 36916904.0000 - val_loss: 46291504.0000\n",
      "Epoch 291/400\n",
      "4/4 [==============================] - 0s 23ms/step - loss: 36842432.0000 - val_loss: 46324076.0000\n",
      "Epoch 292/400\n",
      "4/4 [==============================] - 0s 22ms/step - loss: 36793960.0000 - val_loss: 46466416.0000\n",
      "Epoch 293/400\n",
      "4/4 [==============================] - 0s 23ms/step - loss: 36710188.0000 - val_loss: 46477484.0000\n",
      "Epoch 294/400\n",
      "4/4 [==============================] - 0s 22ms/step - loss: 36622572.0000 - val_loss: 46290332.0000\n",
      "Epoch 295/400\n",
      "4/4 [==============================] - 0s 24ms/step - loss: 36490940.0000 - val_loss: 46241996.0000\n",
      "Epoch 296/400\n",
      "4/4 [==============================] - 0s 22ms/step - loss: 36433152.0000 - val_loss: 46213140.0000\n",
      "Epoch 297/400\n",
      "4/4 [==============================] - 0s 22ms/step - loss: 36326704.0000 - val_loss: 46242568.0000\n",
      "Epoch 298/400\n",
      "4/4 [==============================] - 0s 24ms/step - loss: 36262308.0000 - val_loss: 46273828.0000\n",
      "Epoch 299/400\n",
      "4/4 [==============================] - 0s 24ms/step - loss: 36172924.0000 - val_loss: 46326500.0000\n",
      "Epoch 300/400\n",
      "4/4 [==============================] - 0s 23ms/step - loss: 36125396.0000 - val_loss: 46360800.0000\n",
      "Epoch 301/400\n",
      "4/4 [==============================] - 0s 24ms/step - loss: 36046776.0000 - val_loss: 46284172.0000\n",
      "Epoch 302/400\n",
      "4/4 [==============================] - 0s 24ms/step - loss: 35948532.0000 - val_loss: 46055560.0000\n",
      "Epoch 303/400\n",
      "4/4 [==============================] - 0s 23ms/step - loss: 35870060.0000 - val_loss: 45936168.0000\n",
      "Epoch 304/400\n",
      "4/4 [==============================] - 0s 24ms/step - loss: 35834608.0000 - val_loss: 45905524.0000\n",
      "Epoch 305/400\n",
      "4/4 [==============================] - 0s 24ms/step - loss: 35739812.0000 - val_loss: 46080604.0000\n",
      "Epoch 306/400\n",
      "4/4 [==============================] - 0s 23ms/step - loss: 35646580.0000 - val_loss: 46117836.0000\n",
      "Epoch 307/400\n",
      "4/4 [==============================] - 0s 25ms/step - loss: 35611348.0000 - val_loss: 46158536.0000\n",
      "Epoch 308/400\n",
      "4/4 [==============================] - 0s 25ms/step - loss: 35511264.0000 - val_loss: 46025196.0000\n",
      "Epoch 309/400\n",
      "4/4 [==============================] - 0s 23ms/step - loss: 35436924.0000 - val_loss: 45898076.0000\n",
      "Epoch 310/400\n",
      "4/4 [==============================] - 0s 23ms/step - loss: 35334144.0000 - val_loss: 45751760.0000\n",
      "Epoch 311/400\n",
      "4/4 [==============================] - 0s 24ms/step - loss: 35276024.0000 - val_loss: 45677928.0000\n",
      "Epoch 312/400\n",
      "4/4 [==============================] - 0s 22ms/step - loss: 35226684.0000 - val_loss: 45542088.0000\n",
      "Epoch 313/400\n",
      "4/4 [==============================] - 0s 23ms/step - loss: 35152824.0000 - val_loss: 45562772.0000\n",
      "Epoch 314/400\n",
      "4/4 [==============================] - 0s 23ms/step - loss: 35060516.0000 - val_loss: 45631052.0000\n",
      "Epoch 315/400\n",
      "4/4 [==============================] - 0s 23ms/step - loss: 34966176.0000 - val_loss: 45740464.0000\n",
      "Epoch 316/400\n",
      "4/4 [==============================] - 0s 23ms/step - loss: 34915484.0000 - val_loss: 45806640.0000\n",
      "Epoch 317/400\n",
      "4/4 [==============================] - 0s 23ms/step - loss: 34857032.0000 - val_loss: 45761920.0000\n",
      "Epoch 318/400\n",
      "4/4 [==============================] - 0s 25ms/step - loss: 34762560.0000 - val_loss: 45600028.0000\n",
      "Epoch 319/400\n",
      "4/4 [==============================] - 0s 22ms/step - loss: 34705916.0000 - val_loss: 45547968.0000\n",
      "Epoch 320/400\n",
      "4/4 [==============================] - 0s 23ms/step - loss: 34651260.0000 - val_loss: 45398136.0000\n",
      "Epoch 321/400\n",
      "4/4 [==============================] - 0s 23ms/step - loss: 34590856.0000 - val_loss: 45379340.0000\n",
      "Epoch 322/400\n",
      "4/4 [==============================] - 0s 23ms/step - loss: 34529100.0000 - val_loss: 45422060.0000\n",
      "Epoch 323/400\n",
      "4/4 [==============================] - 0s 22ms/step - loss: 34439732.0000 - val_loss: 45413876.0000\n",
      "Epoch 324/400\n",
      "4/4 [==============================] - 0s 24ms/step - loss: 34365132.0000 - val_loss: 45467476.0000\n",
      "Epoch 325/400\n",
      "4/4 [==============================] - 0s 23ms/step - loss: 34326672.0000 - val_loss: 45449652.0000\n",
      "Epoch 326/400\n",
      "4/4 [==============================] - 0s 23ms/step - loss: 34223404.0000 - val_loss: 45527564.0000\n",
      "Epoch 327/400\n",
      "4/4 [==============================] - 0s 23ms/step - loss: 34171072.0000 - val_loss: 45552992.0000\n",
      "Epoch 328/400\n",
      "4/4 [==============================] - 0s 23ms/step - loss: 34114588.0000 - val_loss: 45594236.0000\n",
      "Epoch 329/400\n",
      "4/4 [==============================] - 0s 24ms/step - loss: 34041332.0000 - val_loss: 45529660.0000\n",
      "Epoch 330/400\n",
      "4/4 [==============================] - 0s 23ms/step - loss: 34001124.0000 - val_loss: 45376304.0000\n",
      "Epoch 331/400\n",
      "4/4 [==============================] - 0s 23ms/step - loss: 33900056.0000 - val_loss: 45308736.0000\n",
      "Epoch 332/400\n",
      "4/4 [==============================] - 0s 23ms/step - loss: 33845800.0000 - val_loss: 45292664.0000\n",
      "Epoch 333/400\n",
      "4/4 [==============================] - 0s 23ms/step - loss: 33802412.0000 - val_loss: 45182540.0000\n",
      "Epoch 334/400\n",
      "4/4 [==============================] - 0s 23ms/step - loss: 33709776.0000 - val_loss: 45200104.0000\n",
      "Epoch 335/400\n",
      "4/4 [==============================] - 0s 23ms/step - loss: 33696360.0000 - val_loss: 45314640.0000\n",
      "Epoch 336/400\n",
      "4/4 [==============================] - 0s 22ms/step - loss: 33586928.0000 - val_loss: 45258264.0000\n",
      "Epoch 337/400\n",
      "4/4 [==============================] - 0s 22ms/step - loss: 33527230.0000 - val_loss: 45097564.0000\n",
      "Epoch 338/400\n",
      "4/4 [==============================] - 0s 24ms/step - loss: 33506120.0000 - val_loss: 44972592.0000\n",
      "Epoch 339/400\n",
      "4/4 [==============================] - 0s 23ms/step - loss: 33410164.0000 - val_loss: 44990808.0000\n",
      "Epoch 340/400\n",
      "4/4 [==============================] - 0s 23ms/step - loss: 33325300.0000 - val_loss: 45034368.0000\n",
      "Epoch 341/400\n",
      "4/4 [==============================] - 0s 24ms/step - loss: 33256542.0000 - val_loss: 45088156.0000\n",
      "Epoch 342/400\n",
      "4/4 [==============================] - 0s 22ms/step - loss: 33211158.0000 - val_loss: 45118920.0000\n",
      "Epoch 343/400\n",
      "4/4 [==============================] - 0s 24ms/step - loss: 33158272.0000 - val_loss: 45117236.0000\n",
      "Epoch 344/400\n",
      "4/4 [==============================] - 0s 24ms/step - loss: 33095542.0000 - val_loss: 45047684.0000\n",
      "Epoch 345/400\n",
      "4/4 [==============================] - 0s 23ms/step - loss: 33054712.0000 - val_loss: 45012224.0000\n",
      "Epoch 346/400\n",
      "4/4 [==============================] - 0s 22ms/step - loss: 33036014.0000 - val_loss: 44808212.0000\n",
      "Epoch 347/400\n",
      "4/4 [==============================] - 0s 24ms/step - loss: 32944120.0000 - val_loss: 44733768.0000\n",
      "Epoch 348/400\n",
      "4/4 [==============================] - 0s 24ms/step - loss: 32855424.0000 - val_loss: 44771776.0000\n",
      "Epoch 349/400\n",
      "4/4 [==============================] - 0s 23ms/step - loss: 32780064.0000 - val_loss: 44800472.0000\n",
      "Epoch 350/400\n",
      "4/4 [==============================] - 0s 23ms/step - loss: 32717630.0000 - val_loss: 44894932.0000\n",
      "Epoch 351/400\n",
      "4/4 [==============================] - 0s 23ms/step - loss: 32689224.0000 - val_loss: 44935128.0000\n",
      "Epoch 352/400\n",
      "4/4 [==============================] - 0s 23ms/step - loss: 32619898.0000 - val_loss: 44890772.0000\n",
      "Epoch 353/400\n",
      "4/4 [==============================] - 0s 31ms/step - loss: 32558912.0000 - val_loss: 44806476.0000\n",
      "Epoch 354/400\n",
      "4/4 [==============================] - 0s 24ms/step - loss: 32494946.0000 - val_loss: 44671292.0000\n",
      "Epoch 355/400\n",
      "4/4 [==============================] - 0s 23ms/step - loss: 32439796.0000 - val_loss: 44570820.0000\n",
      "Epoch 356/400\n",
      "4/4 [==============================] - 0s 23ms/step - loss: 32419408.0000 - val_loss: 44534528.0000\n",
      "Epoch 357/400\n",
      "4/4 [==============================] - 0s 23ms/step - loss: 32340228.0000 - val_loss: 44548916.0000\n",
      "Epoch 358/400\n",
      "4/4 [==============================] - 0s 24ms/step - loss: 32286874.0000 - val_loss: 44625880.0000\n",
      "Epoch 359/400\n",
      "4/4 [==============================] - 0s 22ms/step - loss: 32228650.0000 - val_loss: 44657016.0000\n"
     ]
    },
    {
     "name": "stdout",
     "output_type": "stream",
     "text": [
      "Epoch 360/400\n",
      "4/4 [==============================] - 0s 22ms/step - loss: 32184224.0000 - val_loss: 44655268.0000\n",
      "Epoch 361/400\n",
      "4/4 [==============================] - 0s 23ms/step - loss: 32113482.0000 - val_loss: 44481964.0000\n",
      "Epoch 362/400\n",
      "4/4 [==============================] - 0s 23ms/step - loss: 32101256.0000 - val_loss: 44373828.0000\n",
      "Epoch 363/400\n",
      "4/4 [==============================] - 0s 23ms/step - loss: 32009980.0000 - val_loss: 44377884.0000\n",
      "Epoch 364/400\n",
      "4/4 [==============================] - 0s 23ms/step - loss: 31955002.0000 - val_loss: 44422312.0000\n",
      "Epoch 365/400\n",
      "4/4 [==============================] - 0s 23ms/step - loss: 31899796.0000 - val_loss: 44484732.0000\n",
      "Epoch 366/400\n",
      "4/4 [==============================] - 0s 22ms/step - loss: 31835492.0000 - val_loss: 44443576.0000\n",
      "Epoch 367/400\n",
      "4/4 [==============================] - 0s 22ms/step - loss: 31823116.0000 - val_loss: 44329848.0000\n",
      "Epoch 368/400\n",
      "4/4 [==============================] - 0s 24ms/step - loss: 31747240.0000 - val_loss: 44364364.0000\n",
      "Epoch 369/400\n",
      "4/4 [==============================] - 0s 23ms/step - loss: 31676614.0000 - val_loss: 44306400.0000\n",
      "Epoch 370/400\n",
      "4/4 [==============================] - 0s 23ms/step - loss: 31612328.0000 - val_loss: 44242892.0000\n",
      "Epoch 371/400\n",
      "4/4 [==============================] - 0s 23ms/step - loss: 31589644.0000 - val_loss: 44195024.0000\n",
      "Epoch 372/400\n",
      "4/4 [==============================] - 0s 24ms/step - loss: 31504088.0000 - val_loss: 44086388.0000\n",
      "Epoch 373/400\n",
      "4/4 [==============================] - 0s 23ms/step - loss: 31478450.0000 - val_loss: 43994272.0000\n",
      "Epoch 374/400\n",
      "4/4 [==============================] - 0s 23ms/step - loss: 31438040.0000 - val_loss: 44009280.0000\n",
      "Epoch 375/400\n",
      "4/4 [==============================] - 0s 23ms/step - loss: 31396290.0000 - val_loss: 44136192.0000\n",
      "Epoch 376/400\n",
      "4/4 [==============================] - 0s 23ms/step - loss: 31311250.0000 - val_loss: 44149536.0000\n",
      "Epoch 377/400\n",
      "4/4 [==============================] - 0s 23ms/step - loss: 31265896.0000 - val_loss: 44175448.0000\n",
      "Epoch 378/400\n",
      "4/4 [==============================] - 0s 24ms/step - loss: 31229110.0000 - val_loss: 44193636.0000\n",
      "Epoch 379/400\n",
      "4/4 [==============================] - 0s 22ms/step - loss: 31171806.0000 - val_loss: 44100568.0000\n",
      "Epoch 380/400\n",
      "4/4 [==============================] - 0s 23ms/step - loss: 31126230.0000 - val_loss: 43978792.0000\n",
      "Epoch 381/400\n",
      "4/4 [==============================] - 0s 23ms/step - loss: 31131048.0000 - val_loss: 44005880.0000\n",
      "Epoch 382/400\n",
      "4/4 [==============================] - 0s 23ms/step - loss: 31008680.0000 - val_loss: 43888184.0000\n",
      "Epoch 383/400\n",
      "4/4 [==============================] - 0s 23ms/step - loss: 30970316.0000 - val_loss: 43841416.0000\n",
      "Epoch 384/400\n",
      "4/4 [==============================] - 0s 23ms/step - loss: 30933240.0000 - val_loss: 43806128.0000\n",
      "Epoch 385/400\n",
      "4/4 [==============================] - 0s 23ms/step - loss: 30902546.0000 - val_loss: 43800680.0000\n",
      "Epoch 386/400\n",
      "4/4 [==============================] - 0s 23ms/step - loss: 30838654.0000 - val_loss: 43923612.0000\n",
      "Epoch 387/400\n",
      "4/4 [==============================] - 0s 23ms/step - loss: 30782208.0000 - val_loss: 43985436.0000\n",
      "Epoch 388/400\n",
      "4/4 [==============================] - 0s 25ms/step - loss: 30768818.0000 - val_loss: 44011604.0000\n",
      "Epoch 389/400\n",
      "4/4 [==============================] - 0s 23ms/step - loss: 30707896.0000 - val_loss: 43883640.0000\n",
      "Epoch 390/400\n",
      "4/4 [==============================] - 0s 22ms/step - loss: 30672740.0000 - val_loss: 43740008.0000\n",
      "Epoch 391/400\n",
      "4/4 [==============================] - 0s 24ms/step - loss: 30592316.0000 - val_loss: 43695328.0000\n",
      "Epoch 392/400\n",
      "4/4 [==============================] - 0s 23ms/step - loss: 30550824.0000 - val_loss: 43646252.0000\n",
      "Epoch 393/400\n",
      "4/4 [==============================] - 0s 22ms/step - loss: 30518252.0000 - val_loss: 43614968.0000\n",
      "Epoch 394/400\n",
      "4/4 [==============================] - 0s 23ms/step - loss: 30506622.0000 - val_loss: 43677504.0000\n",
      "Epoch 395/400\n",
      "4/4 [==============================] - 0s 29ms/step - loss: 30409124.0000 - val_loss: 43669576.0000\n",
      "Epoch 396/400\n",
      "4/4 [==============================] - 0s 23ms/step - loss: 30375344.0000 - val_loss: 43694116.0000\n",
      "Epoch 397/400\n",
      "4/4 [==============================] - 0s 23ms/step - loss: 30326130.0000 - val_loss: 43711108.0000\n",
      "Epoch 398/400\n",
      "4/4 [==============================] - 0s 24ms/step - loss: 30301372.0000 - val_loss: 43725872.0000\n",
      "Epoch 399/400\n",
      "4/4 [==============================] - 0s 23ms/step - loss: 30246678.0000 - val_loss: 43654096.0000\n",
      "Epoch 400/400\n",
      "4/4 [==============================] - 0s 23ms/step - loss: 30231508.0000 - val_loss: 43614052.0000\n"
     ]
    },
    {
     "data": {
      "text/plain": [
       "<keras.src.callbacks.History at 0x26ad5246790>"
      ]
     },
     "execution_count": 35,
     "metadata": {},
     "output_type": "execute_result"
    }
   ],
   "source": [
    "model.fit(x=X_train,y=y_train.values,\n",
    "          validation_data=(X_test,y_test.values),\n",
    "          batch_size=128,epochs=400)"
   ]
  },
  {
   "cell_type": "code",
   "execution_count": 36,
   "id": "3fa0cb84",
   "metadata": {},
   "outputs": [
    {
     "data": {
      "text/plain": [
       "<Axes: >"
      ]
     },
     "execution_count": 36,
     "metadata": {},
     "output_type": "execute_result"
    },
    {
     "data": {
      "image/png": "[encoded data removed]",
      "text/plain": [
       "<Figure size 640x480 with 1 Axes>"
      ]
     },
     "metadata": {},
     "output_type": "display_data"
    }
   ],
   "source": [
    "losses = pd.DataFrame(model.history.history)\n",
    "losses.plot()"
   ]
  },
  {
   "cell_type": "markdown",
   "id": "29dad8bb",
   "metadata": {},
   "source": [
    "# Evaluation on Test Data"
   ]
  },
  {
   "cell_type": "code",
   "execution_count": 37,
   "id": "5c32c8b8",
   "metadata": {},
   "outputs": [
    {
     "name": "stdout",
     "output_type": "stream",
     "text": [
      "7/7 [==============================] - 0s 3ms/step\n",
      "MAE :  4478.408934307582\n",
      "MSE :  43614052.27994255\n",
      "RMSE :  6604.093600180312\n",
      "Explained variance score :  0.7497096120364365\n"
     ]
    }
   ],
   "source": [
    "from sklearn.metrics import mean_squared_error,mean_absolute_error,explained_variance_score\n",
    "predictions = model.predict(X_test)\n",
    "print('MAE : ' ,mean_absolute_error(y_test,predictions))\n",
    "print('MSE : ', mean_squared_error(y_test,predictions))\n",
    "print('RMSE : ', np.sqrt(mean_squared_error(y_test,predictions)))\n",
    "print('Explained variance score : ' ,explained_variance_score(y_test,predictions))"
   ]
  },
  {
   "cell_type": "markdown",
   "id": "6770fbce",
   "metadata": {},
   "source": [
    "# Between 0-50000 price we've done really good job.This model can perform on larger ranges too but not perfectly of course."
   ]
  },
  {
   "cell_type": "code",
   "execution_count": 38,
   "id": "e7ad7646",
   "metadata": {
    "scrolled": true
   },
   "outputs": [
    {
     "data": {
      "text/plain": [
       "[<matplotlib.lines.Line2D at 0x26ad775dd10>]"
      ]
     },
     "execution_count": 38,
     "metadata": {},
     "output_type": "execute_result"
    },
    {
     "data": {
      "image/png": "[encoded data removed]",
      "text/plain": [
       "<Figure size 640x480 with 1 Axes>"
      ]
     },
     "metadata": {},
     "output_type": "display_data"
    }
   ],
   "source": [
    "plt.scatter(y_test,predictions)\n",
    "plt.plot(y_test,y_test,'r')"
   ]
  },
  {
   "cell_type": "code",
   "execution_count": 39,
   "id": "0ded62eb",
   "metadata": {},
   "outputs": [
    {
     "data": {
      "text/plain": [
       "price                        21990.0\n",
       "avg_rating                       8.1\n",
       "5G_or_not                        0.0\n",
       "processor_speed                  2.2\n",
       "fast_charging_available          1.0\n",
       "fast_charging                   40.0\n",
       "extended_memory_available        1.0\n",
       "battery_capacity_4500.0          0.0\n",
       "battery_capacity_5000.0          0.0\n",
       "battery_capacity_6000.0          0.0\n",
       "primary_camera_rear_48.0         1.0\n",
       "primary_camera_rear_50.0         0.0\n",
       "primary_camera_rear_64.0         0.0\n",
       "primary_camera_rear_108.0        0.0\n",
       "primary_camera_front_8.0         0.0\n",
       "primary_camera_front_16.0        1.0\n",
       "primary_camera_front_32.0        0.0\n",
       "num_cores_8.0                    1.0\n",
       "ram_capacity_4                   0.0\n",
       "ram_capacity_6                   0.0\n",
       "ram_capacity_8                   1.0\n",
       "internal_memory_64               0.0\n",
       "internal_memory_128              1.0\n",
       "internal_memory_256              0.0\n",
       "processor_bionic                 0.0\n",
       "processor_dimensity              0.0\n",
       "processor_helio                  0.0\n",
       "processor_snapdragon             0.0\n",
       "num_rear_cameras_2               0.0\n",
       "num_rear_cameras_3               0.0\n",
       "num_rear_cameras_4               1.0\n",
       "Name: 99, dtype: float64"
      ]
     },
     "execution_count": 39,
     "metadata": {},
     "output_type": "execute_result"
    }
   ],
   "source": [
    "final_data.iloc[33]"
   ]
  },
  {
   "cell_type": "code",
   "execution_count": 40,
   "id": "ed020c66",
   "metadata": {},
   "outputs": [
    {
     "name": "stdout",
     "output_type": "stream",
     "text": [
      "1/1 [==============================] - 0s 48ms/step\n"
     ]
    },
    {
     "name": "stderr",
     "output_type": "stream",
     "text": [
      "C:\\Users\\burak\\anaconda3\\envs\\mytfenv\\Lib\\site-packages\\sklearn\\base.py:464: UserWarning:\n",
      "\n",
      "X does not have valid feature names, but MinMaxScaler was fitted with feature names\n",
      "\n"
     ]
    },
    {
     "data": {
      "text/plain": [
       "array([[19017.746]], dtype=float32)"
      ]
     },
     "execution_count": 40,
     "metadata": {},
     "output_type": "execute_result"
    }
   ],
   "source": [
    "single_phone = final_data.drop('price',axis=1).iloc[33]\n",
    "single_phone = scaler.transform(single_phone.values.reshape(-1, 30))\n",
    "model.predict(single_phone)"
   ]
  },
  {
   "cell_type": "markdown",
   "id": "07b025a8",
   "metadata": {},
   "source": [
    "# Thank you for your interest in my project.\n"
   ]
  }
 ],
 "metadata": {
  "kernelspec": {
   "display_name": "Python 3 (ipykernel)",
   "language": "python",
   "name": "python3"
  },
  "language_info": {
   "codemirror_mode": {
    "name": "ipython",
    "version": 3
   },
   "file_extension": ".py",
   "mimetype": "text/x-python",
   "name": "python",
   "nbconvert_exporter": "python",
   "pygments_lexer": "ipython3",
   "version": "3.11.0"
  }
 },
 "nbformat": 4,
 "nbformat_minor": 5
}

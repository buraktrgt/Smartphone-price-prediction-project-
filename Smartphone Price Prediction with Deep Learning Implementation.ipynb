{
 "cells": [
  {
   "cell_type": "markdown",
   "id": "3a0b8472",
   "metadata": {},
   "source": [
    "# Smartphone Price Prediction"
   ]
  },
  {
   "cell_type": "markdown",
   "id": "7b30b900",
   "metadata": {},
   "source": [
    " "
   ]
  },
  {
   "cell_type": "markdown",
   "id": "e7550b0c",
   "metadata": {},
   "source": [
    "<img src=\"https://i.hizliresim.com/142yb9a.png\" alt=\"Image Alt Text\">\n"
   ]
  },
  {
   "cell_type": "markdown",
   "id": "99ad3184",
   "metadata": {},
   "source": [
    "# We are going to try to predict smartphone prices via implementing deep learning. Let's get started.\n"
   ]
  },
  {
   "cell_type": "markdown",
   "id": "b3d8befa",
   "metadata": {},
   "source": [
    " "
   ]
  },
  {
   "cell_type": "markdown",
   "id": "143d4e4e",
   "metadata": {},
   "source": [
    " "
   ]
  },
  {
   "cell_type": "markdown",
   "id": "c8c558b5",
   "metadata": {},
   "source": [
    "<img src=\"https://i.hizliresim.com/x81791t.png\" alt=\"Im1\">\n"
   ]
  },
  {
   "cell_type": "code",
   "execution_count": 41,
   "id": "001f3c60",
   "metadata": {},
   "outputs": [],
   "source": [
    "import pandas as pd\n",
    "import numpy as np\n",
    "import seaborn as sns\n",
    "import matplotlib.pyplot as plt\n",
    "from plotly.offline import plot,iplot,download_plotlyjs,init_notebook_mode\n",
    "import cufflinks as cf\n",
    "import plotly.express as px"
   ]
  },
  {
   "cell_type": "code",
   "execution_count": 42,
   "id": "19a09270",
   "metadata": {},
   "outputs": [
    {
     "data": {
      "text/html": [
       "        <script type=\"text/javascript\">\n",
       "        window.PlotlyConfig = {MathJaxConfig: 'local'};\n",
       "        if (window.MathJax && window.MathJax.Hub && window.MathJax.Hub.Config) {window.MathJax.Hub.Config({SVG: {font: \"STIX-Web\"}});}\n",
       "        if (typeof require !== 'undefined') {\n",
       "        require.undef(\"plotly\");\n",
       "        requirejs.config({\n",
       "            paths: {\n",
       "                'plotly': ['https://cdn.plot.ly/plotly-2.24.1.min']\n",
       "            }\n",
       "        });\n",
       "        require(['plotly'], function(Plotly) {\n",
       "            window._Plotly = Plotly;\n",
       "        });\n",
       "        }\n",
       "        </script>\n",
       "        "
      ]
     },
     "metadata": {},
     "output_type": "display_data"
    },
    {
     "data": {
      "text/html": [
       "        <script type=\"text/javascript\">\n",
       "        window.PlotlyConfig = {MathJaxConfig: 'local'};\n",
       "        if (window.MathJax && window.MathJax.Hub && window.MathJax.Hub.Config) {window.MathJax.Hub.Config({SVG: {font: \"STIX-Web\"}});}\n",
       "        if (typeof require !== 'undefined') {\n",
       "        require.undef(\"plotly\");\n",
       "        requirejs.config({\n",
       "            paths: {\n",
       "                'plotly': ['https://cdn.plot.ly/plotly-2.24.1.min']\n",
       "            }\n",
       "        });\n",
       "        require(['plotly'], function(Plotly) {\n",
       "            window._Plotly = Plotly;\n",
       "        });\n",
       "        }\n",
       "        </script>\n",
       "        "
      ]
     },
     "metadata": {},
     "output_type": "display_data"
    }
   ],
   "source": [
    "init_notebook_mode(connected=True)\n",
    "cf.go_offline(connected=True)"
   ]
  },
  {
   "cell_type": "code",
   "execution_count": 43,
   "id": "dd84acd6",
   "metadata": {},
   "outputs": [],
   "source": [
    "sp = pd.read_csv('datarepository/smartphones.csv')"
   ]
  },
  {
   "cell_type": "code",
   "execution_count": 44,
   "id": "ede38f44",
   "metadata": {
    "scrolled": true
   },
   "outputs": [
    {
     "name": "stdout",
     "output_type": "stream",
     "text": [
      "<class 'pandas.core.frame.DataFrame'>\n",
      "RangeIndex: 980 entries, 0 to 979\n",
      "Data columns (total 22 columns):\n",
      " #   Column                     Non-Null Count  Dtype  \n",
      "---  ------                     --------------  -----  \n",
      " 0   brand_name                 980 non-null    object \n",
      " 1   model                      980 non-null    object \n",
      " 2   price                      980 non-null    int64  \n",
      " 3   avg_rating                 879 non-null    float64\n",
      " 4   5G_or_not                  980 non-null    int64  \n",
      " 5   processor_brand            960 non-null    object \n",
      " 6   num_cores                  974 non-null    float64\n",
      " 7   processor_speed            938 non-null    float64\n",
      " 8   battery_capacity           969 non-null    float64\n",
      " 9   fast_charging_available    980 non-null    int64  \n",
      " 10  fast_charging              769 non-null    float64\n",
      " 11  ram_capacity               980 non-null    int64  \n",
      " 12  internal_memory            980 non-null    int64  \n",
      " 13  screen_size                980 non-null    float64\n",
      " 14  refresh_rate               980 non-null    int64  \n",
      " 15  num_rear_cameras           980 non-null    int64  \n",
      " 16  os                         966 non-null    object \n",
      " 17  primary_camera_rear        980 non-null    float64\n",
      " 18  primary_camera_front       975 non-null    float64\n",
      " 19  extended_memory_available  980 non-null    int64  \n",
      " 20  resolution_height          980 non-null    int64  \n",
      " 21  resolution_width           980 non-null    int64  \n",
      "dtypes: float64(8), int64(10), object(4)\n",
      "memory usage: 168.6+ KB\n"
     ]
    }
   ],
   "source": [
    "sp.info()"
   ]
  },
  {
   "cell_type": "code",
   "execution_count": 45,
   "id": "e42497a9",
   "metadata": {},
   "outputs": [
    {
     "data": {
      "text/plain": [
       "Text(0.5, 1.0, 'NaN Values')"
      ]
     },
     "execution_count": 45,
     "metadata": {},
     "output_type": "execute_result"
    },
    {
     "data": {
      "image/png": "[encoded data removed]",
      "text/plain": [
       "<Figure size 640x480 with 2 Axes>"
      ]
     },
     "metadata": {},
     "output_type": "display_data"
    }
   ],
   "source": [
    "sns.heatmap(sp.isnull().T,cbar='viridis')\n",
    "plt.title('NaN Values')"
   ]
  },
  {
   "cell_type": "code",
   "execution_count": 46,
   "id": "1e392b82",
   "metadata": {
    "scrolled": true
   },
   "outputs": [
    {
     "data": {
      "text/html": [
       "<div>\n",
       "<style scoped>\n",
       "    .dataframe tbody tr th:only-of-type {\n",
       "        vertical-align: middle;\n",
       "    }\n",
       "\n",
       "    .dataframe tbody tr th {\n",
       "        vertical-align: top;\n",
       "    }\n",
       "\n",
       "    .dataframe thead th {\n",
       "        text-align: right;\n",
       "    }\n",
       "</style>\n",
       "<table border=\"1\" class=\"dataframe\">\n",
       "  <thead>\n",
       "    <tr style=\"text-align: right;\">\n",
       "      <th></th>\n",
       "      <th>brand_name</th>\n",
       "      <th>model</th>\n",
       "      <th>price</th>\n",
       "      <th>avg_rating</th>\n",
       "      <th>5G_or_not</th>\n",
       "      <th>processor_brand</th>\n",
       "      <th>num_cores</th>\n",
       "      <th>processor_speed</th>\n",
       "      <th>battery_capacity</th>\n",
       "      <th>fast_charging_available</th>\n",
       "      <th>...</th>\n",
       "      <th>internal_memory</th>\n",
       "      <th>screen_size</th>\n",
       "      <th>refresh_rate</th>\n",
       "      <th>num_rear_cameras</th>\n",
       "      <th>os</th>\n",
       "      <th>primary_camera_rear</th>\n",
       "      <th>primary_camera_front</th>\n",
       "      <th>extended_memory_available</th>\n",
       "      <th>resolution_height</th>\n",
       "      <th>resolution_width</th>\n",
       "    </tr>\n",
       "  </thead>\n",
       "  <tbody>\n",
       "    <tr>\n",
       "      <th>0</th>\n",
       "      <td>apple</td>\n",
       "      <td>Apple iPhone 11</td>\n",
       "      <td>38999</td>\n",
       "      <td>7.3</td>\n",
       "      <td>0</td>\n",
       "      <td>bionic</td>\n",
       "      <td>6.0</td>\n",
       "      <td>2.65</td>\n",
       "      <td>3110.0</td>\n",
       "      <td>0</td>\n",
       "      <td>...</td>\n",
       "      <td>64</td>\n",
       "      <td>6.1</td>\n",
       "      <td>60</td>\n",
       "      <td>2</td>\n",
       "      <td>ios</td>\n",
       "      <td>12.0</td>\n",
       "      <td>12.0</td>\n",
       "      <td>0</td>\n",
       "      <td>1792</td>\n",
       "      <td>828</td>\n",
       "    </tr>\n",
       "    <tr>\n",
       "      <th>1</th>\n",
       "      <td>apple</td>\n",
       "      <td>Apple iPhone 11 (128GB)</td>\n",
       "      <td>46999</td>\n",
       "      <td>7.5</td>\n",
       "      <td>0</td>\n",
       "      <td>bionic</td>\n",
       "      <td>6.0</td>\n",
       "      <td>2.65</td>\n",
       "      <td>3110.0</td>\n",
       "      <td>0</td>\n",
       "      <td>...</td>\n",
       "      <td>128</td>\n",
       "      <td>6.1</td>\n",
       "      <td>60</td>\n",
       "      <td>2</td>\n",
       "      <td>ios</td>\n",
       "      <td>12.0</td>\n",
       "      <td>12.0</td>\n",
       "      <td>0</td>\n",
       "      <td>1792</td>\n",
       "      <td>828</td>\n",
       "    </tr>\n",
       "    <tr>\n",
       "      <th>2</th>\n",
       "      <td>apple</td>\n",
       "      <td>Apple iPhone 11 Pro Max</td>\n",
       "      <td>109900</td>\n",
       "      <td>7.7</td>\n",
       "      <td>0</td>\n",
       "      <td>bionic</td>\n",
       "      <td>6.0</td>\n",
       "      <td>2.65</td>\n",
       "      <td>3500.0</td>\n",
       "      <td>1</td>\n",
       "      <td>...</td>\n",
       "      <td>64</td>\n",
       "      <td>6.5</td>\n",
       "      <td>60</td>\n",
       "      <td>3</td>\n",
       "      <td>ios</td>\n",
       "      <td>12.0</td>\n",
       "      <td>12.0</td>\n",
       "      <td>0</td>\n",
       "      <td>2688</td>\n",
       "      <td>1242</td>\n",
       "    </tr>\n",
       "    <tr>\n",
       "      <th>3</th>\n",
       "      <td>apple</td>\n",
       "      <td>Apple iPhone 12</td>\n",
       "      <td>51999</td>\n",
       "      <td>7.4</td>\n",
       "      <td>1</td>\n",
       "      <td>bionic</td>\n",
       "      <td>6.0</td>\n",
       "      <td>3.10</td>\n",
       "      <td>NaN</td>\n",
       "      <td>0</td>\n",
       "      <td>...</td>\n",
       "      <td>64</td>\n",
       "      <td>6.1</td>\n",
       "      <td>60</td>\n",
       "      <td>2</td>\n",
       "      <td>ios</td>\n",
       "      <td>12.0</td>\n",
       "      <td>12.0</td>\n",
       "      <td>0</td>\n",
       "      <td>2532</td>\n",
       "      <td>1170</td>\n",
       "    </tr>\n",
       "    <tr>\n",
       "      <th>4</th>\n",
       "      <td>apple</td>\n",
       "      <td>Apple iPhone 12 (128GB)</td>\n",
       "      <td>55999</td>\n",
       "      <td>7.5</td>\n",
       "      <td>1</td>\n",
       "      <td>bionic</td>\n",
       "      <td>6.0</td>\n",
       "      <td>3.10</td>\n",
       "      <td>NaN</td>\n",
       "      <td>0</td>\n",
       "      <td>...</td>\n",
       "      <td>128</td>\n",
       "      <td>6.1</td>\n",
       "      <td>60</td>\n",
       "      <td>2</td>\n",
       "      <td>ios</td>\n",
       "      <td>12.0</td>\n",
       "      <td>12.0</td>\n",
       "      <td>0</td>\n",
       "      <td>2532</td>\n",
       "      <td>1170</td>\n",
       "    </tr>\n",
       "  </tbody>\n",
       "</table>\n",
       "<p>5 rows × 22 columns</p>\n",
       "</div>"
      ],
      "text/plain": [
       "  brand_name                    model   price  avg_rating  5G_or_not  \\\n",
       "0      apple          Apple iPhone 11   38999         7.3          0   \n",
       "1      apple  Apple iPhone 11 (128GB)   46999         7.5          0   \n",
       "2      apple  Apple iPhone 11 Pro Max  109900         7.7          0   \n",
       "3      apple          Apple iPhone 12   51999         7.4          1   \n",
       "4      apple  Apple iPhone 12 (128GB)   55999         7.5          1   \n",
       "\n",
       "  processor_brand  num_cores  processor_speed  battery_capacity  \\\n",
       "0          bionic        6.0             2.65            3110.0   \n",
       "1          bionic        6.0             2.65            3110.0   \n",
       "2          bionic        6.0             2.65            3500.0   \n",
       "3          bionic        6.0             3.10               NaN   \n",
       "4          bionic        6.0             3.10               NaN   \n",
       "\n",
       "   fast_charging_available  ...  internal_memory  screen_size  refresh_rate  \\\n",
       "0                        0  ...               64          6.1            60   \n",
       "1                        0  ...              128          6.1            60   \n",
       "2                        1  ...               64          6.5            60   \n",
       "3                        0  ...               64          6.1            60   \n",
       "4                        0  ...              128          6.1            60   \n",
       "\n",
       "   num_rear_cameras   os  primary_camera_rear primary_camera_front  \\\n",
       "0                 2  ios                 12.0                 12.0   \n",
       "1                 2  ios                 12.0                 12.0   \n",
       "2                 3  ios                 12.0                 12.0   \n",
       "3                 2  ios                 12.0                 12.0   \n",
       "4                 2  ios                 12.0                 12.0   \n",
       "\n",
       "   extended_memory_available  resolution_height  resolution_width  \n",
       "0                          0               1792               828  \n",
       "1                          0               1792               828  \n",
       "2                          0               2688              1242  \n",
       "3                          0               2532              1170  \n",
       "4                          0               2532              1170  \n",
       "\n",
       "[5 rows x 22 columns]"
      ]
     },
     "execution_count": 46,
     "metadata": {},
     "output_type": "execute_result"
    }
   ],
   "source": [
    "sp.head()"
   ]
  },
  {
   "cell_type": "code",
   "execution_count": 47,
   "id": "9a33e95a",
   "metadata": {},
   "outputs": [
    {
     "data": {
      "text/plain": [
       "brand_name\n",
       "xiaomi       134\n",
       "samsung      132\n",
       "vivo         111\n",
       "realme        97\n",
       "oppo          88\n",
       "motorola      52\n",
       "apple         46\n",
       "oneplus       42\n",
       "poco          41\n",
       "tecno         33\n",
       "iqoo          32\n",
       "infinix       29\n",
       "huawei        16\n",
       "google        14\n",
       "honor         13\n",
       "nokia         13\n",
       "itel          10\n",
       "sony           9\n",
       "asus           7\n",
       "nubia          6\n",
       "nothing        5\n",
       "lava           4\n",
       "jio            4\n",
       "micromax       3\n",
       "ikall          3\n",
       "oukitel        3\n",
       "redmi          3\n",
       "lg             3\n",
       "gionee         3\n",
       "letv           3\n",
       "royole         2\n",
       "lyf            2\n",
       "lenovo         2\n",
       "doogee         2\n",
       "zte            2\n",
       "tcl            1\n",
       "blu            1\n",
       "vertu          1\n",
       "tesla          1\n",
       "cat            1\n",
       "leeco          1\n",
       "cola           1\n",
       "sharp          1\n",
       "duoqin         1\n",
       "leitz          1\n",
       "blackview      1\n",
       "Name: count, dtype: int64"
      ]
     },
     "execution_count": 47,
     "metadata": {},
     "output_type": "execute_result"
    }
   ],
   "source": [
    "brand_counts = sp['brand_name'].value_counts().sort_values(ascending=False)\n",
    "brand_counts"
   ]
  },
  {
   "cell_type": "markdown",
   "id": "e45c860d",
   "metadata": {},
   "source": [
    "# In order to obstacle the outliers presence , we create a new variable which includes the datas which smartphone count is higher than five. Otherwise this situation is going to affect our deep learning implementations and visualizations negatively."
   ]
  },
  {
   "cell_type": "markdown",
   "id": "aa835bd7",
   "metadata": {},
   "source": [
    " "
   ]
  },
  {
   "cell_type": "code",
   "execution_count": 48,
   "id": "f31ce7e3",
   "metadata": {},
   "outputs": [],
   "source": [
    "brand_counts_higher_than_5 = brand_counts[brand_counts>5]"
   ]
  },
  {
   "cell_type": "code",
   "execution_count": 49,
   "id": "cc8549f3",
   "metadata": {},
   "outputs": [
    {
     "data": {
      "text/plain": [
       "brand_name\n",
       "xiaomi      134\n",
       "samsung     132\n",
       "vivo        111\n",
       "realme       97\n",
       "oppo         88\n",
       "motorola     52\n",
       "apple        46\n",
       "oneplus      42\n",
       "poco         41\n",
       "tecno        33\n",
       "iqoo         32\n",
       "infinix      29\n",
       "huawei       16\n",
       "google       14\n",
       "honor        13\n",
       "nokia        13\n",
       "itel         10\n",
       "sony          9\n",
       "asus          7\n",
       "nubia         6\n",
       "Name: count, dtype: int64"
      ]
     },
     "execution_count": 49,
     "metadata": {},
     "output_type": "execute_result"
    }
   ],
   "source": [
    "brand_counts_higher_than_5"
   ]
  },
  {
   "cell_type": "markdown",
   "id": "b769f118",
   "metadata": {},
   "source": [
    "# Dropping datas which amount is less than 5 "
   ]
  },
  {
   "cell_type": "markdown",
   "id": "110c92a0",
   "metadata": {},
   "source": [
    " "
   ]
  },
  {
   "cell_type": "code",
   "execution_count": 50,
   "id": "534034bc",
   "metadata": {},
   "outputs": [],
   "source": [
    "indexes_bcht5 = sp[~sp['brand_name'].isin(brand_counts_higher_than_5.index)].index.tolist()\n",
    "len(indexes_bcht5)\n",
    "for ind in indexes_bcht5:\n",
    "    sp.drop(index=ind,inplace=True)"
   ]
  },
  {
   "cell_type": "code",
   "execution_count": 51,
   "id": "9162aff1",
   "metadata": {},
   "outputs": [
    {
     "name": "stderr",
     "output_type": "stream",
     "text": [
      "C:\\Users\\burak\\AppData\\Local\\Temp\\ipykernel_10440\\3280767819.py:1: UserWarning:\n",
      "\n",
      "\n",
      "\n",
      "`distplot` is a deprecated function and will be removed in seaborn v0.14.0.\n",
      "\n",
      "Please adapt your code to use either `displot` (a figure-level function with\n",
      "similar flexibility) or `histplot` (an axes-level function for histograms).\n",
      "\n",
      "For a guide to updating your code to use the new functions, please see\n",
      "https://gist.github.com/mwaskom/de44147ed2974457ad6372750bbe5751\n",
      "\n",
      "\n"
     ]
    },
    {
     "data": {
      "text/plain": [
       "<Axes: xlabel='price', ylabel='Density'>"
      ]
     },
     "execution_count": 51,
     "metadata": {},
     "output_type": "execute_result"
    },
    {
     "data": {
      "image/png": "[encoded data removed]",
      "text/plain": [
       "<Figure size 640x480 with 1 Axes>"
      ]
     },
     "metadata": {},
     "output_type": "display_data"
    }
   ],
   "source": [
    "sns.distplot(sp['price'])"
   ]
  },
  {
   "cell_type": "code",
   "execution_count": 52,
   "id": "ca482b61",
   "metadata": {},
   "outputs": [
    {
     "data": {
      "text/plain": [
       "Text(0.5, 1.0, 'Count of brands smartphones')"
      ]
     },
     "execution_count": 52,
     "metadata": {},
     "output_type": "execute_result"
    },
    {
     "data": {
      "image/png": "[encoded data removed]",
      "text/plain": [
       "<Figure size 1000x600 with 1 Axes>"
      ]
     },
     "metadata": {},
     "output_type": "display_data"
    }
   ],
   "source": [
    "sns.set_style('darkgrid')\n",
    "plt.figure(figsize=(10,6))\n",
    "sns.countplot(y='brand_name', data=sp, order=brand_counts_higher_than_5.index)\n",
    "plt.tight_layout()\n",
    "plt.title('Count of brands smartphones')"
   ]
  },
  {
   "cell_type": "code",
   "execution_count": 53,
   "id": "de3919ac",
   "metadata": {
    "scrolled": false
   },
   "outputs": [
    {
     "data": {
      "text/plain": [
       "Text(0.5, 1.0, 'Avg. battery capacities of brands smartphones')"
      ]
     },
     "execution_count": 53,
     "metadata": {},
     "output_type": "execute_result"
    },
    {
     "data": {
      "image/png": "[encoded data removed]",
      "text/plain": [
       "<Figure size 1200x800 with 1 Axes>"
      ]
     },
     "metadata": {},
     "output_type": "display_data"
    }
   ],
   "source": [
    "plt.figure(figsize=(12,8))\n",
    "sns.barplot(x=sp.groupby('brand_name')['battery_capacity'].mean().sort_values(ascending=False),y=sp.groupby('brand_name')['battery_capacity'].mean().index)\n",
    "plt.tight_layout()\n",
    "plt.title('Avg. battery capacities of brands smartphones')"
   ]
  },
  {
   "cell_type": "code",
   "execution_count": 54,
   "id": "fe32646b",
   "metadata": {},
   "outputs": [
    {
     "data": {
      "text/plain": [
       "Text(0.5, 1.0, 'Avg. processor speed of brands smartphones')"
      ]
     },
     "execution_count": 54,
     "metadata": {},
     "output_type": "execute_result"
    },
    {
     "data": {
      "image/png": "[encoded data removed]",
      "text/plain": [
       "<Figure size 1200x800 with 1 Axes>"
      ]
     },
     "metadata": {},
     "output_type": "display_data"
    }
   ],
   "source": [
    "plt.figure(figsize=(12,8))\n",
    "sns.barplot(x=sp.groupby('brand_name')['processor_speed'].mean().sort_values(ascending=False),y=sp.groupby('brand_name')['processor_speed'].mean().index)\n",
    "plt.tight_layout()\n",
    "plt.title('Avg. processor speed of brands smartphones')"
   ]
  },
  {
   "cell_type": "code",
   "execution_count": 55,
   "id": "3b49d718",
   "metadata": {},
   "outputs": [
    {
     "data": {
      "text/plain": [
       "Text(0.5, 1.0, 'Avg. price of brands smartphones')"
      ]
     },
     "execution_count": 55,
     "metadata": {},
     "output_type": "execute_result"
    },
    {
     "data": {
      "image/png": "[encoded data removed]",
      "text/plain": [
       "<Figure size 1200x800 with 1 Axes>"
      ]
     },
     "metadata": {},
     "output_type": "display_data"
    }
   ],
   "source": [
    "brand_prices = sp.groupby('brand_name')['price'].mean()\n",
    "plt.figure(figsize=(12,8))\n",
    "sns.barplot(y=brand_prices.index,x=brand_prices.sort_values(ascending=False))\n",
    "plt.tight_layout()\n",
    "plt.title('Avg. price of brands smartphones')"
   ]
  },
  {
   "cell_type": "code",
   "execution_count": 56,
   "id": "74f61f6e",
   "metadata": {},
   "outputs": [
    {
     "data": {
      "application/vnd.plotly.v1+json": {
       "config": {
        "plotlyServerURL": "https://plot.ly"
       },
       "data": [
        {
         "alignmentgroup": "True",
         "hovertemplate": "Brand Name=%{x}<br>Average Rating=%{y}<extra></extra>",
         "legendgroup": "",
         "marker": {
          "color": "#636efa",
          "pattern": {
           "shape": ""
          }
         },
         "name": "",
         "offsetgroup": "",
         "orientation": "v",
         "showlegend": false,
         "textposition": "auto",
         "type": "bar",
         "x": [
          "apple",
          "asus",
          "google",
          "honor",
          "huawei",
          "infinix",
          "iqoo",
          "itel",
          "motorola",
          "nokia",
          "nubia",
          "oneplus",
          "oppo",
          "poco",
          "realme",
          "samsung",
          "sony",
          "tecno",
          "vivo",
          "xiaomi"
         ],
         "xaxis": "x",
         "y": [
          8.700000000000001,
          8.433333333333334,
          8.223684210526315,
          8.221875,
          8.142857142857142,
          8.010416666666666,
          8,
          7.8776,
          7.873170731707317,
          7.872413793103449,
          7.87,
          7.818181818181818,
          7.733333333333333,
          7.715625,
          7.679545454545454,
          7.644565217391304,
          7.628571428571428,
          7.529999999999999,
          7.367741935483871,
          6.1
         ],
         "yaxis": "y"
        }
       ],
       "layout": {
        "barmode": "relative",
        "legend": {
         "tracegroupgap": 0
        },
        "template": {
         "data": {
          "bar": [
           {
            "error_x": {
             "color": "#2a3f5f"
            },
            "error_y": {
             "color": "#2a3f5f"
            },
            "marker": {
             "line": {
              "color": "#E5ECF6",
              "width": 0.5
             },
             "pattern": {
              "fillmode": "overlay",
              "size": 10,
              "solidity": 0.2
             }
            },
            "type": "bar"
           }
          ],
          "barpolar": [
           {
            "marker": {
             "line": {
              "color": "#E5ECF6",
              "width": 0.5
             },
             "pattern": {
              "fillmode": "overlay",
              "size": 10,
              "solidity": 0.2
             }
            },
            "type": "barpolar"
           }
          ],
          "carpet": [
           {
            "aaxis": {
             "endlinecolor": "#2a3f5f",
             "gridcolor": "white",
             "linecolor": "white",
             "minorgridcolor": "white",
             "startlinecolor": "#2a3f5f"
            },
            "baxis": {
             "endlinecolor": "#2a3f5f",
             "gridcolor": "white",
             "linecolor": "white",
             "minorgridcolor": "white",
             "startlinecolor": "#2a3f5f"
            },
            "type": "carpet"
           }
          ],
          "choropleth": [
           {
            "colorbar": {
             "outlinewidth": 0,
             "ticks": ""
            },
            "type": "choropleth"
           }
          ],
          "contour": [
           {
            "colorbar": {
             "outlinewidth": 0,
             "ticks": ""
            },
            "colorscale": [
             [
              0,
              "#0d0887"
             ],
             [
              0.1111111111111111,
              "#46039f"
             ],
             [
              0.2222222222222222,
              "#7201a8"
             ],
             [
              0.3333333333333333,
              "#9c179e"
             ],
             [
              0.4444444444444444,
              "#bd3786"
             ],
             [
              0.5555555555555556,
              "#d8576b"
             ],
             [
              0.6666666666666666,
              "#ed7953"
             ],
             [
              0.7777777777777778,
              "#fb9f3a"
             ],
             [
              0.8888888888888888,
              "#fdca26"
             ],
             [
              1,
              "#f0f921"
             ]
            ],
            "type": "contour"
           }
          ],
          "contourcarpet": [
           {
            "colorbar": {
             "outlinewidth": 0,
             "ticks": ""
            },
            "type": "contourcarpet"
           }
          ],
          "heatmap": [
           {
            "colorbar": {
             "outlinewidth": 0,
             "ticks": ""
            },
            "colorscale": [
             [
              0,
              "#0d0887"
             ],
             [
              0.1111111111111111,
              "#46039f"
             ],
             [
              0.2222222222222222,
              "#7201a8"
             ],
             [
              0.3333333333333333,
              "#9c179e"
             ],
             [
              0.4444444444444444,
              "#bd3786"
             ],
             [
              0.5555555555555556,
              "#d8576b"
             ],
             [
              0.6666666666666666,
              "#ed7953"
             ],
             [
              0.7777777777777778,
              "#fb9f3a"
             ],
             [
              0.8888888888888888,
              "#fdca26"
             ],
             [
              1,
              "#f0f921"
             ]
            ],
            "type": "heatmap"
           }
          ],
          "heatmapgl": [
           {
            "colorbar": {
             "outlinewidth": 0,
             "ticks": ""
            },
            "colorscale": [
             [
              0,
              "#0d0887"
             ],
             [
              0.1111111111111111,
              "#46039f"
             ],
             [
              0.2222222222222222,
              "#7201a8"
             ],
             [
              0.3333333333333333,
              "#9c179e"
             ],
             [
              0.4444444444444444,
              "#bd3786"
             ],
             [
              0.5555555555555556,
              "#d8576b"
             ],
             [
              0.6666666666666666,
              "#ed7953"
             ],
             [
              0.7777777777777778,
              "#fb9f3a"
             ],
             [
              0.8888888888888888,
              "#fdca26"
             ],
             [
              1,
              "#f0f921"
             ]
            ],
            "type": "heatmapgl"
           }
          ],
          "histogram": [
           {
            "marker": {
             "pattern": {
              "fillmode": "overlay",
              "size": 10,
              "solidity": 0.2
             }
            },
            "type": "histogram"
           }
          ],
          "histogram2d": [
           {
            "colorbar": {
             "outlinewidth": 0,
             "ticks": ""
            },
            "colorscale": [
             [
              0,
              "#0d0887"
             ],
             [
              0.1111111111111111,
              "#46039f"
             ],
             [
              0.2222222222222222,
              "#7201a8"
             ],
             [
              0.3333333333333333,
              "#9c179e"
             ],
             [
              0.4444444444444444,
              "#bd3786"
             ],
             [
              0.5555555555555556,
              "#d8576b"
             ],
             [
              0.6666666666666666,
              "#ed7953"
             ],
             [
              0.7777777777777778,
              "#fb9f3a"
             ],
             [
              0.8888888888888888,
              "#fdca26"
             ],
             [
              1,
              "#f0f921"
             ]
            ],
            "type": "histogram2d"
           }
          ],
          "histogram2dcontour": [
           {
            "colorbar": {
             "outlinewidth": 0,
             "ticks": ""
            },
            "colorscale": [
             [
              0,
              "#0d0887"
             ],
             [
              0.1111111111111111,
              "#46039f"
             ],
             [
              0.2222222222222222,
              "#7201a8"
             ],
             [
              0.3333333333333333,
              "#9c179e"
             ],
             [
              0.4444444444444444,
              "#bd3786"
             ],
             [
              0.5555555555555556,
              "#d8576b"
             ],
             [
              0.6666666666666666,
              "#ed7953"
             ],
             [
              0.7777777777777778,
              "#fb9f3a"
             ],
             [
              0.8888888888888888,
              "#fdca26"
             ],
             [
              1,
              "#f0f921"
             ]
            ],
            "type": "histogram2dcontour"
           }
          ],
          "mesh3d": [
           {
            "colorbar": {
             "outlinewidth": 0,
             "ticks": ""
            },
            "type": "mesh3d"
           }
          ],
          "parcoords": [
           {
            "line": {
             "colorbar": {
              "outlinewidth": 0,
              "ticks": ""
             }
            },
            "type": "parcoords"
           }
          ],
          "pie": [
           {
            "automargin": true,
            "type": "pie"
           }
          ],
          "scatter": [
           {
            "fillpattern": {
             "fillmode": "overlay",
             "size": 10,
             "solidity": 0.2
            },
            "type": "scatter"
           }
          ],
          "scatter3d": [
           {
            "line": {
             "colorbar": {
              "outlinewidth": 0,
              "ticks": ""
             }
            },
            "marker": {
             "colorbar": {
              "outlinewidth": 0,
              "ticks": ""
             }
            },
            "type": "scatter3d"
           }
          ],
          "scattercarpet": [
           {
            "marker": {
             "colorbar": {
              "outlinewidth": 0,
              "ticks": ""
             }
            },
            "type": "scattercarpet"
           }
          ],
          "scattergeo": [
           {
            "marker": {
             "colorbar": {
              "outlinewidth": 0,
              "ticks": ""
             }
            },
            "type": "scattergeo"
           }
          ],
          "scattergl": [
           {
            "marker": {
             "colorbar": {
              "outlinewidth": 0,
              "ticks": ""
             }
            },
            "type": "scattergl"
           }
          ],
          "scattermapbox": [
           {
            "marker": {
             "colorbar": {
              "outlinewidth": 0,
              "ticks": ""
             }
            },
            "type": "scattermapbox"
           }
          ],
          "scatterpolar": [
           {
            "marker": {
             "colorbar": {
              "outlinewidth": 0,
              "ticks": ""
             }
            },
            "type": "scatterpolar"
           }
          ],
          "scatterpolargl": [
           {
            "marker": {
             "colorbar": {
              "outlinewidth": 0,
              "ticks": ""
             }
            },
            "type": "scatterpolargl"
           }
          ],
          "scatterternary": [
           {
            "marker": {
             "colorbar": {
              "outlinewidth": 0,
              "ticks": ""
             }
            },
            "type": "scatterternary"
           }
          ],
          "surface": [
           {
            "colorbar": {
             "outlinewidth": 0,
             "ticks": ""
            },
            "colorscale": [
             [
              0,
              "#0d0887"
             ],
             [
              0.1111111111111111,
              "#46039f"
             ],
             [
              0.2222222222222222,
              "#7201a8"
             ],
             [
              0.3333333333333333,
              "#9c179e"
             ],
             [
              0.4444444444444444,
              "#bd3786"
             ],
             [
              0.5555555555555556,
              "#d8576b"
             ],
             [
              0.6666666666666666,
              "#ed7953"
             ],
             [
              0.7777777777777778,
              "#fb9f3a"
             ],
             [
              0.8888888888888888,
              "#fdca26"
             ],
             [
              1,
              "#f0f921"
             ]
            ],
            "type": "surface"
           }
          ],
          "table": [
           {
            "cells": {
             "fill": {
              "color": "#EBF0F8"
             },
             "line": {
              "color": "white"
             }
            },
            "header": {
             "fill": {
              "color": "#C8D4E3"
             },
             "line": {
              "color": "white"
             }
            },
            "type": "table"
           }
          ]
         },
         "layout": {
          "annotationdefaults": {
           "arrowcolor": "#2a3f5f",
           "arrowhead": 0,
           "arrowwidth": 1
          },
          "autotypenumbers": "strict",
          "coloraxis": {
           "colorbar": {
            "outlinewidth": 0,
            "ticks": ""
           }
          },
          "colorscale": {
           "diverging": [
            [
             0,
             "#8e0152"
            ],
            [
             0.1,
             "#c51b7d"
            ],
            [
             0.2,
             "#de77ae"
            ],
            [
             0.3,
             "#f1b6da"
            ],
            [
             0.4,
             "#fde0ef"
            ],
            [
             0.5,
             "#f7f7f7"
            ],
            [
             0.6,
             "#e6f5d0"
            ],
            [
             0.7,
             "#b8e186"
            ],
            [
             0.8,
             "#7fbc41"
            ],
            [
             0.9,
             "#4d9221"
            ],
            [
             1,
             "#276419"
            ]
           ],
           "sequential": [
            [
             0,
             "#0d0887"
            ],
            [
             0.1111111111111111,
             "#46039f"
            ],
            [
             0.2222222222222222,
             "#7201a8"
            ],
            [
             0.3333333333333333,
             "#9c179e"
            ],
            [
             0.4444444444444444,
             "#bd3786"
            ],
            [
             0.5555555555555556,
             "#d8576b"
            ],
            [
             0.6666666666666666,
             "#ed7953"
            ],
            [
             0.7777777777777778,
             "#fb9f3a"
            ],
            [
             0.8888888888888888,
             "#fdca26"
            ],
            [
             1,
             "#f0f921"
            ]
           ],
           "sequentialminus": [
            [
             0,
             "#0d0887"
            ],
            [
             0.1111111111111111,
             "#46039f"
            ],
            [
             0.2222222222222222,
             "#7201a8"
            ],
            [
             0.3333333333333333,
             "#9c179e"
            ],
            [
             0.4444444444444444,
             "#bd3786"
            ],
            [
             0.5555555555555556,
             "#d8576b"
            ],
            [
             0.6666666666666666,
             "#ed7953"
            ],
            [
             0.7777777777777778,
             "#fb9f3a"
            ],
            [
             0.8888888888888888,
             "#fdca26"
            ],
            [
             1,
             "#f0f921"
            ]
           ]
          },
          "colorway": [
           "#636efa",
           "#EF553B",
           "#00cc96",
           "#ab63fa",
           "#FFA15A",
           "#19d3f3",
           "#FF6692",
           "#B6E880",
           "#FF97FF",
           "#FECB52"
          ],
          "font": {
           "color": "#2a3f5f"
          },
          "geo": {
           "bgcolor": "white",
           "lakecolor": "white",
           "landcolor": "#E5ECF6",
           "showlakes": true,
           "showland": true,
           "subunitcolor": "white"
          },
          "hoverlabel": {
           "align": "left"
          },
          "hovermode": "closest",
          "mapbox": {
           "style": "light"
          },
          "paper_bgcolor": "white",
          "plot_bgcolor": "#E5ECF6",
          "polar": {
           "angularaxis": {
            "gridcolor": "white",
            "linecolor": "white",
            "ticks": ""
           },
           "bgcolor": "#E5ECF6",
           "radialaxis": {
            "gridcolor": "white",
            "linecolor": "white",
            "ticks": ""
           }
          },
          "scene": {
           "xaxis": {
            "backgroundcolor": "#E5ECF6",
            "gridcolor": "white",
            "gridwidth": 2,
            "linecolor": "white",
            "showbackground": true,
            "ticks": "",
            "zerolinecolor": "white"
           },
           "yaxis": {
            "backgroundcolor": "#E5ECF6",
            "gridcolor": "white",
            "gridwidth": 2,
            "linecolor": "white",
            "showbackground": true,
            "ticks": "",
            "zerolinecolor": "white"
           },
           "zaxis": {
            "backgroundcolor": "#E5ECF6",
            "gridcolor": "white",
            "gridwidth": 2,
            "linecolor": "white",
            "showbackground": true,
            "ticks": "",
            "zerolinecolor": "white"
           }
          },
          "shapedefaults": {
           "line": {
            "color": "#2a3f5f"
           }
          },
          "ternary": {
           "aaxis": {
            "gridcolor": "white",
            "linecolor": "white",
            "ticks": ""
           },
           "baxis": {
            "gridcolor": "white",
            "linecolor": "white",
            "ticks": ""
           },
           "bgcolor": "#E5ECF6",
           "caxis": {
            "gridcolor": "white",
            "linecolor": "white",
            "ticks": ""
           }
          },
          "title": {
           "x": 0.05
          },
          "xaxis": {
           "automargin": true,
           "gridcolor": "white",
           "linecolor": "white",
           "ticks": "",
           "title": {
            "standoff": 15
           },
           "zerolinecolor": "white",
           "zerolinewidth": 2
          },
          "yaxis": {
           "automargin": true,
           "gridcolor": "white",
           "linecolor": "white",
           "ticks": "",
           "title": {
            "standoff": 15
           },
           "zerolinecolor": "white",
           "zerolinewidth": 2
          }
         }
        },
        "title": {
         "text": "Avg. rating of brands smartphones"
        },
        "xaxis": {
         "anchor": "y",
         "domain": [
          0,
          1
         ],
         "title": {
          "text": "Brand Name"
         }
        },
        "yaxis": {
         "anchor": "x",
         "domain": [
          0,
          1
         ],
         "title": {
          "text": "Average Rating"
         }
        }
       }
      },
      "text/html": [
       "<div>                            <div id=\"42d54b59-187b-40ca-b040-898e7edc58f9\" class=\"plotly-graph-div\" style=\"height:525px; width:100%;\"></div>            <script type=\"text/javascript\">                require([\"plotly\"], function(Plotly) {                    window.PLOTLYENV=window.PLOTLYENV || {};                                    if (document.getElementById(\"42d54b59-187b-40ca-b040-898e7edc58f9\")) {                    Plotly.newPlot(                        \"42d54b59-187b-40ca-b040-898e7edc58f9\",                        [{\"alignmentgroup\":\"True\",\"hovertemplate\":\"Brand Name=%{x}\\u003cbr\\u003eAverage Rating=%{y}\\u003cextra\\u003e\\u003c\\u002fextra\\u003e\",\"legendgroup\":\"\",\"marker\":{\"color\":\"#636efa\",\"pattern\":{\"shape\":\"\"}},\"name\":\"\",\"offsetgroup\":\"\",\"orientation\":\"v\",\"showlegend\":false,\"textposition\":\"auto\",\"x\":[\"apple\",\"asus\",\"google\",\"honor\",\"huawei\",\"infinix\",\"iqoo\",\"itel\",\"motorola\",\"nokia\",\"nubia\",\"oneplus\",\"oppo\",\"poco\",\"realme\",\"samsung\",\"sony\",\"tecno\",\"vivo\",\"xiaomi\"],\"xaxis\":\"x\",\"y\":[8.700000000000001,8.433333333333334,8.223684210526315,8.221875,8.142857142857142,8.010416666666666,8.0,7.8776,7.873170731707317,7.872413793103449,7.87,7.818181818181818,7.733333333333333,7.715625,7.679545454545454,7.644565217391304,7.628571428571428,7.529999999999999,7.367741935483871,6.1],\"yaxis\":\"y\",\"type\":\"bar\"}],                        {\"template\":{\"data\":{\"histogram2dcontour\":[{\"type\":\"histogram2dcontour\",\"colorbar\":{\"outlinewidth\":0,\"ticks\":\"\"},\"colorscale\":[[0.0,\"#0d0887\"],[0.1111111111111111,\"#46039f\"],[0.2222222222222222,\"#7201a8\"],[0.3333333333333333,\"#9c179e\"],[0.4444444444444444,\"#bd3786\"],[0.5555555555555556,\"#d8576b\"],[0.6666666666666666,\"#ed7953\"],[0.7777777777777778,\"#fb9f3a\"],[0.8888888888888888,\"#fdca26\"],[1.0,\"#f0f921\"]]}],\"choropleth\":[{\"type\":\"choropleth\",\"colorbar\":{\"outlinewidth\":0,\"ticks\":\"\"}}],\"histogram2d\":[{\"type\":\"histogram2d\",\"colorbar\":{\"outlinewidth\":0,\"ticks\":\"\"},\"colorscale\":[[0.0,\"#0d0887\"],[0.1111111111111111,\"#46039f\"],[0.2222222222222222,\"#7201a8\"],[0.3333333333333333,\"#9c179e\"],[0.4444444444444444,\"#bd3786\"],[0.5555555555555556,\"#d8576b\"],[0.6666666666666666,\"#ed7953\"],[0.7777777777777778,\"#fb9f3a\"],[0.8888888888888888,\"#fdca26\"],[1.0,\"#f0f921\"]]}],\"heatmap\":[{\"type\":\"heatmap\",\"colorbar\":{\"outlinewidth\":0,\"ticks\":\"\"},\"colorscale\":[[0.0,\"#0d0887\"],[0.1111111111111111,\"#46039f\"],[0.2222222222222222,\"#7201a8\"],[0.3333333333333333,\"#9c179e\"],[0.4444444444444444,\"#bd3786\"],[0.5555555555555556,\"#d8576b\"],[0.6666666666666666,\"#ed7953\"],[0.7777777777777778,\"#fb9f3a\"],[0.8888888888888888,\"#fdca26\"],[1.0,\"#f0f921\"]]}],\"heatmapgl\":[{\"type\":\"heatmapgl\",\"colorbar\":{\"outlinewidth\":0,\"ticks\":\"\"},\"colorscale\":[[0.0,\"#0d0887\"],[0.1111111111111111,\"#46039f\"],[0.2222222222222222,\"#7201a8\"],[0.3333333333333333,\"#9c179e\"],[0.4444444444444444,\"#bd3786\"],[0.5555555555555556,\"#d8576b\"],[0.6666666666666666,\"#ed7953\"],[0.7777777777777778,\"#fb9f3a\"],[0.8888888888888888,\"#fdca26\"],[1.0,\"#f0f921\"]]}],\"contourcarpet\":[{\"type\":\"contourcarpet\",\"colorbar\":{\"outlinewidth\":0,\"ticks\":\"\"}}],\"contour\":[{\"type\":\"contour\",\"colorbar\":{\"outlinewidth\":0,\"ticks\":\"\"},\"colorscale\":[[0.0,\"#0d0887\"],[0.1111111111111111,\"#46039f\"],[0.2222222222222222,\"#7201a8\"],[0.3333333333333333,\"#9c179e\"],[0.4444444444444444,\"#bd3786\"],[0.5555555555555556,\"#d8576b\"],[0.6666666666666666,\"#ed7953\"],[0.7777777777777778,\"#fb9f3a\"],[0.8888888888888888,\"#fdca26\"],[1.0,\"#f0f921\"]]}],\"surface\":[{\"type\":\"surface\",\"colorbar\":{\"outlinewidth\":0,\"ticks\":\"\"},\"colorscale\":[[0.0,\"#0d0887\"],[0.1111111111111111,\"#46039f\"],[0.2222222222222222,\"#7201a8\"],[0.3333333333333333,\"#9c179e\"],[0.4444444444444444,\"#bd3786\"],[0.5555555555555556,\"#d8576b\"],[0.6666666666666666,\"#ed7953\"],[0.7777777777777778,\"#fb9f3a\"],[0.8888888888888888,\"#fdca26\"],[1.0,\"#f0f921\"]]}],\"mesh3d\":[{\"type\":\"mesh3d\",\"colorbar\":{\"outlinewidth\":0,\"ticks\":\"\"}}],\"scatter\":[{\"fillpattern\":{\"fillmode\":\"overlay\",\"size\":10,\"solidity\":0.2},\"type\":\"scatter\"}],\"parcoords\":[{\"type\":\"parcoords\",\"line\":{\"colorbar\":{\"outlinewidth\":0,\"ticks\":\"\"}}}],\"scatterpolargl\":[{\"type\":\"scatterpolargl\",\"marker\":{\"colorbar\":{\"outlinewidth\":0,\"ticks\":\"\"}}}],\"bar\":[{\"error_x\":{\"color\":\"#2a3f5f\"},\"error_y\":{\"color\":\"#2a3f5f\"},\"marker\":{\"line\":{\"color\":\"#E5ECF6\",\"width\":0.5},\"pattern\":{\"fillmode\":\"overlay\",\"size\":10,\"solidity\":0.2}},\"type\":\"bar\"}],\"scattergeo\":[{\"type\":\"scattergeo\",\"marker\":{\"colorbar\":{\"outlinewidth\":0,\"ticks\":\"\"}}}],\"scatterpolar\":[{\"type\":\"scatterpolar\",\"marker\":{\"colorbar\":{\"outlinewidth\":0,\"ticks\":\"\"}}}],\"histogram\":[{\"marker\":{\"pattern\":{\"fillmode\":\"overlay\",\"size\":10,\"solidity\":0.2}},\"type\":\"histogram\"}],\"scattergl\":[{\"type\":\"scattergl\",\"marker\":{\"colorbar\":{\"outlinewidth\":0,\"ticks\":\"\"}}}],\"scatter3d\":[{\"type\":\"scatter3d\",\"line\":{\"colorbar\":{\"outlinewidth\":0,\"ticks\":\"\"}},\"marker\":{\"colorbar\":{\"outlinewidth\":0,\"ticks\":\"\"}}}],\"scattermapbox\":[{\"type\":\"scattermapbox\",\"marker\":{\"colorbar\":{\"outlinewidth\":0,\"ticks\":\"\"}}}],\"scatterternary\":[{\"type\":\"scatterternary\",\"marker\":{\"colorbar\":{\"outlinewidth\":0,\"ticks\":\"\"}}}],\"scattercarpet\":[{\"type\":\"scattercarpet\",\"marker\":{\"colorbar\":{\"outlinewidth\":0,\"ticks\":\"\"}}}],\"carpet\":[{\"aaxis\":{\"endlinecolor\":\"#2a3f5f\",\"gridcolor\":\"white\",\"linecolor\":\"white\",\"minorgridcolor\":\"white\",\"startlinecolor\":\"#2a3f5f\"},\"baxis\":{\"endlinecolor\":\"#2a3f5f\",\"gridcolor\":\"white\",\"linecolor\":\"white\",\"minorgridcolor\":\"white\",\"startlinecolor\":\"#2a3f5f\"},\"type\":\"carpet\"}],\"table\":[{\"cells\":{\"fill\":{\"color\":\"#EBF0F8\"},\"line\":{\"color\":\"white\"}},\"header\":{\"fill\":{\"color\":\"#C8D4E3\"},\"line\":{\"color\":\"white\"}},\"type\":\"table\"}],\"barpolar\":[{\"marker\":{\"line\":{\"color\":\"#E5ECF6\",\"width\":0.5},\"pattern\":{\"fillmode\":\"overlay\",\"size\":10,\"solidity\":0.2}},\"type\":\"barpolar\"}],\"pie\":[{\"automargin\":true,\"type\":\"pie\"}]},\"layout\":{\"autotypenumbers\":\"strict\",\"colorway\":[\"#636efa\",\"#EF553B\",\"#00cc96\",\"#ab63fa\",\"#FFA15A\",\"#19d3f3\",\"#FF6692\",\"#B6E880\",\"#FF97FF\",\"#FECB52\"],\"font\":{\"color\":\"#2a3f5f\"},\"hovermode\":\"closest\",\"hoverlabel\":{\"align\":\"left\"},\"paper_bgcolor\":\"white\",\"plot_bgcolor\":\"#E5ECF6\",\"polar\":{\"bgcolor\":\"#E5ECF6\",\"angularaxis\":{\"gridcolor\":\"white\",\"linecolor\":\"white\",\"ticks\":\"\"},\"radialaxis\":{\"gridcolor\":\"white\",\"linecolor\":\"white\",\"ticks\":\"\"}},\"ternary\":{\"bgcolor\":\"#E5ECF6\",\"aaxis\":{\"gridcolor\":\"white\",\"linecolor\":\"white\",\"ticks\":\"\"},\"baxis\":{\"gridcolor\":\"white\",\"linecolor\":\"white\",\"ticks\":\"\"},\"caxis\":{\"gridcolor\":\"white\",\"linecolor\":\"white\",\"ticks\":\"\"}},\"coloraxis\":{\"colorbar\":{\"outlinewidth\":0,\"ticks\":\"\"}},\"colorscale\":{\"sequential\":[[0.0,\"#0d0887\"],[0.1111111111111111,\"#46039f\"],[0.2222222222222222,\"#7201a8\"],[0.3333333333333333,\"#9c179e\"],[0.4444444444444444,\"#bd3786\"],[0.5555555555555556,\"#d8576b\"],[0.6666666666666666,\"#ed7953\"],[0.7777777777777778,\"#fb9f3a\"],[0.8888888888888888,\"#fdca26\"],[1.0,\"#f0f921\"]],\"sequentialminus\":[[0.0,\"#0d0887\"],[0.1111111111111111,\"#46039f\"],[0.2222222222222222,\"#7201a8\"],[0.3333333333333333,\"#9c179e\"],[0.4444444444444444,\"#bd3786\"],[0.5555555555555556,\"#d8576b\"],[0.6666666666666666,\"#ed7953\"],[0.7777777777777778,\"#fb9f3a\"],[0.8888888888888888,\"#fdca26\"],[1.0,\"#f0f921\"]],\"diverging\":[[0,\"#8e0152\"],[0.1,\"#c51b7d\"],[0.2,\"#de77ae\"],[0.3,\"#f1b6da\"],[0.4,\"#fde0ef\"],[0.5,\"#f7f7f7\"],[0.6,\"#e6f5d0\"],[0.7,\"#b8e186\"],[0.8,\"#7fbc41\"],[0.9,\"#4d9221\"],[1,\"#276419\"]]},\"xaxis\":{\"gridcolor\":\"white\",\"linecolor\":\"white\",\"ticks\":\"\",\"title\":{\"standoff\":15},\"zerolinecolor\":\"white\",\"automargin\":true,\"zerolinewidth\":2},\"yaxis\":{\"gridcolor\":\"white\",\"linecolor\":\"white\",\"ticks\":\"\",\"title\":{\"standoff\":15},\"zerolinecolor\":\"white\",\"automargin\":true,\"zerolinewidth\":2},\"scene\":{\"xaxis\":{\"backgroundcolor\":\"#E5ECF6\",\"gridcolor\":\"white\",\"linecolor\":\"white\",\"showbackground\":true,\"ticks\":\"\",\"zerolinecolor\":\"white\",\"gridwidth\":2},\"yaxis\":{\"backgroundcolor\":\"#E5ECF6\",\"gridcolor\":\"white\",\"linecolor\":\"white\",\"showbackground\":true,\"ticks\":\"\",\"zerolinecolor\":\"white\",\"gridwidth\":2},\"zaxis\":{\"backgroundcolor\":\"#E5ECF6\",\"gridcolor\":\"white\",\"linecolor\":\"white\",\"showbackground\":true,\"ticks\":\"\",\"zerolinecolor\":\"white\",\"gridwidth\":2}},\"shapedefaults\":{\"line\":{\"color\":\"#2a3f5f\"}},\"annotationdefaults\":{\"arrowcolor\":\"#2a3f5f\",\"arrowhead\":0,\"arrowwidth\":1},\"geo\":{\"bgcolor\":\"white\",\"landcolor\":\"#E5ECF6\",\"subunitcolor\":\"white\",\"showland\":true,\"showlakes\":true,\"lakecolor\":\"white\"},\"title\":{\"x\":0.05},\"mapbox\":{\"style\":\"light\"}}},\"xaxis\":{\"anchor\":\"y\",\"domain\":[0.0,1.0],\"title\":{\"text\":\"Brand Name\"}},\"yaxis\":{\"anchor\":\"x\",\"domain\":[0.0,1.0],\"title\":{\"text\":\"Average Rating\"}},\"legend\":{\"tracegroupgap\":0},\"title\":{\"text\":\"Avg. rating of brands smartphones\"},\"barmode\":\"relative\"},                        {\"responsive\": true}                    ).then(function(){\n",
       "                            \n",
       "var gd = document.getElementById('42d54b59-187b-40ca-b040-898e7edc58f9');\n",
       "var x = new MutationObserver(function (mutations, observer) {{\n",
       "        var display = window.getComputedStyle(gd).display;\n",
       "        if (!display || display === 'none') {{\n",
       "            console.log([gd, 'removed!']);\n",
       "            Plotly.purge(gd);\n",
       "            observer.disconnect();\n",
       "        }}\n",
       "}});\n",
       "\n",
       "// Listen for the removal of the full notebook cells\n",
       "var notebookContainer = gd.closest('#notebook-container');\n",
       "if (notebookContainer) {{\n",
       "    x.observe(notebookContainer, {childList: true});\n",
       "}}\n",
       "\n",
       "// Listen for the clearing of the current output cell\n",
       "var outputEl = gd.closest('.output');\n",
       "if (outputEl) {{\n",
       "    x.observe(outputEl, {childList: true});\n",
       "}}\n",
       "\n",
       "                        })                };                });            </script>        </div>"
      ]
     },
     "metadata": {},
     "output_type": "display_data"
    },
    {
     "data": {
      "text/plain": [
       "<Figure size 1200x800 with 0 Axes>"
      ]
     },
     "metadata": {},
     "output_type": "display_data"
    }
   ],
   "source": [
    "plt.figure(figsize=(12,8))\n",
    "fig = px.bar(x=sp.groupby('brand_name')['avg_rating'].mean().index, y=sp.groupby('brand_name')['avg_rating'].mean().sort_values(ascending=False), title='Avg. rating of brands smartphones',\n",
    "             labels={'x': 'Brand Name', 'y': 'Average Rating'})\n",
    "fig.show()"
   ]
  },
  {
   "cell_type": "code",
   "execution_count": 57,
   "id": "a16e0dd1",
   "metadata": {},
   "outputs": [
    {
     "data": {
      "application/vnd.plotly.v1+json": {
       "config": {
        "plotlyServerURL": "https://plot.ly"
       },
       "data": [
        {
         "domain": {
          "x": [
           0,
           1
          ],
          "y": [
           0,
           1
          ]
         },
         "hovertemplate": "label=%{label}<br>value=%{value}<extra></extra>",
         "labels": [
          1,
          0
         ],
         "legendgroup": "",
         "marker": {
          "colors": [
           "#0074D9",
           "#FFC300"
          ]
         },
         "name": "",
         "showlegend": true,
         "type": "pie",
         "values": [
          526,
          399
         ]
        }
       ],
       "layout": {
        "legend": {
         "tracegroupgap": 0
        },
        "template": {
         "data": {
          "bar": [
           {
            "error_x": {
             "color": "#2a3f5f"
            },
            "error_y": {
             "color": "#2a3f5f"
            },
            "marker": {
             "line": {
              "color": "#E5ECF6",
              "width": 0.5
             },
             "pattern": {
              "fillmode": "overlay",
              "size": 10,
              "solidity": 0.2
             }
            },
            "type": "bar"
           }
          ],
          "barpolar": [
           {
            "marker": {
             "line": {
              "color": "#E5ECF6",
              "width": 0.5
             },
             "pattern": {
              "fillmode": "overlay",
              "size": 10,
              "solidity": 0.2
             }
            },
            "type": "barpolar"
           }
          ],
          "carpet": [
           {
            "aaxis": {
             "endlinecolor": "#2a3f5f",
             "gridcolor": "white",
             "linecolor": "white",
             "minorgridcolor": "white",
             "startlinecolor": "#2a3f5f"
            },
            "baxis": {
             "endlinecolor": "#2a3f5f",
             "gridcolor": "white",
             "linecolor": "white",
             "minorgridcolor": "white",
             "startlinecolor": "#2a3f5f"
            },
            "type": "carpet"
           }
          ],
          "choropleth": [
           {
            "colorbar": {
             "outlinewidth": 0,
             "ticks": ""
            },
            "type": "choropleth"
           }
          ],
          "contour": [
           {
            "colorbar": {
             "outlinewidth": 0,
             "ticks": ""
            },
            "colorscale": [
             [
              0,
              "#0d0887"
             ],
             [
              0.1111111111111111,
              "#46039f"
             ],
             [
              0.2222222222222222,
              "#7201a8"
             ],
             [
              0.3333333333333333,
              "#9c179e"
             ],
             [
              0.4444444444444444,
              "#bd3786"
             ],
             [
              0.5555555555555556,
              "#d8576b"
             ],
             [
              0.6666666666666666,
              "#ed7953"
             ],
             [
              0.7777777777777778,
              "#fb9f3a"
             ],
             [
              0.8888888888888888,
              "#fdca26"
             ],
             [
              1,
              "#f0f921"
             ]
            ],
            "type": "contour"
           }
          ],
          "contourcarpet": [
           {
            "colorbar": {
             "outlinewidth": 0,
             "ticks": ""
            },
            "type": "contourcarpet"
           }
          ],
          "heatmap": [
           {
            "colorbar": {
             "outlinewidth": 0,
             "ticks": ""
            },
            "colorscale": [
             [
              0,
              "#0d0887"
             ],
             [
              0.1111111111111111,
              "#46039f"
             ],
             [
              0.2222222222222222,
              "#7201a8"
             ],
             [
              0.3333333333333333,
              "#9c179e"
             ],
             [
              0.4444444444444444,
              "#bd3786"
             ],
             [
              0.5555555555555556,
              "#d8576b"
             ],
             [
              0.6666666666666666,
              "#ed7953"
             ],
             [
              0.7777777777777778,
              "#fb9f3a"
             ],
             [
              0.8888888888888888,
              "#fdca26"
             ],
             [
              1,
              "#f0f921"
             ]
            ],
            "type": "heatmap"
           }
          ],
          "heatmapgl": [
           {
            "colorbar": {
             "outlinewidth": 0,
             "ticks": ""
            },
            "colorscale": [
             [
              0,
              "#0d0887"
             ],
             [
              0.1111111111111111,
              "#46039f"
             ],
             [
              0.2222222222222222,
              "#7201a8"
             ],
             [
              0.3333333333333333,
              "#9c179e"
             ],
             [
              0.4444444444444444,
              "#bd3786"
             ],
             [
              0.5555555555555556,
              "#d8576b"
             ],
             [
              0.6666666666666666,
              "#ed7953"
             ],
             [
              0.7777777777777778,
              "#fb9f3a"
             ],
             [
              0.8888888888888888,
              "#fdca26"
             ],
             [
              1,
              "#f0f921"
             ]
            ],
            "type": "heatmapgl"
           }
          ],
          "histogram": [
           {
            "marker": {
             "pattern": {
              "fillmode": "overlay",
              "size": 10,
              "solidity": 0.2
             }
            },
            "type": "histogram"
           }
          ],
          "histogram2d": [
           {
            "colorbar": {
             "outlinewidth": 0,
             "ticks": ""
            },
            "colorscale": [
             [
              0,
              "#0d0887"
             ],
             [
              0.1111111111111111,
              "#46039f"
             ],
             [
              0.2222222222222222,
              "#7201a8"
             ],
             [
              0.3333333333333333,
              "#9c179e"
             ],
             [
              0.4444444444444444,
              "#bd3786"
             ],
             [
              0.5555555555555556,
              "#d8576b"
             ],
             [
              0.6666666666666666,
              "#ed7953"
             ],
             [
              0.7777777777777778,
              "#fb9f3a"
             ],
             [
              0.8888888888888888,
              "#fdca26"
             ],
             [
              1,
              "#f0f921"
             ]
            ],
            "type": "histogram2d"
           }
          ],
          "histogram2dcontour": [
           {
            "colorbar": {
             "outlinewidth": 0,
             "ticks": ""
            },
            "colorscale": [
             [
              0,
              "#0d0887"
             ],
             [
              0.1111111111111111,
              "#46039f"
             ],
             [
              0.2222222222222222,
              "#7201a8"
             ],
             [
              0.3333333333333333,
              "#9c179e"
             ],
             [
              0.4444444444444444,
              "#bd3786"
             ],
             [
              0.5555555555555556,
              "#d8576b"
             ],
             [
              0.6666666666666666,
              "#ed7953"
             ],
             [
              0.7777777777777778,
              "#fb9f3a"
             ],
             [
              0.8888888888888888,
              "#fdca26"
             ],
             [
              1,
              "#f0f921"
             ]
            ],
            "type": "histogram2dcontour"
           }
          ],
          "mesh3d": [
           {
            "colorbar": {
             "outlinewidth": 0,
             "ticks": ""
            },
            "type": "mesh3d"
           }
          ],
          "parcoords": [
           {
            "line": {
             "colorbar": {
              "outlinewidth": 0,
              "ticks": ""
             }
            },
            "type": "parcoords"
           }
          ],
          "pie": [
           {
            "automargin": true,
            "type": "pie"
           }
          ],
          "scatter": [
           {
            "fillpattern": {
             "fillmode": "overlay",
             "size": 10,
             "solidity": 0.2
            },
            "type": "scatter"
           }
          ],
          "scatter3d": [
           {
            "line": {
             "colorbar": {
              "outlinewidth": 0,
              "ticks": ""
             }
            },
            "marker": {
             "colorbar": {
              "outlinewidth": 0,
              "ticks": ""
             }
            },
            "type": "scatter3d"
           }
          ],
          "scattercarpet": [
           {
            "marker": {
             "colorbar": {
              "outlinewidth": 0,
              "ticks": ""
             }
            },
            "type": "scattercarpet"
           }
          ],
          "scattergeo": [
           {
            "marker": {
             "colorbar": {
              "outlinewidth": 0,
              "ticks": ""
             }
            },
            "type": "scattergeo"
           }
          ],
          "scattergl": [
           {
            "marker": {
             "colorbar": {
              "outlinewidth": 0,
              "ticks": ""
             }
            },
            "type": "scattergl"
           }
          ],
          "scattermapbox": [
           {
            "marker": {
             "colorbar": {
              "outlinewidth": 0,
              "ticks": ""
             }
            },
            "type": "scattermapbox"
           }
          ],
          "scatterpolar": [
           {
            "marker": {
             "colorbar": {
              "outlinewidth": 0,
              "ticks": ""
             }
            },
            "type": "scatterpolar"
           }
          ],
          "scatterpolargl": [
           {
            "marker": {
             "colorbar": {
              "outlinewidth": 0,
              "ticks": ""
             }
            },
            "type": "scatterpolargl"
           }
          ],
          "scatterternary": [
           {
            "marker": {
             "colorbar": {
              "outlinewidth": 0,
              "ticks": ""
             }
            },
            "type": "scatterternary"
           }
          ],
          "surface": [
           {
            "colorbar": {
             "outlinewidth": 0,
             "ticks": ""
            },
            "colorscale": [
             [
              0,
              "#0d0887"
             ],
             [
              0.1111111111111111,
              "#46039f"
             ],
             [
              0.2222222222222222,
              "#7201a8"
             ],
             [
              0.3333333333333333,
              "#9c179e"
             ],
             [
              0.4444444444444444,
              "#bd3786"
             ],
             [
              0.5555555555555556,
              "#d8576b"
             ],
             [
              0.6666666666666666,
              "#ed7953"
             ],
             [
              0.7777777777777778,
              "#fb9f3a"
             ],
             [
              0.8888888888888888,
              "#fdca26"
             ],
             [
              1,
              "#f0f921"
             ]
            ],
            "type": "surface"
           }
          ],
          "table": [
           {
            "cells": {
             "fill": {
              "color": "#EBF0F8"
             },
             "line": {
              "color": "white"
             }
            },
            "header": {
             "fill": {
              "color": "#C8D4E3"
             },
             "line": {
              "color": "white"
             }
            },
            "type": "table"
           }
          ]
         },
         "layout": {
          "annotationdefaults": {
           "arrowcolor": "#2a3f5f",
           "arrowhead": 0,
           "arrowwidth": 1
          },
          "autotypenumbers": "strict",
          "coloraxis": {
           "colorbar": {
            "outlinewidth": 0,
            "ticks": ""
           }
          },
          "colorscale": {
           "diverging": [
            [
             0,
             "#8e0152"
            ],
            [
             0.1,
             "#c51b7d"
            ],
            [
             0.2,
             "#de77ae"
            ],
            [
             0.3,
             "#f1b6da"
            ],
            [
             0.4,
             "#fde0ef"
            ],
            [
             0.5,
             "#f7f7f7"
            ],
            [
             0.6,
             "#e6f5d0"
            ],
            [
             0.7,
             "#b8e186"
            ],
            [
             0.8,
             "#7fbc41"
            ],
            [
             0.9,
             "#4d9221"
            ],
            [
             1,
             "#276419"
            ]
           ],
           "sequential": [
            [
             0,
             "#0d0887"
            ],
            [
             0.1111111111111111,
             "#46039f"
            ],
            [
             0.2222222222222222,
             "#7201a8"
            ],
            [
             0.3333333333333333,
             "#9c179e"
            ],
            [
             0.4444444444444444,
             "#bd3786"
            ],
            [
             0.5555555555555556,
             "#d8576b"
            ],
            [
             0.6666666666666666,
             "#ed7953"
            ],
            [
             0.7777777777777778,
             "#fb9f3a"
            ],
            [
             0.8888888888888888,
             "#fdca26"
            ],
            [
             1,
             "#f0f921"
            ]
           ],
           "sequentialminus": [
            [
             0,
             "#0d0887"
            ],
            [
             0.1111111111111111,
             "#46039f"
            ],
            [
             0.2222222222222222,
             "#7201a8"
            ],
            [
             0.3333333333333333,
             "#9c179e"
            ],
            [
             0.4444444444444444,
             "#bd3786"
            ],
            [
             0.5555555555555556,
             "#d8576b"
            ],
            [
             0.6666666666666666,
             "#ed7953"
            ],
            [
             0.7777777777777778,
             "#fb9f3a"
            ],
            [
             0.8888888888888888,
             "#fdca26"
            ],
            [
             1,
             "#f0f921"
            ]
           ]
          },
          "colorway": [
           "#636efa",
           "#EF553B",
           "#00cc96",
           "#ab63fa",
           "#FFA15A",
           "#19d3f3",
           "#FF6692",
           "#B6E880",
           "#FF97FF",
           "#FECB52"
          ],
          "font": {
           "color": "#2a3f5f"
          },
          "geo": {
           "bgcolor": "white",
           "lakecolor": "white",
           "landcolor": "#E5ECF6",
           "showlakes": true,
           "showland": true,
           "subunitcolor": "white"
          },
          "hoverlabel": {
           "align": "left"
          },
          "hovermode": "closest",
          "mapbox": {
           "style": "light"
          },
          "paper_bgcolor": "white",
          "plot_bgcolor": "#E5ECF6",
          "polar": {
           "angularaxis": {
            "gridcolor": "white",
            "linecolor": "white",
            "ticks": ""
           },
           "bgcolor": "#E5ECF6",
           "radialaxis": {
            "gridcolor": "white",
            "linecolor": "white",
            "ticks": ""
           }
          },
          "scene": {
           "xaxis": {
            "backgroundcolor": "#E5ECF6",
            "gridcolor": "white",
            "gridwidth": 2,
            "linecolor": "white",
            "showbackground": true,
            "ticks": "",
            "zerolinecolor": "white"
           },
           "yaxis": {
            "backgroundcolor": "#E5ECF6",
            "gridcolor": "white",
            "gridwidth": 2,
            "linecolor": "white",
            "showbackground": true,
            "ticks": "",
            "zerolinecolor": "white"
           },
           "zaxis": {
            "backgroundcolor": "#E5ECF6",
            "gridcolor": "white",
            "gridwidth": 2,
            "linecolor": "white",
            "showbackground": true,
            "ticks": "",
            "zerolinecolor": "white"
           }
          },
          "shapedefaults": {
           "line": {
            "color": "#2a3f5f"
           }
          },
          "ternary": {
           "aaxis": {
            "gridcolor": "white",
            "linecolor": "white",
            "ticks": ""
           },
           "baxis": {
            "gridcolor": "white",
            "linecolor": "white",
            "ticks": ""
           },
           "bgcolor": "#E5ECF6",
           "caxis": {
            "gridcolor": "white",
            "linecolor": "white",
            "ticks": ""
           }
          },
          "title": {
           "x": 0.05
          },
          "xaxis": {
           "automargin": true,
           "gridcolor": "white",
           "linecolor": "white",
           "ticks": "",
           "title": {
            "standoff": 15
           },
           "zerolinecolor": "white",
           "zerolinewidth": 2
          },
          "yaxis": {
           "automargin": true,
           "gridcolor": "white",
           "linecolor": "white",
           "ticks": "",
           "title": {
            "standoff": 15
           },
           "zerolinecolor": "white",
           "zerolinewidth": 2
          }
         }
        },
        "title": {
         "text": "Distribution of 5G phones"
        }
       }
      },
      "text/html": [
       "<div>                            <div id=\"73de8a4b-ad28-475e-87b8-78893598cd92\" class=\"plotly-graph-div\" style=\"height:525px; width:100%;\"></div>            <script type=\"text/javascript\">                require([\"plotly\"], function(Plotly) {                    window.PLOTLYENV=window.PLOTLYENV || {};                                    if (document.getElementById(\"73de8a4b-ad28-475e-87b8-78893598cd92\")) {                    Plotly.newPlot(                        \"73de8a4b-ad28-475e-87b8-78893598cd92\",                        [{\"domain\":{\"x\":[0.0,1.0],\"y\":[0.0,1.0]},\"hovertemplate\":\"label=%{label}\\u003cbr\\u003evalue=%{value}\\u003cextra\\u003e\\u003c\\u002fextra\\u003e\",\"labels\":[1,0],\"legendgroup\":\"\",\"name\":\"\",\"showlegend\":true,\"values\":[526,399],\"type\":\"pie\",\"marker\":{\"colors\":[\"#0074D9\",\"#FFC300\"]}}],                        {\"template\":{\"data\":{\"histogram2dcontour\":[{\"type\":\"histogram2dcontour\",\"colorbar\":{\"outlinewidth\":0,\"ticks\":\"\"},\"colorscale\":[[0.0,\"#0d0887\"],[0.1111111111111111,\"#46039f\"],[0.2222222222222222,\"#7201a8\"],[0.3333333333333333,\"#9c179e\"],[0.4444444444444444,\"#bd3786\"],[0.5555555555555556,\"#d8576b\"],[0.6666666666666666,\"#ed7953\"],[0.7777777777777778,\"#fb9f3a\"],[0.8888888888888888,\"#fdca26\"],[1.0,\"#f0f921\"]]}],\"choropleth\":[{\"type\":\"choropleth\",\"colorbar\":{\"outlinewidth\":0,\"ticks\":\"\"}}],\"histogram2d\":[{\"type\":\"histogram2d\",\"colorbar\":{\"outlinewidth\":0,\"ticks\":\"\"},\"colorscale\":[[0.0,\"#0d0887\"],[0.1111111111111111,\"#46039f\"],[0.2222222222222222,\"#7201a8\"],[0.3333333333333333,\"#9c179e\"],[0.4444444444444444,\"#bd3786\"],[0.5555555555555556,\"#d8576b\"],[0.6666666666666666,\"#ed7953\"],[0.7777777777777778,\"#fb9f3a\"],[0.8888888888888888,\"#fdca26\"],[1.0,\"#f0f921\"]]}],\"heatmap\":[{\"type\":\"heatmap\",\"colorbar\":{\"outlinewidth\":0,\"ticks\":\"\"},\"colorscale\":[[0.0,\"#0d0887\"],[0.1111111111111111,\"#46039f\"],[0.2222222222222222,\"#7201a8\"],[0.3333333333333333,\"#9c179e\"],[0.4444444444444444,\"#bd3786\"],[0.5555555555555556,\"#d8576b\"],[0.6666666666666666,\"#ed7953\"],[0.7777777777777778,\"#fb9f3a\"],[0.8888888888888888,\"#fdca26\"],[1.0,\"#f0f921\"]]}],\"heatmapgl\":[{\"type\":\"heatmapgl\",\"colorbar\":{\"outlinewidth\":0,\"ticks\":\"\"},\"colorscale\":[[0.0,\"#0d0887\"],[0.1111111111111111,\"#46039f\"],[0.2222222222222222,\"#7201a8\"],[0.3333333333333333,\"#9c179e\"],[0.4444444444444444,\"#bd3786\"],[0.5555555555555556,\"#d8576b\"],[0.6666666666666666,\"#ed7953\"],[0.7777777777777778,\"#fb9f3a\"],[0.8888888888888888,\"#fdca26\"],[1.0,\"#f0f921\"]]}],\"contourcarpet\":[{\"type\":\"contourcarpet\",\"colorbar\":{\"outlinewidth\":0,\"ticks\":\"\"}}],\"contour\":[{\"type\":\"contour\",\"colorbar\":{\"outlinewidth\":0,\"ticks\":\"\"},\"colorscale\":[[0.0,\"#0d0887\"],[0.1111111111111111,\"#46039f\"],[0.2222222222222222,\"#7201a8\"],[0.3333333333333333,\"#9c179e\"],[0.4444444444444444,\"#bd3786\"],[0.5555555555555556,\"#d8576b\"],[0.6666666666666666,\"#ed7953\"],[0.7777777777777778,\"#fb9f3a\"],[0.8888888888888888,\"#fdca26\"],[1.0,\"#f0f921\"]]}],\"surface\":[{\"type\":\"surface\",\"colorbar\":{\"outlinewidth\":0,\"ticks\":\"\"},\"colorscale\":[[0.0,\"#0d0887\"],[0.1111111111111111,\"#46039f\"],[0.2222222222222222,\"#7201a8\"],[0.3333333333333333,\"#9c179e\"],[0.4444444444444444,\"#bd3786\"],[0.5555555555555556,\"#d8576b\"],[0.6666666666666666,\"#ed7953\"],[0.7777777777777778,\"#fb9f3a\"],[0.8888888888888888,\"#fdca26\"],[1.0,\"#f0f921\"]]}],\"mesh3d\":[{\"type\":\"mesh3d\",\"colorbar\":{\"outlinewidth\":0,\"ticks\":\"\"}}],\"scatter\":[{\"fillpattern\":{\"fillmode\":\"overlay\",\"size\":10,\"solidity\":0.2},\"type\":\"scatter\"}],\"parcoords\":[{\"type\":\"parcoords\",\"line\":{\"colorbar\":{\"outlinewidth\":0,\"ticks\":\"\"}}}],\"scatterpolargl\":[{\"type\":\"scatterpolargl\",\"marker\":{\"colorbar\":{\"outlinewidth\":0,\"ticks\":\"\"}}}],\"bar\":[{\"error_x\":{\"color\":\"#2a3f5f\"},\"error_y\":{\"color\":\"#2a3f5f\"},\"marker\":{\"line\":{\"color\":\"#E5ECF6\",\"width\":0.5},\"pattern\":{\"fillmode\":\"overlay\",\"size\":10,\"solidity\":0.2}},\"type\":\"bar\"}],\"scattergeo\":[{\"type\":\"scattergeo\",\"marker\":{\"colorbar\":{\"outlinewidth\":0,\"ticks\":\"\"}}}],\"scatterpolar\":[{\"type\":\"scatterpolar\",\"marker\":{\"colorbar\":{\"outlinewidth\":0,\"ticks\":\"\"}}}],\"histogram\":[{\"marker\":{\"pattern\":{\"fillmode\":\"overlay\",\"size\":10,\"solidity\":0.2}},\"type\":\"histogram\"}],\"scattergl\":[{\"type\":\"scattergl\",\"marker\":{\"colorbar\":{\"outlinewidth\":0,\"ticks\":\"\"}}}],\"scatter3d\":[{\"type\":\"scatter3d\",\"line\":{\"colorbar\":{\"outlinewidth\":0,\"ticks\":\"\"}},\"marker\":{\"colorbar\":{\"outlinewidth\":0,\"ticks\":\"\"}}}],\"scattermapbox\":[{\"type\":\"scattermapbox\",\"marker\":{\"colorbar\":{\"outlinewidth\":0,\"ticks\":\"\"}}}],\"scatterternary\":[{\"type\":\"scatterternary\",\"marker\":{\"colorbar\":{\"outlinewidth\":0,\"ticks\":\"\"}}}],\"scattercarpet\":[{\"type\":\"scattercarpet\",\"marker\":{\"colorbar\":{\"outlinewidth\":0,\"ticks\":\"\"}}}],\"carpet\":[{\"aaxis\":{\"endlinecolor\":\"#2a3f5f\",\"gridcolor\":\"white\",\"linecolor\":\"white\",\"minorgridcolor\":\"white\",\"startlinecolor\":\"#2a3f5f\"},\"baxis\":{\"endlinecolor\":\"#2a3f5f\",\"gridcolor\":\"white\",\"linecolor\":\"white\",\"minorgridcolor\":\"white\",\"startlinecolor\":\"#2a3f5f\"},\"type\":\"carpet\"}],\"table\":[{\"cells\":{\"fill\":{\"color\":\"#EBF0F8\"},\"line\":{\"color\":\"white\"}},\"header\":{\"fill\":{\"color\":\"#C8D4E3\"},\"line\":{\"color\":\"white\"}},\"type\":\"table\"}],\"barpolar\":[{\"marker\":{\"line\":{\"color\":\"#E5ECF6\",\"width\":0.5},\"pattern\":{\"fillmode\":\"overlay\",\"size\":10,\"solidity\":0.2}},\"type\":\"barpolar\"}],\"pie\":[{\"automargin\":true,\"type\":\"pie\"}]},\"layout\":{\"autotypenumbers\":\"strict\",\"colorway\":[\"#636efa\",\"#EF553B\",\"#00cc96\",\"#ab63fa\",\"#FFA15A\",\"#19d3f3\",\"#FF6692\",\"#B6E880\",\"#FF97FF\",\"#FECB52\"],\"font\":{\"color\":\"#2a3f5f\"},\"hovermode\":\"closest\",\"hoverlabel\":{\"align\":\"left\"},\"paper_bgcolor\":\"white\",\"plot_bgcolor\":\"#E5ECF6\",\"polar\":{\"bgcolor\":\"#E5ECF6\",\"angularaxis\":{\"gridcolor\":\"white\",\"linecolor\":\"white\",\"ticks\":\"\"},\"radialaxis\":{\"gridcolor\":\"white\",\"linecolor\":\"white\",\"ticks\":\"\"}},\"ternary\":{\"bgcolor\":\"#E5ECF6\",\"aaxis\":{\"gridcolor\":\"white\",\"linecolor\":\"white\",\"ticks\":\"\"},\"baxis\":{\"gridcolor\":\"white\",\"linecolor\":\"white\",\"ticks\":\"\"},\"caxis\":{\"gridcolor\":\"white\",\"linecolor\":\"white\",\"ticks\":\"\"}},\"coloraxis\":{\"colorbar\":{\"outlinewidth\":0,\"ticks\":\"\"}},\"colorscale\":{\"sequential\":[[0.0,\"#0d0887\"],[0.1111111111111111,\"#46039f\"],[0.2222222222222222,\"#7201a8\"],[0.3333333333333333,\"#9c179e\"],[0.4444444444444444,\"#bd3786\"],[0.5555555555555556,\"#d8576b\"],[0.6666666666666666,\"#ed7953\"],[0.7777777777777778,\"#fb9f3a\"],[0.8888888888888888,\"#fdca26\"],[1.0,\"#f0f921\"]],\"sequentialminus\":[[0.0,\"#0d0887\"],[0.1111111111111111,\"#46039f\"],[0.2222222222222222,\"#7201a8\"],[0.3333333333333333,\"#9c179e\"],[0.4444444444444444,\"#bd3786\"],[0.5555555555555556,\"#d8576b\"],[0.6666666666666666,\"#ed7953\"],[0.7777777777777778,\"#fb9f3a\"],[0.8888888888888888,\"#fdca26\"],[1.0,\"#f0f921\"]],\"diverging\":[[0,\"#8e0152\"],[0.1,\"#c51b7d\"],[0.2,\"#de77ae\"],[0.3,\"#f1b6da\"],[0.4,\"#fde0ef\"],[0.5,\"#f7f7f7\"],[0.6,\"#e6f5d0\"],[0.7,\"#b8e186\"],[0.8,\"#7fbc41\"],[0.9,\"#4d9221\"],[1,\"#276419\"]]},\"xaxis\":{\"gridcolor\":\"white\",\"linecolor\":\"white\",\"ticks\":\"\",\"title\":{\"standoff\":15},\"zerolinecolor\":\"white\",\"automargin\":true,\"zerolinewidth\":2},\"yaxis\":{\"gridcolor\":\"white\",\"linecolor\":\"white\",\"ticks\":\"\",\"title\":{\"standoff\":15},\"zerolinecolor\":\"white\",\"automargin\":true,\"zerolinewidth\":2},\"scene\":{\"xaxis\":{\"backgroundcolor\":\"#E5ECF6\",\"gridcolor\":\"white\",\"linecolor\":\"white\",\"showbackground\":true,\"ticks\":\"\",\"zerolinecolor\":\"white\",\"gridwidth\":2},\"yaxis\":{\"backgroundcolor\":\"#E5ECF6\",\"gridcolor\":\"white\",\"linecolor\":\"white\",\"showbackground\":true,\"ticks\":\"\",\"zerolinecolor\":\"white\",\"gridwidth\":2},\"zaxis\":{\"backgroundcolor\":\"#E5ECF6\",\"gridcolor\":\"white\",\"linecolor\":\"white\",\"showbackground\":true,\"ticks\":\"\",\"zerolinecolor\":\"white\",\"gridwidth\":2}},\"shapedefaults\":{\"line\":{\"color\":\"#2a3f5f\"}},\"annotationdefaults\":{\"arrowcolor\":\"#2a3f5f\",\"arrowhead\":0,\"arrowwidth\":1},\"geo\":{\"bgcolor\":\"white\",\"landcolor\":\"#E5ECF6\",\"subunitcolor\":\"white\",\"showland\":true,\"showlakes\":true,\"lakecolor\":\"white\"},\"title\":{\"x\":0.05},\"mapbox\":{\"style\":\"light\"}}},\"legend\":{\"tracegroupgap\":0},\"title\":{\"text\":\"Distribution of 5G phones\"}},                        {\"responsive\": true}                    ).then(function(){\n",
       "                            \n",
       "var gd = document.getElementById('73de8a4b-ad28-475e-87b8-78893598cd92');\n",
       "var x = new MutationObserver(function (mutations, observer) {{\n",
       "        var display = window.getComputedStyle(gd).display;\n",
       "        if (!display || display === 'none') {{\n",
       "            console.log([gd, 'removed!']);\n",
       "            Plotly.purge(gd);\n",
       "            observer.disconnect();\n",
       "        }}\n",
       "}});\n",
       "\n",
       "// Listen for the removal of the full notebook cells\n",
       "var notebookContainer = gd.closest('#notebook-container');\n",
       "if (notebookContainer) {{\n",
       "    x.observe(notebookContainer, {childList: true});\n",
       "}}\n",
       "\n",
       "// Listen for the clearing of the current output cell\n",
       "var outputEl = gd.closest('.output');\n",
       "if (outputEl) {{\n",
       "    x.observe(outputEl, {childList: true});\n",
       "}}\n",
       "\n",
       "                        })                };                });            </script>        </div>"
      ]
     },
     "metadata": {},
     "output_type": "display_data"
    }
   ],
   "source": [
    "fig = px.pie(values=sp['5G_or_not'].value_counts(),names=sp['5G_or_not'].value_counts().index, title='Distribution of 5G phones')\n",
    "colors = ['#0074D9', '#FFC300']\n",
    "fig.update_traces(marker=dict(colors=colors))\n",
    "\n",
    "fig.show()"
   ]
  },
  {
   "cell_type": "code",
   "execution_count": 58,
   "id": "015c7fce",
   "metadata": {},
   "outputs": [
    {
     "data": {
      "application/vnd.plotly.v1+json": {
       "config": {
        "plotlyServerURL": "https://plot.ly"
       },
       "data": [
        {
         "domain": {
          "x": [
           0,
           1
          ],
          "y": [
           0,
           1
          ]
         },
         "hovertemplate": "label=%{label}<br>value=%{value}<extra></extra>",
         "labels": [
          "android",
          "ios",
          "other"
         ],
         "legendgroup": "",
         "marker": {
          "colors": [
           "#006400",
           "#228B22",
           "#808000"
          ]
         },
         "name": "",
         "showlegend": true,
         "type": "pie",
         "values": [
          861,
          46,
          10
         ]
        }
       ],
       "layout": {
        "legend": {
         "tracegroupgap": 0
        },
        "template": {
         "data": {
          "bar": [
           {
            "error_x": {
             "color": "#2a3f5f"
            },
            "error_y": {
             "color": "#2a3f5f"
            },
            "marker": {
             "line": {
              "color": "#E5ECF6",
              "width": 0.5
             },
             "pattern": {
              "fillmode": "overlay",
              "size": 10,
              "solidity": 0.2
             }
            },
            "type": "bar"
           }
          ],
          "barpolar": [
           {
            "marker": {
             "line": {
              "color": "#E5ECF6",
              "width": 0.5
             },
             "pattern": {
              "fillmode": "overlay",
              "size": 10,
              "solidity": 0.2
             }
            },
            "type": "barpolar"
           }
          ],
          "carpet": [
           {
            "aaxis": {
             "endlinecolor": "#2a3f5f",
             "gridcolor": "white",
             "linecolor": "white",
             "minorgridcolor": "white",
             "startlinecolor": "#2a3f5f"
            },
            "baxis": {
             "endlinecolor": "#2a3f5f",
             "gridcolor": "white",
             "linecolor": "white",
             "minorgridcolor": "white",
             "startlinecolor": "#2a3f5f"
            },
            "type": "carpet"
           }
          ],
          "choropleth": [
           {
            "colorbar": {
             "outlinewidth": 0,
             "ticks": ""
            },
            "type": "choropleth"
           }
          ],
          "contour": [
           {
            "colorbar": {
             "outlinewidth": 0,
             "ticks": ""
            },
            "colorscale": [
             [
              0,
              "#0d0887"
             ],
             [
              0.1111111111111111,
              "#46039f"
             ],
             [
              0.2222222222222222,
              "#7201a8"
             ],
             [
              0.3333333333333333,
              "#9c179e"
             ],
             [
              0.4444444444444444,
              "#bd3786"
             ],
             [
              0.5555555555555556,
              "#d8576b"
             ],
             [
              0.6666666666666666,
              "#ed7953"
             ],
             [
              0.7777777777777778,
              "#fb9f3a"
             ],
             [
              0.8888888888888888,
              "#fdca26"
             ],
             [
              1,
              "#f0f921"
             ]
            ],
            "type": "contour"
           }
          ],
          "contourcarpet": [
           {
            "colorbar": {
             "outlinewidth": 0,
             "ticks": ""
            },
            "type": "contourcarpet"
           }
          ],
          "heatmap": [
           {
            "colorbar": {
             "outlinewidth": 0,
             "ticks": ""
            },
            "colorscale": [
             [
              0,
              "#0d0887"
             ],
             [
              0.1111111111111111,
              "#46039f"
             ],
             [
              0.2222222222222222,
              "#7201a8"
             ],
             [
              0.3333333333333333,
              "#9c179e"
             ],
             [
              0.4444444444444444,
              "#bd3786"
             ],
             [
              0.5555555555555556,
              "#d8576b"
             ],
             [
              0.6666666666666666,
              "#ed7953"
             ],
             [
              0.7777777777777778,
              "#fb9f3a"
             ],
             [
              0.8888888888888888,
              "#fdca26"
             ],
             [
              1,
              "#f0f921"
             ]
            ],
            "type": "heatmap"
           }
          ],
          "heatmapgl": [
           {
            "colorbar": {
             "outlinewidth": 0,
             "ticks": ""
            },
            "colorscale": [
             [
              0,
              "#0d0887"
             ],
             [
              0.1111111111111111,
              "#46039f"
             ],
             [
              0.2222222222222222,
              "#7201a8"
             ],
             [
              0.3333333333333333,
              "#9c179e"
             ],
             [
              0.4444444444444444,
              "#bd3786"
             ],
             [
              0.5555555555555556,
              "#d8576b"
             ],
             [
              0.6666666666666666,
              "#ed7953"
             ],
             [
              0.7777777777777778,
              "#fb9f3a"
             ],
             [
              0.8888888888888888,
              "#fdca26"
             ],
             [
              1,
              "#f0f921"
             ]
            ],
            "type": "heatmapgl"
           }
          ],
          "histogram": [
           {
            "marker": {
             "pattern": {
              "fillmode": "overlay",
              "size": 10,
              "solidity": 0.2
             }
            },
            "type": "histogram"
           }
          ],
          "histogram2d": [
           {
            "colorbar": {
             "outlinewidth": 0,
             "ticks": ""
            },
            "colorscale": [
             [
              0,
              "#0d0887"
             ],
             [
              0.1111111111111111,
              "#46039f"
             ],
             [
              0.2222222222222222,
              "#7201a8"
             ],
             [
              0.3333333333333333,
              "#9c179e"
             ],
             [
              0.4444444444444444,
              "#bd3786"
             ],
             [
              0.5555555555555556,
              "#d8576b"
             ],
             [
              0.6666666666666666,
              "#ed7953"
             ],
             [
              0.7777777777777778,
              "#fb9f3a"
             ],
             [
              0.8888888888888888,
              "#fdca26"
             ],
             [
              1,
              "#f0f921"
             ]
            ],
            "type": "histogram2d"
           }
          ],
          "histogram2dcontour": [
           {
            "colorbar": {
             "outlinewidth": 0,
             "ticks": ""
            },
            "colorscale": [
             [
              0,
              "#0d0887"
             ],
             [
              0.1111111111111111,
              "#46039f"
             ],
             [
              0.2222222222222222,
              "#7201a8"
             ],
             [
              0.3333333333333333,
              "#9c179e"
             ],
             [
              0.4444444444444444,
              "#bd3786"
             ],
             [
              0.5555555555555556,
              "#d8576b"
             ],
             [
              0.6666666666666666,
              "#ed7953"
             ],
             [
              0.7777777777777778,
              "#fb9f3a"
             ],
             [
              0.8888888888888888,
              "#fdca26"
             ],
             [
              1,
              "#f0f921"
             ]
            ],
            "type": "histogram2dcontour"
           }
          ],
          "mesh3d": [
           {
            "colorbar": {
             "outlinewidth": 0,
             "ticks": ""
            },
            "type": "mesh3d"
           }
          ],
          "parcoords": [
           {
            "line": {
             "colorbar": {
              "outlinewidth": 0,
              "ticks": ""
             }
            },
            "type": "parcoords"
           }
          ],
          "pie": [
           {
            "automargin": true,
            "type": "pie"
           }
          ],
          "scatter": [
           {
            "fillpattern": {
             "fillmode": "overlay",
             "size": 10,
             "solidity": 0.2
            },
            "type": "scatter"
           }
          ],
          "scatter3d": [
           {
            "line": {
             "colorbar": {
              "outlinewidth": 0,
              "ticks": ""
             }
            },
            "marker": {
             "colorbar": {
              "outlinewidth": 0,
              "ticks": ""
             }
            },
            "type": "scatter3d"
           }
          ],
          "scattercarpet": [
           {
            "marker": {
             "colorbar": {
              "outlinewidth": 0,
              "ticks": ""
             }
            },
            "type": "scattercarpet"
           }
          ],
          "scattergeo": [
           {
            "marker": {
             "colorbar": {
              "outlinewidth": 0,
              "ticks": ""
             }
            },
            "type": "scattergeo"
           }
          ],
          "scattergl": [
           {
            "marker": {
             "colorbar": {
              "outlinewidth": 0,
              "ticks": ""
             }
            },
            "type": "scattergl"
           }
          ],
          "scattermapbox": [
           {
            "marker": {
             "colorbar": {
              "outlinewidth": 0,
              "ticks": ""
             }
            },
            "type": "scattermapbox"
           }
          ],
          "scatterpolar": [
           {
            "marker": {
             "colorbar": {
              "outlinewidth": 0,
              "ticks": ""
             }
            },
            "type": "scatterpolar"
           }
          ],
          "scatterpolargl": [
           {
            "marker": {
             "colorbar": {
              "outlinewidth": 0,
              "ticks": ""
             }
            },
            "type": "scatterpolargl"
           }
          ],
          "scatterternary": [
           {
            "marker": {
             "colorbar": {
              "outlinewidth": 0,
              "ticks": ""
             }
            },
            "type": "scatterternary"
           }
          ],
          "surface": [
           {
            "colorbar": {
             "outlinewidth": 0,
             "ticks": ""
            },
            "colorscale": [
             [
              0,
              "#0d0887"
             ],
             [
              0.1111111111111111,
              "#46039f"
             ],
             [
              0.2222222222222222,
              "#7201a8"
             ],
             [
              0.3333333333333333,
              "#9c179e"
             ],
             [
              0.4444444444444444,
              "#bd3786"
             ],
             [
              0.5555555555555556,
              "#d8576b"
             ],
             [
              0.6666666666666666,
              "#ed7953"
             ],
             [
              0.7777777777777778,
              "#fb9f3a"
             ],
             [
              0.8888888888888888,
              "#fdca26"
             ],
             [
              1,
              "#f0f921"
             ]
            ],
            "type": "surface"
           }
          ],
          "table": [
           {
            "cells": {
             "fill": {
              "color": "#EBF0F8"
             },
             "line": {
              "color": "white"
             }
            },
            "header": {
             "fill": {
              "color": "#C8D4E3"
             },
             "line": {
              "color": "white"
             }
            },
            "type": "table"
           }
          ]
         },
         "layout": {
          "annotationdefaults": {
           "arrowcolor": "#2a3f5f",
           "arrowhead": 0,
           "arrowwidth": 1
          },
          "autotypenumbers": "strict",
          "coloraxis": {
           "colorbar": {
            "outlinewidth": 0,
            "ticks": ""
           }
          },
          "colorscale": {
           "diverging": [
            [
             0,
             "#8e0152"
            ],
            [
             0.1,
             "#c51b7d"
            ],
            [
             0.2,
             "#de77ae"
            ],
            [
             0.3,
             "#f1b6da"
            ],
            [
             0.4,
             "#fde0ef"
            ],
            [
             0.5,
             "#f7f7f7"
            ],
            [
             0.6,
             "#e6f5d0"
            ],
            [
             0.7,
             "#b8e186"
            ],
            [
             0.8,
             "#7fbc41"
            ],
            [
             0.9,
             "#4d9221"
            ],
            [
             1,
             "#276419"
            ]
           ],
           "sequential": [
            [
             0,
             "#0d0887"
            ],
            [
             0.1111111111111111,
             "#46039f"
            ],
            [
             0.2222222222222222,
             "#7201a8"
            ],
            [
             0.3333333333333333,
             "#9c179e"
            ],
            [
             0.4444444444444444,
             "#bd3786"
            ],
            [
             0.5555555555555556,
             "#d8576b"
            ],
            [
             0.6666666666666666,
             "#ed7953"
            ],
            [
             0.7777777777777778,
             "#fb9f3a"
            ],
            [
             0.8888888888888888,
             "#fdca26"
            ],
            [
             1,
             "#f0f921"
            ]
           ],
           "sequentialminus": [
            [
             0,
             "#0d0887"
            ],
            [
             0.1111111111111111,
             "#46039f"
            ],
            [
             0.2222222222222222,
             "#7201a8"
            ],
            [
             0.3333333333333333,
             "#9c179e"
            ],
            [
             0.4444444444444444,
             "#bd3786"
            ],
            [
             0.5555555555555556,
             "#d8576b"
            ],
            [
             0.6666666666666666,
             "#ed7953"
            ],
            [
             0.7777777777777778,
             "#fb9f3a"
            ],
            [
             0.8888888888888888,
             "#fdca26"
            ],
            [
             1,
             "#f0f921"
            ]
           ]
          },
          "colorway": [
           "#636efa",
           "#EF553B",
           "#00cc96",
           "#ab63fa",
           "#FFA15A",
           "#19d3f3",
           "#FF6692",
           "#B6E880",
           "#FF97FF",
           "#FECB52"
          ],
          "font": {
           "color": "#2a3f5f"
          },
          "geo": {
           "bgcolor": "white",
           "lakecolor": "white",
           "landcolor": "#E5ECF6",
           "showlakes": true,
           "showland": true,
           "subunitcolor": "white"
          },
          "hoverlabel": {
           "align": "left"
          },
          "hovermode": "closest",
          "mapbox": {
           "style": "light"
          },
          "paper_bgcolor": "white",
          "plot_bgcolor": "#E5ECF6",
          "polar": {
           "angularaxis": {
            "gridcolor": "white",
            "linecolor": "white",
            "ticks": ""
           },
           "bgcolor": "#E5ECF6",
           "radialaxis": {
            "gridcolor": "white",
            "linecolor": "white",
            "ticks": ""
           }
          },
          "scene": {
           "xaxis": {
            "backgroundcolor": "#E5ECF6",
            "gridcolor": "white",
            "gridwidth": 2,
            "linecolor": "white",
            "showbackground": true,
            "ticks": "",
            "zerolinecolor": "white"
           },
           "yaxis": {
            "backgroundcolor": "#E5ECF6",
            "gridcolor": "white",
            "gridwidth": 2,
            "linecolor": "white",
            "showbackground": true,
            "ticks": "",
            "zerolinecolor": "white"
           },
           "zaxis": {
            "backgroundcolor": "#E5ECF6",
            "gridcolor": "white",
            "gridwidth": 2,
            "linecolor": "white",
            "showbackground": true,
            "ticks": "",
            "zerolinecolor": "white"
           }
          },
          "shapedefaults": {
           "line": {
            "color": "#2a3f5f"
           }
          },
          "ternary": {
           "aaxis": {
            "gridcolor": "white",
            "linecolor": "white",
            "ticks": ""
           },
           "baxis": {
            "gridcolor": "white",
            "linecolor": "white",
            "ticks": ""
           },
           "bgcolor": "#E5ECF6",
           "caxis": {
            "gridcolor": "white",
            "linecolor": "white",
            "ticks": ""
           }
          },
          "title": {
           "x": 0.05
          },
          "xaxis": {
           "automargin": true,
           "gridcolor": "white",
           "linecolor": "white",
           "ticks": "",
           "title": {
            "standoff": 15
           },
           "zerolinecolor": "white",
           "zerolinewidth": 2
          },
          "yaxis": {
           "automargin": true,
           "gridcolor": "white",
           "linecolor": "white",
           "ticks": "",
           "title": {
            "standoff": 15
           },
           "zerolinecolor": "white",
           "zerolinewidth": 2
          }
         }
        },
        "title": {
         "text": "Distribution of OS loaded in the smartphones"
        }
       }
      },
      "text/html": [
       "<div>                            <div id=\"c622574b-e09a-4f59-9e7d-22bf8a2dd439\" class=\"plotly-graph-div\" style=\"height:525px; width:100%;\"></div>            <script type=\"text/javascript\">                require([\"plotly\"], function(Plotly) {                    window.PLOTLYENV=window.PLOTLYENV || {};                                    if (document.getElementById(\"c622574b-e09a-4f59-9e7d-22bf8a2dd439\")) {                    Plotly.newPlot(                        \"c622574b-e09a-4f59-9e7d-22bf8a2dd439\",                        [{\"domain\":{\"x\":[0.0,1.0],\"y\":[0.0,1.0]},\"hovertemplate\":\"label=%{label}\\u003cbr\\u003evalue=%{value}\\u003cextra\\u003e\\u003c\\u002fextra\\u003e\",\"labels\":[\"android\",\"ios\",\"other\"],\"legendgroup\":\"\",\"name\":\"\",\"showlegend\":true,\"values\":[861,46,10],\"type\":\"pie\",\"marker\":{\"colors\":[\"#006400\",\"#228B22\",\"#808000\"]}}],                        {\"template\":{\"data\":{\"histogram2dcontour\":[{\"type\":\"histogram2dcontour\",\"colorbar\":{\"outlinewidth\":0,\"ticks\":\"\"},\"colorscale\":[[0.0,\"#0d0887\"],[0.1111111111111111,\"#46039f\"],[0.2222222222222222,\"#7201a8\"],[0.3333333333333333,\"#9c179e\"],[0.4444444444444444,\"#bd3786\"],[0.5555555555555556,\"#d8576b\"],[0.6666666666666666,\"#ed7953\"],[0.7777777777777778,\"#fb9f3a\"],[0.8888888888888888,\"#fdca26\"],[1.0,\"#f0f921\"]]}],\"choropleth\":[{\"type\":\"choropleth\",\"colorbar\":{\"outlinewidth\":0,\"ticks\":\"\"}}],\"histogram2d\":[{\"type\":\"histogram2d\",\"colorbar\":{\"outlinewidth\":0,\"ticks\":\"\"},\"colorscale\":[[0.0,\"#0d0887\"],[0.1111111111111111,\"#46039f\"],[0.2222222222222222,\"#7201a8\"],[0.3333333333333333,\"#9c179e\"],[0.4444444444444444,\"#bd3786\"],[0.5555555555555556,\"#d8576b\"],[0.6666666666666666,\"#ed7953\"],[0.7777777777777778,\"#fb9f3a\"],[0.8888888888888888,\"#fdca26\"],[1.0,\"#f0f921\"]]}],\"heatmap\":[{\"type\":\"heatmap\",\"colorbar\":{\"outlinewidth\":0,\"ticks\":\"\"},\"colorscale\":[[0.0,\"#0d0887\"],[0.1111111111111111,\"#46039f\"],[0.2222222222222222,\"#7201a8\"],[0.3333333333333333,\"#9c179e\"],[0.4444444444444444,\"#bd3786\"],[0.5555555555555556,\"#d8576b\"],[0.6666666666666666,\"#ed7953\"],[0.7777777777777778,\"#fb9f3a\"],[0.8888888888888888,\"#fdca26\"],[1.0,\"#f0f921\"]]}],\"heatmapgl\":[{\"type\":\"heatmapgl\",\"colorbar\":{\"outlinewidth\":0,\"ticks\":\"\"},\"colorscale\":[[0.0,\"#0d0887\"],[0.1111111111111111,\"#46039f\"],[0.2222222222222222,\"#7201a8\"],[0.3333333333333333,\"#9c179e\"],[0.4444444444444444,\"#bd3786\"],[0.5555555555555556,\"#d8576b\"],[0.6666666666666666,\"#ed7953\"],[0.7777777777777778,\"#fb9f3a\"],[0.8888888888888888,\"#fdca26\"],[1.0,\"#f0f921\"]]}],\"contourcarpet\":[{\"type\":\"contourcarpet\",\"colorbar\":{\"outlinewidth\":0,\"ticks\":\"\"}}],\"contour\":[{\"type\":\"contour\",\"colorbar\":{\"outlinewidth\":0,\"ticks\":\"\"},\"colorscale\":[[0.0,\"#0d0887\"],[0.1111111111111111,\"#46039f\"],[0.2222222222222222,\"#7201a8\"],[0.3333333333333333,\"#9c179e\"],[0.4444444444444444,\"#bd3786\"],[0.5555555555555556,\"#d8576b\"],[0.6666666666666666,\"#ed7953\"],[0.7777777777777778,\"#fb9f3a\"],[0.8888888888888888,\"#fdca26\"],[1.0,\"#f0f921\"]]}],\"surface\":[{\"type\":\"surface\",\"colorbar\":{\"outlinewidth\":0,\"ticks\":\"\"},\"colorscale\":[[0.0,\"#0d0887\"],[0.1111111111111111,\"#46039f\"],[0.2222222222222222,\"#7201a8\"],[0.3333333333333333,\"#9c179e\"],[0.4444444444444444,\"#bd3786\"],[0.5555555555555556,\"#d8576b\"],[0.6666666666666666,\"#ed7953\"],[0.7777777777777778,\"#fb9f3a\"],[0.8888888888888888,\"#fdca26\"],[1.0,\"#f0f921\"]]}],\"mesh3d\":[{\"type\":\"mesh3d\",\"colorbar\":{\"outlinewidth\":0,\"ticks\":\"\"}}],\"scatter\":[{\"fillpattern\":{\"fillmode\":\"overlay\",\"size\":10,\"solidity\":0.2},\"type\":\"scatter\"}],\"parcoords\":[{\"type\":\"parcoords\",\"line\":{\"colorbar\":{\"outlinewidth\":0,\"ticks\":\"\"}}}],\"scatterpolargl\":[{\"type\":\"scatterpolargl\",\"marker\":{\"colorbar\":{\"outlinewidth\":0,\"ticks\":\"\"}}}],\"bar\":[{\"error_x\":{\"color\":\"#2a3f5f\"},\"error_y\":{\"color\":\"#2a3f5f\"},\"marker\":{\"line\":{\"color\":\"#E5ECF6\",\"width\":0.5},\"pattern\":{\"fillmode\":\"overlay\",\"size\":10,\"solidity\":0.2}},\"type\":\"bar\"}],\"scattergeo\":[{\"type\":\"scattergeo\",\"marker\":{\"colorbar\":{\"outlinewidth\":0,\"ticks\":\"\"}}}],\"scatterpolar\":[{\"type\":\"scatterpolar\",\"marker\":{\"colorbar\":{\"outlinewidth\":0,\"ticks\":\"\"}}}],\"histogram\":[{\"marker\":{\"pattern\":{\"fillmode\":\"overlay\",\"size\":10,\"solidity\":0.2}},\"type\":\"histogram\"}],\"scattergl\":[{\"type\":\"scattergl\",\"marker\":{\"colorbar\":{\"outlinewidth\":0,\"ticks\":\"\"}}}],\"scatter3d\":[{\"type\":\"scatter3d\",\"line\":{\"colorbar\":{\"outlinewidth\":0,\"ticks\":\"\"}},\"marker\":{\"colorbar\":{\"outlinewidth\":0,\"ticks\":\"\"}}}],\"scattermapbox\":[{\"type\":\"scattermapbox\",\"marker\":{\"colorbar\":{\"outlinewidth\":0,\"ticks\":\"\"}}}],\"scatterternary\":[{\"type\":\"scatterternary\",\"marker\":{\"colorbar\":{\"outlinewidth\":0,\"ticks\":\"\"}}}],\"scattercarpet\":[{\"type\":\"scattercarpet\",\"marker\":{\"colorbar\":{\"outlinewidth\":0,\"ticks\":\"\"}}}],\"carpet\":[{\"aaxis\":{\"endlinecolor\":\"#2a3f5f\",\"gridcolor\":\"white\",\"linecolor\":\"white\",\"minorgridcolor\":\"white\",\"startlinecolor\":\"#2a3f5f\"},\"baxis\":{\"endlinecolor\":\"#2a3f5f\",\"gridcolor\":\"white\",\"linecolor\":\"white\",\"minorgridcolor\":\"white\",\"startlinecolor\":\"#2a3f5f\"},\"type\":\"carpet\"}],\"table\":[{\"cells\":{\"fill\":{\"color\":\"#EBF0F8\"},\"line\":{\"color\":\"white\"}},\"header\":{\"fill\":{\"color\":\"#C8D4E3\"},\"line\":{\"color\":\"white\"}},\"type\":\"table\"}],\"barpolar\":[{\"marker\":{\"line\":{\"color\":\"#E5ECF6\",\"width\":0.5},\"pattern\":{\"fillmode\":\"overlay\",\"size\":10,\"solidity\":0.2}},\"type\":\"barpolar\"}],\"pie\":[{\"automargin\":true,\"type\":\"pie\"}]},\"layout\":{\"autotypenumbers\":\"strict\",\"colorway\":[\"#636efa\",\"#EF553B\",\"#00cc96\",\"#ab63fa\",\"#FFA15A\",\"#19d3f3\",\"#FF6692\",\"#B6E880\",\"#FF97FF\",\"#FECB52\"],\"font\":{\"color\":\"#2a3f5f\"},\"hovermode\":\"closest\",\"hoverlabel\":{\"align\":\"left\"},\"paper_bgcolor\":\"white\",\"plot_bgcolor\":\"#E5ECF6\",\"polar\":{\"bgcolor\":\"#E5ECF6\",\"angularaxis\":{\"gridcolor\":\"white\",\"linecolor\":\"white\",\"ticks\":\"\"},\"radialaxis\":{\"gridcolor\":\"white\",\"linecolor\":\"white\",\"ticks\":\"\"}},\"ternary\":{\"bgcolor\":\"#E5ECF6\",\"aaxis\":{\"gridcolor\":\"white\",\"linecolor\":\"white\",\"ticks\":\"\"},\"baxis\":{\"gridcolor\":\"white\",\"linecolor\":\"white\",\"ticks\":\"\"},\"caxis\":{\"gridcolor\":\"white\",\"linecolor\":\"white\",\"ticks\":\"\"}},\"coloraxis\":{\"colorbar\":{\"outlinewidth\":0,\"ticks\":\"\"}},\"colorscale\":{\"sequential\":[[0.0,\"#0d0887\"],[0.1111111111111111,\"#46039f\"],[0.2222222222222222,\"#7201a8\"],[0.3333333333333333,\"#9c179e\"],[0.4444444444444444,\"#bd3786\"],[0.5555555555555556,\"#d8576b\"],[0.6666666666666666,\"#ed7953\"],[0.7777777777777778,\"#fb9f3a\"],[0.8888888888888888,\"#fdca26\"],[1.0,\"#f0f921\"]],\"sequentialminus\":[[0.0,\"#0d0887\"],[0.1111111111111111,\"#46039f\"],[0.2222222222222222,\"#7201a8\"],[0.3333333333333333,\"#9c179e\"],[0.4444444444444444,\"#bd3786\"],[0.5555555555555556,\"#d8576b\"],[0.6666666666666666,\"#ed7953\"],[0.7777777777777778,\"#fb9f3a\"],[0.8888888888888888,\"#fdca26\"],[1.0,\"#f0f921\"]],\"diverging\":[[0,\"#8e0152\"],[0.1,\"#c51b7d\"],[0.2,\"#de77ae\"],[0.3,\"#f1b6da\"],[0.4,\"#fde0ef\"],[0.5,\"#f7f7f7\"],[0.6,\"#e6f5d0\"],[0.7,\"#b8e186\"],[0.8,\"#7fbc41\"],[0.9,\"#4d9221\"],[1,\"#276419\"]]},\"xaxis\":{\"gridcolor\":\"white\",\"linecolor\":\"white\",\"ticks\":\"\",\"title\":{\"standoff\":15},\"zerolinecolor\":\"white\",\"automargin\":true,\"zerolinewidth\":2},\"yaxis\":{\"gridcolor\":\"white\",\"linecolor\":\"white\",\"ticks\":\"\",\"title\":{\"standoff\":15},\"zerolinecolor\":\"white\",\"automargin\":true,\"zerolinewidth\":2},\"scene\":{\"xaxis\":{\"backgroundcolor\":\"#E5ECF6\",\"gridcolor\":\"white\",\"linecolor\":\"white\",\"showbackground\":true,\"ticks\":\"\",\"zerolinecolor\":\"white\",\"gridwidth\":2},\"yaxis\":{\"backgroundcolor\":\"#E5ECF6\",\"gridcolor\":\"white\",\"linecolor\":\"white\",\"showbackground\":true,\"ticks\":\"\",\"zerolinecolor\":\"white\",\"gridwidth\":2},\"zaxis\":{\"backgroundcolor\":\"#E5ECF6\",\"gridcolor\":\"white\",\"linecolor\":\"white\",\"showbackground\":true,\"ticks\":\"\",\"zerolinecolor\":\"white\",\"gridwidth\":2}},\"shapedefaults\":{\"line\":{\"color\":\"#2a3f5f\"}},\"annotationdefaults\":{\"arrowcolor\":\"#2a3f5f\",\"arrowhead\":0,\"arrowwidth\":1},\"geo\":{\"bgcolor\":\"white\",\"landcolor\":\"#E5ECF6\",\"subunitcolor\":\"white\",\"showland\":true,\"showlakes\":true,\"lakecolor\":\"white\"},\"title\":{\"x\":0.05},\"mapbox\":{\"style\":\"light\"}}},\"legend\":{\"tracegroupgap\":0},\"title\":{\"text\":\"Distribution of OS loaded in the smartphones\"}},                        {\"responsive\": true}                    ).then(function(){\n",
       "                            \n",
       "var gd = document.getElementById('c622574b-e09a-4f59-9e7d-22bf8a2dd439');\n",
       "var x = new MutationObserver(function (mutations, observer) {{\n",
       "        var display = window.getComputedStyle(gd).display;\n",
       "        if (!display || display === 'none') {{\n",
       "            console.log([gd, 'removed!']);\n",
       "            Plotly.purge(gd);\n",
       "            observer.disconnect();\n",
       "        }}\n",
       "}});\n",
       "\n",
       "// Listen for the removal of the full notebook cells\n",
       "var notebookContainer = gd.closest('#notebook-container');\n",
       "if (notebookContainer) {{\n",
       "    x.observe(notebookContainer, {childList: true});\n",
       "}}\n",
       "\n",
       "// Listen for the clearing of the current output cell\n",
       "var outputEl = gd.closest('.output');\n",
       "if (outputEl) {{\n",
       "    x.observe(outputEl, {childList: true});\n",
       "}}\n",
       "\n",
       "                        })                };                });            </script>        </div>"
      ]
     },
     "metadata": {},
     "output_type": "display_data"
    }
   ],
   "source": [
    "fig = px.pie(values=sp['os'].value_counts(),names=sp['os'].value_counts().index, title='Distribution of OS loaded in the smartphones')\n",
    "colors = ['#006400', '#228B22','#808000']\n",
    "fig.update_traces(marker=dict(colors=colors))\n",
    "\n",
    "fig.show()"
   ]
  },
  {
   "cell_type": "code",
   "execution_count": 59,
   "id": "c3b4fc38",
   "metadata": {},
   "outputs": [
    {
     "data": {
      "application/vnd.plotly.v1+json": {
       "config": {
        "plotlyServerURL": "https://plot.ly"
       },
       "data": [
        {
         "domain": {
          "x": [
           0,
           1
          ],
          "y": [
           0,
           1
          ]
         },
         "hovertemplate": "label=%{label}<br>value=%{value}<extra></extra>",
         "labels": [
          "snapdragon",
          "helio",
          "dimensity",
          "exynos",
          "bionic",
          "unisoc",
          "tiger",
          "google",
          "kirin",
          "spreadtrum",
          "sc9863a",
          "fusion",
          "mediatek"
         ],
         "legendgroup": "",
         "marker": {
          "colors": [
           "#006400",
           "#228B22",
           "#808000"
          ]
         },
         "name": "",
         "showlegend": true,
         "type": "pie",
         "values": [
          388,
          189,
          173,
          50,
          45,
          23,
          18,
          9,
          7,
          4,
          2,
          1,
          1
         ]
        }
       ],
       "layout": {
        "legend": {
         "tracegroupgap": 0
        },
        "template": {
         "data": {
          "bar": [
           {
            "error_x": {
             "color": "#2a3f5f"
            },
            "error_y": {
             "color": "#2a3f5f"
            },
            "marker": {
             "line": {
              "color": "#E5ECF6",
              "width": 0.5
             },
             "pattern": {
              "fillmode": "overlay",
              "size": 10,
              "solidity": 0.2
             }
            },
            "type": "bar"
           }
          ],
          "barpolar": [
           {
            "marker": {
             "line": {
              "color": "#E5ECF6",
              "width": 0.5
             },
             "pattern": {
              "fillmode": "overlay",
              "size": 10,
              "solidity": 0.2
             }
            },
            "type": "barpolar"
           }
          ],
          "carpet": [
           {
            "aaxis": {
             "endlinecolor": "#2a3f5f",
             "gridcolor": "white",
             "linecolor": "white",
             "minorgridcolor": "white",
             "startlinecolor": "#2a3f5f"
            },
            "baxis": {
             "endlinecolor": "#2a3f5f",
             "gridcolor": "white",
             "linecolor": "white",
             "minorgridcolor": "white",
             "startlinecolor": "#2a3f5f"
            },
            "type": "carpet"
           }
          ],
          "choropleth": [
           {
            "colorbar": {
             "outlinewidth": 0,
             "ticks": ""
            },
            "type": "choropleth"
           }
          ],
          "contour": [
           {
            "colorbar": {
             "outlinewidth": 0,
             "ticks": ""
            },
            "colorscale": [
             [
              0,
              "#0d0887"
             ],
             [
              0.1111111111111111,
              "#46039f"
             ],
             [
              0.2222222222222222,
              "#7201a8"
             ],
             [
              0.3333333333333333,
              "#9c179e"
             ],
             [
              0.4444444444444444,
              "#bd3786"
             ],
             [
              0.5555555555555556,
              "#d8576b"
             ],
             [
              0.6666666666666666,
              "#ed7953"
             ],
             [
              0.7777777777777778,
              "#fb9f3a"
             ],
             [
              0.8888888888888888,
              "#fdca26"
             ],
             [
              1,
              "#f0f921"
             ]
            ],
            "type": "contour"
           }
          ],
          "contourcarpet": [
           {
            "colorbar": {
             "outlinewidth": 0,
             "ticks": ""
            },
            "type": "contourcarpet"
           }
          ],
          "heatmap": [
           {
            "colorbar": {
             "outlinewidth": 0,
             "ticks": ""
            },
            "colorscale": [
             [
              0,
              "#0d0887"
             ],
             [
              0.1111111111111111,
              "#46039f"
             ],
             [
              0.2222222222222222,
              "#7201a8"
             ],
             [
              0.3333333333333333,
              "#9c179e"
             ],
             [
              0.4444444444444444,
              "#bd3786"
             ],
             [
              0.5555555555555556,
              "#d8576b"
             ],
             [
              0.6666666666666666,
              "#ed7953"
             ],
             [
              0.7777777777777778,
              "#fb9f3a"
             ],
             [
              0.8888888888888888,
              "#fdca26"
             ],
             [
              1,
              "#f0f921"
             ]
            ],
            "type": "heatmap"
           }
          ],
          "heatmapgl": [
           {
            "colorbar": {
             "outlinewidth": 0,
             "ticks": ""
            },
            "colorscale": [
             [
              0,
              "#0d0887"
             ],
             [
              0.1111111111111111,
              "#46039f"
             ],
             [
              0.2222222222222222,
              "#7201a8"
             ],
             [
              0.3333333333333333,
              "#9c179e"
             ],
             [
              0.4444444444444444,
              "#bd3786"
             ],
             [
              0.5555555555555556,
              "#d8576b"
             ],
             [
              0.6666666666666666,
              "#ed7953"
             ],
             [
              0.7777777777777778,
              "#fb9f3a"
             ],
             [
              0.8888888888888888,
              "#fdca26"
             ],
             [
              1,
              "#f0f921"
             ]
            ],
            "type": "heatmapgl"
           }
          ],
          "histogram": [
           {
            "marker": {
             "pattern": {
              "fillmode": "overlay",
              "size": 10,
              "solidity": 0.2
             }
            },
            "type": "histogram"
           }
          ],
          "histogram2d": [
           {
            "colorbar": {
             "outlinewidth": 0,
             "ticks": ""
            },
            "colorscale": [
             [
              0,
              "#0d0887"
             ],
             [
              0.1111111111111111,
              "#46039f"
             ],
             [
              0.2222222222222222,
              "#7201a8"
             ],
             [
              0.3333333333333333,
              "#9c179e"
             ],
             [
              0.4444444444444444,
              "#bd3786"
             ],
             [
              0.5555555555555556,
              "#d8576b"
             ],
             [
              0.6666666666666666,
              "#ed7953"
             ],
             [
              0.7777777777777778,
              "#fb9f3a"
             ],
             [
              0.8888888888888888,
              "#fdca26"
             ],
             [
              1,
              "#f0f921"
             ]
            ],
            "type": "histogram2d"
           }
          ],
          "histogram2dcontour": [
           {
            "colorbar": {
             "outlinewidth": 0,
             "ticks": ""
            },
            "colorscale": [
             [
              0,
              "#0d0887"
             ],
             [
              0.1111111111111111,
              "#46039f"
             ],
             [
              0.2222222222222222,
              "#7201a8"
             ],
             [
              0.3333333333333333,
              "#9c179e"
             ],
             [
              0.4444444444444444,
              "#bd3786"
             ],
             [
              0.5555555555555556,
              "#d8576b"
             ],
             [
              0.6666666666666666,
              "#ed7953"
             ],
             [
              0.7777777777777778,
              "#fb9f3a"
             ],
             [
              0.8888888888888888,
              "#fdca26"
             ],
             [
              1,
              "#f0f921"
             ]
            ],
            "type": "histogram2dcontour"
           }
          ],
          "mesh3d": [
           {
            "colorbar": {
             "outlinewidth": 0,
             "ticks": ""
            },
            "type": "mesh3d"
           }
          ],
          "parcoords": [
           {
            "line": {
             "colorbar": {
              "outlinewidth": 0,
              "ticks": ""
             }
            },
            "type": "parcoords"
           }
          ],
          "pie": [
           {
            "automargin": true,
            "type": "pie"
           }
          ],
          "scatter": [
           {
            "fillpattern": {
             "fillmode": "overlay",
             "size": 10,
             "solidity": 0.2
            },
            "type": "scatter"
           }
          ],
          "scatter3d": [
           {
            "line": {
             "colorbar": {
              "outlinewidth": 0,
              "ticks": ""
             }
            },
            "marker": {
             "colorbar": {
              "outlinewidth": 0,
              "ticks": ""
             }
            },
            "type": "scatter3d"
           }
          ],
          "scattercarpet": [
           {
            "marker": {
             "colorbar": {
              "outlinewidth": 0,
              "ticks": ""
             }
            },
            "type": "scattercarpet"
           }
          ],
          "scattergeo": [
           {
            "marker": {
             "colorbar": {
              "outlinewidth": 0,
              "ticks": ""
             }
            },
            "type": "scattergeo"
           }
          ],
          "scattergl": [
           {
            "marker": {
             "colorbar": {
              "outlinewidth": 0,
              "ticks": ""
             }
            },
            "type": "scattergl"
           }
          ],
          "scattermapbox": [
           {
            "marker": {
             "colorbar": {
              "outlinewidth": 0,
              "ticks": ""
             }
            },
            "type": "scattermapbox"
           }
          ],
          "scatterpolar": [
           {
            "marker": {
             "colorbar": {
              "outlinewidth": 0,
              "ticks": ""
             }
            },
            "type": "scatterpolar"
           }
          ],
          "scatterpolargl": [
           {
            "marker": {
             "colorbar": {
              "outlinewidth": 0,
              "ticks": ""
             }
            },
            "type": "scatterpolargl"
           }
          ],
          "scatterternary": [
           {
            "marker": {
             "colorbar": {
              "outlinewidth": 0,
              "ticks": ""
             }
            },
            "type": "scatterternary"
           }
          ],
          "surface": [
           {
            "colorbar": {
             "outlinewidth": 0,
             "ticks": ""
            },
            "colorscale": [
             [
              0,
              "#0d0887"
             ],
             [
              0.1111111111111111,
              "#46039f"
             ],
             [
              0.2222222222222222,
              "#7201a8"
             ],
             [
              0.3333333333333333,
              "#9c179e"
             ],
             [
              0.4444444444444444,
              "#bd3786"
             ],
             [
              0.5555555555555556,
              "#d8576b"
             ],
             [
              0.6666666666666666,
              "#ed7953"
             ],
             [
              0.7777777777777778,
              "#fb9f3a"
             ],
             [
              0.8888888888888888,
              "#fdca26"
             ],
             [
              1,
              "#f0f921"
             ]
            ],
            "type": "surface"
           }
          ],
          "table": [
           {
            "cells": {
             "fill": {
              "color": "#EBF0F8"
             },
             "line": {
              "color": "white"
             }
            },
            "header": {
             "fill": {
              "color": "#C8D4E3"
             },
             "line": {
              "color": "white"
             }
            },
            "type": "table"
           }
          ]
         },
         "layout": {
          "annotationdefaults": {
           "arrowcolor": "#2a3f5f",
           "arrowhead": 0,
           "arrowwidth": 1
          },
          "autotypenumbers": "strict",
          "coloraxis": {
           "colorbar": {
            "outlinewidth": 0,
            "ticks": ""
           }
          },
          "colorscale": {
           "diverging": [
            [
             0,
             "#8e0152"
            ],
            [
             0.1,
             "#c51b7d"
            ],
            [
             0.2,
             "#de77ae"
            ],
            [
             0.3,
             "#f1b6da"
            ],
            [
             0.4,
             "#fde0ef"
            ],
            [
             0.5,
             "#f7f7f7"
            ],
            [
             0.6,
             "#e6f5d0"
            ],
            [
             0.7,
             "#b8e186"
            ],
            [
             0.8,
             "#7fbc41"
            ],
            [
             0.9,
             "#4d9221"
            ],
            [
             1,
             "#276419"
            ]
           ],
           "sequential": [
            [
             0,
             "#0d0887"
            ],
            [
             0.1111111111111111,
             "#46039f"
            ],
            [
             0.2222222222222222,
             "#7201a8"
            ],
            [
             0.3333333333333333,
             "#9c179e"
            ],
            [
             0.4444444444444444,
             "#bd3786"
            ],
            [
             0.5555555555555556,
             "#d8576b"
            ],
            [
             0.6666666666666666,
             "#ed7953"
            ],
            [
             0.7777777777777778,
             "#fb9f3a"
            ],
            [
             0.8888888888888888,
             "#fdca26"
            ],
            [
             1,
             "#f0f921"
            ]
           ],
           "sequentialminus": [
            [
             0,
             "#0d0887"
            ],
            [
             0.1111111111111111,
             "#46039f"
            ],
            [
             0.2222222222222222,
             "#7201a8"
            ],
            [
             0.3333333333333333,
             "#9c179e"
            ],
            [
             0.4444444444444444,
             "#bd3786"
            ],
            [
             0.5555555555555556,
             "#d8576b"
            ],
            [
             0.6666666666666666,
             "#ed7953"
            ],
            [
             0.7777777777777778,
             "#fb9f3a"
            ],
            [
             0.8888888888888888,
             "#fdca26"
            ],
            [
             1,
             "#f0f921"
            ]
           ]
          },
          "colorway": [
           "#636efa",
           "#EF553B",
           "#00cc96",
           "#ab63fa",
           "#FFA15A",
           "#19d3f3",
           "#FF6692",
           "#B6E880",
           "#FF97FF",
           "#FECB52"
          ],
          "font": {
           "color": "#2a3f5f"
          },
          "geo": {
           "bgcolor": "white",
           "lakecolor": "white",
           "landcolor": "#E5ECF6",
           "showlakes": true,
           "showland": true,
           "subunitcolor": "white"
          },
          "hoverlabel": {
           "align": "left"
          },
          "hovermode": "closest",
          "mapbox": {
           "style": "light"
          },
          "paper_bgcolor": "white",
          "plot_bgcolor": "#E5ECF6",
          "polar": {
           "angularaxis": {
            "gridcolor": "white",
            "linecolor": "white",
            "ticks": ""
           },
           "bgcolor": "#E5ECF6",
           "radialaxis": {
            "gridcolor": "white",
            "linecolor": "white",
            "ticks": ""
           }
          },
          "scene": {
           "xaxis": {
            "backgroundcolor": "#E5ECF6",
            "gridcolor": "white",
            "gridwidth": 2,
            "linecolor": "white",
            "showbackground": true,
            "ticks": "",
            "zerolinecolor": "white"
           },
           "yaxis": {
            "backgroundcolor": "#E5ECF6",
            "gridcolor": "white",
            "gridwidth": 2,
            "linecolor": "white",
            "showbackground": true,
            "ticks": "",
            "zerolinecolor": "white"
           },
           "zaxis": {
            "backgroundcolor": "#E5ECF6",
            "gridcolor": "white",
            "gridwidth": 2,
            "linecolor": "white",
            "showbackground": true,
            "ticks": "",
            "zerolinecolor": "white"
           }
          },
          "shapedefaults": {
           "line": {
            "color": "#2a3f5f"
           }
          },
          "ternary": {
           "aaxis": {
            "gridcolor": "white",
            "linecolor": "white",
            "ticks": ""
           },
           "baxis": {
            "gridcolor": "white",
            "linecolor": "white",
            "ticks": ""
           },
           "bgcolor": "#E5ECF6",
           "caxis": {
            "gridcolor": "white",
            "linecolor": "white",
            "ticks": ""
           }
          },
          "title": {
           "x": 0.05
          },
          "xaxis": {
           "automargin": true,
           "gridcolor": "white",
           "linecolor": "white",
           "ticks": "",
           "title": {
            "standoff": 15
           },
           "zerolinecolor": "white",
           "zerolinewidth": 2
          },
          "yaxis": {
           "automargin": true,
           "gridcolor": "white",
           "linecolor": "white",
           "ticks": "",
           "title": {
            "standoff": 15
           },
           "zerolinecolor": "white",
           "zerolinewidth": 2
          }
         }
        },
        "title": {
         "text": "Distribution of OS loaded in the smartphones"
        }
       }
      },
      "text/html": [
       "<div>                            <div id=\"3cdd6fbe-9f85-4226-bff3-bc6dc8c638d3\" class=\"plotly-graph-div\" style=\"height:525px; width:100%;\"></div>            <script type=\"text/javascript\">                require([\"plotly\"], function(Plotly) {                    window.PLOTLYENV=window.PLOTLYENV || {};                                    if (document.getElementById(\"3cdd6fbe-9f85-4226-bff3-bc6dc8c638d3\")) {                    Plotly.newPlot(                        \"3cdd6fbe-9f85-4226-bff3-bc6dc8c638d3\",                        [{\"domain\":{\"x\":[0.0,1.0],\"y\":[0.0,1.0]},\"hovertemplate\":\"label=%{label}\\u003cbr\\u003evalue=%{value}\\u003cextra\\u003e\\u003c\\u002fextra\\u003e\",\"labels\":[\"snapdragon\",\"helio\",\"dimensity\",\"exynos\",\"bionic\",\"unisoc\",\"tiger\",\"google\",\"kirin\",\"spreadtrum\",\"sc9863a\",\"fusion\",\"mediatek\"],\"legendgroup\":\"\",\"name\":\"\",\"showlegend\":true,\"values\":[388,189,173,50,45,23,18,9,7,4,2,1,1],\"type\":\"pie\",\"marker\":{\"colors\":[\"#006400\",\"#228B22\",\"#808000\"]}}],                        {\"template\":{\"data\":{\"histogram2dcontour\":[{\"type\":\"histogram2dcontour\",\"colorbar\":{\"outlinewidth\":0,\"ticks\":\"\"},\"colorscale\":[[0.0,\"#0d0887\"],[0.1111111111111111,\"#46039f\"],[0.2222222222222222,\"#7201a8\"],[0.3333333333333333,\"#9c179e\"],[0.4444444444444444,\"#bd3786\"],[0.5555555555555556,\"#d8576b\"],[0.6666666666666666,\"#ed7953\"],[0.7777777777777778,\"#fb9f3a\"],[0.8888888888888888,\"#fdca26\"],[1.0,\"#f0f921\"]]}],\"choropleth\":[{\"type\":\"choropleth\",\"colorbar\":{\"outlinewidth\":0,\"ticks\":\"\"}}],\"histogram2d\":[{\"type\":\"histogram2d\",\"colorbar\":{\"outlinewidth\":0,\"ticks\":\"\"},\"colorscale\":[[0.0,\"#0d0887\"],[0.1111111111111111,\"#46039f\"],[0.2222222222222222,\"#7201a8\"],[0.3333333333333333,\"#9c179e\"],[0.4444444444444444,\"#bd3786\"],[0.5555555555555556,\"#d8576b\"],[0.6666666666666666,\"#ed7953\"],[0.7777777777777778,\"#fb9f3a\"],[0.8888888888888888,\"#fdca26\"],[1.0,\"#f0f921\"]]}],\"heatmap\":[{\"type\":\"heatmap\",\"colorbar\":{\"outlinewidth\":0,\"ticks\":\"\"},\"colorscale\":[[0.0,\"#0d0887\"],[0.1111111111111111,\"#46039f\"],[0.2222222222222222,\"#7201a8\"],[0.3333333333333333,\"#9c179e\"],[0.4444444444444444,\"#bd3786\"],[0.5555555555555556,\"#d8576b\"],[0.6666666666666666,\"#ed7953\"],[0.7777777777777778,\"#fb9f3a\"],[0.8888888888888888,\"#fdca26\"],[1.0,\"#f0f921\"]]}],\"heatmapgl\":[{\"type\":\"heatmapgl\",\"colorbar\":{\"outlinewidth\":0,\"ticks\":\"\"},\"colorscale\":[[0.0,\"#0d0887\"],[0.1111111111111111,\"#46039f\"],[0.2222222222222222,\"#7201a8\"],[0.3333333333333333,\"#9c179e\"],[0.4444444444444444,\"#bd3786\"],[0.5555555555555556,\"#d8576b\"],[0.6666666666666666,\"#ed7953\"],[0.7777777777777778,\"#fb9f3a\"],[0.8888888888888888,\"#fdca26\"],[1.0,\"#f0f921\"]]}],\"contourcarpet\":[{\"type\":\"contourcarpet\",\"colorbar\":{\"outlinewidth\":0,\"ticks\":\"\"}}],\"contour\":[{\"type\":\"contour\",\"colorbar\":{\"outlinewidth\":0,\"ticks\":\"\"},\"colorscale\":[[0.0,\"#0d0887\"],[0.1111111111111111,\"#46039f\"],[0.2222222222222222,\"#7201a8\"],[0.3333333333333333,\"#9c179e\"],[0.4444444444444444,\"#bd3786\"],[0.5555555555555556,\"#d8576b\"],[0.6666666666666666,\"#ed7953\"],[0.7777777777777778,\"#fb9f3a\"],[0.8888888888888888,\"#fdca26\"],[1.0,\"#f0f921\"]]}],\"surface\":[{\"type\":\"surface\",\"colorbar\":{\"outlinewidth\":0,\"ticks\":\"\"},\"colorscale\":[[0.0,\"#0d0887\"],[0.1111111111111111,\"#46039f\"],[0.2222222222222222,\"#7201a8\"],[0.3333333333333333,\"#9c179e\"],[0.4444444444444444,\"#bd3786\"],[0.5555555555555556,\"#d8576b\"],[0.6666666666666666,\"#ed7953\"],[0.7777777777777778,\"#fb9f3a\"],[0.8888888888888888,\"#fdca26\"],[1.0,\"#f0f921\"]]}],\"mesh3d\":[{\"type\":\"mesh3d\",\"colorbar\":{\"outlinewidth\":0,\"ticks\":\"\"}}],\"scatter\":[{\"fillpattern\":{\"fillmode\":\"overlay\",\"size\":10,\"solidity\":0.2},\"type\":\"scatter\"}],\"parcoords\":[{\"type\":\"parcoords\",\"line\":{\"colorbar\":{\"outlinewidth\":0,\"ticks\":\"\"}}}],\"scatterpolargl\":[{\"type\":\"scatterpolargl\",\"marker\":{\"colorbar\":{\"outlinewidth\":0,\"ticks\":\"\"}}}],\"bar\":[{\"error_x\":{\"color\":\"#2a3f5f\"},\"error_y\":{\"color\":\"#2a3f5f\"},\"marker\":{\"line\":{\"color\":\"#E5ECF6\",\"width\":0.5},\"pattern\":{\"fillmode\":\"overlay\",\"size\":10,\"solidity\":0.2}},\"type\":\"bar\"}],\"scattergeo\":[{\"type\":\"scattergeo\",\"marker\":{\"colorbar\":{\"outlinewidth\":0,\"ticks\":\"\"}}}],\"scatterpolar\":[{\"type\":\"scatterpolar\",\"marker\":{\"colorbar\":{\"outlinewidth\":0,\"ticks\":\"\"}}}],\"histogram\":[{\"marker\":{\"pattern\":{\"fillmode\":\"overlay\",\"size\":10,\"solidity\":0.2}},\"type\":\"histogram\"}],\"scattergl\":[{\"type\":\"scattergl\",\"marker\":{\"colorbar\":{\"outlinewidth\":0,\"ticks\":\"\"}}}],\"scatter3d\":[{\"type\":\"scatter3d\",\"line\":{\"colorbar\":{\"outlinewidth\":0,\"ticks\":\"\"}},\"marker\":{\"colorbar\":{\"outlinewidth\":0,\"ticks\":\"\"}}}],\"scattermapbox\":[{\"type\":\"scattermapbox\",\"marker\":{\"colorbar\":{\"outlinewidth\":0,\"ticks\":\"\"}}}],\"scatterternary\":[{\"type\":\"scatterternary\",\"marker\":{\"colorbar\":{\"outlinewidth\":0,\"ticks\":\"\"}}}],\"scattercarpet\":[{\"type\":\"scattercarpet\",\"marker\":{\"colorbar\":{\"outlinewidth\":0,\"ticks\":\"\"}}}],\"carpet\":[{\"aaxis\":{\"endlinecolor\":\"#2a3f5f\",\"gridcolor\":\"white\",\"linecolor\":\"white\",\"minorgridcolor\":\"white\",\"startlinecolor\":\"#2a3f5f\"},\"baxis\":{\"endlinecolor\":\"#2a3f5f\",\"gridcolor\":\"white\",\"linecolor\":\"white\",\"minorgridcolor\":\"white\",\"startlinecolor\":\"#2a3f5f\"},\"type\":\"carpet\"}],\"table\":[{\"cells\":{\"fill\":{\"color\":\"#EBF0F8\"},\"line\":{\"color\":\"white\"}},\"header\":{\"fill\":{\"color\":\"#C8D4E3\"},\"line\":{\"color\":\"white\"}},\"type\":\"table\"}],\"barpolar\":[{\"marker\":{\"line\":{\"color\":\"#E5ECF6\",\"width\":0.5},\"pattern\":{\"fillmode\":\"overlay\",\"size\":10,\"solidity\":0.2}},\"type\":\"barpolar\"}],\"pie\":[{\"automargin\":true,\"type\":\"pie\"}]},\"layout\":{\"autotypenumbers\":\"strict\",\"colorway\":[\"#636efa\",\"#EF553B\",\"#00cc96\",\"#ab63fa\",\"#FFA15A\",\"#19d3f3\",\"#FF6692\",\"#B6E880\",\"#FF97FF\",\"#FECB52\"],\"font\":{\"color\":\"#2a3f5f\"},\"hovermode\":\"closest\",\"hoverlabel\":{\"align\":\"left\"},\"paper_bgcolor\":\"white\",\"plot_bgcolor\":\"#E5ECF6\",\"polar\":{\"bgcolor\":\"#E5ECF6\",\"angularaxis\":{\"gridcolor\":\"white\",\"linecolor\":\"white\",\"ticks\":\"\"},\"radialaxis\":{\"gridcolor\":\"white\",\"linecolor\":\"white\",\"ticks\":\"\"}},\"ternary\":{\"bgcolor\":\"#E5ECF6\",\"aaxis\":{\"gridcolor\":\"white\",\"linecolor\":\"white\",\"ticks\":\"\"},\"baxis\":{\"gridcolor\":\"white\",\"linecolor\":\"white\",\"ticks\":\"\"},\"caxis\":{\"gridcolor\":\"white\",\"linecolor\":\"white\",\"ticks\":\"\"}},\"coloraxis\":{\"colorbar\":{\"outlinewidth\":0,\"ticks\":\"\"}},\"colorscale\":{\"sequential\":[[0.0,\"#0d0887\"],[0.1111111111111111,\"#46039f\"],[0.2222222222222222,\"#7201a8\"],[0.3333333333333333,\"#9c179e\"],[0.4444444444444444,\"#bd3786\"],[0.5555555555555556,\"#d8576b\"],[0.6666666666666666,\"#ed7953\"],[0.7777777777777778,\"#fb9f3a\"],[0.8888888888888888,\"#fdca26\"],[1.0,\"#f0f921\"]],\"sequentialminus\":[[0.0,\"#0d0887\"],[0.1111111111111111,\"#46039f\"],[0.2222222222222222,\"#7201a8\"],[0.3333333333333333,\"#9c179e\"],[0.4444444444444444,\"#bd3786\"],[0.5555555555555556,\"#d8576b\"],[0.6666666666666666,\"#ed7953\"],[0.7777777777777778,\"#fb9f3a\"],[0.8888888888888888,\"#fdca26\"],[1.0,\"#f0f921\"]],\"diverging\":[[0,\"#8e0152\"],[0.1,\"#c51b7d\"],[0.2,\"#de77ae\"],[0.3,\"#f1b6da\"],[0.4,\"#fde0ef\"],[0.5,\"#f7f7f7\"],[0.6,\"#e6f5d0\"],[0.7,\"#b8e186\"],[0.8,\"#7fbc41\"],[0.9,\"#4d9221\"],[1,\"#276419\"]]},\"xaxis\":{\"gridcolor\":\"white\",\"linecolor\":\"white\",\"ticks\":\"\",\"title\":{\"standoff\":15},\"zerolinecolor\":\"white\",\"automargin\":true,\"zerolinewidth\":2},\"yaxis\":{\"gridcolor\":\"white\",\"linecolor\":\"white\",\"ticks\":\"\",\"title\":{\"standoff\":15},\"zerolinecolor\":\"white\",\"automargin\":true,\"zerolinewidth\":2},\"scene\":{\"xaxis\":{\"backgroundcolor\":\"#E5ECF6\",\"gridcolor\":\"white\",\"linecolor\":\"white\",\"showbackground\":true,\"ticks\":\"\",\"zerolinecolor\":\"white\",\"gridwidth\":2},\"yaxis\":{\"backgroundcolor\":\"#E5ECF6\",\"gridcolor\":\"white\",\"linecolor\":\"white\",\"showbackground\":true,\"ticks\":\"\",\"zerolinecolor\":\"white\",\"gridwidth\":2},\"zaxis\":{\"backgroundcolor\":\"#E5ECF6\",\"gridcolor\":\"white\",\"linecolor\":\"white\",\"showbackground\":true,\"ticks\":\"\",\"zerolinecolor\":\"white\",\"gridwidth\":2}},\"shapedefaults\":{\"line\":{\"color\":\"#2a3f5f\"}},\"annotationdefaults\":{\"arrowcolor\":\"#2a3f5f\",\"arrowhead\":0,\"arrowwidth\":1},\"geo\":{\"bgcolor\":\"white\",\"landcolor\":\"#E5ECF6\",\"subunitcolor\":\"white\",\"showland\":true,\"showlakes\":true,\"lakecolor\":\"white\"},\"title\":{\"x\":0.05},\"mapbox\":{\"style\":\"light\"}}},\"legend\":{\"tracegroupgap\":0},\"title\":{\"text\":\"Distribution of OS loaded in the smartphones\"}},                        {\"responsive\": true}                    ).then(function(){\n",
       "                            \n",
       "var gd = document.getElementById('3cdd6fbe-9f85-4226-bff3-bc6dc8c638d3');\n",
       "var x = new MutationObserver(function (mutations, observer) {{\n",
       "        var display = window.getComputedStyle(gd).display;\n",
       "        if (!display || display === 'none') {{\n",
       "            console.log([gd, 'removed!']);\n",
       "            Plotly.purge(gd);\n",
       "            observer.disconnect();\n",
       "        }}\n",
       "}});\n",
       "\n",
       "// Listen for the removal of the full notebook cells\n",
       "var notebookContainer = gd.closest('#notebook-container');\n",
       "if (notebookContainer) {{\n",
       "    x.observe(notebookContainer, {childList: true});\n",
       "}}\n",
       "\n",
       "// Listen for the clearing of the current output cell\n",
       "var outputEl = gd.closest('.output');\n",
       "if (outputEl) {{\n",
       "    x.observe(outputEl, {childList: true});\n",
       "}}\n",
       "\n",
       "                        })                };                });            </script>        </div>"
      ]
     },
     "metadata": {},
     "output_type": "display_data"
    }
   ],
   "source": [
    "fig = px.pie(values=sp['processor_brand'].value_counts(),names=sp['processor_brand'].value_counts().index, title='Distribution of OS loaded in the smartphones')\n",
    "colors = ['#006400', '#228B22','#808000']\n",
    "fig.update_traces(marker=dict(colors=colors))\n",
    "\n",
    "fig.show()"
   ]
  },
  {
   "cell_type": "markdown",
   "id": "c0dc3f89",
   "metadata": {},
   "source": [
    "# Let's go into Feature Engineering !"
   ]
  },
  {
   "cell_type": "markdown",
   "id": "3601a74e",
   "metadata": {},
   "source": [
    " "
   ]
  },
  {
   "cell_type": "markdown",
   "id": "6ffa2ee0",
   "metadata": {},
   "source": [
    "<img src=\"https://i.hizliresim.com/6xty05f.png\" alt=\"Image Alt Text\">"
   ]
  },
  {
   "cell_type": "markdown",
   "id": "30f4ea19",
   "metadata": {},
   "source": [
    "# Let's check out NaN values since we dropped some of useless rows."
   ]
  },
  {
   "cell_type": "code",
   "execution_count": 60,
   "id": "534b2060",
   "metadata": {},
   "outputs": [
    {
     "data": {
      "text/plain": [
       "<Axes: >"
      ]
     },
     "execution_count": 60,
     "metadata": {},
     "output_type": "execute_result"
    },
    {
     "data": {
      "image/png": "[encoded data removed]",
      "text/plain": [
       "<Figure size 640x480 with 2 Axes>"
      ]
     },
     "metadata": {},
     "output_type": "display_data"
    }
   ],
   "source": [
    "sns.heatmap(sp.isnull().T)\n",
    "#Still there are too many NaN values especially in fast_charging column as well as avg_rating."
   ]
  },
  {
   "cell_type": "code",
   "execution_count": 61,
   "id": "d2060960",
   "metadata": {
    "scrolled": true
   },
   "outputs": [
    {
     "name": "stdout",
     "output_type": "stream",
     "text": [
      "<class 'pandas.core.frame.DataFrame'>\n",
      "Index: 925 entries, 0 to 977\n",
      "Data columns (total 22 columns):\n",
      " #   Column                     Non-Null Count  Dtype  \n",
      "---  ------                     --------------  -----  \n",
      " 0   brand_name                 925 non-null    object \n",
      " 1   model                      925 non-null    object \n",
      " 2   price                      925 non-null    int64  \n",
      " 3   avg_rating                 836 non-null    float64\n",
      " 4   5G_or_not                  925 non-null    int64  \n",
      " 5   processor_brand            910 non-null    object \n",
      " 6   num_cores                  919 non-null    float64\n",
      " 7   processor_speed            885 non-null    float64\n",
      " 8   battery_capacity           914 non-null    float64\n",
      " 9   fast_charging_available    925 non-null    int64  \n",
      " 10  fast_charging              745 non-null    float64\n",
      " 11  ram_capacity               925 non-null    int64  \n",
      " 12  internal_memory            925 non-null    int64  \n",
      " 13  screen_size                925 non-null    float64\n",
      " 14  refresh_rate               925 non-null    int64  \n",
      " 15  num_rear_cameras           925 non-null    int64  \n",
      " 16  os                         917 non-null    object \n",
      " 17  primary_camera_rear        925 non-null    float64\n",
      " 18  primary_camera_front       921 non-null    float64\n",
      " 19  extended_memory_available  925 non-null    int64  \n",
      " 20  resolution_height          925 non-null    int64  \n",
      " 21  resolution_width           925 non-null    int64  \n",
      "dtypes: float64(8), int64(10), object(4)\n",
      "memory usage: 198.5+ KB\n"
     ]
    }
   ],
   "source": [
    "sp.info()"
   ]
  },
  {
   "cell_type": "markdown",
   "id": "7d13d8a8",
   "metadata": {},
   "source": [
    "# We can apply .fillna() method on avg_rating which are NaN values by applying mean() method based off their brand names."
   ]
  },
  {
   "cell_type": "markdown",
   "id": "0f84cef0",
   "metadata": {},
   "source": [
    " "
   ]
  },
  {
   "cell_type": "code",
   "execution_count": 62,
   "id": "52713674",
   "metadata": {
    "scrolled": true
   },
   "outputs": [],
   "source": [
    "mean_ratings = sp.groupby('brand_name')['avg_rating'].transform('mean')\n",
    "sp['avg_rating'] = sp['avg_rating'].fillna(mean_ratings)"
   ]
  },
  {
   "cell_type": "code",
   "execution_count": 63,
   "id": "2365a2c3",
   "metadata": {},
   "outputs": [
    {
     "data": {
      "text/plain": [
       "<Axes: >"
      ]
     },
     "execution_count": 63,
     "metadata": {},
     "output_type": "execute_result"
    },
    {
     "data": {
      "image/png": "[encoded data removed]",
      "text/plain": [
       "<Figure size 640x480 with 2 Axes>"
      ]
     },
     "metadata": {},
     "output_type": "display_data"
    }
   ],
   "source": [
    "sns.heatmap(sp.isnull().T)"
   ]
  },
  {
   "cell_type": "markdown",
   "id": "2c9b7a5f",
   "metadata": {},
   "source": [
    "# Fast charging feature with NaN values can be filled by searching on Google however we don't go in-depth feature engineering about it and so we ignore the NaN values and drop them."
   ]
  },
  {
   "cell_type": "markdown",
   "id": "95a76496",
   "metadata": {},
   "source": [
    " "
   ]
  },
  {
   "cell_type": "code",
   "execution_count": 64,
   "id": "1933bff5",
   "metadata": {},
   "outputs": [],
   "source": [
    "sp.dropna(inplace=True)"
   ]
  },
  {
   "cell_type": "markdown",
   "id": "f6b90f4c",
   "metadata": {},
   "source": [
    "# Let's perform several applications to categorize the data better and to block overfitting."
   ]
  },
  {
   "cell_type": "markdown",
   "id": "ba4c7650",
   "metadata": {},
   "source": [
    " "
   ]
  },
  {
   "cell_type": "code",
   "execution_count": 65,
   "id": "9011511c",
   "metadata": {},
   "outputs": [],
   "source": [
    "def format_resolution(row):\n",
    "    height = row['resolution_height']\n",
    "    width = row['resolution_width']\n",
    "    return f\"{height}x{width}\"\n",
    "sp['resolution'] = sp.apply(format_resolution, axis=1)"
   ]
  },
  {
   "cell_type": "code",
   "execution_count": 66,
   "id": "166b4557",
   "metadata": {},
   "outputs": [],
   "source": [
    "resolutions = ['2400x1080', '1600x720', '2408x1080','2412x1080']\n",
    "resdum = sp['resolution'].isin(resolutions)\n",
    "resdum_df = sp[resdum]\n",
    "resolution_dummies = pd.get_dummies(resdum_df['resolution'], prefix='resolution')\n",
    "resolution_dummies = resolution_dummies.astype(int)\n",
    "processor_brands = ['snapdragon', 'dimensity', 'helio','bionic']\n",
    "procdum = sp['processor_brand'].isin(processor_brands)\n",
    "filtered_df = sp[procdum]\n",
    "processor_dummies = pd.get_dummies(filtered_df['processor_brand'], prefix='processor')\n",
    "processor_dummies = processor_dummies.astype(int)\n",
    "internal_memory = [128, 256, 64]\n",
    "imdum = sp['internal_memory'].isin(internal_memory)\n",
    "imdum_df = sp[imdum]\n",
    "internal_memory_dummies = pd.get_dummies(imdum_df['internal_memory'], prefix='internal_memory')\n",
    "internal_memory_dummies = internal_memory_dummies.astype(int)\n",
    "num_cores = [8.0]\n",
    "ncdum = sp['num_cores'].isin(num_cores)\n",
    "ncdum_df = sp[ncdum]\n",
    "num_cores_dummies = pd.get_dummies(ncdum_df['num_cores'], prefix='num_cores')\n",
    "num_cores_dummies = num_cores_dummies.astype(int)\n",
    "ram_capacity = [8,6,4]\n",
    "rcdum = sp['ram_capacity'].isin(ram_capacity)\n",
    "rcdum_df = sp[rcdum]\n",
    "ram_capacity_dummies = pd.get_dummies(rcdum_df['ram_capacity'], prefix='ram_capacity')\n",
    "ram_capacity_dummies = ram_capacity_dummies.astype(int)\n",
    "primary_camera_front = [16.0,8.0,32.0]\n",
    "pcfdum = sp['primary_camera_front'].isin(primary_camera_front)\n",
    "pcfdum_df = sp[pcfdum]\n",
    "primary_camera_front = pd.get_dummies(pcfdum_df['primary_camera_front'], prefix='primary_camera_front')\n",
    "primary_camera_front_dummies = primary_camera_front.astype(int)\n",
    "primary_camera_rear = [50.0,64.0,48.0,108.0]\n",
    "pcrdum = sp['primary_camera_rear'].isin(primary_camera_rear)\n",
    "pcrdum_df = sp[pcrdum]\n",
    "primary_camera_rear = pd.get_dummies(pcrdum_df['primary_camera_rear'], prefix='primary_camera_rear')\n",
    "primary_camera_rear_dummies = primary_camera_rear.astype(int)\n",
    "primary_camera_rear_dummies\n",
    "battery_capacity = [5000.0,4500.0,6000.0]\n",
    "bcdum = sp['battery_capacity'].isin(battery_capacity)\n",
    "bcdum_df = sp[bcdum]\n",
    "battery_capacity = pd.get_dummies(bcdum_df['battery_capacity'], prefix='battery_capacity')\n",
    "battery_capacity_dummies = battery_capacity.astype(int)\n",
    "num_rear_cameras = [2,3,4]\n",
    "nrcdum = sp['num_rear_cameras'].isin(num_rear_cameras)\n",
    "nrcdum_df = sp[nrcdum]\n",
    "num_rear_cameras = pd.get_dummies(nrcdum_df['num_rear_cameras'], prefix='num_rear_cameras')\n",
    "num_rear_cameras_dummies = num_rear_cameras.astype(int)\n"
   ]
  },
  {
   "cell_type": "code",
   "execution_count": 67,
   "id": "dafe9586",
   "metadata": {
    "scrolled": true
   },
   "outputs": [
    {
     "data": {
      "text/html": [
       "<div>\n",
       "<style scoped>\n",
       "    .dataframe tbody tr th:only-of-type {\n",
       "        vertical-align: middle;\n",
       "    }\n",
       "\n",
       "    .dataframe tbody tr th {\n",
       "        vertical-align: top;\n",
       "    }\n",
       "\n",
       "    .dataframe thead th {\n",
       "        text-align: right;\n",
       "    }\n",
       "</style>\n",
       "<table border=\"1\" class=\"dataframe\">\n",
       "  <thead>\n",
       "    <tr style=\"text-align: right;\">\n",
       "      <th></th>\n",
       "      <th>brand_name</th>\n",
       "      <th>model</th>\n",
       "      <th>price</th>\n",
       "      <th>avg_rating</th>\n",
       "      <th>5G_or_not</th>\n",
       "      <th>processor_brand</th>\n",
       "      <th>num_cores</th>\n",
       "      <th>processor_speed</th>\n",
       "      <th>battery_capacity</th>\n",
       "      <th>fast_charging_available</th>\n",
       "      <th>...</th>\n",
       "      <th>internal_memory_64</th>\n",
       "      <th>internal_memory_128</th>\n",
       "      <th>internal_memory_256</th>\n",
       "      <th>processor_bionic</th>\n",
       "      <th>processor_dimensity</th>\n",
       "      <th>processor_helio</th>\n",
       "      <th>processor_snapdragon</th>\n",
       "      <th>num_rear_cameras_2</th>\n",
       "      <th>num_rear_cameras_3</th>\n",
       "      <th>num_rear_cameras_4</th>\n",
       "    </tr>\n",
       "  </thead>\n",
       "  <tbody>\n",
       "    <tr>\n",
       "      <th>2</th>\n",
       "      <td>apple</td>\n",
       "      <td>Apple iPhone 11 Pro Max</td>\n",
       "      <td>109900</td>\n",
       "      <td>7.7</td>\n",
       "      <td>0</td>\n",
       "      <td>bionic</td>\n",
       "      <td>6.0</td>\n",
       "      <td>2.65</td>\n",
       "      <td>3500.0</td>\n",
       "      <td>1</td>\n",
       "      <td>...</td>\n",
       "      <td>1.0</td>\n",
       "      <td>0.0</td>\n",
       "      <td>0.0</td>\n",
       "      <td>1.0</td>\n",
       "      <td>0.0</td>\n",
       "      <td>0.0</td>\n",
       "      <td>0.0</td>\n",
       "      <td>0.0</td>\n",
       "      <td>1.0</td>\n",
       "      <td>0.0</td>\n",
       "    </tr>\n",
       "    <tr>\n",
       "      <th>42</th>\n",
       "      <td>apple</td>\n",
       "      <td>Apple iPhone SE 2020</td>\n",
       "      <td>39900</td>\n",
       "      <td>6.3</td>\n",
       "      <td>0</td>\n",
       "      <td>bionic</td>\n",
       "      <td>6.0</td>\n",
       "      <td>2.65</td>\n",
       "      <td>1821.0</td>\n",
       "      <td>1</td>\n",
       "      <td>...</td>\n",
       "      <td>1.0</td>\n",
       "      <td>0.0</td>\n",
       "      <td>0.0</td>\n",
       "      <td>1.0</td>\n",
       "      <td>0.0</td>\n",
       "      <td>0.0</td>\n",
       "      <td>0.0</td>\n",
       "      <td>NaN</td>\n",
       "      <td>NaN</td>\n",
       "      <td>NaN</td>\n",
       "    </tr>\n",
       "    <tr>\n",
       "      <th>46</th>\n",
       "      <td>asus</td>\n",
       "      <td>Asus ROG Phone 5s 5G</td>\n",
       "      <td>39999</td>\n",
       "      <td>8.7</td>\n",
       "      <td>1</td>\n",
       "      <td>snapdragon</td>\n",
       "      <td>8.0</td>\n",
       "      <td>2.90</td>\n",
       "      <td>6000.0</td>\n",
       "      <td>1</td>\n",
       "      <td>...</td>\n",
       "      <td>0.0</td>\n",
       "      <td>1.0</td>\n",
       "      <td>0.0</td>\n",
       "      <td>0.0</td>\n",
       "      <td>0.0</td>\n",
       "      <td>0.0</td>\n",
       "      <td>1.0</td>\n",
       "      <td>0.0</td>\n",
       "      <td>1.0</td>\n",
       "      <td>0.0</td>\n",
       "    </tr>\n",
       "    <tr>\n",
       "      <th>47</th>\n",
       "      <td>asus</td>\n",
       "      <td>Asus ROG Phone 6</td>\n",
       "      <td>71999</td>\n",
       "      <td>8.6</td>\n",
       "      <td>1</td>\n",
       "      <td>snapdragon</td>\n",
       "      <td>8.0</td>\n",
       "      <td>3.20</td>\n",
       "      <td>6000.0</td>\n",
       "      <td>1</td>\n",
       "      <td>...</td>\n",
       "      <td>0.0</td>\n",
       "      <td>0.0</td>\n",
       "      <td>1.0</td>\n",
       "      <td>0.0</td>\n",
       "      <td>0.0</td>\n",
       "      <td>0.0</td>\n",
       "      <td>1.0</td>\n",
       "      <td>0.0</td>\n",
       "      <td>1.0</td>\n",
       "      <td>0.0</td>\n",
       "    </tr>\n",
       "    <tr>\n",
       "      <th>48</th>\n",
       "      <td>asus</td>\n",
       "      <td>Asus ROG Phone 6 Batman Edition</td>\n",
       "      <td>72999</td>\n",
       "      <td>8.8</td>\n",
       "      <td>1</td>\n",
       "      <td>dimensity</td>\n",
       "      <td>8.0</td>\n",
       "      <td>3.20</td>\n",
       "      <td>6000.0</td>\n",
       "      <td>1</td>\n",
       "      <td>...</td>\n",
       "      <td>0.0</td>\n",
       "      <td>0.0</td>\n",
       "      <td>1.0</td>\n",
       "      <td>0.0</td>\n",
       "      <td>1.0</td>\n",
       "      <td>0.0</td>\n",
       "      <td>0.0</td>\n",
       "      <td>0.0</td>\n",
       "      <td>1.0</td>\n",
       "      <td>0.0</td>\n",
       "    </tr>\n",
       "  </tbody>\n",
       "</table>\n",
       "<p>5 rows × 47 columns</p>\n",
       "</div>"
      ],
      "text/plain": [
       "   brand_name                            model   price  avg_rating  5G_or_not  \\\n",
       "2       apple          Apple iPhone 11 Pro Max  109900         7.7          0   \n",
       "42      apple             Apple iPhone SE 2020   39900         6.3          0   \n",
       "46       asus             Asus ROG Phone 5s 5G   39999         8.7          1   \n",
       "47       asus                 Asus ROG Phone 6   71999         8.6          1   \n",
       "48       asus  Asus ROG Phone 6 Batman Edition   72999         8.8          1   \n",
       "\n",
       "   processor_brand  num_cores  processor_speed  battery_capacity  \\\n",
       "2           bionic        6.0             2.65            3500.0   \n",
       "42          bionic        6.0             2.65            1821.0   \n",
       "46      snapdragon        8.0             2.90            6000.0   \n",
       "47      snapdragon        8.0             3.20            6000.0   \n",
       "48       dimensity        8.0             3.20            6000.0   \n",
       "\n",
       "    fast_charging_available  ...  internal_memory_64  internal_memory_128  \\\n",
       "2                         1  ...                 1.0                  0.0   \n",
       "42                        1  ...                 1.0                  0.0   \n",
       "46                        1  ...                 0.0                  1.0   \n",
       "47                        1  ...                 0.0                  0.0   \n",
       "48                        1  ...                 0.0                  0.0   \n",
       "\n",
       "    internal_memory_256  processor_bionic  processor_dimensity  \\\n",
       "2                   0.0               1.0                  0.0   \n",
       "42                  0.0               1.0                  0.0   \n",
       "46                  0.0               0.0                  0.0   \n",
       "47                  1.0               0.0                  0.0   \n",
       "48                  1.0               0.0                  1.0   \n",
       "\n",
       "    processor_helio processor_snapdragon  num_rear_cameras_2  \\\n",
       "2               0.0                  0.0                 0.0   \n",
       "42              0.0                  0.0                 NaN   \n",
       "46              0.0                  1.0                 0.0   \n",
       "47              0.0                  1.0                 0.0   \n",
       "48              0.0                  0.0                 0.0   \n",
       "\n",
       "    num_rear_cameras_3  num_rear_cameras_4  \n",
       "2                  1.0                 0.0  \n",
       "42                 NaN                 NaN  \n",
       "46                 1.0                 0.0  \n",
       "47                 1.0                 0.0  \n",
       "48                 1.0                 0.0  \n",
       "\n",
       "[5 rows x 47 columns]"
      ]
     },
     "execution_count": 67,
     "metadata": {},
     "output_type": "execute_result"
    }
   ],
   "source": [
    "final_data = pd.concat([sp,battery_capacity_dummies,primary_camera_rear_dummies,primary_camera_front_dummies,num_cores_dummies\n",
    "                       ,ram_capacity_dummies,internal_memory_dummies,processor_dummies\n",
    "                       ,num_rear_cameras_dummies],axis=1)\n",
    "final_data.head()"
   ]
  },
  {
   "cell_type": "markdown",
   "id": "c292f2ba",
   "metadata": {},
   "source": [
    "# We use fillna() to fill NaN values and values are going to be zero since the values to the features belong does not exist in the columns."
   ]
  },
  {
   "cell_type": "markdown",
   "id": "5ccbdadf",
   "metadata": {},
   "source": [
    " "
   ]
  },
  {
   "cell_type": "code",
   "execution_count": 68,
   "id": "62920748",
   "metadata": {},
   "outputs": [],
   "source": [
    "final_data.fillna(0,inplace=True)"
   ]
  },
  {
   "cell_type": "code",
   "execution_count": 69,
   "id": "574ba966",
   "metadata": {},
   "outputs": [],
   "source": [
    "useless_features = ['brand_name','model','processor_brand','resolution_height','resolution_width','internal_memory','screen_size',\n",
    "                   'num_rear_cameras','primary_camera_rear','primary_camera_front','os','battery_capacity','ram_capacity','refresh_rate',\n",
    "                   'resolution','num_cores']"
   ]
  },
  {
   "cell_type": "code",
   "execution_count": 70,
   "id": "8303a324",
   "metadata": {},
   "outputs": [],
   "source": [
    "final_data.drop(columns=useless_features,inplace=True)"
   ]
  },
  {
   "cell_type": "code",
   "execution_count": 71,
   "id": "a3dc6670",
   "metadata": {},
   "outputs": [
    {
     "data": {
      "text/plain": [
       "Index(['price', 'avg_rating', '5G_or_not', 'processor_speed',\n",
       "       'fast_charging_available', 'fast_charging', 'extended_memory_available',\n",
       "       'battery_capacity_4500.0', 'battery_capacity_5000.0',\n",
       "       'battery_capacity_6000.0', 'primary_camera_rear_48.0',\n",
       "       'primary_camera_rear_50.0', 'primary_camera_rear_64.0',\n",
       "       'primary_camera_rear_108.0', 'primary_camera_front_8.0',\n",
       "       'primary_camera_front_16.0', 'primary_camera_front_32.0',\n",
       "       'num_cores_8.0', 'ram_capacity_4', 'ram_capacity_6', 'ram_capacity_8',\n",
       "       'internal_memory_64', 'internal_memory_128', 'internal_memory_256',\n",
       "       'processor_bionic', 'processor_dimensity', 'processor_helio',\n",
       "       'processor_snapdragon', 'num_rear_cameras_2', 'num_rear_cameras_3',\n",
       "       'num_rear_cameras_4'],\n",
       "      dtype='object')"
      ]
     },
     "execution_count": 71,
     "metadata": {},
     "output_type": "execute_result"
    }
   ],
   "source": [
    "final_data.columns"
   ]
  },
  {
   "cell_type": "markdown",
   "id": "6ba9a7a6",
   "metadata": {},
   "source": [
    "# We've done with Feature Engineering. We go on the last step which is Deep Learning!"
   ]
  },
  {
   "cell_type": "markdown",
   "id": "776ae010",
   "metadata": {},
   "source": [
    " "
   ]
  },
  {
   "cell_type": "markdown",
   "id": "a3d5ce08",
   "metadata": {},
   "source": [
    "<img src=\"https://i.hizliresim.com/etgom9t.png\" alt=\"Image Alt Text\"> "
   ]
  },
  {
   "cell_type": "markdown",
   "id": "65156f5e",
   "metadata": {},
   "source": [
    " "
   ]
  },
  {
   "cell_type": "code",
   "execution_count": 72,
   "id": "d2e36ed0",
   "metadata": {},
   "outputs": [],
   "source": [
    "X = final_data[final_data['price']<65000].drop('price',axis=1)\n",
    "y = final_data[final_data['price']<65000]['price']\n",
    "from sklearn.model_selection import train_test_split\n",
    "X_train, X_test, y_train, y_test = train_test_split(X,y,test_size=0.3,random_state=101)\n",
    "from sklearn.preprocessing import MinMaxScaler\n",
    "scaler = MinMaxScaler()\n",
    "X_train = scaler.fit_transform(X_train)\n",
    "X_test = scaler.transform(X_test)"
   ]
  },
  {
   "cell_type": "code",
   "execution_count": 73,
   "id": "98e1e136",
   "metadata": {
    "scrolled": true
   },
   "outputs": [
    {
     "data": {
      "text/plain": [
       "(457, 30)"
      ]
     },
     "execution_count": 73,
     "metadata": {},
     "output_type": "execute_result"
    }
   ],
   "source": [
    "X_train.shape"
   ]
  },
  {
   "cell_type": "markdown",
   "id": "ec6f5642",
   "metadata": {},
   "source": [
    "# Creating a model"
   ]
  },
  {
   "cell_type": "code",
   "execution_count": 74,
   "id": "5630c3e2",
   "metadata": {},
   "outputs": [],
   "source": [
    "from tensorflow.keras.models import Sequential\n",
    "from tensorflow.keras.layers import Dense, Activation\n",
    "from tensorflow.keras.optimizers import Adam\n",
    "model = Sequential()\n",
    "\n",
    "model.add(Dense(30,activation='relu'))\n",
    "model.add(Dense(30,activation='relu'))\n",
    "model.add(Dense(30,activation='relu'))\n",
    "model.add(Dense(30,activation='relu'))\n",
    "model.add(Dense(1))\n",
    "model.compile(optimizer='adam',loss='mse')"
   ]
  },
  {
   "cell_type": "code",
   "execution_count": 75,
   "id": "64ef7ef5",
   "metadata": {
    "scrolled": true
   },
   "outputs": [
    {
     "name": "stdout",
     "output_type": "stream",
     "text": [
      "Epoch 1/400\n",
      "4/4 [==============================] - 3s 195ms/step - loss: 722070976.0000 - val_loss: 758109888.0000\n",
      "Epoch 2/400\n",
      "4/4 [==============================] - 0s 24ms/step - loss: 722063616.0000 - val_loss: 758102464.0000\n",
      "Epoch 3/400\n",
      "4/4 [==============================] - 0s 24ms/step - loss: 722056320.0000 - val_loss: 758094016.0000\n",
      "Epoch 4/400\n",
      "4/4 [==============================] - 0s 23ms/step - loss: 722047168.0000 - val_loss: 758082752.0000\n",
      "Epoch 5/400\n",
      "4/4 [==============================] - 0s 23ms/step - loss: 722035008.0000 - val_loss: 758067584.0000\n",
      "Epoch 6/400\n",
      "4/4 [==============================] - 0s 24ms/step - loss: 722018688.0000 - val_loss: 758046272.0000\n",
      "Epoch 7/400\n",
      "4/4 [==============================] - 0s 24ms/step - loss: 721995328.0000 - val_loss: 758016320.0000\n",
      "Epoch 8/400\n",
      "4/4 [==============================] - 0s 24ms/step - loss: 721962432.0000 - val_loss: 757975296.0000\n",
      "Epoch 9/400\n",
      "4/4 [==============================] - 0s 25ms/step - loss: 721917824.0000 - val_loss: 757919488.0000\n",
      "Epoch 10/400\n",
      "4/4 [==============================] - 0s 24ms/step - loss: 721857088.0000 - val_loss: 757843968.0000\n",
      "Epoch 11/400\n",
      "4/4 [==============================] - 0s 23ms/step - loss: 721774016.0000 - val_loss: 757742144.0000\n",
      "Epoch 12/400\n",
      "4/4 [==============================] - 0s 24ms/step - loss: 721662656.0000 - val_loss: 757604544.0000\n",
      "Epoch 13/400\n",
      "4/4 [==============================] - 0s 23ms/step - loss: 721513472.0000 - val_loss: 757417664.0000\n",
      "Epoch 14/400\n",
      "4/4 [==============================] - 0s 23ms/step - loss: 721308864.0000 - val_loss: 757166528.0000\n",
      "Epoch 15/400\n",
      "4/4 [==============================] - 0s 24ms/step - loss: 721033408.0000 - val_loss: 756832832.0000\n",
      "Epoch 16/400\n",
      "4/4 [==============================] - 0s 25ms/step - loss: 720678912.0000 - val_loss: 756392448.0000\n",
      "Epoch 17/400\n",
      "4/4 [==============================] - 0s 23ms/step - loss: 720196608.0000 - val_loss: 755818432.0000\n",
      "Epoch 18/400\n",
      "4/4 [==============================] - 0s 24ms/step - loss: 719573248.0000 - val_loss: 755071296.0000\n",
      "Epoch 19/400\n",
      "4/4 [==============================] - 0s 24ms/step - loss: 718772480.0000 - val_loss: 754103936.0000\n",
      "Epoch 20/400\n",
      "4/4 [==============================] - 0s 22ms/step - loss: 717733504.0000 - val_loss: 752864768.0000\n",
      "Epoch 21/400\n",
      "4/4 [==============================] - 0s 23ms/step - loss: 716401472.0000 - val_loss: 751288704.0000\n",
      "Epoch 22/400\n",
      "4/4 [==============================] - 0s 24ms/step - loss: 714720320.0000 - val_loss: 749301504.0000\n",
      "Epoch 23/400\n",
      "4/4 [==============================] - 0s 23ms/step - loss: 712596864.0000 - val_loss: 746819072.0000\n",
      "Epoch 24/400\n",
      "4/4 [==============================] - 0s 23ms/step - loss: 709937216.0000 - val_loss: 743744832.0000\n",
      "Epoch 25/400\n",
      "4/4 [==============================] - 0s 22ms/step - loss: 706714368.0000 - val_loss: 739962304.0000\n",
      "Epoch 26/400\n",
      "4/4 [==============================] - 0s 24ms/step - loss: 702714560.0000 - val_loss: 735356672.0000\n",
      "Epoch 27/400\n",
      "4/4 [==============================] - 0s 23ms/step - loss: 697888192.0000 - val_loss: 729792832.0000\n",
      "Epoch 28/400\n",
      "4/4 [==============================] - 0s 23ms/step - loss: 692001152.0000 - val_loss: 723122048.0000\n",
      "Epoch 29/400\n",
      "4/4 [==============================] - 0s 26ms/step - loss: 684966592.0000 - val_loss: 715168768.0000\n",
      "Epoch 30/400\n",
      "4/4 [==============================] - 0s 22ms/step - loss: 676641216.0000 - val_loss: 705742848.0000\n",
      "Epoch 31/400\n",
      "4/4 [==============================] - 0s 23ms/step - loss: 666907520.0000 - val_loss: 694652608.0000\n",
      "Epoch 32/400\n",
      "4/4 [==============================] - 0s 25ms/step - loss: 655291648.0000 - val_loss: 681747072.0000\n",
      "Epoch 33/400\n",
      "4/4 [==============================] - 0s 22ms/step - loss: 641859072.0000 - val_loss: 666805760.0000\n",
      "Epoch 34/400\n",
      "4/4 [==============================] - 0s 23ms/step - loss: 626340480.0000 - val_loss: 649649408.0000\n",
      "Epoch 35/400\n",
      "4/4 [==============================] - 0s 23ms/step - loss: 608933824.0000 - val_loss: 630040640.0000\n",
      "Epoch 36/400\n",
      "4/4 [==============================] - 0s 23ms/step - loss: 588156480.0000 - val_loss: 608031552.0000\n",
      "Epoch 37/400\n",
      "4/4 [==============================] - 0s 25ms/step - loss: 566050752.0000 - val_loss: 583246144.0000\n",
      "Epoch 38/400\n",
      "4/4 [==============================] - 0s 31ms/step - loss: 540740544.0000 - val_loss: 555883520.0000\n",
      "Epoch 39/400\n",
      "4/4 [==============================] - 0s 23ms/step - loss: 513045376.0000 - val_loss: 525924288.0000\n",
      "Epoch 40/400\n",
      "4/4 [==============================] - 0s 24ms/step - loss: 482862016.0000 - val_loss: 493571328.0000\n",
      "Epoch 41/400\n",
      "4/4 [==============================] - 0s 37ms/step - loss: 450920512.0000 - val_loss: 459063328.0000\n",
      "Epoch 42/400\n",
      "4/4 [==============================] - 0s 46ms/step - loss: 416841152.0000 - val_loss: 423049504.0000\n",
      "Epoch 43/400\n",
      "4/4 [==============================] - 0s 45ms/step - loss: 381542944.0000 - val_loss: 386185216.0000\n",
      "Epoch 44/400\n",
      "4/4 [==============================] - 0s 23ms/step - loss: 345839776.0000 - val_loss: 349222624.0000\n",
      "Epoch 45/400\n",
      "4/4 [==============================] - 0s 23ms/step - loss: 310260416.0000 - val_loss: 313318816.0000\n",
      "Epoch 46/400\n",
      "4/4 [==============================] - 0s 23ms/step - loss: 275172320.0000 - val_loss: 279535264.0000\n",
      "Epoch 47/400\n",
      "4/4 [==============================] - 0s 25ms/step - loss: 244725616.0000 - val_loss: 248417584.0000\n",
      "Epoch 48/400\n",
      "4/4 [==============================] - 0s 24ms/step - loss: 216402160.0000 - val_loss: 221568656.0000\n",
      "Epoch 49/400\n",
      "4/4 [==============================] - 0s 23ms/step - loss: 192806080.0000 - val_loss: 199626624.0000\n",
      "Epoch 50/400\n",
      "4/4 [==============================] - 0s 23ms/step - loss: 174397680.0000 - val_loss: 182883408.0000\n",
      "Epoch 51/400\n",
      "4/4 [==============================] - 0s 23ms/step - loss: 161408304.0000 - val_loss: 170935744.0000\n",
      "Epoch 52/400\n",
      "4/4 [==============================] - 0s 23ms/step - loss: 153236720.0000 - val_loss: 162806000.0000\n",
      "Epoch 53/400\n",
      "4/4 [==============================] - 0s 23ms/step - loss: 147661424.0000 - val_loss: 157517440.0000\n",
      "Epoch 54/400\n",
      "4/4 [==============================] - 0s 23ms/step - loss: 144167616.0000 - val_loss: 153788128.0000\n",
      "Epoch 55/400\n",
      "4/4 [==============================] - 0s 24ms/step - loss: 142284640.0000 - val_loss: 150688720.0000\n",
      "Epoch 56/400\n",
      "4/4 [==============================] - 0s 23ms/step - loss: 140214512.0000 - val_loss: 147822736.0000\n",
      "Epoch 57/400\n",
      "4/4 [==============================] - 0s 23ms/step - loss: 137780720.0000 - val_loss: 145081136.0000\n",
      "Epoch 58/400\n",
      "4/4 [==============================] - 0s 23ms/step - loss: 135480624.0000 - val_loss: 142422640.0000\n",
      "Epoch 59/400\n",
      "4/4 [==============================] - 0s 23ms/step - loss: 133005384.0000 - val_loss: 140046416.0000\n",
      "Epoch 60/400\n",
      "4/4 [==============================] - 0s 25ms/step - loss: 130646064.0000 - val_loss: 137870192.0000\n",
      "Epoch 61/400\n",
      "4/4 [==============================] - 0s 23ms/step - loss: 128482240.0000 - val_loss: 135858384.0000\n",
      "Epoch 62/400\n",
      "4/4 [==============================] - 0s 23ms/step - loss: 126506952.0000 - val_loss: 133999136.0000\n",
      "Epoch 63/400\n",
      "4/4 [==============================] - 0s 24ms/step - loss: 124676784.0000 - val_loss: 132117288.0000\n",
      "Epoch 64/400\n",
      "4/4 [==============================] - 0s 23ms/step - loss: 122877240.0000 - val_loss: 130289000.0000\n",
      "Epoch 65/400\n",
      "4/4 [==============================] - 0s 23ms/step - loss: 121198272.0000 - val_loss: 128309320.0000\n",
      "Epoch 66/400\n",
      "4/4 [==============================] - 0s 23ms/step - loss: 119550392.0000 - val_loss: 126324800.0000\n",
      "Epoch 67/400\n",
      "4/4 [==============================] - 0s 24ms/step - loss: 117889912.0000 - val_loss: 124414920.0000\n",
      "Epoch 68/400\n",
      "4/4 [==============================] - 0s 23ms/step - loss: 116308136.0000 - val_loss: 122537856.0000\n",
      "Epoch 69/400\n",
      "4/4 [==============================] - 0s 24ms/step - loss: 114761488.0000 - val_loss: 120722176.0000\n",
      "Epoch 70/400\n",
      "4/4 [==============================] - 0s 23ms/step - loss: 113239288.0000 - val_loss: 119044136.0000\n",
      "Epoch 71/400\n",
      "4/4 [==============================] - 0s 22ms/step - loss: 111774096.0000 - val_loss: 117317656.0000\n",
      "Epoch 72/400\n"
     ]
    },
    {
     "name": "stdout",
     "output_type": "stream",
     "text": [
      "4/4 [==============================] - 0s 23ms/step - loss: 110332312.0000 - val_loss: 115606000.0000\n",
      "Epoch 73/400\n",
      "4/4 [==============================] - 0s 22ms/step - loss: 108922008.0000 - val_loss: 113912608.0000\n",
      "Epoch 74/400\n",
      "4/4 [==============================] - 0s 22ms/step - loss: 107624608.0000 - val_loss: 112178168.0000\n",
      "Epoch 75/400\n",
      "4/4 [==============================] - 0s 22ms/step - loss: 106233800.0000 - val_loss: 110547816.0000\n",
      "Epoch 76/400\n",
      "4/4 [==============================] - 0s 23ms/step - loss: 105017800.0000 - val_loss: 108882160.0000\n",
      "Epoch 77/400\n",
      "4/4 [==============================] - 0s 23ms/step - loss: 103728456.0000 - val_loss: 107374848.0000\n",
      "Epoch 78/400\n",
      "4/4 [==============================] - 0s 22ms/step - loss: 102467312.0000 - val_loss: 106001536.0000\n",
      "Epoch 79/400\n",
      "4/4 [==============================] - 0s 22ms/step - loss: 101245688.0000 - val_loss: 104654616.0000\n",
      "Epoch 80/400\n",
      "4/4 [==============================] - 0s 23ms/step - loss: 100097592.0000 - val_loss: 103372560.0000\n",
      "Epoch 81/400\n",
      "4/4 [==============================] - 0s 22ms/step - loss: 98947600.0000 - val_loss: 102126632.0000\n",
      "Epoch 82/400\n",
      "4/4 [==============================] - 0s 23ms/step - loss: 97825184.0000 - val_loss: 100948064.0000\n",
      "Epoch 83/400\n",
      "4/4 [==============================] - 0s 23ms/step - loss: 96751384.0000 - val_loss: 99598488.0000\n",
      "Epoch 84/400\n",
      "4/4 [==============================] - 0s 23ms/step - loss: 95642192.0000 - val_loss: 98313824.0000\n",
      "Epoch 85/400\n",
      "4/4 [==============================] - 0s 22ms/step - loss: 94589960.0000 - val_loss: 96977480.0000\n",
      "Epoch 86/400\n",
      "4/4 [==============================] - 0s 23ms/step - loss: 93615496.0000 - val_loss: 95636216.0000\n",
      "Epoch 87/400\n",
      "4/4 [==============================] - 0s 23ms/step - loss: 92630720.0000 - val_loss: 94327160.0000\n",
      "Epoch 88/400\n",
      "4/4 [==============================] - 0s 23ms/step - loss: 91621856.0000 - val_loss: 93168856.0000\n",
      "Epoch 89/400\n",
      "4/4 [==============================] - 0s 23ms/step - loss: 90690952.0000 - val_loss: 91995768.0000\n",
      "Epoch 90/400\n",
      "4/4 [==============================] - 0s 23ms/step - loss: 89766016.0000 - val_loss: 90951848.0000\n",
      "Epoch 91/400\n",
      "4/4 [==============================] - 0s 23ms/step - loss: 88859608.0000 - val_loss: 89988536.0000\n",
      "Epoch 92/400\n",
      "4/4 [==============================] - 0s 37ms/step - loss: 88035720.0000 - val_loss: 89088272.0000\n",
      "Epoch 93/400\n",
      "4/4 [==============================] - 0s 23ms/step - loss: 87110072.0000 - val_loss: 88401352.0000\n",
      "Epoch 94/400\n",
      "4/4 [==============================] - 0s 24ms/step - loss: 86329584.0000 - val_loss: 87694920.0000\n",
      "Epoch 95/400\n",
      "4/4 [==============================] - 0s 23ms/step - loss: 85551096.0000 - val_loss: 86749728.0000\n",
      "Epoch 96/400\n",
      "4/4 [==============================] - 0s 24ms/step - loss: 84754576.0000 - val_loss: 85813376.0000\n",
      "Epoch 97/400\n",
      "4/4 [==============================] - 0s 23ms/step - loss: 83974088.0000 - val_loss: 84790264.0000\n",
      "Epoch 98/400\n",
      "4/4 [==============================] - 0s 23ms/step - loss: 83212528.0000 - val_loss: 83742024.0000\n",
      "Epoch 99/400\n",
      "4/4 [==============================] - 0s 23ms/step - loss: 82504816.0000 - val_loss: 82705936.0000\n",
      "Epoch 100/400\n",
      "4/4 [==============================] - 0s 23ms/step - loss: 81737824.0000 - val_loss: 81911144.0000\n",
      "Epoch 101/400\n",
      "4/4 [==============================] - 0s 23ms/step - loss: 81057840.0000 - val_loss: 81011584.0000\n",
      "Epoch 102/400\n",
      "4/4 [==============================] - 0s 22ms/step - loss: 80355104.0000 - val_loss: 80235104.0000\n",
      "Epoch 103/400\n",
      "4/4 [==============================] - 0s 23ms/step - loss: 79709200.0000 - val_loss: 79420424.0000\n",
      "Epoch 104/400\n",
      "4/4 [==============================] - 0s 22ms/step - loss: 79024600.0000 - val_loss: 78760352.0000\n",
      "Epoch 105/400\n",
      "4/4 [==============================] - 0s 23ms/step - loss: 78362672.0000 - val_loss: 78141968.0000\n",
      "Epoch 106/400\n",
      "4/4 [==============================] - 0s 23ms/step - loss: 77740800.0000 - val_loss: 77388656.0000\n",
      "Epoch 107/400\n",
      "4/4 [==============================] - 0s 23ms/step - loss: 77130336.0000 - val_loss: 76803208.0000\n",
      "Epoch 108/400\n",
      "4/4 [==============================] - 0s 23ms/step - loss: 76551336.0000 - val_loss: 76062056.0000\n",
      "Epoch 109/400\n",
      "4/4 [==============================] - 0s 23ms/step - loss: 75926336.0000 - val_loss: 75561568.0000\n",
      "Epoch 110/400\n",
      "4/4 [==============================] - 0s 23ms/step - loss: 75358728.0000 - val_loss: 75042248.0000\n",
      "Epoch 111/400\n",
      "4/4 [==============================] - 0s 23ms/step - loss: 74812928.0000 - val_loss: 74516664.0000\n",
      "Epoch 112/400\n",
      "4/4 [==============================] - 0s 22ms/step - loss: 74271536.0000 - val_loss: 73961112.0000\n",
      "Epoch 113/400\n",
      "4/4 [==============================] - 0s 25ms/step - loss: 73749720.0000 - val_loss: 73217984.0000\n",
      "Epoch 114/400\n",
      "4/4 [==============================] - 0s 23ms/step - loss: 73227760.0000 - val_loss: 72553984.0000\n",
      "Epoch 115/400\n",
      "4/4 [==============================] - 0s 23ms/step - loss: 72648944.0000 - val_loss: 72057344.0000\n",
      "Epoch 116/400\n",
      "4/4 [==============================] - 0s 24ms/step - loss: 72164832.0000 - val_loss: 71501200.0000\n",
      "Epoch 117/400\n",
      "4/4 [==============================] - 0s 23ms/step - loss: 71694456.0000 - val_loss: 70829488.0000\n",
      "Epoch 118/400\n",
      "4/4 [==============================] - 0s 23ms/step - loss: 71158552.0000 - val_loss: 70341408.0000\n",
      "Epoch 119/400\n",
      "4/4 [==============================] - 0s 22ms/step - loss: 70683120.0000 - val_loss: 69612648.0000\n",
      "Epoch 120/400\n",
      "4/4 [==============================] - 0s 22ms/step - loss: 70165400.0000 - val_loss: 68984688.0000\n",
      "Epoch 121/400\n",
      "4/4 [==============================] - 0s 23ms/step - loss: 69725224.0000 - val_loss: 68428136.0000\n",
      "Epoch 122/400\n",
      "4/4 [==============================] - 0s 23ms/step - loss: 69258376.0000 - val_loss: 67998344.0000\n",
      "Epoch 123/400\n",
      "4/4 [==============================] - 0s 23ms/step - loss: 68811768.0000 - val_loss: 67614072.0000\n",
      "Epoch 124/400\n",
      "4/4 [==============================] - 0s 22ms/step - loss: 68365576.0000 - val_loss: 67231424.0000\n",
      "Epoch 125/400\n",
      "4/4 [==============================] - 0s 23ms/step - loss: 67920296.0000 - val_loss: 66865324.0000\n",
      "Epoch 126/400\n",
      "4/4 [==============================] - 0s 23ms/step - loss: 67513232.0000 - val_loss: 66538240.0000\n",
      "Epoch 127/400\n",
      "4/4 [==============================] - 0s 23ms/step - loss: 67154600.0000 - val_loss: 66324840.0000\n",
      "Epoch 128/400\n",
      "4/4 [==============================] - 0s 23ms/step - loss: 66724276.0000 - val_loss: 65610124.0000\n",
      "Epoch 129/400\n",
      "4/4 [==============================] - 0s 23ms/step - loss: 66265956.0000 - val_loss: 64951488.0000\n",
      "Epoch 130/400\n",
      "4/4 [==============================] - 0s 22ms/step - loss: 65888168.0000 - val_loss: 64366208.0000\n",
      "Epoch 131/400\n",
      "4/4 [==============================] - 0s 23ms/step - loss: 65449904.0000 - val_loss: 63926076.0000\n",
      "Epoch 132/400\n",
      "4/4 [==============================] - 0s 23ms/step - loss: 65082476.0000 - val_loss: 63620684.0000\n",
      "Epoch 133/400\n",
      "4/4 [==============================] - 0s 23ms/step - loss: 64692704.0000 - val_loss: 63031572.0000\n",
      "Epoch 134/400\n",
      "4/4 [==============================] - 0s 23ms/step - loss: 64320340.0000 - val_loss: 62613316.0000\n",
      "Epoch 135/400\n",
      "4/4 [==============================] - 0s 23ms/step - loss: 63956268.0000 - val_loss: 62223488.0000\n",
      "Epoch 136/400\n",
      "4/4 [==============================] - 0s 23ms/step - loss: 63540500.0000 - val_loss: 61902016.0000\n",
      "Epoch 137/400\n",
      "4/4 [==============================] - 0s 22ms/step - loss: 63171120.0000 - val_loss: 61644332.0000\n",
      "Epoch 138/400\n",
      "4/4 [==============================] - 0s 23ms/step - loss: 62814980.0000 - val_loss: 61366376.0000\n",
      "Epoch 139/400\n",
      "4/4 [==============================] - 0s 22ms/step - loss: 62457188.0000 - val_loss: 61105900.0000\n",
      "Epoch 140/400\n",
      "4/4 [==============================] - 0s 23ms/step - loss: 62099204.0000 - val_loss: 60873184.0000\n",
      "Epoch 141/400\n",
      "4/4 [==============================] - 0s 24ms/step - loss: 61777628.0000 - val_loss: 60505264.0000\n",
      "Epoch 142/400\n",
      "4/4 [==============================] - 0s 23ms/step - loss: 61426072.0000 - val_loss: 60357760.0000\n",
      "Epoch 143/400\n",
      "4/4 [==============================] - 0s 23ms/step - loss: 61138676.0000 - val_loss: 60002812.0000\n",
      "Epoch 144/400\n"
     ]
    },
    {
     "name": "stdout",
     "output_type": "stream",
     "text": [
      "4/4 [==============================] - 0s 23ms/step - loss: 60762028.0000 - val_loss: 59927568.0000\n",
      "Epoch 145/400\n",
      "4/4 [==============================] - 0s 23ms/step - loss: 60467416.0000 - val_loss: 59727400.0000\n",
      "Epoch 146/400\n",
      "4/4 [==============================] - 0s 23ms/step - loss: 60153412.0000 - val_loss: 59528840.0000\n",
      "Epoch 147/400\n",
      "4/4 [==============================] - 0s 23ms/step - loss: 59875656.0000 - val_loss: 59330112.0000\n",
      "Epoch 148/400\n",
      "4/4 [==============================] - 0s 23ms/step - loss: 59557248.0000 - val_loss: 59050492.0000\n",
      "Epoch 149/400\n",
      "4/4 [==============================] - 0s 23ms/step - loss: 59270284.0000 - val_loss: 58764760.0000\n",
      "Epoch 150/400\n",
      "4/4 [==============================] - 0s 23ms/step - loss: 58959464.0000 - val_loss: 58578532.0000\n",
      "Epoch 151/400\n",
      "4/4 [==============================] - 0s 24ms/step - loss: 58684656.0000 - val_loss: 58381732.0000\n",
      "Epoch 152/400\n",
      "4/4 [==============================] - 0s 25ms/step - loss: 58379292.0000 - val_loss: 57860708.0000\n",
      "Epoch 153/400\n",
      "4/4 [==============================] - 0s 26ms/step - loss: 58066624.0000 - val_loss: 57394924.0000\n",
      "Epoch 154/400\n",
      "4/4 [==============================] - 0s 25ms/step - loss: 57784516.0000 - val_loss: 57066688.0000\n",
      "Epoch 155/400\n",
      "4/4 [==============================] - 0s 24ms/step - loss: 57536784.0000 - val_loss: 56751016.0000\n",
      "Epoch 156/400\n",
      "4/4 [==============================] - 0s 29ms/step - loss: 57249040.0000 - val_loss: 56623176.0000\n",
      "Epoch 157/400\n",
      "4/4 [==============================] - 0s 27ms/step - loss: 56971368.0000 - val_loss: 56592512.0000\n",
      "Epoch 158/400\n",
      "4/4 [==============================] - 0s 27ms/step - loss: 56745992.0000 - val_loss: 56633304.0000\n",
      "Epoch 159/400\n",
      "4/4 [==============================] - 0s 26ms/step - loss: 56435808.0000 - val_loss: 56232904.0000\n",
      "Epoch 160/400\n",
      "4/4 [==============================] - 0s 25ms/step - loss: 56141756.0000 - val_loss: 56067820.0000\n",
      "Epoch 161/400\n",
      "4/4 [==============================] - 0s 30ms/step - loss: 55900916.0000 - val_loss: 55850804.0000\n",
      "Epoch 162/400\n",
      "4/4 [==============================] - 0s 28ms/step - loss: 55601436.0000 - val_loss: 55436752.0000\n",
      "Epoch 163/400\n",
      "4/4 [==============================] - 0s 26ms/step - loss: 55381788.0000 - val_loss: 55117944.0000\n",
      "Epoch 164/400\n",
      "4/4 [==============================] - 0s 37ms/step - loss: 55098244.0000 - val_loss: 54994284.0000\n",
      "Epoch 165/400\n",
      "4/4 [==============================] - 0s 27ms/step - loss: 54858124.0000 - val_loss: 54984928.0000\n",
      "Epoch 166/400\n",
      "4/4 [==============================] - 0s 25ms/step - loss: 54579508.0000 - val_loss: 54970364.0000\n",
      "Epoch 167/400\n",
      "4/4 [==============================] - 0s 23ms/step - loss: 54342416.0000 - val_loss: 55084160.0000\n",
      "Epoch 168/400\n",
      "4/4 [==============================] - 0s 23ms/step - loss: 54140772.0000 - val_loss: 54902400.0000\n",
      "Epoch 169/400\n",
      "4/4 [==============================] - 0s 23ms/step - loss: 53899300.0000 - val_loss: 54763532.0000\n",
      "Epoch 170/400\n",
      "4/4 [==============================] - 0s 23ms/step - loss: 53664792.0000 - val_loss: 54732968.0000\n",
      "Epoch 171/400\n",
      "4/4 [==============================] - 0s 23ms/step - loss: 53435828.0000 - val_loss: 54545280.0000\n",
      "Epoch 172/400\n",
      "4/4 [==============================] - 0s 23ms/step - loss: 53225856.0000 - val_loss: 54282468.0000\n",
      "Epoch 173/400\n",
      "4/4 [==============================] - 0s 22ms/step - loss: 52969696.0000 - val_loss: 54062076.0000\n",
      "Epoch 174/400\n",
      "4/4 [==============================] - 0s 23ms/step - loss: 52744032.0000 - val_loss: 53803872.0000\n",
      "Epoch 175/400\n",
      "4/4 [==============================] - 0s 23ms/step - loss: 52513124.0000 - val_loss: 53577124.0000\n",
      "Epoch 176/400\n",
      "4/4 [==============================] - 0s 23ms/step - loss: 52266784.0000 - val_loss: 53438336.0000\n",
      "Epoch 177/400\n",
      "4/4 [==============================] - 0s 22ms/step - loss: 52058260.0000 - val_loss: 53162848.0000\n",
      "Epoch 178/400\n",
      "4/4 [==============================] - 0s 22ms/step - loss: 51828676.0000 - val_loss: 52998416.0000\n",
      "Epoch 179/400\n",
      "4/4 [==============================] - 0s 23ms/step - loss: 51618612.0000 - val_loss: 52811376.0000\n",
      "Epoch 180/400\n",
      "4/4 [==============================] - 0s 22ms/step - loss: 51431880.0000 - val_loss: 52653180.0000\n",
      "Epoch 181/400\n",
      "4/4 [==============================] - 0s 24ms/step - loss: 51191956.0000 - val_loss: 52665112.0000\n",
      "Epoch 182/400\n",
      "4/4 [==============================] - 0s 23ms/step - loss: 50960732.0000 - val_loss: 52509196.0000\n",
      "Epoch 183/400\n",
      "4/4 [==============================] - 0s 22ms/step - loss: 50759236.0000 - val_loss: 52289056.0000\n",
      "Epoch 184/400\n",
      "4/4 [==============================] - 0s 23ms/step - loss: 50558704.0000 - val_loss: 52098072.0000\n",
      "Epoch 185/400\n",
      "4/4 [==============================] - 0s 23ms/step - loss: 50336944.0000 - val_loss: 51937696.0000\n",
      "Epoch 186/400\n",
      "4/4 [==============================] - 0s 24ms/step - loss: 50202428.0000 - val_loss: 51662712.0000\n",
      "Epoch 187/400\n",
      "4/4 [==============================] - 0s 23ms/step - loss: 49949996.0000 - val_loss: 51615568.0000\n",
      "Epoch 188/400\n",
      "4/4 [==============================] - 0s 23ms/step - loss: 49744900.0000 - val_loss: 51558348.0000\n",
      "Epoch 189/400\n",
      "4/4 [==============================] - 0s 22ms/step - loss: 49539776.0000 - val_loss: 51644288.0000\n",
      "Epoch 190/400\n",
      "4/4 [==============================] - 0s 23ms/step - loss: 49365076.0000 - val_loss: 51590700.0000\n",
      "Epoch 191/400\n",
      "4/4 [==============================] - 0s 23ms/step - loss: 49136720.0000 - val_loss: 51680312.0000\n",
      "Epoch 192/400\n",
      "4/4 [==============================] - 0s 23ms/step - loss: 48965084.0000 - val_loss: 51737900.0000\n",
      "Epoch 193/400\n",
      "4/4 [==============================] - 0s 23ms/step - loss: 48790800.0000 - val_loss: 51526608.0000\n",
      "Epoch 194/400\n",
      "4/4 [==============================] - 0s 23ms/step - loss: 48606508.0000 - val_loss: 51350504.0000\n",
      "Epoch 195/400\n",
      "4/4 [==============================] - 0s 23ms/step - loss: 48390184.0000 - val_loss: 51117236.0000\n",
      "Epoch 196/400\n",
      "4/4 [==============================] - 0s 23ms/step - loss: 48200536.0000 - val_loss: 50919448.0000\n",
      "Epoch 197/400\n",
      "4/4 [==============================] - 0s 23ms/step - loss: 48032464.0000 - val_loss: 50763752.0000\n",
      "Epoch 198/400\n",
      "4/4 [==============================] - 0s 23ms/step - loss: 47849344.0000 - val_loss: 50633208.0000\n",
      "Epoch 199/400\n",
      "4/4 [==============================] - 0s 23ms/step - loss: 47669364.0000 - val_loss: 50564008.0000\n",
      "Epoch 200/400\n",
      "4/4 [==============================] - 0s 22ms/step - loss: 47511992.0000 - val_loss: 50463096.0000\n",
      "Epoch 201/400\n",
      "4/4 [==============================] - 0s 23ms/step - loss: 47333492.0000 - val_loss: 50421540.0000\n",
      "Epoch 202/400\n",
      "4/4 [==============================] - 0s 23ms/step - loss: 47158140.0000 - val_loss: 50392900.0000\n",
      "Epoch 203/400\n",
      "4/4 [==============================] - 0s 23ms/step - loss: 47016184.0000 - val_loss: 50304368.0000\n",
      "Epoch 204/400\n",
      "4/4 [==============================] - 0s 22ms/step - loss: 46777352.0000 - val_loss: 50429900.0000\n",
      "Epoch 205/400\n",
      "4/4 [==============================] - 0s 23ms/step - loss: 46650552.0000 - val_loss: 50507712.0000\n",
      "Epoch 206/400\n",
      "4/4 [==============================] - 0s 23ms/step - loss: 46509584.0000 - val_loss: 50395704.0000\n",
      "Epoch 207/400\n",
      "4/4 [==============================] - 0s 23ms/step - loss: 46335680.0000 - val_loss: 50194428.0000\n",
      "Epoch 208/400\n",
      "4/4 [==============================] - 0s 23ms/step - loss: 46155688.0000 - val_loss: 49941284.0000\n",
      "Epoch 209/400\n",
      "4/4 [==============================] - 0s 26ms/step - loss: 45990888.0000 - val_loss: 49798888.0000\n",
      "Epoch 210/400\n",
      "4/4 [==============================] - 0s 23ms/step - loss: 45834496.0000 - val_loss: 49521740.0000\n",
      "Epoch 211/400\n",
      "4/4 [==============================] - 0s 23ms/step - loss: 45681472.0000 - val_loss: 49426184.0000\n",
      "Epoch 212/400\n",
      "4/4 [==============================] - 0s 22ms/step - loss: 45548936.0000 - val_loss: 49441288.0000\n",
      "Epoch 213/400\n",
      "4/4 [==============================] - 0s 23ms/step - loss: 45364060.0000 - val_loss: 49431964.0000\n",
      "Epoch 214/400\n",
      "4/4 [==============================] - 0s 23ms/step - loss: 45250944.0000 - val_loss: 49461912.0000\n",
      "Epoch 215/400\n",
      "4/4 [==============================] - 0s 22ms/step - loss: 45043836.0000 - val_loss: 49293448.0000\n"
     ]
    },
    {
     "name": "stdout",
     "output_type": "stream",
     "text": [
      "Epoch 216/400\n",
      "4/4 [==============================] - 0s 24ms/step - loss: 44947984.0000 - val_loss: 49175980.0000\n",
      "Epoch 217/400\n",
      "4/4 [==============================] - 0s 23ms/step - loss: 44757804.0000 - val_loss: 49162116.0000\n",
      "Epoch 218/400\n",
      "4/4 [==============================] - 0s 23ms/step - loss: 44610584.0000 - val_loss: 49208672.0000\n",
      "Epoch 219/400\n",
      "4/4 [==============================] - 0s 24ms/step - loss: 44472104.0000 - val_loss: 49374336.0000\n",
      "Epoch 220/400\n",
      "4/4 [==============================] - 0s 23ms/step - loss: 44368844.0000 - val_loss: 49457152.0000\n",
      "Epoch 221/400\n",
      "4/4 [==============================] - 0s 23ms/step - loss: 44219236.0000 - val_loss: 49423996.0000\n",
      "Epoch 222/400\n",
      "4/4 [==============================] - 0s 23ms/step - loss: 44061912.0000 - val_loss: 49180672.0000\n",
      "Epoch 223/400\n",
      "4/4 [==============================] - 0s 23ms/step - loss: 43902084.0000 - val_loss: 48943556.0000\n",
      "Epoch 224/400\n",
      "4/4 [==============================] - 0s 23ms/step - loss: 43773172.0000 - val_loss: 48756540.0000\n",
      "Epoch 225/400\n",
      "4/4 [==============================] - 0s 23ms/step - loss: 43684172.0000 - val_loss: 48603084.0000\n",
      "Epoch 226/400\n",
      "4/4 [==============================] - 0s 23ms/step - loss: 43521236.0000 - val_loss: 48609820.0000\n",
      "Epoch 227/400\n",
      "4/4 [==============================] - 0s 23ms/step - loss: 43389732.0000 - val_loss: 48634192.0000\n",
      "Epoch 228/400\n",
      "4/4 [==============================] - 0s 23ms/step - loss: 43241012.0000 - val_loss: 48607616.0000\n",
      "Epoch 229/400\n",
      "4/4 [==============================] - 0s 22ms/step - loss: 43108624.0000 - val_loss: 48648224.0000\n",
      "Epoch 230/400\n",
      "4/4 [==============================] - 0s 23ms/step - loss: 42991856.0000 - val_loss: 48622568.0000\n",
      "Epoch 231/400\n",
      "4/4 [==============================] - 0s 23ms/step - loss: 42882296.0000 - val_loss: 48684748.0000\n",
      "Epoch 232/400\n",
      "4/4 [==============================] - 0s 23ms/step - loss: 42734088.0000 - val_loss: 48519148.0000\n",
      "Epoch 233/400\n",
      "4/4 [==============================] - 0s 23ms/step - loss: 42600944.0000 - val_loss: 48394096.0000\n",
      "Epoch 234/400\n",
      "4/4 [==============================] - 0s 23ms/step - loss: 42472516.0000 - val_loss: 48279568.0000\n",
      "Epoch 235/400\n",
      "4/4 [==============================] - 0s 23ms/step - loss: 42354284.0000 - val_loss: 48199136.0000\n",
      "Epoch 236/400\n",
      "4/4 [==============================] - 0s 23ms/step - loss: 42240224.0000 - val_loss: 48135688.0000\n",
      "Epoch 237/400\n",
      "4/4 [==============================] - 0s 24ms/step - loss: 42115784.0000 - val_loss: 48090136.0000\n",
      "Epoch 238/400\n",
      "4/4 [==============================] - 0s 23ms/step - loss: 41992492.0000 - val_loss: 48028760.0000\n",
      "Epoch 239/400\n",
      "4/4 [==============================] - 0s 22ms/step - loss: 41868552.0000 - val_loss: 48043600.0000\n",
      "Epoch 240/400\n",
      "4/4 [==============================] - 0s 23ms/step - loss: 41748640.0000 - val_loss: 48114100.0000\n",
      "Epoch 241/400\n",
      "4/4 [==============================] - 0s 23ms/step - loss: 41631276.0000 - val_loss: 48136848.0000\n",
      "Epoch 242/400\n",
      "4/4 [==============================] - 0s 23ms/step - loss: 41515248.0000 - val_loss: 48000628.0000\n",
      "Epoch 243/400\n",
      "4/4 [==============================] - 0s 23ms/step - loss: 41381492.0000 - val_loss: 47932220.0000\n",
      "Epoch 244/400\n",
      "4/4 [==============================] - 0s 23ms/step - loss: 41270264.0000 - val_loss: 47897492.0000\n",
      "Epoch 245/400\n",
      "4/4 [==============================] - 0s 24ms/step - loss: 41156572.0000 - val_loss: 47892120.0000\n",
      "Epoch 246/400\n",
      "4/4 [==============================] - 0s 22ms/step - loss: 41033680.0000 - val_loss: 47868664.0000\n",
      "Epoch 247/400\n",
      "4/4 [==============================] - 0s 23ms/step - loss: 40936848.0000 - val_loss: 47827956.0000\n",
      "Epoch 248/400\n",
      "4/4 [==============================] - 0s 23ms/step - loss: 40829672.0000 - val_loss: 47767704.0000\n",
      "Epoch 249/400\n",
      "4/4 [==============================] - 0s 23ms/step - loss: 40782764.0000 - val_loss: 47931060.0000\n",
      "Epoch 250/400\n",
      "4/4 [==============================] - 0s 23ms/step - loss: 40602344.0000 - val_loss: 47820164.0000\n",
      "Epoch 251/400\n",
      "4/4 [==============================] - 0s 24ms/step - loss: 40481212.0000 - val_loss: 47657528.0000\n",
      "Epoch 252/400\n",
      "4/4 [==============================] - 0s 24ms/step - loss: 40407156.0000 - val_loss: 47471716.0000\n",
      "Epoch 253/400\n",
      "4/4 [==============================] - 0s 24ms/step - loss: 40278240.0000 - val_loss: 47486872.0000\n",
      "Epoch 254/400\n",
      "4/4 [==============================] - 0s 23ms/step - loss: 40172844.0000 - val_loss: 47476944.0000\n",
      "Epoch 255/400\n",
      "4/4 [==============================] - 0s 23ms/step - loss: 40094972.0000 - val_loss: 47374004.0000\n",
      "Epoch 256/400\n",
      "4/4 [==============================] - 0s 23ms/step - loss: 39977460.0000 - val_loss: 47443332.0000\n",
      "Epoch 257/400\n",
      "4/4 [==============================] - 0s 22ms/step - loss: 39873296.0000 - val_loss: 47518112.0000\n",
      "Epoch 258/400\n",
      "4/4 [==============================] - 0s 30ms/step - loss: 39760848.0000 - val_loss: 47443972.0000\n",
      "Epoch 259/400\n",
      "4/4 [==============================] - 0s 23ms/step - loss: 39674952.0000 - val_loss: 47424560.0000\n",
      "Epoch 260/400\n",
      "4/4 [==============================] - 0s 23ms/step - loss: 39563048.0000 - val_loss: 47247188.0000\n",
      "Epoch 261/400\n",
      "4/4 [==============================] - 0s 23ms/step - loss: 39492468.0000 - val_loss: 47134980.0000\n",
      "Epoch 262/400\n",
      "4/4 [==============================] - 0s 22ms/step - loss: 39370848.0000 - val_loss: 47147756.0000\n",
      "Epoch 263/400\n",
      "4/4 [==============================] - 0s 23ms/step - loss: 39290932.0000 - val_loss: 47187032.0000\n",
      "Epoch 264/400\n",
      "4/4 [==============================] - 0s 23ms/step - loss: 39161908.0000 - val_loss: 47073732.0000\n",
      "Epoch 265/400\n",
      "4/4 [==============================] - 0s 22ms/step - loss: 39114300.0000 - val_loss: 46979552.0000\n",
      "Epoch 266/400\n",
      "4/4 [==============================] - 0s 23ms/step - loss: 38973956.0000 - val_loss: 47073744.0000\n",
      "Epoch 267/400\n",
      "4/4 [==============================] - 0s 23ms/step - loss: 38868380.0000 - val_loss: 47208572.0000\n",
      "Epoch 268/400\n",
      "4/4 [==============================] - 0s 23ms/step - loss: 38805460.0000 - val_loss: 47287420.0000\n",
      "Epoch 269/400\n",
      "4/4 [==============================] - 0s 23ms/step - loss: 38720824.0000 - val_loss: 47197100.0000\n",
      "Epoch 270/400\n",
      "4/4 [==============================] - 0s 23ms/step - loss: 38613924.0000 - val_loss: 47148488.0000\n",
      "Epoch 271/400\n",
      "4/4 [==============================] - 0s 23ms/step - loss: 38498912.0000 - val_loss: 46997376.0000\n",
      "Epoch 272/400\n",
      "4/4 [==============================] - 0s 22ms/step - loss: 38408504.0000 - val_loss: 46803796.0000\n",
      "Epoch 273/400\n",
      "4/4 [==============================] - 0s 23ms/step - loss: 38345160.0000 - val_loss: 46671756.0000\n",
      "Epoch 274/400\n",
      "4/4 [==============================] - 0s 24ms/step - loss: 38294016.0000 - val_loss: 46630340.0000\n",
      "Epoch 275/400\n",
      "4/4 [==============================] - 0s 23ms/step - loss: 38166036.0000 - val_loss: 46681856.0000\n",
      "Epoch 276/400\n",
      "4/4 [==============================] - 0s 23ms/step - loss: 38125744.0000 - val_loss: 46802732.0000\n",
      "Epoch 277/400\n",
      "4/4 [==============================] - 0s 22ms/step - loss: 38037348.0000 - val_loss: 46643628.0000\n",
      "Epoch 278/400\n",
      "4/4 [==============================] - 0s 22ms/step - loss: 37892232.0000 - val_loss: 46709324.0000\n",
      "Epoch 279/400\n",
      "4/4 [==============================] - 0s 23ms/step - loss: 37794212.0000 - val_loss: 46683776.0000\n",
      "Epoch 280/400\n",
      "4/4 [==============================] - 0s 23ms/step - loss: 37709652.0000 - val_loss: 46700956.0000\n",
      "Epoch 281/400\n",
      "4/4 [==============================] - 0s 23ms/step - loss: 37644152.0000 - val_loss: 46758740.0000\n",
      "Epoch 282/400\n",
      "4/4 [==============================] - 0s 23ms/step - loss: 37536576.0000 - val_loss: 46621192.0000\n",
      "Epoch 283/400\n",
      "4/4 [==============================] - 0s 23ms/step - loss: 37452700.0000 - val_loss: 46470576.0000\n",
      "Epoch 284/400\n",
      "4/4 [==============================] - 0s 23ms/step - loss: 37383168.0000 - val_loss: 46360992.0000\n",
      "Epoch 285/400\n",
      "4/4 [==============================] - 0s 23ms/step - loss: 37278000.0000 - val_loss: 46380764.0000\n",
      "Epoch 286/400\n",
      "4/4 [==============================] - 0s 23ms/step - loss: 37192328.0000 - val_loss: 46435340.0000\n",
      "Epoch 287/400\n",
      "4/4 [==============================] - 0s 22ms/step - loss: 37134924.0000 - val_loss: 46541268.0000\n"
     ]
    },
    {
     "name": "stdout",
     "output_type": "stream",
     "text": [
      "Epoch 288/400\n",
      "4/4 [==============================] - 0s 30ms/step - loss: 37061428.0000 - val_loss: 46575604.0000\n",
      "Epoch 289/400\n",
      "4/4 [==============================] - 0s 23ms/step - loss: 37027740.0000 - val_loss: 46385036.0000\n",
      "Epoch 290/400\n",
      "4/4 [==============================] - 0s 23ms/step - loss: 36862452.0000 - val_loss: 46393384.0000\n",
      "Epoch 291/400\n",
      "4/4 [==============================] - 0s 23ms/step - loss: 36815764.0000 - val_loss: 46446812.0000\n",
      "Epoch 292/400\n",
      "4/4 [==============================] - 0s 23ms/step - loss: 36739480.0000 - val_loss: 46298148.0000\n",
      "Epoch 293/400\n",
      "4/4 [==============================] - 0s 23ms/step - loss: 36621380.0000 - val_loss: 46287744.0000\n",
      "Epoch 294/400\n",
      "4/4 [==============================] - 0s 23ms/step - loss: 36565080.0000 - val_loss: 46273228.0000\n",
      "Epoch 295/400\n",
      "4/4 [==============================] - 0s 23ms/step - loss: 36470836.0000 - val_loss: 46246284.0000\n",
      "Epoch 296/400\n",
      "4/4 [==============================] - 0s 22ms/step - loss: 36389724.0000 - val_loss: 46185044.0000\n",
      "Epoch 297/400\n",
      "4/4 [==============================] - 0s 22ms/step - loss: 36321804.0000 - val_loss: 46099472.0000\n",
      "Epoch 298/400\n",
      "4/4 [==============================] - 0s 23ms/step - loss: 36246984.0000 - val_loss: 46044976.0000\n",
      "Epoch 299/400\n",
      "4/4 [==============================] - 0s 23ms/step - loss: 36181184.0000 - val_loss: 45992860.0000\n",
      "Epoch 300/400\n",
      "4/4 [==============================] - 0s 23ms/step - loss: 36102932.0000 - val_loss: 46037196.0000\n",
      "Epoch 301/400\n",
      "4/4 [==============================] - 0s 23ms/step - loss: 36028920.0000 - val_loss: 46078796.0000\n",
      "Epoch 302/400\n",
      "4/4 [==============================] - 0s 23ms/step - loss: 35961204.0000 - val_loss: 45989944.0000\n",
      "Epoch 303/400\n",
      "4/4 [==============================] - 0s 30ms/step - loss: 35873524.0000 - val_loss: 45965956.0000\n",
      "Epoch 304/400\n",
      "4/4 [==============================] - 0s 45ms/step - loss: 35825412.0000 - val_loss: 45959908.0000\n",
      "Epoch 305/400\n",
      "4/4 [==============================] - 0s 43ms/step - loss: 35711332.0000 - val_loss: 45835136.0000\n",
      "Epoch 306/400\n",
      "4/4 [==============================] - 0s 35ms/step - loss: 35634080.0000 - val_loss: 45732428.0000\n",
      "Epoch 307/400\n",
      "4/4 [==============================] - 0s 23ms/step - loss: 35592236.0000 - val_loss: 45610624.0000\n",
      "Epoch 308/400\n",
      "4/4 [==============================] - 0s 24ms/step - loss: 35511004.0000 - val_loss: 45576456.0000\n",
      "Epoch 309/400\n",
      "4/4 [==============================] - 0s 23ms/step - loss: 35447464.0000 - val_loss: 45608736.0000\n",
      "Epoch 310/400\n",
      "4/4 [==============================] - 0s 24ms/step - loss: 35354444.0000 - val_loss: 45690076.0000\n",
      "Epoch 311/400\n",
      "4/4 [==============================] - 0s 24ms/step - loss: 35294576.0000 - val_loss: 45669764.0000\n",
      "Epoch 312/400\n",
      "4/4 [==============================] - 0s 22ms/step - loss: 35239900.0000 - val_loss: 45761288.0000\n",
      "Epoch 313/400\n",
      "4/4 [==============================] - 0s 22ms/step - loss: 35158260.0000 - val_loss: 45698692.0000\n",
      "Epoch 314/400\n",
      "4/4 [==============================] - 0s 22ms/step - loss: 35064848.0000 - val_loss: 45602380.0000\n",
      "Epoch 315/400\n",
      "4/4 [==============================] - 0s 23ms/step - loss: 35015180.0000 - val_loss: 45471756.0000\n",
      "Epoch 316/400\n",
      "4/4 [==============================] - 0s 50ms/step - loss: 34950544.0000 - val_loss: 45428768.0000\n",
      "Epoch 317/400\n",
      "4/4 [==============================] - 0s 23ms/step - loss: 34871480.0000 - val_loss: 45469644.0000\n",
      "Epoch 318/400\n",
      "4/4 [==============================] - 0s 23ms/step - loss: 34789372.0000 - val_loss: 45502736.0000\n",
      "Epoch 319/400\n",
      "4/4 [==============================] - 0s 23ms/step - loss: 34729236.0000 - val_loss: 45525028.0000\n",
      "Epoch 320/400\n",
      "4/4 [==============================] - 0s 23ms/step - loss: 34675496.0000 - val_loss: 45491564.0000\n",
      "Epoch 321/400\n",
      "4/4 [==============================] - 0s 24ms/step - loss: 34609500.0000 - val_loss: 45509316.0000\n",
      "Epoch 322/400\n",
      "4/4 [==============================] - 0s 23ms/step - loss: 34545160.0000 - val_loss: 45493200.0000\n",
      "Epoch 323/400\n",
      "4/4 [==============================] - 0s 22ms/step - loss: 34514016.0000 - val_loss: 45517996.0000\n",
      "Epoch 324/400\n",
      "4/4 [==============================] - 0s 23ms/step - loss: 34413992.0000 - val_loss: 45380656.0000\n",
      "Epoch 325/400\n",
      "4/4 [==============================] - 0s 23ms/step - loss: 34339224.0000 - val_loss: 45170544.0000\n",
      "Epoch 326/400\n",
      "4/4 [==============================] - 0s 23ms/step - loss: 34294472.0000 - val_loss: 45060160.0000\n",
      "Epoch 327/400\n",
      "4/4 [==============================] - 0s 23ms/step - loss: 34263160.0000 - val_loss: 45033388.0000\n",
      "Epoch 328/400\n",
      "4/4 [==============================] - 0s 22ms/step - loss: 34177616.0000 - val_loss: 45135192.0000\n",
      "Epoch 329/400\n",
      "4/4 [==============================] - 0s 23ms/step - loss: 34088156.0000 - val_loss: 45153764.0000\n",
      "Epoch 330/400\n",
      "4/4 [==============================] - 0s 23ms/step - loss: 34093160.0000 - val_loss: 45210744.0000\n",
      "Epoch 331/400\n",
      "4/4 [==============================] - 0s 23ms/step - loss: 33966380.0000 - val_loss: 45022716.0000\n",
      "Epoch 332/400\n",
      "4/4 [==============================] - 0s 22ms/step - loss: 33893740.0000 - val_loss: 44945692.0000\n",
      "Epoch 333/400\n",
      "4/4 [==============================] - 0s 22ms/step - loss: 33850864.0000 - val_loss: 44847120.0000\n",
      "Epoch 334/400\n",
      "4/4 [==============================] - 0s 22ms/step - loss: 33810776.0000 - val_loss: 44864856.0000\n",
      "Epoch 335/400\n",
      "4/4 [==============================] - 0s 23ms/step - loss: 33727440.0000 - val_loss: 44897900.0000\n",
      "Epoch 336/400\n",
      "4/4 [==============================] - 0s 23ms/step - loss: 33654660.0000 - val_loss: 44969760.0000\n",
      "Epoch 337/400\n",
      "4/4 [==============================] - 0s 22ms/step - loss: 33578604.0000 - val_loss: 45014224.0000\n",
      "Epoch 338/400\n",
      "4/4 [==============================] - 0s 23ms/step - loss: 33532172.0000 - val_loss: 45108836.0000\n",
      "Epoch 339/400\n",
      "4/4 [==============================] - 0s 23ms/step - loss: 33533572.0000 - val_loss: 45181708.0000\n",
      "Epoch 340/400\n",
      "4/4 [==============================] - 0s 23ms/step - loss: 33418856.0000 - val_loss: 45011332.0000\n",
      "Epoch 341/400\n",
      "4/4 [==============================] - 0s 24ms/step - loss: 33338330.0000 - val_loss: 44835280.0000\n",
      "Epoch 342/400\n",
      "4/4 [==============================] - 0s 23ms/step - loss: 33272286.0000 - val_loss: 44708296.0000\n",
      "Epoch 343/400\n",
      "4/4 [==============================] - 0s 23ms/step - loss: 33266562.0000 - val_loss: 44664796.0000\n",
      "Epoch 344/400\n",
      "4/4 [==============================] - 0s 23ms/step - loss: 33204372.0000 - val_loss: 44694844.0000\n",
      "Epoch 345/400\n",
      "4/4 [==============================] - 0s 23ms/step - loss: 33131556.0000 - val_loss: 44696032.0000\n",
      "Epoch 346/400\n",
      "4/4 [==============================] - 0s 23ms/step - loss: 33045428.0000 - val_loss: 44783176.0000\n",
      "Epoch 347/400\n",
      "4/4 [==============================] - 0s 23ms/step - loss: 33022170.0000 - val_loss: 44888192.0000\n",
      "Epoch 348/400\n",
      "4/4 [==============================] - 0s 23ms/step - loss: 32967378.0000 - val_loss: 44876580.0000\n",
      "Epoch 349/400\n",
      "4/4 [==============================] - 0s 23ms/step - loss: 32911156.0000 - val_loss: 44828892.0000\n",
      "Epoch 350/400\n",
      "4/4 [==============================] - 0s 23ms/step - loss: 32824364.0000 - val_loss: 44659384.0000\n",
      "Epoch 351/400\n",
      "4/4 [==============================] - 0s 22ms/step - loss: 32749828.0000 - val_loss: 44508504.0000\n",
      "Epoch 352/400\n",
      "4/4 [==============================] - 0s 23ms/step - loss: 32725088.0000 - val_loss: 44371372.0000\n",
      "Epoch 353/400\n",
      "4/4 [==============================] - 0s 27ms/step - loss: 32708682.0000 - val_loss: 44314880.0000\n",
      "Epoch 354/400\n",
      "4/4 [==============================] - 0s 23ms/step - loss: 32638872.0000 - val_loss: 44352804.0000\n",
      "Epoch 355/400\n",
      "4/4 [==============================] - 0s 22ms/step - loss: 32559758.0000 - val_loss: 44414384.0000\n",
      "Epoch 356/400\n",
      "4/4 [==============================] - 0s 23ms/step - loss: 32495240.0000 - val_loss: 44444532.0000\n",
      "Epoch 357/400\n",
      "4/4 [==============================] - 0s 22ms/step - loss: 32447036.0000 - val_loss: 44480384.0000\n",
      "Epoch 358/400\n",
      "4/4 [==============================] - 0s 22ms/step - loss: 32412070.0000 - val_loss: 44513488.0000\n",
      "Epoch 359/400\n",
      "4/4 [==============================] - 0s 22ms/step - loss: 32343798.0000 - val_loss: 44467512.0000\n"
     ]
    },
    {
     "name": "stdout",
     "output_type": "stream",
     "text": [
      "Epoch 360/400\n",
      "4/4 [==============================] - 0s 22ms/step - loss: 32295412.0000 - val_loss: 44433736.0000\n",
      "Epoch 361/400\n",
      "4/4 [==============================] - 0s 23ms/step - loss: 32296438.0000 - val_loss: 44517120.0000\n",
      "Epoch 362/400\n",
      "4/4 [==============================] - 0s 23ms/step - loss: 32195818.0000 - val_loss: 44377760.0000\n",
      "Epoch 363/400\n",
      "4/4 [==============================] - 0s 23ms/step - loss: 32130744.0000 - val_loss: 44259796.0000\n",
      "Epoch 364/400\n",
      "4/4 [==============================] - 0s 23ms/step - loss: 32077372.0000 - val_loss: 44149200.0000\n",
      "Epoch 365/400\n",
      "4/4 [==============================] - 0s 23ms/step - loss: 32051200.0000 - val_loss: 44032868.0000\n",
      "Epoch 366/400\n",
      "4/4 [==============================] - 0s 23ms/step - loss: 32037284.0000 - val_loss: 43984616.0000\n",
      "Epoch 367/400\n",
      "4/4 [==============================] - 0s 23ms/step - loss: 31967238.0000 - val_loss: 44058192.0000\n",
      "Epoch 368/400\n",
      "4/4 [==============================] - 0s 22ms/step - loss: 31907154.0000 - val_loss: 44169904.0000\n",
      "Epoch 369/400\n",
      "4/4 [==============================] - 0s 23ms/step - loss: 31872042.0000 - val_loss: 44260856.0000\n",
      "Epoch 370/400\n",
      "4/4 [==============================] - 0s 23ms/step - loss: 31811286.0000 - val_loss: 44185568.0000\n",
      "Epoch 371/400\n",
      "4/4 [==============================] - 0s 22ms/step - loss: 31747760.0000 - val_loss: 44011884.0000\n",
      "Epoch 372/400\n",
      "4/4 [==============================] - 0s 23ms/step - loss: 31689390.0000 - val_loss: 43917296.0000\n",
      "Epoch 373/400\n",
      "4/4 [==============================] - 0s 22ms/step - loss: 31647470.0000 - val_loss: 43844960.0000\n",
      "Epoch 374/400\n",
      "4/4 [==============================] - 0s 24ms/step - loss: 31623778.0000 - val_loss: 43782400.0000\n",
      "Epoch 375/400\n",
      "4/4 [==============================] - 0s 23ms/step - loss: 31581842.0000 - val_loss: 43810180.0000\n",
      "Epoch 376/400\n",
      "4/4 [==============================] - 0s 23ms/step - loss: 31510636.0000 - val_loss: 43869484.0000\n",
      "Epoch 377/400\n",
      "4/4 [==============================] - 0s 23ms/step - loss: 31444768.0000 - val_loss: 44044892.0000\n",
      "Epoch 378/400\n",
      "4/4 [==============================] - 0s 23ms/step - loss: 31420338.0000 - val_loss: 44120396.0000\n",
      "Epoch 379/400\n",
      "4/4 [==============================] - 0s 22ms/step - loss: 31418740.0000 - val_loss: 44114740.0000\n",
      "Epoch 380/400\n",
      "4/4 [==============================] - 0s 23ms/step - loss: 31340736.0000 - val_loss: 43943480.0000\n",
      "Epoch 381/400\n",
      "4/4 [==============================] - 0s 23ms/step - loss: 31279630.0000 - val_loss: 43805068.0000\n",
      "Epoch 382/400\n",
      "4/4 [==============================] - 0s 23ms/step - loss: 31222894.0000 - val_loss: 43687144.0000\n",
      "Epoch 383/400\n",
      "4/4 [==============================] - 0s 23ms/step - loss: 31205806.0000 - val_loss: 43649860.0000\n",
      "Epoch 384/400\n",
      "4/4 [==============================] - 0s 22ms/step - loss: 31173922.0000 - val_loss: 43719808.0000\n",
      "Epoch 385/400\n",
      "4/4 [==============================] - 0s 23ms/step - loss: 31083230.0000 - val_loss: 43751020.0000\n",
      "Epoch 386/400\n",
      "4/4 [==============================] - 0s 22ms/step - loss: 31047828.0000 - val_loss: 43778972.0000\n",
      "Epoch 387/400\n",
      "4/4 [==============================] - 0s 23ms/step - loss: 31003160.0000 - val_loss: 43711920.0000\n",
      "Epoch 388/400\n",
      "4/4 [==============================] - 0s 23ms/step - loss: 30947124.0000 - val_loss: 43709128.0000\n",
      "Epoch 389/400\n",
      "4/4 [==============================] - 0s 23ms/step - loss: 30905810.0000 - val_loss: 43780388.0000\n",
      "Epoch 390/400\n",
      "4/4 [==============================] - 0s 23ms/step - loss: 30856542.0000 - val_loss: 43802240.0000\n",
      "Epoch 391/400\n",
      "4/4 [==============================] - 0s 27ms/step - loss: 30825014.0000 - val_loss: 43774728.0000\n",
      "Epoch 392/400\n",
      "4/4 [==============================] - 0s 23ms/step - loss: 30792808.0000 - val_loss: 43781900.0000\n",
      "Epoch 393/400\n",
      "4/4 [==============================] - 0s 24ms/step - loss: 30760200.0000 - val_loss: 43615004.0000\n",
      "Epoch 394/400\n",
      "4/4 [==============================] - 0s 23ms/step - loss: 30690050.0000 - val_loss: 43539580.0000\n",
      "Epoch 395/400\n",
      "4/4 [==============================] - 0s 23ms/step - loss: 30624428.0000 - val_loss: 43467392.0000\n",
      "Epoch 396/400\n",
      "4/4 [==============================] - 0s 23ms/step - loss: 30583916.0000 - val_loss: 43428404.0000\n",
      "Epoch 397/400\n",
      "4/4 [==============================] - 0s 22ms/step - loss: 30575984.0000 - val_loss: 43354088.0000\n",
      "Epoch 398/400\n",
      "4/4 [==============================] - 0s 23ms/step - loss: 30531688.0000 - val_loss: 43377772.0000\n",
      "Epoch 399/400\n",
      "4/4 [==============================] - 0s 23ms/step - loss: 30487944.0000 - val_loss: 43464064.0000\n",
      "Epoch 400/400\n",
      "4/4 [==============================] - 0s 24ms/step - loss: 30421014.0000 - val_loss: 43461796.0000\n"
     ]
    },
    {
     "data": {
      "text/plain": [
       "<keras.src.callbacks.History at 0x26ad882d650>"
      ]
     },
     "execution_count": 75,
     "metadata": {},
     "output_type": "execute_result"
    }
   ],
   "source": [
    "model.fit(x=X_train,y=y_train.values,\n",
    "          validation_data=(X_test,y_test.values),\n",
    "          batch_size=128,epochs=400)"
   ]
  },
  {
   "cell_type": "code",
   "execution_count": 76,
   "id": "3fa0cb84",
   "metadata": {},
   "outputs": [
    {
     "data": {
      "text/plain": [
       "<Axes: >"
      ]
     },
     "execution_count": 76,
     "metadata": {},
     "output_type": "execute_result"
    },
    {
     "data": {
      "image/png": "[encoded data removed]",
      "text/plain": [
       "<Figure size 640x480 with 1 Axes>"
      ]
     },
     "metadata": {},
     "output_type": "display_data"
    }
   ],
   "source": [
    "losses = pd.DataFrame(model.history.history)\n",
    "losses.plot()"
   ]
  },
  {
   "cell_type": "markdown",
   "id": "29dad8bb",
   "metadata": {},
   "source": [
    "# Evaluation on Test Data"
   ]
  },
  {
   "cell_type": "code",
   "execution_count": 77,
   "id": "5c32c8b8",
   "metadata": {},
   "outputs": [
    {
     "name": "stdout",
     "output_type": "stream",
     "text": [
      "7/7 [==============================] - 0s 3ms/step\n",
      "MAE :  4509.96677704632\n",
      "MSE :  43461793.672977075\n",
      "RMSE :  6592.555928695416\n",
      "Explained variance score :  0.751453153902172\n"
     ]
    }
   ],
   "source": [
    "from sklearn.metrics import mean_squared_error,mean_absolute_error,explained_variance_score\n",
    "predictions = model.predict(X_test)\n",
    "print('MAE : ' ,mean_absolute_error(y_test,predictions))\n",
    "print('MSE : ', mean_squared_error(y_test,predictions))\n",
    "print('RMSE : ', np.sqrt(mean_squared_error(y_test,predictions)))\n",
    "print('Explained variance score : ' ,explained_variance_score(y_test,predictions))"
   ]
  },
  {
   "cell_type": "markdown",
   "id": "6770fbce",
   "metadata": {},
   "source": [
    "# Between 0-50000 price we've done really good job.This model can perform on larger ranges too but not perfectly of course."
   ]
  },
  {
   "cell_type": "code",
   "execution_count": 78,
   "id": "e7ad7646",
   "metadata": {
    "scrolled": true
   },
   "outputs": [
    {
     "data": {
      "text/plain": [
       "[<matplotlib.lines.Line2D at 0x26adbc29590>]"
      ]
     },
     "execution_count": 78,
     "metadata": {},
     "output_type": "execute_result"
    },
    {
     "data": {
      "image/png": "[encoded data removed]",
      "text/plain": [
       "<Figure size 640x480 with 1 Axes>"
      ]
     },
     "metadata": {},
     "output_type": "display_data"
    }
   ],
   "source": [
    "plt.scatter(y_test,predictions)\n",
    "plt.plot(y_test,y_test,'r')"
   ]
  },
  {
   "cell_type": "code",
   "execution_count": 79,
   "id": "0ded62eb",
   "metadata": {},
   "outputs": [
    {
     "data": {
      "text/plain": [
       "price                        21990.0\n",
       "avg_rating                       8.1\n",
       "5G_or_not                        0.0\n",
       "processor_speed                  2.2\n",
       "fast_charging_available          1.0\n",
       "fast_charging                   40.0\n",
       "extended_memory_available        1.0\n",
       "battery_capacity_4500.0          0.0\n",
       "battery_capacity_5000.0          0.0\n",
       "battery_capacity_6000.0          0.0\n",
       "primary_camera_rear_48.0         1.0\n",
       "primary_camera_rear_50.0         0.0\n",
       "primary_camera_rear_64.0         0.0\n",
       "primary_camera_rear_108.0        0.0\n",
       "primary_camera_front_8.0         0.0\n",
       "primary_camera_front_16.0        1.0\n",
       "primary_camera_front_32.0        0.0\n",
       "num_cores_8.0                    1.0\n",
       "ram_capacity_4                   0.0\n",
       "ram_capacity_6                   0.0\n",
       "ram_capacity_8                   1.0\n",
       "internal_memory_64               0.0\n",
       "internal_memory_128              1.0\n",
       "internal_memory_256              0.0\n",
       "processor_bionic                 0.0\n",
       "processor_dimensity              0.0\n",
       "processor_helio                  0.0\n",
       "processor_snapdragon             0.0\n",
       "num_rear_cameras_2               0.0\n",
       "num_rear_cameras_3               0.0\n",
       "num_rear_cameras_4               1.0\n",
       "Name: 99, dtype: float64"
      ]
     },
     "execution_count": 79,
     "metadata": {},
     "output_type": "execute_result"
    }
   ],
   "source": [
    "final_data.iloc[33]"
   ]
  },
  {
   "cell_type": "code",
   "execution_count": 80,
   "id": "ed020c66",
   "metadata": {},
   "outputs": [
    {
     "name": "stdout",
     "output_type": "stream",
     "text": [
      "1/1 [==============================] - 0s 41ms/step\n"
     ]
    },
    {
     "name": "stderr",
     "output_type": "stream",
     "text": [
      "C:\\Users\\burak\\anaconda3\\envs\\mytfenv\\Lib\\site-packages\\sklearn\\base.py:464: UserWarning:\n",
      "\n",
      "X does not have valid feature names, but MinMaxScaler was fitted with feature names\n",
      "\n"
     ]
    },
    {
     "data": {
      "text/plain": [
       "array([[18491.432]], dtype=float32)"
      ]
     },
     "execution_count": 80,
     "metadata": {},
     "output_type": "execute_result"
    }
   ],
   "source": [
    "single_phone = final_data.drop('price',axis=1).iloc[33]\n",
    "single_phone = scaler.transform(single_phone.values.reshape(-1, 30))\n",
    "model.predict(single_phone)"
   ]
  },
  {
   "cell_type": "markdown",
   "id": "07b025a8",
   "metadata": {},
   "source": [
    "# Thank you for your interest in my project.\n"
   ]
  }
 ],
 "metadata": {
  "kernelspec": {
   "display_name": "Python 3 (ipykernel)",
   "language": "python",
   "name": "python3"
  },
  "language_info": {
   "codemirror_mode": {
    "name": "ipython",
    "version": 3
   },
   "file_extension": ".py",
   "mimetype": "text/x-python",
   "name": "python",
   "nbconvert_exporter": "python",
   "pygments_lexer": "ipython3",
   "version": "3.11.0"
  }
 },
 "nbformat": 4,
 "nbformat_minor": 5
}
